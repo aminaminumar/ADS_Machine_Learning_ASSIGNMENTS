{
 "cells": [
  {
   "cell_type": "markdown",
   "id": "793f1ac4",
   "metadata": {},
   "source": [
    "### Introduction to classification\n",
    "- install imblearn\n",
    "- make neccessary imports\n",
    "- import data\n",
    "- check shape of the data\n",
    "- get the info\n"
   ]
  },
  {
   "cell_type": "code",
   "execution_count": 53,
   "id": "fb740daa",
   "metadata": {},
   "outputs": [],
   "source": [
    "import pandas as pd\n",
    "import matplotlib.pyplot as plt\n",
    "import matplotlib as mpl\n",
    "import numpy as np\n",
    "from imblearn.over_sampling import SMOTE"
   ]
  },
  {
   "cell_type": "code",
   "execution_count": 4,
   "id": "b8fec818",
   "metadata": {},
   "outputs": [
    {
     "data": {
      "application/vnd.microsoft.datawrangler.viewer.v0+json": {
       "columns": [
        {
         "name": "index",
         "rawType": "int64",
         "type": "integer"
        },
        {
         "name": "Unnamed: 0",
         "rawType": "int64",
         "type": "integer"
        },
        {
         "name": "cuisine",
         "rawType": "object",
         "type": "string"
        },
        {
         "name": "almond",
         "rawType": "int64",
         "type": "integer"
        },
        {
         "name": "angelica",
         "rawType": "int64",
         "type": "integer"
        },
        {
         "name": "anise",
         "rawType": "int64",
         "type": "integer"
        },
        {
         "name": "anise_seed",
         "rawType": "int64",
         "type": "integer"
        },
        {
         "name": "apple",
         "rawType": "int64",
         "type": "integer"
        },
        {
         "name": "apple_brandy",
         "rawType": "int64",
         "type": "integer"
        },
        {
         "name": "apricot",
         "rawType": "int64",
         "type": "integer"
        },
        {
         "name": "armagnac",
         "rawType": "int64",
         "type": "integer"
        },
        {
         "name": "artemisia",
         "rawType": "int64",
         "type": "integer"
        },
        {
         "name": "artichoke",
         "rawType": "int64",
         "type": "integer"
        },
        {
         "name": "asparagus",
         "rawType": "int64",
         "type": "integer"
        },
        {
         "name": "avocado",
         "rawType": "int64",
         "type": "integer"
        },
        {
         "name": "bacon",
         "rawType": "int64",
         "type": "integer"
        },
        {
         "name": "baked_potato",
         "rawType": "int64",
         "type": "integer"
        },
        {
         "name": "balm",
         "rawType": "int64",
         "type": "integer"
        },
        {
         "name": "banana",
         "rawType": "int64",
         "type": "integer"
        },
        {
         "name": "barley",
         "rawType": "int64",
         "type": "integer"
        },
        {
         "name": "bartlett_pear",
         "rawType": "int64",
         "type": "integer"
        },
        {
         "name": "basil",
         "rawType": "int64",
         "type": "integer"
        },
        {
         "name": "bay",
         "rawType": "int64",
         "type": "integer"
        },
        {
         "name": "bean",
         "rawType": "int64",
         "type": "integer"
        },
        {
         "name": "beech",
         "rawType": "int64",
         "type": "integer"
        },
        {
         "name": "beef",
         "rawType": "int64",
         "type": "integer"
        },
        {
         "name": "beef_broth",
         "rawType": "int64",
         "type": "integer"
        },
        {
         "name": "beef_liver",
         "rawType": "int64",
         "type": "integer"
        },
        {
         "name": "beer",
         "rawType": "int64",
         "type": "integer"
        },
        {
         "name": "beet",
         "rawType": "int64",
         "type": "integer"
        },
        {
         "name": "bell_pepper",
         "rawType": "int64",
         "type": "integer"
        },
        {
         "name": "bergamot",
         "rawType": "int64",
         "type": "integer"
        },
        {
         "name": "berry",
         "rawType": "int64",
         "type": "integer"
        },
        {
         "name": "bitter_orange",
         "rawType": "int64",
         "type": "integer"
        },
        {
         "name": "black_bean",
         "rawType": "int64",
         "type": "integer"
        },
        {
         "name": "black_currant",
         "rawType": "int64",
         "type": "integer"
        },
        {
         "name": "black_mustard_seed_oil",
         "rawType": "int64",
         "type": "integer"
        },
        {
         "name": "black_pepper",
         "rawType": "int64",
         "type": "integer"
        },
        {
         "name": "black_raspberry",
         "rawType": "int64",
         "type": "integer"
        },
        {
         "name": "black_sesame_seed",
         "rawType": "int64",
         "type": "integer"
        },
        {
         "name": "black_tea",
         "rawType": "int64",
         "type": "integer"
        },
        {
         "name": "blackberry",
         "rawType": "int64",
         "type": "integer"
        },
        {
         "name": "blackberry_brandy",
         "rawType": "int64",
         "type": "integer"
        },
        {
         "name": "blue_cheese",
         "rawType": "int64",
         "type": "integer"
        },
        {
         "name": "blueberry",
         "rawType": "int64",
         "type": "integer"
        },
        {
         "name": "bone_oil",
         "rawType": "int64",
         "type": "integer"
        },
        {
         "name": "bourbon_whiskey",
         "rawType": "int64",
         "type": "integer"
        },
        {
         "name": "brandy",
         "rawType": "int64",
         "type": "integer"
        },
        {
         "name": "brassica",
         "rawType": "int64",
         "type": "integer"
        },
        {
         "name": "bread",
         "rawType": "int64",
         "type": "integer"
        },
        {
         "name": "broccoli",
         "rawType": "int64",
         "type": "integer"
        },
        {
         "name": "brown_rice",
         "rawType": "int64",
         "type": "integer"
        },
        {
         "name": "brussels_sprout",
         "rawType": "int64",
         "type": "integer"
        },
        {
         "name": "buckwheat",
         "rawType": "int64",
         "type": "integer"
        },
        {
         "name": "butter",
         "rawType": "int64",
         "type": "integer"
        },
        {
         "name": "buttermilk",
         "rawType": "int64",
         "type": "integer"
        },
        {
         "name": "cabbage",
         "rawType": "int64",
         "type": "integer"
        },
        {
         "name": "cabernet_sauvignon_wine",
         "rawType": "int64",
         "type": "integer"
        },
        {
         "name": "cacao",
         "rawType": "int64",
         "type": "integer"
        },
        {
         "name": "camembert_cheese",
         "rawType": "int64",
         "type": "integer"
        },
        {
         "name": "cane_molasses",
         "rawType": "int64",
         "type": "integer"
        },
        {
         "name": "caraway",
         "rawType": "int64",
         "type": "integer"
        },
        {
         "name": "cardamom",
         "rawType": "int64",
         "type": "integer"
        },
        {
         "name": "carnation",
         "rawType": "int64",
         "type": "integer"
        },
        {
         "name": "carob",
         "rawType": "int64",
         "type": "integer"
        },
        {
         "name": "carrot",
         "rawType": "int64",
         "type": "integer"
        },
        {
         "name": "cashew",
         "rawType": "int64",
         "type": "integer"
        },
        {
         "name": "cassava",
         "rawType": "int64",
         "type": "integer"
        },
        {
         "name": "catfish",
         "rawType": "int64",
         "type": "integer"
        },
        {
         "name": "cauliflower",
         "rawType": "int64",
         "type": "integer"
        },
        {
         "name": "caviar",
         "rawType": "int64",
         "type": "integer"
        },
        {
         "name": "cayenne",
         "rawType": "int64",
         "type": "integer"
        },
        {
         "name": "celery",
         "rawType": "int64",
         "type": "integer"
        },
        {
         "name": "celery_oil",
         "rawType": "int64",
         "type": "integer"
        },
        {
         "name": "cereal",
         "rawType": "int64",
         "type": "integer"
        },
        {
         "name": "chamomile",
         "rawType": "int64",
         "type": "integer"
        },
        {
         "name": "champagne_wine",
         "rawType": "int64",
         "type": "integer"
        },
        {
         "name": "chayote",
         "rawType": "int64",
         "type": "integer"
        },
        {
         "name": "cheddar_cheese",
         "rawType": "int64",
         "type": "integer"
        },
        {
         "name": "cheese",
         "rawType": "int64",
         "type": "integer"
        },
        {
         "name": "cherry",
         "rawType": "int64",
         "type": "integer"
        },
        {
         "name": "cherry_brandy",
         "rawType": "int64",
         "type": "integer"
        },
        {
         "name": "chervil",
         "rawType": "int64",
         "type": "integer"
        },
        {
         "name": "chicken",
         "rawType": "int64",
         "type": "integer"
        },
        {
         "name": "chicken_broth",
         "rawType": "int64",
         "type": "integer"
        },
        {
         "name": "chicken_liver",
         "rawType": "int64",
         "type": "integer"
        },
        {
         "name": "chickpea",
         "rawType": "int64",
         "type": "integer"
        },
        {
         "name": "chicory",
         "rawType": "int64",
         "type": "integer"
        },
        {
         "name": "chinese_cabbage",
         "rawType": "int64",
         "type": "integer"
        },
        {
         "name": "chive",
         "rawType": "int64",
         "type": "integer"
        },
        {
         "name": "cider",
         "rawType": "int64",
         "type": "integer"
        },
        {
         "name": "cilantro",
         "rawType": "int64",
         "type": "integer"
        },
        {
         "name": "cinnamon",
         "rawType": "int64",
         "type": "integer"
        },
        {
         "name": "citrus",
         "rawType": "int64",
         "type": "integer"
        },
        {
         "name": "citrus_peel",
         "rawType": "int64",
         "type": "integer"
        },
        {
         "name": "clam",
         "rawType": "int64",
         "type": "integer"
        },
        {
         "name": "clove",
         "rawType": "int64",
         "type": "integer"
        },
        {
         "name": "cocoa",
         "rawType": "int64",
         "type": "integer"
        },
        {
         "name": "coconut",
         "rawType": "int64",
         "type": "integer"
        },
        {
         "name": "coconut_oil",
         "rawType": "int64",
         "type": "integer"
        },
        {
         "name": "cod",
         "rawType": "int64",
         "type": "integer"
        },
        {
         "name": "coffee",
         "rawType": "int64",
         "type": "integer"
        },
        {
         "name": "cognac",
         "rawType": "int64",
         "type": "integer"
        },
        {
         "name": "concord_grape",
         "rawType": "int64",
         "type": "integer"
        },
        {
         "name": "condiment",
         "rawType": "int64",
         "type": "integer"
        },
        {
         "name": "coriander",
         "rawType": "int64",
         "type": "integer"
        },
        {
         "name": "corn",
         "rawType": "int64",
         "type": "integer"
        },
        {
         "name": "corn_flake",
         "rawType": "int64",
         "type": "integer"
        },
        {
         "name": "corn_grit",
         "rawType": "int64",
         "type": "integer"
        },
        {
         "name": "cottage_cheese",
         "rawType": "int64",
         "type": "integer"
        },
        {
         "name": "crab",
         "rawType": "int64",
         "type": "integer"
        },
        {
         "name": "cranberry",
         "rawType": "int64",
         "type": "integer"
        },
        {
         "name": "cream",
         "rawType": "int64",
         "type": "integer"
        },
        {
         "name": "cream_cheese",
         "rawType": "int64",
         "type": "integer"
        },
        {
         "name": "cucumber",
         "rawType": "int64",
         "type": "integer"
        },
        {
         "name": "cumin",
         "rawType": "int64",
         "type": "integer"
        },
        {
         "name": "cured_pork",
         "rawType": "int64",
         "type": "integer"
        },
        {
         "name": "currant",
         "rawType": "int64",
         "type": "integer"
        },
        {
         "name": "date",
         "rawType": "int64",
         "type": "integer"
        },
        {
         "name": "dill",
         "rawType": "int64",
         "type": "integer"
        },
        {
         "name": "durian",
         "rawType": "int64",
         "type": "integer"
        },
        {
         "name": "eel",
         "rawType": "int64",
         "type": "integer"
        },
        {
         "name": "egg",
         "rawType": "int64",
         "type": "integer"
        },
        {
         "name": "egg_noodle",
         "rawType": "int64",
         "type": "integer"
        },
        {
         "name": "elderberry",
         "rawType": "int64",
         "type": "integer"
        },
        {
         "name": "emmental_cheese",
         "rawType": "int64",
         "type": "integer"
        },
        {
         "name": "endive",
         "rawType": "int64",
         "type": "integer"
        },
        {
         "name": "enokidake",
         "rawType": "int64",
         "type": "integer"
        },
        {
         "name": "fennel",
         "rawType": "int64",
         "type": "integer"
        },
        {
         "name": "fenugreek",
         "rawType": "int64",
         "type": "integer"
        },
        {
         "name": "feta_cheese",
         "rawType": "int64",
         "type": "integer"
        },
        {
         "name": "fig",
         "rawType": "int64",
         "type": "integer"
        },
        {
         "name": "fish",
         "rawType": "int64",
         "type": "integer"
        },
        {
         "name": "flower",
         "rawType": "int64",
         "type": "integer"
        },
        {
         "name": "frankfurter",
         "rawType": "int64",
         "type": "integer"
        },
        {
         "name": "fruit",
         "rawType": "int64",
         "type": "integer"
        },
        {
         "name": "galanga",
         "rawType": "int64",
         "type": "integer"
        },
        {
         "name": "gardenia",
         "rawType": "int64",
         "type": "integer"
        },
        {
         "name": "garlic",
         "rawType": "int64",
         "type": "integer"
        },
        {
         "name": "gelatin",
         "rawType": "int64",
         "type": "integer"
        },
        {
         "name": "geranium",
         "rawType": "int64",
         "type": "integer"
        },
        {
         "name": "gin",
         "rawType": "int64",
         "type": "integer"
        },
        {
         "name": "ginger",
         "rawType": "int64",
         "type": "integer"
        },
        {
         "name": "goat_cheese",
         "rawType": "int64",
         "type": "integer"
        },
        {
         "name": "grape",
         "rawType": "int64",
         "type": "integer"
        },
        {
         "name": "grape_brandy",
         "rawType": "int64",
         "type": "integer"
        },
        {
         "name": "grape_juice",
         "rawType": "int64",
         "type": "integer"
        },
        {
         "name": "grapefruit",
         "rawType": "int64",
         "type": "integer"
        },
        {
         "name": "green_bell_pepper",
         "rawType": "int64",
         "type": "integer"
        },
        {
         "name": "green_tea",
         "rawType": "int64",
         "type": "integer"
        },
        {
         "name": "gruyere_cheese",
         "rawType": "int64",
         "type": "integer"
        },
        {
         "name": "guava",
         "rawType": "int64",
         "type": "integer"
        },
        {
         "name": "haddock",
         "rawType": "int64",
         "type": "integer"
        },
        {
         "name": "ham",
         "rawType": "int64",
         "type": "integer"
        },
        {
         "name": "hazelnut",
         "rawType": "int64",
         "type": "integer"
        },
        {
         "name": "herring",
         "rawType": "int64",
         "type": "integer"
        },
        {
         "name": "holy_basil",
         "rawType": "int64",
         "type": "integer"
        },
        {
         "name": "honey",
         "rawType": "int64",
         "type": "integer"
        },
        {
         "name": "hop",
         "rawType": "int64",
         "type": "integer"
        },
        {
         "name": "horseradish",
         "rawType": "int64",
         "type": "integer"
        },
        {
         "name": "huckleberry",
         "rawType": "int64",
         "type": "integer"
        },
        {
         "name": "jamaican_rum",
         "rawType": "int64",
         "type": "integer"
        },
        {
         "name": "japanese_plum",
         "rawType": "int64",
         "type": "integer"
        },
        {
         "name": "jasmine",
         "rawType": "int64",
         "type": "integer"
        },
        {
         "name": "jasmine_tea",
         "rawType": "int64",
         "type": "integer"
        },
        {
         "name": "juniper_berry",
         "rawType": "int64",
         "type": "integer"
        },
        {
         "name": "kaffir_lime",
         "rawType": "int64",
         "type": "integer"
        },
        {
         "name": "kale",
         "rawType": "int64",
         "type": "integer"
        },
        {
         "name": "katsuobushi",
         "rawType": "int64",
         "type": "integer"
        },
        {
         "name": "kelp",
         "rawType": "int64",
         "type": "integer"
        },
        {
         "name": "kidney_bean",
         "rawType": "int64",
         "type": "integer"
        },
        {
         "name": "kiwi",
         "rawType": "int64",
         "type": "integer"
        },
        {
         "name": "kohlrabi",
         "rawType": "int64",
         "type": "integer"
        },
        {
         "name": "kumquat",
         "rawType": "int64",
         "type": "integer"
        },
        {
         "name": "lamb",
         "rawType": "int64",
         "type": "integer"
        },
        {
         "name": "lard",
         "rawType": "int64",
         "type": "integer"
        },
        {
         "name": "laurel",
         "rawType": "int64",
         "type": "integer"
        },
        {
         "name": "lavender",
         "rawType": "int64",
         "type": "integer"
        },
        {
         "name": "leaf",
         "rawType": "int64",
         "type": "integer"
        },
        {
         "name": "leek",
         "rawType": "int64",
         "type": "integer"
        },
        {
         "name": "lemon",
         "rawType": "int64",
         "type": "integer"
        },
        {
         "name": "lemon_juice",
         "rawType": "int64",
         "type": "integer"
        },
        {
         "name": "lemon_peel",
         "rawType": "int64",
         "type": "integer"
        },
        {
         "name": "lemongrass",
         "rawType": "int64",
         "type": "integer"
        },
        {
         "name": "lentil",
         "rawType": "int64",
         "type": "integer"
        },
        {
         "name": "lettuce",
         "rawType": "int64",
         "type": "integer"
        },
        {
         "name": "licorice",
         "rawType": "int64",
         "type": "integer"
        },
        {
         "name": "lilac_flower_oil",
         "rawType": "int64",
         "type": "integer"
        },
        {
         "name": "lima_bean",
         "rawType": "int64",
         "type": "integer"
        },
        {
         "name": "lime",
         "rawType": "int64",
         "type": "integer"
        },
        {
         "name": "lime_juice",
         "rawType": "int64",
         "type": "integer"
        },
        {
         "name": "lime_peel_oil",
         "rawType": "int64",
         "type": "integer"
        },
        {
         "name": "lingonberry",
         "rawType": "int64",
         "type": "integer"
        },
        {
         "name": "litchi",
         "rawType": "int64",
         "type": "integer"
        },
        {
         "name": "liver",
         "rawType": "int64",
         "type": "integer"
        },
        {
         "name": "lobster",
         "rawType": "int64",
         "type": "integer"
        },
        {
         "name": "long_pepper",
         "rawType": "int64",
         "type": "integer"
        },
        {
         "name": "lovage",
         "rawType": "int64",
         "type": "integer"
        },
        {
         "name": "macadamia_nut",
         "rawType": "int64",
         "type": "integer"
        },
        {
         "name": "macaroni",
         "rawType": "int64",
         "type": "integer"
        },
        {
         "name": "mace",
         "rawType": "int64",
         "type": "integer"
        },
        {
         "name": "mackerel",
         "rawType": "int64",
         "type": "integer"
        },
        {
         "name": "malt",
         "rawType": "int64",
         "type": "integer"
        },
        {
         "name": "mandarin",
         "rawType": "int64",
         "type": "integer"
        },
        {
         "name": "mandarin_peel",
         "rawType": "int64",
         "type": "integer"
        },
        {
         "name": "mango",
         "rawType": "int64",
         "type": "integer"
        },
        {
         "name": "maple_syrup",
         "rawType": "int64",
         "type": "integer"
        },
        {
         "name": "marjoram",
         "rawType": "int64",
         "type": "integer"
        },
        {
         "name": "mate",
         "rawType": "int64",
         "type": "integer"
        },
        {
         "name": "matsutake",
         "rawType": "int64",
         "type": "integer"
        },
        {
         "name": "meat",
         "rawType": "int64",
         "type": "integer"
        },
        {
         "name": "melon",
         "rawType": "int64",
         "type": "integer"
        },
        {
         "name": "milk",
         "rawType": "int64",
         "type": "integer"
        },
        {
         "name": "milk_fat",
         "rawType": "int64",
         "type": "integer"
        },
        {
         "name": "mint",
         "rawType": "int64",
         "type": "integer"
        },
        {
         "name": "mozzarella_cheese",
         "rawType": "int64",
         "type": "integer"
        },
        {
         "name": "mung_bean",
         "rawType": "int64",
         "type": "integer"
        },
        {
         "name": "munster_cheese",
         "rawType": "int64",
         "type": "integer"
        },
        {
         "name": "muscat_grape",
         "rawType": "int64",
         "type": "integer"
        },
        {
         "name": "mushroom",
         "rawType": "int64",
         "type": "integer"
        },
        {
         "name": "mussel",
         "rawType": "int64",
         "type": "integer"
        },
        {
         "name": "mustard",
         "rawType": "int64",
         "type": "integer"
        },
        {
         "name": "mutton",
         "rawType": "int64",
         "type": "integer"
        },
        {
         "name": "nectarine",
         "rawType": "int64",
         "type": "integer"
        },
        {
         "name": "nira",
         "rawType": "int64",
         "type": "integer"
        },
        {
         "name": "nut",
         "rawType": "int64",
         "type": "integer"
        },
        {
         "name": "nutmeg",
         "rawType": "int64",
         "type": "integer"
        },
        {
         "name": "oat",
         "rawType": "int64",
         "type": "integer"
        },
        {
         "name": "oatmeal",
         "rawType": "int64",
         "type": "integer"
        },
        {
         "name": "octopus",
         "rawType": "int64",
         "type": "integer"
        },
        {
         "name": "okra",
         "rawType": "int64",
         "type": "integer"
        },
        {
         "name": "olive",
         "rawType": "int64",
         "type": "integer"
        },
        {
         "name": "olive_oil",
         "rawType": "int64",
         "type": "integer"
        },
        {
         "name": "onion",
         "rawType": "int64",
         "type": "integer"
        },
        {
         "name": "orange",
         "rawType": "int64",
         "type": "integer"
        },
        {
         "name": "orange_flower",
         "rawType": "int64",
         "type": "integer"
        },
        {
         "name": "orange_juice",
         "rawType": "int64",
         "type": "integer"
        },
        {
         "name": "orange_peel",
         "rawType": "int64",
         "type": "integer"
        },
        {
         "name": "oregano",
         "rawType": "int64",
         "type": "integer"
        },
        {
         "name": "ouzo",
         "rawType": "int64",
         "type": "integer"
        },
        {
         "name": "oyster",
         "rawType": "int64",
         "type": "integer"
        },
        {
         "name": "palm",
         "rawType": "int64",
         "type": "integer"
        },
        {
         "name": "papaya",
         "rawType": "int64",
         "type": "integer"
        },
        {
         "name": "parmesan_cheese",
         "rawType": "int64",
         "type": "integer"
        },
        {
         "name": "parsley",
         "rawType": "int64",
         "type": "integer"
        },
        {
         "name": "parsnip",
         "rawType": "int64",
         "type": "integer"
        },
        {
         "name": "passion_fruit",
         "rawType": "int64",
         "type": "integer"
        },
        {
         "name": "pea",
         "rawType": "int64",
         "type": "integer"
        },
        {
         "name": "peach",
         "rawType": "int64",
         "type": "integer"
        },
        {
         "name": "peanut",
         "rawType": "int64",
         "type": "integer"
        },
        {
         "name": "peanut_butter",
         "rawType": "int64",
         "type": "integer"
        },
        {
         "name": "peanut_oil",
         "rawType": "int64",
         "type": "integer"
        },
        {
         "name": "pear",
         "rawType": "int64",
         "type": "integer"
        },
        {
         "name": "pear_brandy",
         "rawType": "int64",
         "type": "integer"
        },
        {
         "name": "pecan",
         "rawType": "int64",
         "type": "integer"
        },
        {
         "name": "pelargonium",
         "rawType": "int64",
         "type": "integer"
        },
        {
         "name": "pepper",
         "rawType": "int64",
         "type": "integer"
        },
        {
         "name": "peppermint",
         "rawType": "int64",
         "type": "integer"
        },
        {
         "name": "peppermint_oil",
         "rawType": "int64",
         "type": "integer"
        },
        {
         "name": "pimenta",
         "rawType": "int64",
         "type": "integer"
        },
        {
         "name": "pimento",
         "rawType": "int64",
         "type": "integer"
        },
        {
         "name": "pineapple",
         "rawType": "int64",
         "type": "integer"
        },
        {
         "name": "pistachio",
         "rawType": "int64",
         "type": "integer"
        },
        {
         "name": "plum",
         "rawType": "int64",
         "type": "integer"
        },
        {
         "name": "popcorn",
         "rawType": "int64",
         "type": "integer"
        },
        {
         "name": "porcini",
         "rawType": "int64",
         "type": "integer"
        },
        {
         "name": "pork",
         "rawType": "int64",
         "type": "integer"
        },
        {
         "name": "pork_liver",
         "rawType": "int64",
         "type": "integer"
        },
        {
         "name": "pork_sausage",
         "rawType": "int64",
         "type": "integer"
        },
        {
         "name": "port_wine",
         "rawType": "int64",
         "type": "integer"
        },
        {
         "name": "potato",
         "rawType": "int64",
         "type": "integer"
        },
        {
         "name": "potato_chip",
         "rawType": "int64",
         "type": "integer"
        },
        {
         "name": "prawn",
         "rawType": "int64",
         "type": "integer"
        },
        {
         "name": "prickly_pear",
         "rawType": "int64",
         "type": "integer"
        },
        {
         "name": "provolone_cheese",
         "rawType": "int64",
         "type": "integer"
        },
        {
         "name": "pumpkin",
         "rawType": "int64",
         "type": "integer"
        },
        {
         "name": "quince",
         "rawType": "int64",
         "type": "integer"
        },
        {
         "name": "radish",
         "rawType": "int64",
         "type": "integer"
        },
        {
         "name": "raisin",
         "rawType": "int64",
         "type": "integer"
        },
        {
         "name": "rapeseed",
         "rawType": "int64",
         "type": "integer"
        },
        {
         "name": "raspberry",
         "rawType": "int64",
         "type": "integer"
        },
        {
         "name": "raw_beef",
         "rawType": "int64",
         "type": "integer"
        },
        {
         "name": "red_algae",
         "rawType": "int64",
         "type": "integer"
        },
        {
         "name": "red_bean",
         "rawType": "int64",
         "type": "integer"
        },
        {
         "name": "red_kidney_bean",
         "rawType": "int64",
         "type": "integer"
        },
        {
         "name": "red_wine",
         "rawType": "int64",
         "type": "integer"
        },
        {
         "name": "rhubarb",
         "rawType": "int64",
         "type": "integer"
        },
        {
         "name": "rice",
         "rawType": "int64",
         "type": "integer"
        },
        {
         "name": "roasted_almond",
         "rawType": "int64",
         "type": "integer"
        },
        {
         "name": "roasted_beef",
         "rawType": "int64",
         "type": "integer"
        },
        {
         "name": "roasted_hazelnut",
         "rawType": "int64",
         "type": "integer"
        },
        {
         "name": "roasted_meat",
         "rawType": "int64",
         "type": "integer"
        },
        {
         "name": "roasted_nut",
         "rawType": "int64",
         "type": "integer"
        },
        {
         "name": "roasted_peanut",
         "rawType": "int64",
         "type": "integer"
        },
        {
         "name": "roasted_pecan",
         "rawType": "int64",
         "type": "integer"
        },
        {
         "name": "roasted_pork",
         "rawType": "int64",
         "type": "integer"
        },
        {
         "name": "roasted_sesame_seed",
         "rawType": "int64",
         "type": "integer"
        },
        {
         "name": "romano_cheese",
         "rawType": "int64",
         "type": "integer"
        },
        {
         "name": "root",
         "rawType": "int64",
         "type": "integer"
        },
        {
         "name": "roquefort_cheese",
         "rawType": "int64",
         "type": "integer"
        },
        {
         "name": "rose",
         "rawType": "int64",
         "type": "integer"
        },
        {
         "name": "rosemary",
         "rawType": "int64",
         "type": "integer"
        },
        {
         "name": "rum",
         "rawType": "int64",
         "type": "integer"
        },
        {
         "name": "rutabaga",
         "rawType": "int64",
         "type": "integer"
        },
        {
         "name": "rye_bread",
         "rawType": "int64",
         "type": "integer"
        },
        {
         "name": "rye_flour",
         "rawType": "int64",
         "type": "integer"
        },
        {
         "name": "saffron",
         "rawType": "int64",
         "type": "integer"
        },
        {
         "name": "sage",
         "rawType": "int64",
         "type": "integer"
        },
        {
         "name": "sake",
         "rawType": "int64",
         "type": "integer"
        },
        {
         "name": "salmon",
         "rawType": "int64",
         "type": "integer"
        },
        {
         "name": "salmon_roe",
         "rawType": "int64",
         "type": "integer"
        },
        {
         "name": "sassafras",
         "rawType": "int64",
         "type": "integer"
        },
        {
         "name": "sauerkraut",
         "rawType": "int64",
         "type": "integer"
        },
        {
         "name": "savory",
         "rawType": "int64",
         "type": "integer"
        },
        {
         "name": "scallion",
         "rawType": "int64",
         "type": "integer"
        },
        {
         "name": "scallop",
         "rawType": "int64",
         "type": "integer"
        },
        {
         "name": "sea_algae",
         "rawType": "int64",
         "type": "integer"
        },
        {
         "name": "seaweed",
         "rawType": "int64",
         "type": "integer"
        },
        {
         "name": "seed",
         "rawType": "int64",
         "type": "integer"
        },
        {
         "name": "sesame_oil",
         "rawType": "int64",
         "type": "integer"
        },
        {
         "name": "sesame_seed",
         "rawType": "int64",
         "type": "integer"
        },
        {
         "name": "shallot",
         "rawType": "int64",
         "type": "integer"
        },
        {
         "name": "sheep_cheese",
         "rawType": "int64",
         "type": "integer"
        },
        {
         "name": "shellfish",
         "rawType": "int64",
         "type": "integer"
        },
        {
         "name": "sherry",
         "rawType": "int64",
         "type": "integer"
        },
        {
         "name": "shiitake",
         "rawType": "int64",
         "type": "integer"
        },
        {
         "name": "shrimp",
         "rawType": "int64",
         "type": "integer"
        },
        {
         "name": "smoke",
         "rawType": "int64",
         "type": "integer"
        },
        {
         "name": "smoked_fish",
         "rawType": "int64",
         "type": "integer"
        },
        {
         "name": "smoked_salmon",
         "rawType": "int64",
         "type": "integer"
        },
        {
         "name": "smoked_sausage",
         "rawType": "int64",
         "type": "integer"
        },
        {
         "name": "sour_cherry",
         "rawType": "int64",
         "type": "integer"
        },
        {
         "name": "sour_milk",
         "rawType": "int64",
         "type": "integer"
        },
        {
         "name": "soy_sauce",
         "rawType": "int64",
         "type": "integer"
        },
        {
         "name": "soybean",
         "rawType": "int64",
         "type": "integer"
        },
        {
         "name": "soybean_oil",
         "rawType": "int64",
         "type": "integer"
        },
        {
         "name": "spearmint",
         "rawType": "int64",
         "type": "integer"
        },
        {
         "name": "squash",
         "rawType": "int64",
         "type": "integer"
        },
        {
         "name": "squid",
         "rawType": "int64",
         "type": "integer"
        },
        {
         "name": "star_anise",
         "rawType": "int64",
         "type": "integer"
        },
        {
         "name": "starch",
         "rawType": "int64",
         "type": "integer"
        },
        {
         "name": "strawberry",
         "rawType": "int64",
         "type": "integer"
        },
        {
         "name": "strawberry_jam",
         "rawType": "int64",
         "type": "integer"
        },
        {
         "name": "strawberry_juice",
         "rawType": "int64",
         "type": "integer"
        },
        {
         "name": "sturgeon_caviar",
         "rawType": "int64",
         "type": "integer"
        },
        {
         "name": "sumac",
         "rawType": "int64",
         "type": "integer"
        },
        {
         "name": "sunflower_oil",
         "rawType": "int64",
         "type": "integer"
        },
        {
         "name": "sweet_potato",
         "rawType": "int64",
         "type": "integer"
        },
        {
         "name": "swiss_cheese",
         "rawType": "int64",
         "type": "integer"
        },
        {
         "name": "tabasco_pepper",
         "rawType": "int64",
         "type": "integer"
        },
        {
         "name": "tamarind",
         "rawType": "int64",
         "type": "integer"
        },
        {
         "name": "tangerine",
         "rawType": "int64",
         "type": "integer"
        },
        {
         "name": "tarragon",
         "rawType": "int64",
         "type": "integer"
        },
        {
         "name": "tea",
         "rawType": "int64",
         "type": "integer"
        },
        {
         "name": "tequila",
         "rawType": "int64",
         "type": "integer"
        },
        {
         "name": "thai_pepper",
         "rawType": "int64",
         "type": "integer"
        },
        {
         "name": "thyme",
         "rawType": "int64",
         "type": "integer"
        },
        {
         "name": "tomato",
         "rawType": "int64",
         "type": "integer"
        },
        {
         "name": "tomato_juice",
         "rawType": "int64",
         "type": "integer"
        },
        {
         "name": "truffle",
         "rawType": "int64",
         "type": "integer"
        },
        {
         "name": "tuna",
         "rawType": "int64",
         "type": "integer"
        },
        {
         "name": "turkey",
         "rawType": "int64",
         "type": "integer"
        },
        {
         "name": "turmeric",
         "rawType": "int64",
         "type": "integer"
        },
        {
         "name": "turnip",
         "rawType": "int64",
         "type": "integer"
        },
        {
         "name": "vanilla",
         "rawType": "int64",
         "type": "integer"
        },
        {
         "name": "veal",
         "rawType": "int64",
         "type": "integer"
        },
        {
         "name": "vegetable",
         "rawType": "int64",
         "type": "integer"
        },
        {
         "name": "vegetable_oil",
         "rawType": "int64",
         "type": "integer"
        },
        {
         "name": "vinegar",
         "rawType": "int64",
         "type": "integer"
        },
        {
         "name": "violet",
         "rawType": "int64",
         "type": "integer"
        },
        {
         "name": "walnut",
         "rawType": "int64",
         "type": "integer"
        },
        {
         "name": "wasabi",
         "rawType": "int64",
         "type": "integer"
        },
        {
         "name": "watercress",
         "rawType": "int64",
         "type": "integer"
        },
        {
         "name": "watermelon",
         "rawType": "int64",
         "type": "integer"
        },
        {
         "name": "wheat",
         "rawType": "int64",
         "type": "integer"
        },
        {
         "name": "wheat_bread",
         "rawType": "int64",
         "type": "integer"
        },
        {
         "name": "whiskey",
         "rawType": "int64",
         "type": "integer"
        },
        {
         "name": "white_bread",
         "rawType": "int64",
         "type": "integer"
        },
        {
         "name": "white_wine",
         "rawType": "int64",
         "type": "integer"
        },
        {
         "name": "whole_grain_wheat_flour",
         "rawType": "int64",
         "type": "integer"
        },
        {
         "name": "wine",
         "rawType": "int64",
         "type": "integer"
        },
        {
         "name": "wood",
         "rawType": "int64",
         "type": "integer"
        },
        {
         "name": "yam",
         "rawType": "int64",
         "type": "integer"
        },
        {
         "name": "yeast",
         "rawType": "int64",
         "type": "integer"
        },
        {
         "name": "yogurt",
         "rawType": "int64",
         "type": "integer"
        },
        {
         "name": "zucchini",
         "rawType": "int64",
         "type": "integer"
        }
       ],
       "ref": "73409209-829a-4547-b08c-3c3e0342be7e",
       "rows": [
        [
         "0",
         "65",
         "indian",
         "0",
         "0",
         "0",
         "0",
         "0",
         "0",
         "0",
         "0",
         "0",
         "0",
         "0",
         "0",
         "0",
         "0",
         "0",
         "0",
         "0",
         "0",
         "0",
         "0",
         "0",
         "0",
         "0",
         "0",
         "0",
         "0",
         "0",
         "0",
         "0",
         "0",
         "0",
         "0",
         "0",
         "1",
         "0",
         "0",
         "0",
         "0",
         "0",
         "0",
         "0",
         "0",
         "0",
         "0",
         "0",
         "0",
         "0",
         "0",
         "0",
         "0",
         "0",
         "0",
         "0",
         "0",
         "0",
         "0",
         "0",
         "0",
         "0",
         "0",
         "0",
         "0",
         "0",
         "0",
         "0",
         "0",
         "0",
         "0",
         "1",
         "0",
         "0",
         "0",
         "0",
         "0",
         "0",
         "0",
         "0",
         "0",
         "0",
         "0",
         "0",
         "0",
         "0",
         "0",
         "0",
         "0",
         "0",
         "0",
         "0",
         "0",
         "0",
         "0",
         "0",
         "0",
         "0",
         "1",
         "1",
         "0",
         "0",
         "0",
         "0",
         "0",
         "1",
         "0",
         "0",
         "0",
         "0",
         "0",
         "0",
         "0",
         "0",
         "0",
         "1",
         "0",
         "0",
         "0",
         "0",
         "0",
         "0",
         "0",
         "0",
         "0",
         "0",
         "0",
         "0",
         "0",
         "1",
         "0",
         "0",
         "1",
         "0",
         "0",
         "0",
         "0",
         "0",
         "1",
         "0",
         "0",
         "0",
         "1",
         "0",
         "0",
         "0",
         "0",
         "0",
         "0",
         "0",
         "0",
         "0",
         "0",
         "0",
         "0",
         "0",
         "0",
         "0",
         "0",
         "0",
         "0",
         "0",
         "0",
         "0",
         "0",
         "0",
         "0",
         "0",
         "0",
         "0",
         "0",
         "0",
         "0",
         "0",
         "0",
         "0",
         "0",
         "0",
         "0",
         "0",
         "0",
         "0",
         "0",
         "0",
         "0",
         "0",
         "0",
         "0",
         "0",
         "0",
         "0",
         "0",
         "0",
         "0",
         "0",
         "0",
         "0",
         "0",
         "0",
         "0",
         "0",
         "0",
         "0",
         "0",
         "0",
         "1",
         "0",
         "0",
         "0",
         "0",
         "0",
         "0",
         "0",
         "0",
         "0",
         "0",
         "0",
         "0",
         "0",
         "0",
         "0",
         "0",
         "0",
         "0",
         "0",
         "0",
         "0",
         "0",
         "0",
         "0",
         "0",
         "0",
         "0",
         "0",
         "0",
         "0",
         "0",
         "0",
         "0",
         "0",
         "0",
         "0",
         "0",
         "0",
         "0",
         "0",
         "0",
         "0",
         "0",
         "0",
         "0",
         "0",
         "0",
         "0",
         "0",
         "0",
         "1",
         "0",
         "0",
         "0",
         "0",
         "0",
         "0",
         "0",
         "0",
         "0",
         "0",
         "0",
         "0",
         "0",
         "0",
         "0",
         "0",
         "0",
         "0",
         "0",
         "0",
         "0",
         "0",
         "0",
         "0",
         "0",
         "0",
         "0",
         "0",
         "0",
         "0",
         "1",
         "0",
         "0",
         "0",
         "0",
         "0",
         "0",
         "0",
         "0",
         "0",
         "0",
         "0",
         "0",
         "0",
         "0",
         "0",
         "0",
         "0",
         "0",
         "0",
         "0",
         "0",
         "0",
         "0",
         "0",
         "0",
         "0",
         "0",
         "0",
         "0",
         "0",
         "1",
         "0",
         "0",
         "0",
         "0",
         "0",
         "0",
         "0",
         "0",
         "0",
         "0",
         "0",
         "0",
         "0",
         "0",
         "0",
         "0",
         "0",
         "0",
         "0",
         "0",
         "0",
         "0",
         "0",
         "0",
         "0",
         "0",
         "0",
         "0",
         "0",
         "0",
         "0",
         "0",
         "0",
         "0",
         "0",
         "0",
         "0",
         "0",
         "1",
         "0",
         "0",
         "0",
         "0",
         "1",
         "0",
         "0",
         "0",
         "0",
         "0",
         "0",
         "0",
         "0",
         "0",
         "0",
         "0",
         "0",
         "0",
         "0",
         "0",
         "0",
         "0",
         "0",
         "0",
         "0",
         "0",
         "0",
         "0"
        ],
        [
         "1",
         "66",
         "indian",
         "1",
         "0",
         "0",
         "0",
         "0",
         "0",
         "0",
         "0",
         "0",
         "0",
         "0",
         "0",
         "0",
         "0",
         "0",
         "0",
         "0",
         "0",
         "0",
         "0",
         "0",
         "0",
         "0",
         "0",
         "0",
         "0",
         "0",
         "0",
         "0",
         "0",
         "0",
         "0",
         "0",
         "0",
         "0",
         "0",
         "0",
         "0",
         "0",
         "0",
         "0",
         "0",
         "0",
         "0",
         "0",
         "0",
         "0",
         "0",
         "0",
         "0",
         "0",
         "1",
         "0",
         "0",
         "0",
         "0",
         "0",
         "0",
         "0",
         "1",
         "0",
         "0",
         "0",
         "1",
         "0",
         "0",
         "0",
         "0",
         "0",
         "0",
         "0",
         "0",
         "0",
         "0",
         "0",
         "0",
         "0",
         "0",
         "0",
         "0",
         "0",
         "0",
         "0",
         "0",
         "0",
         "0",
         "0",
         "0",
         "0",
         "0",
         "0",
         "0",
         "0",
         "0",
         "0",
         "0",
         "0",
         "0",
         "0",
         "0",
         "0",
         "0",
         "0",
         "0",
         "0",
         "0",
         "0",
         "0",
         "0",
         "0",
         "0",
         "0",
         "0",
         "0",
         "0",
         "0",
         "0",
         "0",
         "0",
         "0",
         "0",
         "0",
         "0",
         "0",
         "0",
         "0",
         "0",
         "0",
         "0",
         "0",
         "0",
         "0",
         "0",
         "0",
         "0",
         "0",
         "0",
         "0",
         "0",
         "0",
         "0",
         "0",
         "0",
         "0",
         "0",
         "0",
         "0",
         "0",
         "0",
         "0",
         "0",
         "0",
         "0",
         "0",
         "0",
         "0",
         "0",
         "0",
         "0",
         "0",
         "0",
         "0",
         "0",
         "0",
         "0",
         "0",
         "0",
         "0",
         "0",
         "0",
         "0",
         "0",
         "0",
         "0",
         "0",
         "0",
         "0",
         "0",
         "0",
         "0",
         "0",
         "0",
         "0",
         "0",
         "0",
         "0",
         "0",
         "0",
         "0",
         "0",
         "0",
         "0",
         "0",
         "0",
         "0",
         "0",
         "0",
         "0",
         "0",
         "0",
         "0",
         "0",
         "0",
         "0",
         "0",
         "0",
         "0",
         "0",
         "0",
         "1",
         "0",
         "0",
         "0",
         "0",
         "0",
         "0",
         "0",
         "0",
         "0",
         "0",
         "0",
         "0",
         "0",
         "0",
         "0",
         "0",
         "0",
         "0",
         "0",
         "0",
         "0",
         "0",
         "0",
         "0",
         "0",
         "0",
         "0",
         "0",
         "0",
         "0",
         "0",
         "0",
         "0",
         "0",
         "0",
         "0",
         "0",
         "0",
         "0",
         "0",
         "0",
         "0",
         "0",
         "0",
         "0",
         "0",
         "0",
         "0",
         "0",
         "0",
         "0",
         "0",
         "0",
         "0",
         "0",
         "0",
         "0",
         "0",
         "0",
         "0",
         "0",
         "0",
         "0",
         "0",
         "0",
         "1",
         "0",
         "0",
         "0",
         "0",
         "0",
         "0",
         "0",
         "0",
         "1",
         "0",
         "0",
         "0",
         "0",
         "0",
         "0",
         "0",
         "0",
         "0",
         "0",
         "0",
         "0",
         "0",
         "0",
         "0",
         "0",
         "0",
         "0",
         "1",
         "0",
         "0",
         "0",
         "0",
         "0",
         "0",
         "0",
         "0",
         "0",
         "0",
         "0",
         "0",
         "0",
         "0",
         "0",
         "0",
         "0",
         "0",
         "0",
         "0",
         "0",
         "0",
         "0",
         "0",
         "0",
         "0",
         "0",
         "0",
         "0",
         "0",
         "0",
         "0",
         "0",
         "0",
         "0",
         "0",
         "0",
         "0",
         "0",
         "0",
         "0",
         "0",
         "0",
         "0",
         "0",
         "0",
         "0",
         "0",
         "0",
         "0",
         "0",
         "0",
         "0",
         "0",
         "0",
         "0",
         "0",
         "0",
         "0",
         "0",
         "0",
         "0",
         "0",
         "0",
         "0",
         "0",
         "0",
         "0",
         "0",
         "0",
         "0",
         "0",
         "0",
         "0",
         "0",
         "0",
         "0",
         "0",
         "0"
        ],
        [
         "2",
         "67",
         "indian",
         "0",
         "0",
         "0",
         "0",
         "0",
         "0",
         "0",
         "0",
         "0",
         "0",
         "0",
         "0",
         "0",
         "0",
         "0",
         "0",
         "0",
         "0",
         "0",
         "0",
         "0",
         "0",
         "0",
         "0",
         "0",
         "0",
         "0",
         "0",
         "0",
         "0",
         "0",
         "0",
         "0",
         "0",
         "0",
         "0",
         "0",
         "0",
         "0",
         "0",
         "0",
         "0",
         "0",
         "0",
         "0",
         "0",
         "0",
         "0",
         "0",
         "0",
         "0",
         "0",
         "0",
         "0",
         "0",
         "0",
         "0",
         "0",
         "0",
         "1",
         "0",
         "0",
         "0",
         "0",
         "0",
         "0",
         "0",
         "0",
         "0",
         "0",
         "0",
         "0",
         "0",
         "0",
         "0",
         "0",
         "0",
         "0",
         "0",
         "0",
         "0",
         "0",
         "0",
         "0",
         "0",
         "0",
         "0",
         "0",
         "0",
         "1",
         "0",
         "0",
         "0",
         "0",
         "0",
         "0",
         "0",
         "0",
         "0",
         "0",
         "0",
         "0",
         "0",
         "0",
         "0",
         "0",
         "0",
         "0",
         "0",
         "0",
         "0",
         "0",
         "0",
         "0",
         "0",
         "0",
         "0",
         "0",
         "0",
         "0",
         "0",
         "0",
         "0",
         "0",
         "0",
         "0",
         "0",
         "0",
         "0",
         "0",
         "0",
         "0",
         "0",
         "0",
         "0",
         "0",
         "0",
         "0",
         "0",
         "0",
         "0",
         "0",
         "0",
         "0",
         "0",
         "0",
         "0",
         "0",
         "0",
         "0",
         "0",
         "0",
         "0",
         "0",
         "0",
         "0",
         "0",
         "0",
         "0",
         "0",
         "0",
         "0",
         "0",
         "0",
         "0",
         "0",
         "0",
         "0",
         "0",
         "0",
         "0",
         "0",
         "0",
         "0",
         "0",
         "0",
         "0",
         "1",
         "0",
         "0",
         "0",
         "0",
         "0",
         "0",
         "0",
         "0",
         "0",
         "0",
         "0",
         "0",
         "0",
         "0",
         "0",
         "0",
         "0",
         "0",
         "0",
         "0",
         "0",
         "0",
         "0",
         "0",
         "0",
         "0",
         "0",
         "0",
         "0",
         "0",
         "0",
         "0",
         "0",
         "0",
         "0",
         "0",
         "0",
         "0",
         "0",
         "0",
         "0",
         "0",
         "0",
         "0",
         "0",
         "0",
         "0",
         "0",
         "0",
         "0",
         "0",
         "0",
         "0",
         "0",
         "0",
         "0",
         "0",
         "0",
         "0",
         "0",
         "0",
         "0",
         "0",
         "0",
         "0",
         "0",
         "0",
         "0",
         "0",
         "0",
         "0",
         "0",
         "0",
         "0",
         "0",
         "0",
         "0",
         "0",
         "0",
         "0",
         "0",
         "0",
         "0",
         "0",
         "0",
         "0",
         "0",
         "0",
         "0",
         "0",
         "0",
         "0",
         "0",
         "0",
         "0",
         "0",
         "0",
         "0",
         "0",
         "0",
         "0",
         "0",
         "0",
         "0",
         "0",
         "0",
         "1",
         "0",
         "0",
         "0",
         "0",
         "0",
         "0",
         "0",
         "0",
         "0",
         "0",
         "0",
         "0",
         "0",
         "0",
         "0",
         "0",
         "0",
         "0",
         "0",
         "0",
         "0",
         "0",
         "0",
         "0",
         "0",
         "0",
         "0",
         "0",
         "0",
         "0",
         "0",
         "0",
         "0",
         "0",
         "0",
         "0",
         "0",
         "0",
         "0",
         "0",
         "0",
         "0",
         "0",
         "0",
         "0",
         "0",
         "0",
         "0",
         "0",
         "0",
         "0",
         "0",
         "0",
         "0",
         "0",
         "0",
         "0",
         "0",
         "0",
         "0",
         "0",
         "0",
         "0",
         "0",
         "0",
         "0",
         "0",
         "0",
         "0",
         "0",
         "0",
         "0",
         "0",
         "0",
         "0",
         "0",
         "0",
         "0",
         "0",
         "0",
         "0",
         "0",
         "0",
         "0",
         "0",
         "0",
         "0",
         "0",
         "0",
         "0",
         "0",
         "0",
         "0",
         "0",
         "0",
         "0",
         "0",
         "0"
        ],
        [
         "3",
         "68",
         "indian",
         "0",
         "0",
         "0",
         "0",
         "0",
         "0",
         "0",
         "0",
         "0",
         "0",
         "0",
         "0",
         "0",
         "0",
         "0",
         "0",
         "0",
         "0",
         "0",
         "0",
         "0",
         "0",
         "0",
         "0",
         "0",
         "0",
         "0",
         "0",
         "0",
         "0",
         "0",
         "0",
         "0",
         "1",
         "0",
         "0",
         "0",
         "0",
         "0",
         "0",
         "0",
         "0",
         "0",
         "0",
         "0",
         "0",
         "0",
         "0",
         "0",
         "0",
         "0",
         "1",
         "0",
         "0",
         "0",
         "0",
         "0",
         "0",
         "0",
         "0",
         "0",
         "0",
         "1",
         "0",
         "0",
         "0",
         "0",
         "0",
         "1",
         "0",
         "0",
         "0",
         "0",
         "0",
         "0",
         "0",
         "0",
         "0",
         "0",
         "0",
         "0",
         "0",
         "0",
         "0",
         "0",
         "0",
         "0",
         "0",
         "0",
         "0",
         "0",
         "0",
         "0",
         "0",
         "0",
         "1",
         "0",
         "0",
         "0",
         "0",
         "0",
         "0",
         "0",
         "0",
         "0",
         "0",
         "0",
         "0",
         "0",
         "0",
         "0",
         "0",
         "0",
         "0",
         "0",
         "0",
         "0",
         "0",
         "0",
         "0",
         "0",
         "0",
         "0",
         "0",
         "0",
         "0",
         "1",
         "0",
         "0",
         "0",
         "0",
         "0",
         "0",
         "0",
         "0",
         "1",
         "0",
         "0",
         "0",
         "1",
         "0",
         "0",
         "0",
         "0",
         "0",
         "0",
         "0",
         "0",
         "0",
         "0",
         "0",
         "0",
         "0",
         "0",
         "0",
         "0",
         "0",
         "0",
         "0",
         "0",
         "0",
         "0",
         "0",
         "0",
         "0",
         "0",
         "0",
         "0",
         "0",
         "0",
         "0",
         "0",
         "0",
         "0",
         "0",
         "0",
         "0",
         "0",
         "0",
         "0",
         "0",
         "0",
         "0",
         "0",
         "0",
         "0",
         "0",
         "1",
         "0",
         "0",
         "0",
         "0",
         "0",
         "0",
         "0",
         "0",
         "0",
         "0",
         "0",
         "0",
         "0",
         "0",
         "0",
         "0",
         "0",
         "0",
         "0",
         "0",
         "0",
         "0",
         "0",
         "0",
         "0",
         "0",
         "0",
         "0",
         "0",
         "0",
         "0",
         "0",
         "0",
         "0",
         "0",
         "0",
         "0",
         "0",
         "0",
         "1",
         "0",
         "0",
         "1",
         "0",
         "0",
         "0",
         "0",
         "0",
         "0",
         "0",
         "0",
         "0",
         "0",
         "0",
         "0",
         "0",
         "0",
         "0",
         "0",
         "0",
         "0",
         "0",
         "0",
         "0",
         "0",
         "0",
         "0",
         "0",
         "0",
         "0",
         "0",
         "0",
         "0",
         "0",
         "0",
         "0",
         "0",
         "0",
         "0",
         "0",
         "0",
         "0",
         "0",
         "0",
         "0",
         "0",
         "0",
         "0",
         "0",
         "0",
         "0",
         "0",
         "0",
         "0",
         "0",
         "0",
         "1",
         "0",
         "0",
         "0",
         "0",
         "0",
         "0",
         "0",
         "0",
         "0",
         "0",
         "0",
         "0",
         "0",
         "0",
         "0",
         "0",
         "0",
         "0",
         "0",
         "0",
         "0",
         "0",
         "0",
         "0",
         "0",
         "1",
         "0",
         "0",
         "0",
         "0",
         "1",
         "0",
         "0",
         "0",
         "0",
         "0",
         "0",
         "0",
         "0",
         "0",
         "0",
         "0",
         "0",
         "0",
         "0",
         "0",
         "0",
         "0",
         "0",
         "0",
         "0",
         "0",
         "0",
         "0",
         "0",
         "0",
         "0",
         "0",
         "0",
         "0",
         "0",
         "0",
         "0",
         "0",
         "0",
         "0",
         "0",
         "0",
         "0",
         "1",
         "0",
         "0",
         "0",
         "0",
         "1",
         "0",
         "0",
         "0",
         "0",
         "0",
         "0",
         "0",
         "0",
         "0",
         "0",
         "0",
         "1",
         "0",
         "0",
         "0",
         "0",
         "0",
         "0",
         "0",
         "0",
         "0",
         "0",
         "0"
        ],
        [
         "4",
         "69",
         "indian",
         "0",
         "0",
         "0",
         "0",
         "0",
         "0",
         "0",
         "0",
         "0",
         "0",
         "0",
         "0",
         "0",
         "0",
         "0",
         "0",
         "0",
         "0",
         "0",
         "0",
         "0",
         "0",
         "0",
         "0",
         "0",
         "0",
         "0",
         "0",
         "0",
         "0",
         "0",
         "0",
         "0",
         "0",
         "1",
         "0",
         "0",
         "0",
         "0",
         "0",
         "0",
         "0",
         "0",
         "0",
         "0",
         "0",
         "0",
         "0",
         "0",
         "0",
         "0",
         "1",
         "0",
         "0",
         "0",
         "0",
         "0",
         "0",
         "0",
         "1",
         "0",
         "0",
         "0",
         "1",
         "0",
         "0",
         "0",
         "0",
         "1",
         "0",
         "0",
         "0",
         "0",
         "0",
         "0",
         "0",
         "0",
         "0",
         "0",
         "0",
         "1",
         "0",
         "0",
         "0",
         "0",
         "0",
         "0",
         "0",
         "0",
         "1",
         "0",
         "0",
         "0",
         "0",
         "0",
         "0",
         "0",
         "0",
         "0",
         "0",
         "0",
         "0",
         "0",
         "0",
         "0",
         "0",
         "0",
         "0",
         "0",
         "0",
         "0",
         "0",
         "1",
         "0",
         "0",
         "0",
         "0",
         "0",
         "0",
         "0",
         "0",
         "0",
         "0",
         "0",
         "0",
         "0",
         "0",
         "0",
         "0",
         "0",
         "0",
         "0",
         "0",
         "0",
         "0",
         "0",
         "0",
         "0",
         "0",
         "0",
         "0",
         "0",
         "0",
         "0",
         "0",
         "0",
         "0",
         "0",
         "0",
         "0",
         "0",
         "0",
         "0",
         "0",
         "0",
         "0",
         "0",
         "0",
         "0",
         "0",
         "0",
         "0",
         "0",
         "0",
         "0",
         "0",
         "0",
         "0",
         "0",
         "0",
         "0",
         "0",
         "0",
         "0",
         "0",
         "0",
         "0",
         "0",
         "1",
         "0",
         "0",
         "0",
         "0",
         "0",
         "0",
         "0",
         "0",
         "0",
         "0",
         "0",
         "0",
         "0",
         "0",
         "0",
         "0",
         "0",
         "0",
         "0",
         "0",
         "0",
         "0",
         "0",
         "0",
         "0",
         "0",
         "0",
         "0",
         "0",
         "0",
         "0",
         "0",
         "0",
         "0",
         "0",
         "0",
         "0",
         "0",
         "0",
         "0",
         "0",
         "0",
         "0",
         "0",
         "0",
         "0",
         "0",
         "0",
         "0",
         "0",
         "0",
         "0",
         "0",
         "0",
         "0",
         "0",
         "0",
         "0",
         "0",
         "0",
         "0",
         "0",
         "0",
         "0",
         "0",
         "0",
         "0",
         "0",
         "0",
         "0",
         "0",
         "0",
         "0",
         "0",
         "0",
         "0",
         "0",
         "0",
         "0",
         "0",
         "0",
         "0",
         "0",
         "0",
         "0",
         "0",
         "0",
         "0",
         "0",
         "0",
         "0",
         "0",
         "0",
         "0",
         "0",
         "0",
         "1",
         "0",
         "0",
         "0",
         "0",
         "0",
         "0",
         "0",
         "0",
         "0",
         "0",
         "0",
         "0",
         "0",
         "0",
         "0",
         "0",
         "0",
         "0",
         "0",
         "0",
         "0",
         "0",
         "0",
         "0",
         "0",
         "0",
         "0",
         "0",
         "0",
         "0",
         "0",
         "0",
         "0",
         "0",
         "0",
         "0",
         "0",
         "0",
         "0",
         "0",
         "0",
         "0",
         "0",
         "0",
         "0",
         "0",
         "0",
         "0",
         "0",
         "0",
         "0",
         "0",
         "0",
         "0",
         "0",
         "0",
         "0",
         "0",
         "0",
         "0",
         "0",
         "0",
         "0",
         "0",
         "0",
         "0",
         "0",
         "0",
         "0",
         "0",
         "0",
         "0",
         "0",
         "0",
         "0",
         "0",
         "0",
         "0",
         "0",
         "0",
         "0",
         "0",
         "0",
         "0",
         "0",
         "0",
         "0",
         "0",
         "0",
         "0",
         "0",
         "0",
         "0",
         "0",
         "0",
         "0",
         "0",
         "0",
         "0",
         "0",
         "0",
         "0",
         "0",
         "0",
         "0",
         "1",
         "0"
        ]
       ],
       "shape": {
        "columns": 385,
        "rows": 5
       }
      },
      "text/html": [
       "<div>\n",
       "<style scoped>\n",
       "    .dataframe tbody tr th:only-of-type {\n",
       "        vertical-align: middle;\n",
       "    }\n",
       "\n",
       "    .dataframe tbody tr th {\n",
       "        vertical-align: top;\n",
       "    }\n",
       "\n",
       "    .dataframe thead th {\n",
       "        text-align: right;\n",
       "    }\n",
       "</style>\n",
       "<table border=\"1\" class=\"dataframe\">\n",
       "  <thead>\n",
       "    <tr style=\"text-align: right;\">\n",
       "      <th></th>\n",
       "      <th>Unnamed: 0</th>\n",
       "      <th>cuisine</th>\n",
       "      <th>almond</th>\n",
       "      <th>angelica</th>\n",
       "      <th>anise</th>\n",
       "      <th>anise_seed</th>\n",
       "      <th>apple</th>\n",
       "      <th>apple_brandy</th>\n",
       "      <th>apricot</th>\n",
       "      <th>armagnac</th>\n",
       "      <th>...</th>\n",
       "      <th>whiskey</th>\n",
       "      <th>white_bread</th>\n",
       "      <th>white_wine</th>\n",
       "      <th>whole_grain_wheat_flour</th>\n",
       "      <th>wine</th>\n",
       "      <th>wood</th>\n",
       "      <th>yam</th>\n",
       "      <th>yeast</th>\n",
       "      <th>yogurt</th>\n",
       "      <th>zucchini</th>\n",
       "    </tr>\n",
       "  </thead>\n",
       "  <tbody>\n",
       "    <tr>\n",
       "      <th>0</th>\n",
       "      <td>65</td>\n",
       "      <td>indian</td>\n",
       "      <td>0</td>\n",
       "      <td>0</td>\n",
       "      <td>0</td>\n",
       "      <td>0</td>\n",
       "      <td>0</td>\n",
       "      <td>0</td>\n",
       "      <td>0</td>\n",
       "      <td>0</td>\n",
       "      <td>...</td>\n",
       "      <td>0</td>\n",
       "      <td>0</td>\n",
       "      <td>0</td>\n",
       "      <td>0</td>\n",
       "      <td>0</td>\n",
       "      <td>0</td>\n",
       "      <td>0</td>\n",
       "      <td>0</td>\n",
       "      <td>0</td>\n",
       "      <td>0</td>\n",
       "    </tr>\n",
       "    <tr>\n",
       "      <th>1</th>\n",
       "      <td>66</td>\n",
       "      <td>indian</td>\n",
       "      <td>1</td>\n",
       "      <td>0</td>\n",
       "      <td>0</td>\n",
       "      <td>0</td>\n",
       "      <td>0</td>\n",
       "      <td>0</td>\n",
       "      <td>0</td>\n",
       "      <td>0</td>\n",
       "      <td>...</td>\n",
       "      <td>0</td>\n",
       "      <td>0</td>\n",
       "      <td>0</td>\n",
       "      <td>0</td>\n",
       "      <td>0</td>\n",
       "      <td>0</td>\n",
       "      <td>0</td>\n",
       "      <td>0</td>\n",
       "      <td>0</td>\n",
       "      <td>0</td>\n",
       "    </tr>\n",
       "    <tr>\n",
       "      <th>2</th>\n",
       "      <td>67</td>\n",
       "      <td>indian</td>\n",
       "      <td>0</td>\n",
       "      <td>0</td>\n",
       "      <td>0</td>\n",
       "      <td>0</td>\n",
       "      <td>0</td>\n",
       "      <td>0</td>\n",
       "      <td>0</td>\n",
       "      <td>0</td>\n",
       "      <td>...</td>\n",
       "      <td>0</td>\n",
       "      <td>0</td>\n",
       "      <td>0</td>\n",
       "      <td>0</td>\n",
       "      <td>0</td>\n",
       "      <td>0</td>\n",
       "      <td>0</td>\n",
       "      <td>0</td>\n",
       "      <td>0</td>\n",
       "      <td>0</td>\n",
       "    </tr>\n",
       "    <tr>\n",
       "      <th>3</th>\n",
       "      <td>68</td>\n",
       "      <td>indian</td>\n",
       "      <td>0</td>\n",
       "      <td>0</td>\n",
       "      <td>0</td>\n",
       "      <td>0</td>\n",
       "      <td>0</td>\n",
       "      <td>0</td>\n",
       "      <td>0</td>\n",
       "      <td>0</td>\n",
       "      <td>...</td>\n",
       "      <td>0</td>\n",
       "      <td>0</td>\n",
       "      <td>0</td>\n",
       "      <td>0</td>\n",
       "      <td>0</td>\n",
       "      <td>0</td>\n",
       "      <td>0</td>\n",
       "      <td>0</td>\n",
       "      <td>0</td>\n",
       "      <td>0</td>\n",
       "    </tr>\n",
       "    <tr>\n",
       "      <th>4</th>\n",
       "      <td>69</td>\n",
       "      <td>indian</td>\n",
       "      <td>0</td>\n",
       "      <td>0</td>\n",
       "      <td>0</td>\n",
       "      <td>0</td>\n",
       "      <td>0</td>\n",
       "      <td>0</td>\n",
       "      <td>0</td>\n",
       "      <td>0</td>\n",
       "      <td>...</td>\n",
       "      <td>0</td>\n",
       "      <td>0</td>\n",
       "      <td>0</td>\n",
       "      <td>0</td>\n",
       "      <td>0</td>\n",
       "      <td>0</td>\n",
       "      <td>0</td>\n",
       "      <td>0</td>\n",
       "      <td>1</td>\n",
       "      <td>0</td>\n",
       "    </tr>\n",
       "  </tbody>\n",
       "</table>\n",
       "<p>5 rows × 385 columns</p>\n",
       "</div>"
      ],
      "text/plain": [
       "   Unnamed: 0 cuisine  almond  angelica  anise  anise_seed  apple  \\\n",
       "0          65  indian       0         0      0           0      0   \n",
       "1          66  indian       1         0      0           0      0   \n",
       "2          67  indian       0         0      0           0      0   \n",
       "3          68  indian       0         0      0           0      0   \n",
       "4          69  indian       0         0      0           0      0   \n",
       "\n",
       "   apple_brandy  apricot  armagnac  ...  whiskey  white_bread  white_wine  \\\n",
       "0             0        0         0  ...        0            0           0   \n",
       "1             0        0         0  ...        0            0           0   \n",
       "2             0        0         0  ...        0            0           0   \n",
       "3             0        0         0  ...        0            0           0   \n",
       "4             0        0         0  ...        0            0           0   \n",
       "\n",
       "   whole_grain_wheat_flour  wine  wood  yam  yeast  yogurt  zucchini  \n",
       "0                        0     0     0    0      0       0         0  \n",
       "1                        0     0     0    0      0       0         0  \n",
       "2                        0     0     0    0      0       0         0  \n",
       "3                        0     0     0    0      0       0         0  \n",
       "4                        0     0     0    0      0       1         0  \n",
       "\n",
       "[5 rows x 385 columns]"
      ]
     },
     "execution_count": 4,
     "metadata": {},
     "output_type": "execute_result"
    }
   ],
   "source": [
    "df = pd.read_csv('cuisines.csv')\n",
    "df.head()"
   ]
  },
  {
   "cell_type": "code",
   "execution_count": 5,
   "id": "a9088fea",
   "metadata": {},
   "outputs": [
    {
     "name": "stdout",
     "output_type": "stream",
     "text": [
      "<class 'pandas.core.frame.DataFrame'>\n",
      "RangeIndex: 2448 entries, 0 to 2447\n",
      "Columns: 385 entries, Unnamed: 0 to zucchini\n",
      "dtypes: int64(384), object(1)\n",
      "memory usage: 7.2+ MB\n"
     ]
    }
   ],
   "source": [
    "df.info()"
   ]
  },
  {
   "cell_type": "code",
   "execution_count": null,
   "id": "11bb7dc9",
   "metadata": {},
   "outputs": [
    {
     "data": {
      "text/plain": [
       "<Axes: ylabel='cuisine'>"
      ]
     },
     "execution_count": 6,
     "metadata": {},
     "output_type": "execute_result"
    },
    {
     "data": {
      "image/png": "[encoded data removed]",
      "text/plain": [
       "<Figure size 640x480 with 1 Axes>"
      ]
     },
     "metadata": {},
     "output_type": "display_data"
    }
   ],
   "source": [
    "#plot the cuisune in bars using barh\n",
    "df['cuisine'].value_counts().plot(kind='barh')\n"
   ]
  },
  {
   "cell_type": "code",
   "execution_count": 27,
   "id": "5a82560f",
   "metadata": {},
   "outputs": [
    {
     "name": "stdout",
     "output_type": "stream",
     "text": [
      "korean_df: (799, 385)\n",
      "indian_df: (598, 385)\n",
      "chinese_df: (442, 385)\n",
      "japanese_df: (320, 385)\n",
      "thai_df: (289, 385)\n"
     ]
    }
   ],
   "source": [
    "#find out how many data are in each cuisine and print it\n",
    "korea_df = df[(df['cuisine'] == 'korean')]\n",
    "indian_df = df[(df['cuisine'] == 'indian')]\n",
    "chinese_df = df[(df['cuisine'] == 'chinese')]\n",
    "japanese = df[(df['cuisine'] == 'japanese')]\n",
    "thai_df = df[(df['cuisine'] == 'thai')]\n",
    "\n",
    "print(f'korean_df: {korea_df.shape}')\n",
    "print(f'indian_df: {indian_df.shape}')\n",
    "print(f'chinese_df: {chinese_df.shape}')    \n",
    "print(f'japanese_df: {japanese.shape}')\n",
    "print(f'thai_df: {thai_df.shape}')"
   ]
  },
  {
   "cell_type": "markdown",
   "id": "3a530c2b",
   "metadata": {},
   "source": [
    "##### Discovering ingredients"
   ]
  },
  {
   "cell_type": "markdown",
   "id": "7c105cda",
   "metadata": {},
   "source": [
    "Create a function create_ingredient() in Python to create an ingredient dataframe. This function will start by dropping an unhelpful column and sort through ingredients by their count:"
   ]
  },
  {
   "cell_type": "code",
   "execution_count": 28,
   "id": "37b4964c",
   "metadata": {},
   "outputs": [],
   "source": [
    "def create_ingredients(df):\n",
    "#transpose the dataframe and drop cuisine and unnamed, sum each row and convert to dataframe \"value\"\n",
    "    ingredient_df = df.T.drop(['cuisine', 'Unnamed: 0']).sum(axis=1).to_frame('value')\n",
    "    #keep only ingredients that have non zero sum (appear in at least one recipe)\n",
    "    ingredient_df = ingredient_df[(ingredient_df.T != 0).any()]\n",
    "    #sort the ingredients by their total count in descending order\n",
    "    ingredient_df = ingredient_df.sort_values(by='value', ascending=False, inplace= False)\n",
    "    #return the resulting dataframe\n",
    "    return ingredient_df\n",
    "    \n"
   ]
  },
  {
   "cell_type": "code",
   "execution_count": 21,
   "id": "16ca9480",
   "metadata": {},
   "outputs": [
    {
     "data": {
      "text/plain": [
       "<Axes: >"
      ]
     },
     "execution_count": 21,
     "metadata": {},
     "output_type": "execute_result"
    },
    {
     "data": {
      "image/png": "[encoded data removed]",
      "text/plain": [
       "<Figure size 640x480 with 1 Axes>"
      ]
     },
     "metadata": {},
     "output_type": "display_data"
    }
   ],
   "source": [
    "#plot and see the ingredients for the different cuisines\n",
    "#Thai ingredient\n",
    "\n",
    "thai_ingredient_df = create_ingredients(thai_df)\n",
    "thai_ingredient_df.head(15).plot.barh()"
   ]
  },
  {
   "cell_type": "code",
   "execution_count": 22,
   "id": "e1599a13",
   "metadata": {},
   "outputs": [
    {
     "data": {
      "text/plain": [
       "<Axes: >"
      ]
     },
     "execution_count": 22,
     "metadata": {},
     "output_type": "execute_result"
    },
    {
     "data": {
      "image/png": "[encoded data removed]",
      "text/plain": [
       "<Figure size 640x480 with 1 Axes>"
      ]
     },
     "metadata": {},
     "output_type": "display_data"
    }
   ],
   "source": [
    "#japanese ingredients\n",
    "japanese_ingredeints_df = create_ingredients(japanese)\n",
    "japanese_ingredeints_df.head(10).plot.barh()"
   ]
  },
  {
   "cell_type": "code",
   "execution_count": 31,
   "id": "77950258",
   "metadata": {},
   "outputs": [
    {
     "data": {
      "text/plain": [
       "<Axes: >"
      ]
     },
     "execution_count": 31,
     "metadata": {},
     "output_type": "execute_result"
    },
    {
     "data": {
      "image/png": "[encoded data removed]",
      "text/plain": [
       "<Figure size 640x480 with 1 Axes>"
      ]
     },
     "metadata": {},
     "output_type": "display_data"
    }
   ],
   "source": [
    "korean_ingredients_df = create_ingredients(korea_df)\n",
    "korean_ingredients_df.head(10).plot.barh()"
   ]
  },
  {
   "cell_type": "code",
   "execution_count": 52,
   "id": "b7cb79c9",
   "metadata": {},
   "outputs": [
    {
     "data": {
      "text/plain": [
       "<Axes: >"
      ]
     },
     "execution_count": 52,
     "metadata": {},
     "output_type": "execute_result"
    },
    {
     "data": {
      "image/png": "[encoded data removed]",
      "text/plain": [
       "<Figure size 640x480 with 1 Axes>"
      ]
     },
     "metadata": {},
     "output_type": "display_data"
    }
   ],
   "source": [
    "indian_ingredients_df = create_ingredients(indian_df)\n",
    "indian_ingredients_df.head(15).plot.barh()"
   ]
  },
  {
   "cell_type": "code",
   "execution_count": 55,
   "id": "f53c26e7",
   "metadata": {},
   "outputs": [
    {
     "data": {
      "application/vnd.microsoft.datawrangler.viewer.v0+json": {
       "columns": [
        {
         "name": "index",
         "rawType": "int64",
         "type": "integer"
        },
        {
         "name": "cuisine",
         "rawType": "object",
         "type": "string"
        }
       ],
       "ref": "91c066fb-06a3-47ad-8b54-07d2101cf641",
       "rows": [
        [
         "0",
         "indian"
        ],
        [
         "1",
         "indian"
        ],
        [
         "2",
         "indian"
        ],
        [
         "3",
         "indian"
        ],
        [
         "4",
         "indian"
        ],
        [
         "5",
         "indian"
        ],
        [
         "6",
         "indian"
        ],
        [
         "7",
         "indian"
        ],
        [
         "8",
         "indian"
        ],
        [
         "9",
         "indian"
        ],
        [
         "10",
         "indian"
        ],
        [
         "11",
         "indian"
        ],
        [
         "12",
         "indian"
        ],
        [
         "13",
         "indian"
        ],
        [
         "14",
         "indian"
        ],
        [
         "15",
         "indian"
        ],
        [
         "16",
         "indian"
        ],
        [
         "17",
         "indian"
        ],
        [
         "18",
         "indian"
        ],
        [
         "19",
         "indian"
        ],
        [
         "20",
         "indian"
        ],
        [
         "21",
         "indian"
        ],
        [
         "22",
         "indian"
        ],
        [
         "23",
         "indian"
        ],
        [
         "24",
         "indian"
        ],
        [
         "25",
         "indian"
        ],
        [
         "26",
         "indian"
        ],
        [
         "27",
         "indian"
        ],
        [
         "28",
         "indian"
        ],
        [
         "29",
         "indian"
        ],
        [
         "30",
         "indian"
        ],
        [
         "31",
         "indian"
        ],
        [
         "32",
         "indian"
        ],
        [
         "33",
         "indian"
        ],
        [
         "34",
         "indian"
        ],
        [
         "35",
         "indian"
        ],
        [
         "36",
         "indian"
        ],
        [
         "37",
         "indian"
        ],
        [
         "38",
         "indian"
        ],
        [
         "39",
         "indian"
        ],
        [
         "40",
         "indian"
        ],
        [
         "41",
         "indian"
        ],
        [
         "42",
         "indian"
        ],
        [
         "43",
         "indian"
        ],
        [
         "44",
         "indian"
        ],
        [
         "45",
         "indian"
        ],
        [
         "46",
         "indian"
        ],
        [
         "47",
         "indian"
        ],
        [
         "48",
         "indian"
        ],
        [
         "49",
         "indian"
        ]
       ],
       "shape": {
        "columns": 1,
        "rows": 2448
       }
      },
      "text/plain": [
       "0         indian\n",
       "1         indian\n",
       "2         indian\n",
       "3         indian\n",
       "4         indian\n",
       "          ...   \n",
       "2443    japanese\n",
       "2444    japanese\n",
       "2445    japanese\n",
       "2446    japanese\n",
       "2447    japanese\n",
       "Name: cuisine, Length: 2448, dtype: object"
      ]
     },
     "execution_count": 55,
     "metadata": {},
     "output_type": "execute_result"
    }
   ],
   "source": [
    "feature_df = df.drop(['cuisine', 'rice', 'garlic', 'Unnamed: 0', 'ginger'], axis=1)\n",
    "label_df = df.cuisine\n",
    "label_df"
   ]
  },
  {
   "cell_type": "markdown",
   "id": "7b432ce6",
   "metadata": {},
   "source": [
    "#### Balance the dataset\n",
    "- Now that you have cleaned the data, use SMOTE - \"Synthetic Minority Over-sampling Technique\" - to balance it.\n",
    "\n",
    "- Call fit_resample(), this strategy generates new samples by interpolation."
   ]
  },
  {
   "cell_type": "code",
   "execution_count": 57,
   "id": "c960cc43",
   "metadata": {},
   "outputs": [
    {
     "name": "stdout",
     "output_type": "stream",
     "text": [
      "new label counts: cuisine\n",
      "indian      799\n",
      "thai        799\n",
      "chinese     799\n",
      "japanese    799\n",
      "korean      799\n",
      "Name: count, dtype: int64\n",
      "old label counts: cuisine\n",
      "korean      799\n",
      "indian      598\n",
      "chinese     442\n",
      "japanese    320\n",
      "thai        289\n",
      "Name: count, dtype: int64\n"
     ]
    }
   ],
   "source": [
    "oversample = SMOTE()\n",
    "transformed_feature_df, transformed_label_df = oversample.fit_resample(feature_df, label_df)\n",
    "\n",
    "print(f'new label counts: {transformed_label_df.value_counts()}')\n",
    "print(f'old label counts: {df.cuisine.value_counts()}')\n"
   ]
  },
  {
   "cell_type": "markdown",
   "id": "2a416c10",
   "metadata": {},
   "source": [
    "By balancing your data, you'll have better results when classifying it. Think about a binary classification. If most of your data is one class, a ML model is going to predict that class more frequently, just because there is more data for it. Balancing the data takes any skewed data and helps remove this imbalance."
   ]
  },
  {
   "cell_type": "code",
   "execution_count": 59,
   "id": "fedceff2",
   "metadata": {},
   "outputs": [
    {
     "name": "stdout",
     "output_type": "stream",
     "text": [
      "<class 'pandas.core.frame.DataFrame'>\n",
      "RangeIndex: 3995 entries, 0 to 3994\n",
      "Columns: 381 entries, almond to cuisine\n",
      "dtypes: int64(380), object(1)\n",
      "memory usage: 11.6+ MB\n"
     ]
    }
   ],
   "source": [
    "#lets join the data\n",
    "transformed_df = pd.concat([transformed_feature_df, transformed_label_df], axis=1, join='outer')\n",
    "transformed_df.info()"
   ]
  },
  {
   "cell_type": "code",
   "execution_count": 60,
   "id": "a1634ea9",
   "metadata": {},
   "outputs": [],
   "source": [
    "#saving it as a csv file\n",
    "transformed_df.to_csv('cleaned_cuisine.csv')"
   ]
  }
 ],
 "metadata": {
  "kernelspec": {
   "display_name": "Python 3",
   "language": "python",
   "name": "python3"
  },
  "language_info": {
   "codemirror_mode": {
    "name": "ipython",
    "version": 3
   },
   "file_extension": ".py",
   "mimetype": "text/x-python",
   "name": "python",
   "nbconvert_exporter": "python",
   "pygments_lexer": "ipython3",
   "version": "3.12.4"
  }
 },
 "nbformat": 4,
 "nbformat_minor": 5
}

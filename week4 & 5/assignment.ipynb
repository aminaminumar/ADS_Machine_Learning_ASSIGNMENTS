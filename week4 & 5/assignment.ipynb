{
 "cells": [
  {
   "cell_type": "markdown",
   "id": "10b66dfc",
   "metadata": {},
   "source": [
    "# Instructions\n",
    "In Scikit-learn documentation you'll find a large list of ways to classify data. Do a little scavenger hunt in these docs: your goals is to look for classification methods and match a dataset in this curriculum, a question you can ask of it, and a technique of classification. Create a spreadsheet or table in a .doc file and explain how the dataset would work with the classification algorithm."
   ]
  },
  {
   "cell_type": "markdown",
   "id": "810415f7",
   "metadata": {},
   "source": [
    "# Classification Models and type of Dataset\n",
    "\n",
    "\n",
    "| Dataset              | Question (Target Variable)                                      | Classification Method | Why It Works                                                                 |\n",
    "|----------------------|-----------------------------------------------------------------|------------------------|-------------------------------------------------------------------------------|\n",
    "| Heart Disease        | How likely will a patient have heart disease? (Yes/No)          | Logistic Regression    | Binary classification: predicts probability of disease (0 = No, 1 = Yes). Interpretable and widely used in healthcare. |\n",
    "| Salary Dataset       | Predict if a person’s salary is “High” or “Low” based on experience | Support Vector Machine (SVM) | Converts salary into categories (High/Low). SVM finds the best decision boundary. Works well with small datasets. |\n",
    "| Pumpkin Dataset      | Predict if the average price in a given month is “Above Average” or “Below Average” | Random Forest         | Handles non-linear seasonal data. Robust, reduces overfitting compared to a single decision tree. |\n",
    "| Cuisine Dataset      | Predict cuisine type according to ingredients (Multiclass)      | Naive Bayes            | Works well for text data like ingredients. Simple, fast, and effective for multiclass classification. |\n"
   ]
  }
 ],
 "metadata": {
  "language_info": {
   "name": "python"
  }
 },
 "nbformat": 4,
 "nbformat_minor": 5
}

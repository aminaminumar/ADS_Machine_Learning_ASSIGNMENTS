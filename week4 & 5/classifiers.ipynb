{
 "cells": [
  {
   "cell_type": "code",
   "execution_count": 28,
   "id": "2bb65a0f",
   "metadata": {},
   "outputs": [],
   "source": [
    "import pandas as pd\n",
    "import numpy as np"
   ]
  },
  {
   "cell_type": "code",
   "execution_count": 2,
   "id": "7912ed2e",
   "metadata": {},
   "outputs": [
    {
     "data": {
      "application/vnd.microsoft.datawrangler.viewer.v0+json": {
       "columns": [
        {
         "name": "index",
         "rawType": "int64",
         "type": "integer"
        },
        {
         "name": "Unnamed: 0",
         "rawType": "int64",
         "type": "integer"
        },
        {
         "name": "cuisine",
         "rawType": "object",
         "type": "string"
        },
        {
         "name": "almond",
         "rawType": "int64",
         "type": "integer"
        },
        {
         "name": "angelica",
         "rawType": "int64",
         "type": "integer"
        },
        {
         "name": "anise",
         "rawType": "int64",
         "type": "integer"
        },
        {
         "name": "anise_seed",
         "rawType": "int64",
         "type": "integer"
        },
        {
         "name": "apple",
         "rawType": "int64",
         "type": "integer"
        },
        {
         "name": "apple_brandy",
         "rawType": "int64",
         "type": "integer"
        },
        {
         "name": "apricot",
         "rawType": "int64",
         "type": "integer"
        },
        {
         "name": "armagnac",
         "rawType": "int64",
         "type": "integer"
        },
        {
         "name": "artemisia",
         "rawType": "int64",
         "type": "integer"
        },
        {
         "name": "artichoke",
         "rawType": "int64",
         "type": "integer"
        },
        {
         "name": "asparagus",
         "rawType": "int64",
         "type": "integer"
        },
        {
         "name": "avocado",
         "rawType": "int64",
         "type": "integer"
        },
        {
         "name": "bacon",
         "rawType": "int64",
         "type": "integer"
        },
        {
         "name": "baked_potato",
         "rawType": "int64",
         "type": "integer"
        },
        {
         "name": "balm",
         "rawType": "int64",
         "type": "integer"
        },
        {
         "name": "banana",
         "rawType": "int64",
         "type": "integer"
        },
        {
         "name": "barley",
         "rawType": "int64",
         "type": "integer"
        },
        {
         "name": "bartlett_pear",
         "rawType": "int64",
         "type": "integer"
        },
        {
         "name": "basil",
         "rawType": "int64",
         "type": "integer"
        },
        {
         "name": "bay",
         "rawType": "int64",
         "type": "integer"
        },
        {
         "name": "bean",
         "rawType": "int64",
         "type": "integer"
        },
        {
         "name": "beech",
         "rawType": "int64",
         "type": "integer"
        },
        {
         "name": "beef",
         "rawType": "int64",
         "type": "integer"
        },
        {
         "name": "beef_broth",
         "rawType": "int64",
         "type": "integer"
        },
        {
         "name": "beef_liver",
         "rawType": "int64",
         "type": "integer"
        },
        {
         "name": "beer",
         "rawType": "int64",
         "type": "integer"
        },
        {
         "name": "beet",
         "rawType": "int64",
         "type": "integer"
        },
        {
         "name": "bell_pepper",
         "rawType": "int64",
         "type": "integer"
        },
        {
         "name": "bergamot",
         "rawType": "int64",
         "type": "integer"
        },
        {
         "name": "berry",
         "rawType": "int64",
         "type": "integer"
        },
        {
         "name": "bitter_orange",
         "rawType": "int64",
         "type": "integer"
        },
        {
         "name": "black_bean",
         "rawType": "int64",
         "type": "integer"
        },
        {
         "name": "black_currant",
         "rawType": "int64",
         "type": "integer"
        },
        {
         "name": "black_mustard_seed_oil",
         "rawType": "int64",
         "type": "integer"
        },
        {
         "name": "black_pepper",
         "rawType": "int64",
         "type": "integer"
        },
        {
         "name": "black_raspberry",
         "rawType": "int64",
         "type": "integer"
        },
        {
         "name": "black_sesame_seed",
         "rawType": "int64",
         "type": "integer"
        },
        {
         "name": "black_tea",
         "rawType": "int64",
         "type": "integer"
        },
        {
         "name": "blackberry",
         "rawType": "int64",
         "type": "integer"
        },
        {
         "name": "blackberry_brandy",
         "rawType": "int64",
         "type": "integer"
        },
        {
         "name": "blue_cheese",
         "rawType": "int64",
         "type": "integer"
        },
        {
         "name": "blueberry",
         "rawType": "int64",
         "type": "integer"
        },
        {
         "name": "bone_oil",
         "rawType": "int64",
         "type": "integer"
        },
        {
         "name": "bourbon_whiskey",
         "rawType": "int64",
         "type": "integer"
        },
        {
         "name": "brandy",
         "rawType": "int64",
         "type": "integer"
        },
        {
         "name": "brassica",
         "rawType": "int64",
         "type": "integer"
        },
        {
         "name": "bread",
         "rawType": "int64",
         "type": "integer"
        },
        {
         "name": "broccoli",
         "rawType": "int64",
         "type": "integer"
        },
        {
         "name": "brown_rice",
         "rawType": "int64",
         "type": "integer"
        },
        {
         "name": "brussels_sprout",
         "rawType": "int64",
         "type": "integer"
        },
        {
         "name": "buckwheat",
         "rawType": "int64",
         "type": "integer"
        },
        {
         "name": "butter",
         "rawType": "int64",
         "type": "integer"
        },
        {
         "name": "buttermilk",
         "rawType": "int64",
         "type": "integer"
        },
        {
         "name": "cabbage",
         "rawType": "int64",
         "type": "integer"
        },
        {
         "name": "cabernet_sauvignon_wine",
         "rawType": "int64",
         "type": "integer"
        },
        {
         "name": "cacao",
         "rawType": "int64",
         "type": "integer"
        },
        {
         "name": "camembert_cheese",
         "rawType": "int64",
         "type": "integer"
        },
        {
         "name": "cane_molasses",
         "rawType": "int64",
         "type": "integer"
        },
        {
         "name": "caraway",
         "rawType": "int64",
         "type": "integer"
        },
        {
         "name": "cardamom",
         "rawType": "int64",
         "type": "integer"
        },
        {
         "name": "carnation",
         "rawType": "int64",
         "type": "integer"
        },
        {
         "name": "carob",
         "rawType": "int64",
         "type": "integer"
        },
        {
         "name": "carrot",
         "rawType": "int64",
         "type": "integer"
        },
        {
         "name": "cashew",
         "rawType": "int64",
         "type": "integer"
        },
        {
         "name": "cassava",
         "rawType": "int64",
         "type": "integer"
        },
        {
         "name": "catfish",
         "rawType": "int64",
         "type": "integer"
        },
        {
         "name": "cauliflower",
         "rawType": "int64",
         "type": "integer"
        },
        {
         "name": "caviar",
         "rawType": "int64",
         "type": "integer"
        },
        {
         "name": "cayenne",
         "rawType": "int64",
         "type": "integer"
        },
        {
         "name": "celery",
         "rawType": "int64",
         "type": "integer"
        },
        {
         "name": "celery_oil",
         "rawType": "int64",
         "type": "integer"
        },
        {
         "name": "cereal",
         "rawType": "int64",
         "type": "integer"
        },
        {
         "name": "chamomile",
         "rawType": "int64",
         "type": "integer"
        },
        {
         "name": "champagne_wine",
         "rawType": "int64",
         "type": "integer"
        },
        {
         "name": "chayote",
         "rawType": "int64",
         "type": "integer"
        },
        {
         "name": "cheddar_cheese",
         "rawType": "int64",
         "type": "integer"
        },
        {
         "name": "cheese",
         "rawType": "int64",
         "type": "integer"
        },
        {
         "name": "cherry",
         "rawType": "int64",
         "type": "integer"
        },
        {
         "name": "cherry_brandy",
         "rawType": "int64",
         "type": "integer"
        },
        {
         "name": "chervil",
         "rawType": "int64",
         "type": "integer"
        },
        {
         "name": "chicken",
         "rawType": "int64",
         "type": "integer"
        },
        {
         "name": "chicken_broth",
         "rawType": "int64",
         "type": "integer"
        },
        {
         "name": "chicken_liver",
         "rawType": "int64",
         "type": "integer"
        },
        {
         "name": "chickpea",
         "rawType": "int64",
         "type": "integer"
        },
        {
         "name": "chicory",
         "rawType": "int64",
         "type": "integer"
        },
        {
         "name": "chinese_cabbage",
         "rawType": "int64",
         "type": "integer"
        },
        {
         "name": "chive",
         "rawType": "int64",
         "type": "integer"
        },
        {
         "name": "cider",
         "rawType": "int64",
         "type": "integer"
        },
        {
         "name": "cilantro",
         "rawType": "int64",
         "type": "integer"
        },
        {
         "name": "cinnamon",
         "rawType": "int64",
         "type": "integer"
        },
        {
         "name": "citrus",
         "rawType": "int64",
         "type": "integer"
        },
        {
         "name": "citrus_peel",
         "rawType": "int64",
         "type": "integer"
        },
        {
         "name": "clam",
         "rawType": "int64",
         "type": "integer"
        },
        {
         "name": "clove",
         "rawType": "int64",
         "type": "integer"
        },
        {
         "name": "cocoa",
         "rawType": "int64",
         "type": "integer"
        },
        {
         "name": "coconut",
         "rawType": "int64",
         "type": "integer"
        },
        {
         "name": "coconut_oil",
         "rawType": "int64",
         "type": "integer"
        },
        {
         "name": "cod",
         "rawType": "int64",
         "type": "integer"
        },
        {
         "name": "coffee",
         "rawType": "int64",
         "type": "integer"
        },
        {
         "name": "cognac",
         "rawType": "int64",
         "type": "integer"
        },
        {
         "name": "concord_grape",
         "rawType": "int64",
         "type": "integer"
        },
        {
         "name": "condiment",
         "rawType": "int64",
         "type": "integer"
        },
        {
         "name": "coriander",
         "rawType": "int64",
         "type": "integer"
        },
        {
         "name": "corn",
         "rawType": "int64",
         "type": "integer"
        },
        {
         "name": "corn_flake",
         "rawType": "int64",
         "type": "integer"
        },
        {
         "name": "corn_grit",
         "rawType": "int64",
         "type": "integer"
        },
        {
         "name": "cottage_cheese",
         "rawType": "int64",
         "type": "integer"
        },
        {
         "name": "crab",
         "rawType": "int64",
         "type": "integer"
        },
        {
         "name": "cranberry",
         "rawType": "int64",
         "type": "integer"
        },
        {
         "name": "cream",
         "rawType": "int64",
         "type": "integer"
        },
        {
         "name": "cream_cheese",
         "rawType": "int64",
         "type": "integer"
        },
        {
         "name": "cucumber",
         "rawType": "int64",
         "type": "integer"
        },
        {
         "name": "cumin",
         "rawType": "int64",
         "type": "integer"
        },
        {
         "name": "cured_pork",
         "rawType": "int64",
         "type": "integer"
        },
        {
         "name": "currant",
         "rawType": "int64",
         "type": "integer"
        },
        {
         "name": "date",
         "rawType": "int64",
         "type": "integer"
        },
        {
         "name": "dill",
         "rawType": "int64",
         "type": "integer"
        },
        {
         "name": "durian",
         "rawType": "int64",
         "type": "integer"
        },
        {
         "name": "eel",
         "rawType": "int64",
         "type": "integer"
        },
        {
         "name": "egg",
         "rawType": "int64",
         "type": "integer"
        },
        {
         "name": "egg_noodle",
         "rawType": "int64",
         "type": "integer"
        },
        {
         "name": "elderberry",
         "rawType": "int64",
         "type": "integer"
        },
        {
         "name": "emmental_cheese",
         "rawType": "int64",
         "type": "integer"
        },
        {
         "name": "endive",
         "rawType": "int64",
         "type": "integer"
        },
        {
         "name": "enokidake",
         "rawType": "int64",
         "type": "integer"
        },
        {
         "name": "fennel",
         "rawType": "int64",
         "type": "integer"
        },
        {
         "name": "fenugreek",
         "rawType": "int64",
         "type": "integer"
        },
        {
         "name": "feta_cheese",
         "rawType": "int64",
         "type": "integer"
        },
        {
         "name": "fig",
         "rawType": "int64",
         "type": "integer"
        },
        {
         "name": "fish",
         "rawType": "int64",
         "type": "integer"
        },
        {
         "name": "flower",
         "rawType": "int64",
         "type": "integer"
        },
        {
         "name": "frankfurter",
         "rawType": "int64",
         "type": "integer"
        },
        {
         "name": "fruit",
         "rawType": "int64",
         "type": "integer"
        },
        {
         "name": "galanga",
         "rawType": "int64",
         "type": "integer"
        },
        {
         "name": "gardenia",
         "rawType": "int64",
         "type": "integer"
        },
        {
         "name": "garlic",
         "rawType": "int64",
         "type": "integer"
        },
        {
         "name": "gelatin",
         "rawType": "int64",
         "type": "integer"
        },
        {
         "name": "geranium",
         "rawType": "int64",
         "type": "integer"
        },
        {
         "name": "gin",
         "rawType": "int64",
         "type": "integer"
        },
        {
         "name": "ginger",
         "rawType": "int64",
         "type": "integer"
        },
        {
         "name": "goat_cheese",
         "rawType": "int64",
         "type": "integer"
        },
        {
         "name": "grape",
         "rawType": "int64",
         "type": "integer"
        },
        {
         "name": "grape_brandy",
         "rawType": "int64",
         "type": "integer"
        },
        {
         "name": "grape_juice",
         "rawType": "int64",
         "type": "integer"
        },
        {
         "name": "grapefruit",
         "rawType": "int64",
         "type": "integer"
        },
        {
         "name": "green_bell_pepper",
         "rawType": "int64",
         "type": "integer"
        },
        {
         "name": "green_tea",
         "rawType": "int64",
         "type": "integer"
        },
        {
         "name": "gruyere_cheese",
         "rawType": "int64",
         "type": "integer"
        },
        {
         "name": "guava",
         "rawType": "int64",
         "type": "integer"
        },
        {
         "name": "haddock",
         "rawType": "int64",
         "type": "integer"
        },
        {
         "name": "ham",
         "rawType": "int64",
         "type": "integer"
        },
        {
         "name": "hazelnut",
         "rawType": "int64",
         "type": "integer"
        },
        {
         "name": "herring",
         "rawType": "int64",
         "type": "integer"
        },
        {
         "name": "holy_basil",
         "rawType": "int64",
         "type": "integer"
        },
        {
         "name": "honey",
         "rawType": "int64",
         "type": "integer"
        },
        {
         "name": "hop",
         "rawType": "int64",
         "type": "integer"
        },
        {
         "name": "horseradish",
         "rawType": "int64",
         "type": "integer"
        },
        {
         "name": "huckleberry",
         "rawType": "int64",
         "type": "integer"
        },
        {
         "name": "jamaican_rum",
         "rawType": "int64",
         "type": "integer"
        },
        {
         "name": "japanese_plum",
         "rawType": "int64",
         "type": "integer"
        },
        {
         "name": "jasmine",
         "rawType": "int64",
         "type": "integer"
        },
        {
         "name": "jasmine_tea",
         "rawType": "int64",
         "type": "integer"
        },
        {
         "name": "juniper_berry",
         "rawType": "int64",
         "type": "integer"
        },
        {
         "name": "kaffir_lime",
         "rawType": "int64",
         "type": "integer"
        },
        {
         "name": "kale",
         "rawType": "int64",
         "type": "integer"
        },
        {
         "name": "katsuobushi",
         "rawType": "int64",
         "type": "integer"
        },
        {
         "name": "kelp",
         "rawType": "int64",
         "type": "integer"
        },
        {
         "name": "kidney_bean",
         "rawType": "int64",
         "type": "integer"
        },
        {
         "name": "kiwi",
         "rawType": "int64",
         "type": "integer"
        },
        {
         "name": "kohlrabi",
         "rawType": "int64",
         "type": "integer"
        },
        {
         "name": "kumquat",
         "rawType": "int64",
         "type": "integer"
        },
        {
         "name": "lamb",
         "rawType": "int64",
         "type": "integer"
        },
        {
         "name": "lard",
         "rawType": "int64",
         "type": "integer"
        },
        {
         "name": "laurel",
         "rawType": "int64",
         "type": "integer"
        },
        {
         "name": "lavender",
         "rawType": "int64",
         "type": "integer"
        },
        {
         "name": "leaf",
         "rawType": "int64",
         "type": "integer"
        },
        {
         "name": "leek",
         "rawType": "int64",
         "type": "integer"
        },
        {
         "name": "lemon",
         "rawType": "int64",
         "type": "integer"
        },
        {
         "name": "lemon_juice",
         "rawType": "int64",
         "type": "integer"
        },
        {
         "name": "lemon_peel",
         "rawType": "int64",
         "type": "integer"
        },
        {
         "name": "lemongrass",
         "rawType": "int64",
         "type": "integer"
        },
        {
         "name": "lentil",
         "rawType": "int64",
         "type": "integer"
        },
        {
         "name": "lettuce",
         "rawType": "int64",
         "type": "integer"
        },
        {
         "name": "licorice",
         "rawType": "int64",
         "type": "integer"
        },
        {
         "name": "lilac_flower_oil",
         "rawType": "int64",
         "type": "integer"
        },
        {
         "name": "lima_bean",
         "rawType": "int64",
         "type": "integer"
        },
        {
         "name": "lime",
         "rawType": "int64",
         "type": "integer"
        },
        {
         "name": "lime_juice",
         "rawType": "int64",
         "type": "integer"
        },
        {
         "name": "lime_peel_oil",
         "rawType": "int64",
         "type": "integer"
        },
        {
         "name": "lingonberry",
         "rawType": "int64",
         "type": "integer"
        },
        {
         "name": "litchi",
         "rawType": "int64",
         "type": "integer"
        },
        {
         "name": "liver",
         "rawType": "int64",
         "type": "integer"
        },
        {
         "name": "lobster",
         "rawType": "int64",
         "type": "integer"
        },
        {
         "name": "long_pepper",
         "rawType": "int64",
         "type": "integer"
        },
        {
         "name": "lovage",
         "rawType": "int64",
         "type": "integer"
        },
        {
         "name": "macadamia_nut",
         "rawType": "int64",
         "type": "integer"
        },
        {
         "name": "macaroni",
         "rawType": "int64",
         "type": "integer"
        },
        {
         "name": "mace",
         "rawType": "int64",
         "type": "integer"
        },
        {
         "name": "mackerel",
         "rawType": "int64",
         "type": "integer"
        },
        {
         "name": "malt",
         "rawType": "int64",
         "type": "integer"
        },
        {
         "name": "mandarin",
         "rawType": "int64",
         "type": "integer"
        },
        {
         "name": "mandarin_peel",
         "rawType": "int64",
         "type": "integer"
        },
        {
         "name": "mango",
         "rawType": "int64",
         "type": "integer"
        },
        {
         "name": "maple_syrup",
         "rawType": "int64",
         "type": "integer"
        },
        {
         "name": "marjoram",
         "rawType": "int64",
         "type": "integer"
        },
        {
         "name": "mate",
         "rawType": "int64",
         "type": "integer"
        },
        {
         "name": "matsutake",
         "rawType": "int64",
         "type": "integer"
        },
        {
         "name": "meat",
         "rawType": "int64",
         "type": "integer"
        },
        {
         "name": "melon",
         "rawType": "int64",
         "type": "integer"
        },
        {
         "name": "milk",
         "rawType": "int64",
         "type": "integer"
        },
        {
         "name": "milk_fat",
         "rawType": "int64",
         "type": "integer"
        },
        {
         "name": "mint",
         "rawType": "int64",
         "type": "integer"
        },
        {
         "name": "mozzarella_cheese",
         "rawType": "int64",
         "type": "integer"
        },
        {
         "name": "mung_bean",
         "rawType": "int64",
         "type": "integer"
        },
        {
         "name": "munster_cheese",
         "rawType": "int64",
         "type": "integer"
        },
        {
         "name": "muscat_grape",
         "rawType": "int64",
         "type": "integer"
        },
        {
         "name": "mushroom",
         "rawType": "int64",
         "type": "integer"
        },
        {
         "name": "mussel",
         "rawType": "int64",
         "type": "integer"
        },
        {
         "name": "mustard",
         "rawType": "int64",
         "type": "integer"
        },
        {
         "name": "mutton",
         "rawType": "int64",
         "type": "integer"
        },
        {
         "name": "nectarine",
         "rawType": "int64",
         "type": "integer"
        },
        {
         "name": "nira",
         "rawType": "int64",
         "type": "integer"
        },
        {
         "name": "nut",
         "rawType": "int64",
         "type": "integer"
        },
        {
         "name": "nutmeg",
         "rawType": "int64",
         "type": "integer"
        },
        {
         "name": "oat",
         "rawType": "int64",
         "type": "integer"
        },
        {
         "name": "oatmeal",
         "rawType": "int64",
         "type": "integer"
        },
        {
         "name": "octopus",
         "rawType": "int64",
         "type": "integer"
        },
        {
         "name": "okra",
         "rawType": "int64",
         "type": "integer"
        },
        {
         "name": "olive",
         "rawType": "int64",
         "type": "integer"
        },
        {
         "name": "olive_oil",
         "rawType": "int64",
         "type": "integer"
        },
        {
         "name": "onion",
         "rawType": "int64",
         "type": "integer"
        },
        {
         "name": "orange",
         "rawType": "int64",
         "type": "integer"
        },
        {
         "name": "orange_flower",
         "rawType": "int64",
         "type": "integer"
        },
        {
         "name": "orange_juice",
         "rawType": "int64",
         "type": "integer"
        },
        {
         "name": "orange_peel",
         "rawType": "int64",
         "type": "integer"
        },
        {
         "name": "oregano",
         "rawType": "int64",
         "type": "integer"
        },
        {
         "name": "ouzo",
         "rawType": "int64",
         "type": "integer"
        },
        {
         "name": "oyster",
         "rawType": "int64",
         "type": "integer"
        },
        {
         "name": "palm",
         "rawType": "int64",
         "type": "integer"
        },
        {
         "name": "papaya",
         "rawType": "int64",
         "type": "integer"
        },
        {
         "name": "parmesan_cheese",
         "rawType": "int64",
         "type": "integer"
        },
        {
         "name": "parsley",
         "rawType": "int64",
         "type": "integer"
        },
        {
         "name": "parsnip",
         "rawType": "int64",
         "type": "integer"
        },
        {
         "name": "passion_fruit",
         "rawType": "int64",
         "type": "integer"
        },
        {
         "name": "pea",
         "rawType": "int64",
         "type": "integer"
        },
        {
         "name": "peach",
         "rawType": "int64",
         "type": "integer"
        },
        {
         "name": "peanut",
         "rawType": "int64",
         "type": "integer"
        },
        {
         "name": "peanut_butter",
         "rawType": "int64",
         "type": "integer"
        },
        {
         "name": "peanut_oil",
         "rawType": "int64",
         "type": "integer"
        },
        {
         "name": "pear",
         "rawType": "int64",
         "type": "integer"
        },
        {
         "name": "pear_brandy",
         "rawType": "int64",
         "type": "integer"
        },
        {
         "name": "pecan",
         "rawType": "int64",
         "type": "integer"
        },
        {
         "name": "pelargonium",
         "rawType": "int64",
         "type": "integer"
        },
        {
         "name": "pepper",
         "rawType": "int64",
         "type": "integer"
        },
        {
         "name": "peppermint",
         "rawType": "int64",
         "type": "integer"
        },
        {
         "name": "peppermint_oil",
         "rawType": "int64",
         "type": "integer"
        },
        {
         "name": "pimenta",
         "rawType": "int64",
         "type": "integer"
        },
        {
         "name": "pimento",
         "rawType": "int64",
         "type": "integer"
        },
        {
         "name": "pineapple",
         "rawType": "int64",
         "type": "integer"
        },
        {
         "name": "pistachio",
         "rawType": "int64",
         "type": "integer"
        },
        {
         "name": "plum",
         "rawType": "int64",
         "type": "integer"
        },
        {
         "name": "popcorn",
         "rawType": "int64",
         "type": "integer"
        },
        {
         "name": "porcini",
         "rawType": "int64",
         "type": "integer"
        },
        {
         "name": "pork",
         "rawType": "int64",
         "type": "integer"
        },
        {
         "name": "pork_liver",
         "rawType": "int64",
         "type": "integer"
        },
        {
         "name": "pork_sausage",
         "rawType": "int64",
         "type": "integer"
        },
        {
         "name": "port_wine",
         "rawType": "int64",
         "type": "integer"
        },
        {
         "name": "potato",
         "rawType": "int64",
         "type": "integer"
        },
        {
         "name": "potato_chip",
         "rawType": "int64",
         "type": "integer"
        },
        {
         "name": "prawn",
         "rawType": "int64",
         "type": "integer"
        },
        {
         "name": "prickly_pear",
         "rawType": "int64",
         "type": "integer"
        },
        {
         "name": "provolone_cheese",
         "rawType": "int64",
         "type": "integer"
        },
        {
         "name": "pumpkin",
         "rawType": "int64",
         "type": "integer"
        },
        {
         "name": "quince",
         "rawType": "int64",
         "type": "integer"
        },
        {
         "name": "radish",
         "rawType": "int64",
         "type": "integer"
        },
        {
         "name": "raisin",
         "rawType": "int64",
         "type": "integer"
        },
        {
         "name": "rapeseed",
         "rawType": "int64",
         "type": "integer"
        },
        {
         "name": "raspberry",
         "rawType": "int64",
         "type": "integer"
        },
        {
         "name": "raw_beef",
         "rawType": "int64",
         "type": "integer"
        },
        {
         "name": "red_algae",
         "rawType": "int64",
         "type": "integer"
        },
        {
         "name": "red_bean",
         "rawType": "int64",
         "type": "integer"
        },
        {
         "name": "red_kidney_bean",
         "rawType": "int64",
         "type": "integer"
        },
        {
         "name": "red_wine",
         "rawType": "int64",
         "type": "integer"
        },
        {
         "name": "rhubarb",
         "rawType": "int64",
         "type": "integer"
        },
        {
         "name": "rice",
         "rawType": "int64",
         "type": "integer"
        },
        {
         "name": "roasted_almond",
         "rawType": "int64",
         "type": "integer"
        },
        {
         "name": "roasted_beef",
         "rawType": "int64",
         "type": "integer"
        },
        {
         "name": "roasted_hazelnut",
         "rawType": "int64",
         "type": "integer"
        },
        {
         "name": "roasted_meat",
         "rawType": "int64",
         "type": "integer"
        },
        {
         "name": "roasted_nut",
         "rawType": "int64",
         "type": "integer"
        },
        {
         "name": "roasted_peanut",
         "rawType": "int64",
         "type": "integer"
        },
        {
         "name": "roasted_pecan",
         "rawType": "int64",
         "type": "integer"
        },
        {
         "name": "roasted_pork",
         "rawType": "int64",
         "type": "integer"
        },
        {
         "name": "roasted_sesame_seed",
         "rawType": "int64",
         "type": "integer"
        },
        {
         "name": "romano_cheese",
         "rawType": "int64",
         "type": "integer"
        },
        {
         "name": "root",
         "rawType": "int64",
         "type": "integer"
        },
        {
         "name": "roquefort_cheese",
         "rawType": "int64",
         "type": "integer"
        },
        {
         "name": "rose",
         "rawType": "int64",
         "type": "integer"
        },
        {
         "name": "rosemary",
         "rawType": "int64",
         "type": "integer"
        },
        {
         "name": "rum",
         "rawType": "int64",
         "type": "integer"
        },
        {
         "name": "rutabaga",
         "rawType": "int64",
         "type": "integer"
        },
        {
         "name": "rye_bread",
         "rawType": "int64",
         "type": "integer"
        },
        {
         "name": "rye_flour",
         "rawType": "int64",
         "type": "integer"
        },
        {
         "name": "saffron",
         "rawType": "int64",
         "type": "integer"
        },
        {
         "name": "sage",
         "rawType": "int64",
         "type": "integer"
        },
        {
         "name": "sake",
         "rawType": "int64",
         "type": "integer"
        },
        {
         "name": "salmon",
         "rawType": "int64",
         "type": "integer"
        },
        {
         "name": "salmon_roe",
         "rawType": "int64",
         "type": "integer"
        },
        {
         "name": "sassafras",
         "rawType": "int64",
         "type": "integer"
        },
        {
         "name": "sauerkraut",
         "rawType": "int64",
         "type": "integer"
        },
        {
         "name": "savory",
         "rawType": "int64",
         "type": "integer"
        },
        {
         "name": "scallion",
         "rawType": "int64",
         "type": "integer"
        },
        {
         "name": "scallop",
         "rawType": "int64",
         "type": "integer"
        },
        {
         "name": "sea_algae",
         "rawType": "int64",
         "type": "integer"
        },
        {
         "name": "seaweed",
         "rawType": "int64",
         "type": "integer"
        },
        {
         "name": "seed",
         "rawType": "int64",
         "type": "integer"
        },
        {
         "name": "sesame_oil",
         "rawType": "int64",
         "type": "integer"
        },
        {
         "name": "sesame_seed",
         "rawType": "int64",
         "type": "integer"
        },
        {
         "name": "shallot",
         "rawType": "int64",
         "type": "integer"
        },
        {
         "name": "sheep_cheese",
         "rawType": "int64",
         "type": "integer"
        },
        {
         "name": "shellfish",
         "rawType": "int64",
         "type": "integer"
        },
        {
         "name": "sherry",
         "rawType": "int64",
         "type": "integer"
        },
        {
         "name": "shiitake",
         "rawType": "int64",
         "type": "integer"
        },
        {
         "name": "shrimp",
         "rawType": "int64",
         "type": "integer"
        },
        {
         "name": "smoke",
         "rawType": "int64",
         "type": "integer"
        },
        {
         "name": "smoked_fish",
         "rawType": "int64",
         "type": "integer"
        },
        {
         "name": "smoked_salmon",
         "rawType": "int64",
         "type": "integer"
        },
        {
         "name": "smoked_sausage",
         "rawType": "int64",
         "type": "integer"
        },
        {
         "name": "sour_cherry",
         "rawType": "int64",
         "type": "integer"
        },
        {
         "name": "sour_milk",
         "rawType": "int64",
         "type": "integer"
        },
        {
         "name": "soy_sauce",
         "rawType": "int64",
         "type": "integer"
        },
        {
         "name": "soybean",
         "rawType": "int64",
         "type": "integer"
        },
        {
         "name": "soybean_oil",
         "rawType": "int64",
         "type": "integer"
        },
        {
         "name": "spearmint",
         "rawType": "int64",
         "type": "integer"
        },
        {
         "name": "squash",
         "rawType": "int64",
         "type": "integer"
        },
        {
         "name": "squid",
         "rawType": "int64",
         "type": "integer"
        },
        {
         "name": "star_anise",
         "rawType": "int64",
         "type": "integer"
        },
        {
         "name": "starch",
         "rawType": "int64",
         "type": "integer"
        },
        {
         "name": "strawberry",
         "rawType": "int64",
         "type": "integer"
        },
        {
         "name": "strawberry_jam",
         "rawType": "int64",
         "type": "integer"
        },
        {
         "name": "strawberry_juice",
         "rawType": "int64",
         "type": "integer"
        },
        {
         "name": "sturgeon_caviar",
         "rawType": "int64",
         "type": "integer"
        },
        {
         "name": "sumac",
         "rawType": "int64",
         "type": "integer"
        },
        {
         "name": "sunflower_oil",
         "rawType": "int64",
         "type": "integer"
        },
        {
         "name": "sweet_potato",
         "rawType": "int64",
         "type": "integer"
        },
        {
         "name": "swiss_cheese",
         "rawType": "int64",
         "type": "integer"
        },
        {
         "name": "tabasco_pepper",
         "rawType": "int64",
         "type": "integer"
        },
        {
         "name": "tamarind",
         "rawType": "int64",
         "type": "integer"
        },
        {
         "name": "tangerine",
         "rawType": "int64",
         "type": "integer"
        },
        {
         "name": "tarragon",
         "rawType": "int64",
         "type": "integer"
        },
        {
         "name": "tea",
         "rawType": "int64",
         "type": "integer"
        },
        {
         "name": "tequila",
         "rawType": "int64",
         "type": "integer"
        },
        {
         "name": "thai_pepper",
         "rawType": "int64",
         "type": "integer"
        },
        {
         "name": "thyme",
         "rawType": "int64",
         "type": "integer"
        },
        {
         "name": "tomato",
         "rawType": "int64",
         "type": "integer"
        },
        {
         "name": "tomato_juice",
         "rawType": "int64",
         "type": "integer"
        },
        {
         "name": "truffle",
         "rawType": "int64",
         "type": "integer"
        },
        {
         "name": "tuna",
         "rawType": "int64",
         "type": "integer"
        },
        {
         "name": "turkey",
         "rawType": "int64",
         "type": "integer"
        },
        {
         "name": "turmeric",
         "rawType": "int64",
         "type": "integer"
        },
        {
         "name": "turnip",
         "rawType": "int64",
         "type": "integer"
        },
        {
         "name": "vanilla",
         "rawType": "int64",
         "type": "integer"
        },
        {
         "name": "veal",
         "rawType": "int64",
         "type": "integer"
        },
        {
         "name": "vegetable",
         "rawType": "int64",
         "type": "integer"
        },
        {
         "name": "vegetable_oil",
         "rawType": "int64",
         "type": "integer"
        },
        {
         "name": "vinegar",
         "rawType": "int64",
         "type": "integer"
        },
        {
         "name": "violet",
         "rawType": "int64",
         "type": "integer"
        },
        {
         "name": "walnut",
         "rawType": "int64",
         "type": "integer"
        },
        {
         "name": "wasabi",
         "rawType": "int64",
         "type": "integer"
        },
        {
         "name": "watercress",
         "rawType": "int64",
         "type": "integer"
        },
        {
         "name": "watermelon",
         "rawType": "int64",
         "type": "integer"
        },
        {
         "name": "wheat",
         "rawType": "int64",
         "type": "integer"
        },
        {
         "name": "wheat_bread",
         "rawType": "int64",
         "type": "integer"
        },
        {
         "name": "whiskey",
         "rawType": "int64",
         "type": "integer"
        },
        {
         "name": "white_bread",
         "rawType": "int64",
         "type": "integer"
        },
        {
         "name": "white_wine",
         "rawType": "int64",
         "type": "integer"
        },
        {
         "name": "whole_grain_wheat_flour",
         "rawType": "int64",
         "type": "integer"
        },
        {
         "name": "wine",
         "rawType": "int64",
         "type": "integer"
        },
        {
         "name": "wood",
         "rawType": "int64",
         "type": "integer"
        },
        {
         "name": "yam",
         "rawType": "int64",
         "type": "integer"
        },
        {
         "name": "yeast",
         "rawType": "int64",
         "type": "integer"
        },
        {
         "name": "yogurt",
         "rawType": "int64",
         "type": "integer"
        },
        {
         "name": "zucchini",
         "rawType": "int64",
         "type": "integer"
        }
       ],
       "ref": "8441fe97-d9c3-4862-8adf-19b0cefac498",
       "rows": [
        [
         "0",
         "65",
         "indian",
         "0",
         "0",
         "0",
         "0",
         "0",
         "0",
         "0",
         "0",
         "0",
         "0",
         "0",
         "0",
         "0",
         "0",
         "0",
         "0",
         "0",
         "0",
         "0",
         "0",
         "0",
         "0",
         "0",
         "0",
         "0",
         "0",
         "0",
         "0",
         "0",
         "0",
         "0",
         "0",
         "0",
         "1",
         "0",
         "0",
         "0",
         "0",
         "0",
         "0",
         "0",
         "0",
         "0",
         "0",
         "0",
         "0",
         "0",
         "0",
         "0",
         "0",
         "0",
         "0",
         "0",
         "0",
         "0",
         "0",
         "0",
         "0",
         "0",
         "0",
         "0",
         "0",
         "0",
         "0",
         "0",
         "0",
         "0",
         "0",
         "1",
         "0",
         "0",
         "0",
         "0",
         "0",
         "0",
         "0",
         "0",
         "0",
         "0",
         "0",
         "0",
         "0",
         "0",
         "0",
         "0",
         "0",
         "0",
         "0",
         "0",
         "0",
         "0",
         "0",
         "0",
         "0",
         "0",
         "1",
         "1",
         "0",
         "0",
         "0",
         "0",
         "0",
         "1",
         "0",
         "0",
         "0",
         "0",
         "0",
         "0",
         "0",
         "0",
         "0",
         "1",
         "0",
         "0",
         "0",
         "0",
         "0",
         "0",
         "0",
         "0",
         "0",
         "0",
         "0",
         "0",
         "0",
         "1",
         "0",
         "0",
         "1",
         "0",
         "0",
         "0",
         "0",
         "0",
         "1",
         "0",
         "0",
         "0",
         "1",
         "0",
         "0",
         "0",
         "0",
         "0",
         "0",
         "0",
         "0",
         "0",
         "0",
         "0",
         "0",
         "0",
         "0",
         "0",
         "0",
         "0",
         "0",
         "0",
         "0",
         "0",
         "0",
         "0",
         "0",
         "0",
         "0",
         "0",
         "0",
         "0",
         "0",
         "0",
         "0",
         "0",
         "0",
         "0",
         "0",
         "0",
         "0",
         "0",
         "0",
         "0",
         "0",
         "0",
         "0",
         "0",
         "0",
         "0",
         "0",
         "0",
         "0",
         "0",
         "0",
         "0",
         "0",
         "0",
         "0",
         "0",
         "0",
         "0",
         "0",
         "0",
         "0",
         "1",
         "0",
         "0",
         "0",
         "0",
         "0",
         "0",
         "0",
         "0",
         "0",
         "0",
         "0",
         "0",
         "0",
         "0",
         "0",
         "0",
         "0",
         "0",
         "0",
         "0",
         "0",
         "0",
         "0",
         "0",
         "0",
         "0",
         "0",
         "0",
         "0",
         "0",
         "0",
         "0",
         "0",
         "0",
         "0",
         "0",
         "0",
         "0",
         "0",
         "0",
         "0",
         "0",
         "0",
         "0",
         "0",
         "0",
         "0",
         "0",
         "0",
         "0",
         "1",
         "0",
         "0",
         "0",
         "0",
         "0",
         "0",
         "0",
         "0",
         "0",
         "0",
         "0",
         "0",
         "0",
         "0",
         "0",
         "0",
         "0",
         "0",
         "0",
         "0",
         "0",
         "0",
         "0",
         "0",
         "0",
         "0",
         "0",
         "0",
         "0",
         "0",
         "1",
         "0",
         "0",
         "0",
         "0",
         "0",
         "0",
         "0",
         "0",
         "0",
         "0",
         "0",
         "0",
         "0",
         "0",
         "0",
         "0",
         "0",
         "0",
         "0",
         "0",
         "0",
         "0",
         "0",
         "0",
         "0",
         "0",
         "0",
         "0",
         "0",
         "0",
         "1",
         "0",
         "0",
         "0",
         "0",
         "0",
         "0",
         "0",
         "0",
         "0",
         "0",
         "0",
         "0",
         "0",
         "0",
         "0",
         "0",
         "0",
         "0",
         "0",
         "0",
         "0",
         "0",
         "0",
         "0",
         "0",
         "0",
         "0",
         "0",
         "0",
         "0",
         "0",
         "0",
         "0",
         "0",
         "0",
         "0",
         "0",
         "0",
         "1",
         "0",
         "0",
         "0",
         "0",
         "1",
         "0",
         "0",
         "0",
         "0",
         "0",
         "0",
         "0",
         "0",
         "0",
         "0",
         "0",
         "0",
         "0",
         "0",
         "0",
         "0",
         "0",
         "0",
         "0",
         "0",
         "0",
         "0",
         "0"
        ],
        [
         "1",
         "66",
         "indian",
         "1",
         "0",
         "0",
         "0",
         "0",
         "0",
         "0",
         "0",
         "0",
         "0",
         "0",
         "0",
         "0",
         "0",
         "0",
         "0",
         "0",
         "0",
         "0",
         "0",
         "0",
         "0",
         "0",
         "0",
         "0",
         "0",
         "0",
         "0",
         "0",
         "0",
         "0",
         "0",
         "0",
         "0",
         "0",
         "0",
         "0",
         "0",
         "0",
         "0",
         "0",
         "0",
         "0",
         "0",
         "0",
         "0",
         "0",
         "0",
         "0",
         "0",
         "0",
         "1",
         "0",
         "0",
         "0",
         "0",
         "0",
         "0",
         "0",
         "1",
         "0",
         "0",
         "0",
         "1",
         "0",
         "0",
         "0",
         "0",
         "0",
         "0",
         "0",
         "0",
         "0",
         "0",
         "0",
         "0",
         "0",
         "0",
         "0",
         "0",
         "0",
         "0",
         "0",
         "0",
         "0",
         "0",
         "0",
         "0",
         "0",
         "0",
         "0",
         "0",
         "0",
         "0",
         "0",
         "0",
         "0",
         "0",
         "0",
         "0",
         "0",
         "0",
         "0",
         "0",
         "0",
         "0",
         "0",
         "0",
         "0",
         "0",
         "0",
         "0",
         "0",
         "0",
         "0",
         "0",
         "0",
         "0",
         "0",
         "0",
         "0",
         "0",
         "0",
         "0",
         "0",
         "0",
         "0",
         "0",
         "0",
         "0",
         "0",
         "0",
         "0",
         "0",
         "0",
         "0",
         "0",
         "0",
         "0",
         "0",
         "0",
         "0",
         "0",
         "0",
         "0",
         "0",
         "0",
         "0",
         "0",
         "0",
         "0",
         "0",
         "0",
         "0",
         "0",
         "0",
         "0",
         "0",
         "0",
         "0",
         "0",
         "0",
         "0",
         "0",
         "0",
         "0",
         "0",
         "0",
         "0",
         "0",
         "0",
         "0",
         "0",
         "0",
         "0",
         "0",
         "0",
         "0",
         "0",
         "0",
         "0",
         "0",
         "0",
         "0",
         "0",
         "0",
         "0",
         "0",
         "0",
         "0",
         "0",
         "0",
         "0",
         "0",
         "0",
         "0",
         "0",
         "0",
         "0",
         "0",
         "0",
         "0",
         "0",
         "0",
         "0",
         "0",
         "0",
         "0",
         "0",
         "1",
         "0",
         "0",
         "0",
         "0",
         "0",
         "0",
         "0",
         "0",
         "0",
         "0",
         "0",
         "0",
         "0",
         "0",
         "0",
         "0",
         "0",
         "0",
         "0",
         "0",
         "0",
         "0",
         "0",
         "0",
         "0",
         "0",
         "0",
         "0",
         "0",
         "0",
         "0",
         "0",
         "0",
         "0",
         "0",
         "0",
         "0",
         "0",
         "0",
         "0",
         "0",
         "0",
         "0",
         "0",
         "0",
         "0",
         "0",
         "0",
         "0",
         "0",
         "0",
         "0",
         "0",
         "0",
         "0",
         "0",
         "0",
         "0",
         "0",
         "0",
         "0",
         "0",
         "0",
         "0",
         "0",
         "1",
         "0",
         "0",
         "0",
         "0",
         "0",
         "0",
         "0",
         "0",
         "1",
         "0",
         "0",
         "0",
         "0",
         "0",
         "0",
         "0",
         "0",
         "0",
         "0",
         "0",
         "0",
         "0",
         "0",
         "0",
         "0",
         "0",
         "0",
         "1",
         "0",
         "0",
         "0",
         "0",
         "0",
         "0",
         "0",
         "0",
         "0",
         "0",
         "0",
         "0",
         "0",
         "0",
         "0",
         "0",
         "0",
         "0",
         "0",
         "0",
         "0",
         "0",
         "0",
         "0",
         "0",
         "0",
         "0",
         "0",
         "0",
         "0",
         "0",
         "0",
         "0",
         "0",
         "0",
         "0",
         "0",
         "0",
         "0",
         "0",
         "0",
         "0",
         "0",
         "0",
         "0",
         "0",
         "0",
         "0",
         "0",
         "0",
         "0",
         "0",
         "0",
         "0",
         "0",
         "0",
         "0",
         "0",
         "0",
         "0",
         "0",
         "0",
         "0",
         "0",
         "0",
         "0",
         "0",
         "0",
         "0",
         "0",
         "0",
         "0",
         "0",
         "0",
         "0",
         "0",
         "0",
         "0",
         "0"
        ],
        [
         "2",
         "67",
         "indian",
         "0",
         "0",
         "0",
         "0",
         "0",
         "0",
         "0",
         "0",
         "0",
         "0",
         "0",
         "0",
         "0",
         "0",
         "0",
         "0",
         "0",
         "0",
         "0",
         "0",
         "0",
         "0",
         "0",
         "0",
         "0",
         "0",
         "0",
         "0",
         "0",
         "0",
         "0",
         "0",
         "0",
         "0",
         "0",
         "0",
         "0",
         "0",
         "0",
         "0",
         "0",
         "0",
         "0",
         "0",
         "0",
         "0",
         "0",
         "0",
         "0",
         "0",
         "0",
         "0",
         "0",
         "0",
         "0",
         "0",
         "0",
         "0",
         "0",
         "1",
         "0",
         "0",
         "0",
         "0",
         "0",
         "0",
         "0",
         "0",
         "0",
         "0",
         "0",
         "0",
         "0",
         "0",
         "0",
         "0",
         "0",
         "0",
         "0",
         "0",
         "0",
         "0",
         "0",
         "0",
         "0",
         "0",
         "0",
         "0",
         "0",
         "1",
         "0",
         "0",
         "0",
         "0",
         "0",
         "0",
         "0",
         "0",
         "0",
         "0",
         "0",
         "0",
         "0",
         "0",
         "0",
         "0",
         "0",
         "0",
         "0",
         "0",
         "0",
         "0",
         "0",
         "0",
         "0",
         "0",
         "0",
         "0",
         "0",
         "0",
         "0",
         "0",
         "0",
         "0",
         "0",
         "0",
         "0",
         "0",
         "0",
         "0",
         "0",
         "0",
         "0",
         "0",
         "0",
         "0",
         "0",
         "0",
         "0",
         "0",
         "0",
         "0",
         "0",
         "0",
         "0",
         "0",
         "0",
         "0",
         "0",
         "0",
         "0",
         "0",
         "0",
         "0",
         "0",
         "0",
         "0",
         "0",
         "0",
         "0",
         "0",
         "0",
         "0",
         "0",
         "0",
         "0",
         "0",
         "0",
         "0",
         "0",
         "0",
         "0",
         "0",
         "0",
         "0",
         "0",
         "0",
         "1",
         "0",
         "0",
         "0",
         "0",
         "0",
         "0",
         "0",
         "0",
         "0",
         "0",
         "0",
         "0",
         "0",
         "0",
         "0",
         "0",
         "0",
         "0",
         "0",
         "0",
         "0",
         "0",
         "0",
         "0",
         "0",
         "0",
         "0",
         "0",
         "0",
         "0",
         "0",
         "0",
         "0",
         "0",
         "0",
         "0",
         "0",
         "0",
         "0",
         "0",
         "0",
         "0",
         "0",
         "0",
         "0",
         "0",
         "0",
         "0",
         "0",
         "0",
         "0",
         "0",
         "0",
         "0",
         "0",
         "0",
         "0",
         "0",
         "0",
         "0",
         "0",
         "0",
         "0",
         "0",
         "0",
         "0",
         "0",
         "0",
         "0",
         "0",
         "0",
         "0",
         "0",
         "0",
         "0",
         "0",
         "0",
         "0",
         "0",
         "0",
         "0",
         "0",
         "0",
         "0",
         "0",
         "0",
         "0",
         "0",
         "0",
         "0",
         "0",
         "0",
         "0",
         "0",
         "0",
         "0",
         "0",
         "0",
         "0",
         "0",
         "0",
         "0",
         "0",
         "0",
         "0",
         "0",
         "1",
         "0",
         "0",
         "0",
         "0",
         "0",
         "0",
         "0",
         "0",
         "0",
         "0",
         "0",
         "0",
         "0",
         "0",
         "0",
         "0",
         "0",
         "0",
         "0",
         "0",
         "0",
         "0",
         "0",
         "0",
         "0",
         "0",
         "0",
         "0",
         "0",
         "0",
         "0",
         "0",
         "0",
         "0",
         "0",
         "0",
         "0",
         "0",
         "0",
         "0",
         "0",
         "0",
         "0",
         "0",
         "0",
         "0",
         "0",
         "0",
         "0",
         "0",
         "0",
         "0",
         "0",
         "0",
         "0",
         "0",
         "0",
         "0",
         "0",
         "0",
         "0",
         "0",
         "0",
         "0",
         "0",
         "0",
         "0",
         "0",
         "0",
         "0",
         "0",
         "0",
         "0",
         "0",
         "0",
         "0",
         "0",
         "0",
         "0",
         "0",
         "0",
         "0",
         "0",
         "0",
         "0",
         "0",
         "0",
         "0",
         "0",
         "0",
         "0",
         "0",
         "0",
         "0",
         "0",
         "0",
         "0",
         "0"
        ],
        [
         "3",
         "68",
         "indian",
         "0",
         "0",
         "0",
         "0",
         "0",
         "0",
         "0",
         "0",
         "0",
         "0",
         "0",
         "0",
         "0",
         "0",
         "0",
         "0",
         "0",
         "0",
         "0",
         "0",
         "0",
         "0",
         "0",
         "0",
         "0",
         "0",
         "0",
         "0",
         "0",
         "0",
         "0",
         "0",
         "0",
         "1",
         "0",
         "0",
         "0",
         "0",
         "0",
         "0",
         "0",
         "0",
         "0",
         "0",
         "0",
         "0",
         "0",
         "0",
         "0",
         "0",
         "0",
         "1",
         "0",
         "0",
         "0",
         "0",
         "0",
         "0",
         "0",
         "0",
         "0",
         "0",
         "1",
         "0",
         "0",
         "0",
         "0",
         "0",
         "1",
         "0",
         "0",
         "0",
         "0",
         "0",
         "0",
         "0",
         "0",
         "0",
         "0",
         "0",
         "0",
         "0",
         "0",
         "0",
         "0",
         "0",
         "0",
         "0",
         "0",
         "0",
         "0",
         "0",
         "0",
         "0",
         "0",
         "1",
         "0",
         "0",
         "0",
         "0",
         "0",
         "0",
         "0",
         "0",
         "0",
         "0",
         "0",
         "0",
         "0",
         "0",
         "0",
         "0",
         "0",
         "0",
         "0",
         "0",
         "0",
         "0",
         "0",
         "0",
         "0",
         "0",
         "0",
         "0",
         "0",
         "0",
         "1",
         "0",
         "0",
         "0",
         "0",
         "0",
         "0",
         "0",
         "0",
         "1",
         "0",
         "0",
         "0",
         "1",
         "0",
         "0",
         "0",
         "0",
         "0",
         "0",
         "0",
         "0",
         "0",
         "0",
         "0",
         "0",
         "0",
         "0",
         "0",
         "0",
         "0",
         "0",
         "0",
         "0",
         "0",
         "0",
         "0",
         "0",
         "0",
         "0",
         "0",
         "0",
         "0",
         "0",
         "0",
         "0",
         "0",
         "0",
         "0",
         "0",
         "0",
         "0",
         "0",
         "0",
         "0",
         "0",
         "0",
         "0",
         "0",
         "0",
         "0",
         "1",
         "0",
         "0",
         "0",
         "0",
         "0",
         "0",
         "0",
         "0",
         "0",
         "0",
         "0",
         "0",
         "0",
         "0",
         "0",
         "0",
         "0",
         "0",
         "0",
         "0",
         "0",
         "0",
         "0",
         "0",
         "0",
         "0",
         "0",
         "0",
         "0",
         "0",
         "0",
         "0",
         "0",
         "0",
         "0",
         "0",
         "0",
         "0",
         "0",
         "1",
         "0",
         "0",
         "1",
         "0",
         "0",
         "0",
         "0",
         "0",
         "0",
         "0",
         "0",
         "0",
         "0",
         "0",
         "0",
         "0",
         "0",
         "0",
         "0",
         "0",
         "0",
         "0",
         "0",
         "0",
         "0",
         "0",
         "0",
         "0",
         "0",
         "0",
         "0",
         "0",
         "0",
         "0",
         "0",
         "0",
         "0",
         "0",
         "0",
         "0",
         "0",
         "0",
         "0",
         "0",
         "0",
         "0",
         "0",
         "0",
         "0",
         "0",
         "0",
         "0",
         "0",
         "0",
         "0",
         "0",
         "1",
         "0",
         "0",
         "0",
         "0",
         "0",
         "0",
         "0",
         "0",
         "0",
         "0",
         "0",
         "0",
         "0",
         "0",
         "0",
         "0",
         "0",
         "0",
         "0",
         "0",
         "0",
         "0",
         "0",
         "0",
         "0",
         "1",
         "0",
         "0",
         "0",
         "0",
         "1",
         "0",
         "0",
         "0",
         "0",
         "0",
         "0",
         "0",
         "0",
         "0",
         "0",
         "0",
         "0",
         "0",
         "0",
         "0",
         "0",
         "0",
         "0",
         "0",
         "0",
         "0",
         "0",
         "0",
         "0",
         "0",
         "0",
         "0",
         "0",
         "0",
         "0",
         "0",
         "0",
         "0",
         "0",
         "0",
         "0",
         "0",
         "0",
         "1",
         "0",
         "0",
         "0",
         "0",
         "1",
         "0",
         "0",
         "0",
         "0",
         "0",
         "0",
         "0",
         "0",
         "0",
         "0",
         "0",
         "1",
         "0",
         "0",
         "0",
         "0",
         "0",
         "0",
         "0",
         "0",
         "0",
         "0",
         "0"
        ],
        [
         "4",
         "69",
         "indian",
         "0",
         "0",
         "0",
         "0",
         "0",
         "0",
         "0",
         "0",
         "0",
         "0",
         "0",
         "0",
         "0",
         "0",
         "0",
         "0",
         "0",
         "0",
         "0",
         "0",
         "0",
         "0",
         "0",
         "0",
         "0",
         "0",
         "0",
         "0",
         "0",
         "0",
         "0",
         "0",
         "0",
         "0",
         "1",
         "0",
         "0",
         "0",
         "0",
         "0",
         "0",
         "0",
         "0",
         "0",
         "0",
         "0",
         "0",
         "0",
         "0",
         "0",
         "0",
         "1",
         "0",
         "0",
         "0",
         "0",
         "0",
         "0",
         "0",
         "1",
         "0",
         "0",
         "0",
         "1",
         "0",
         "0",
         "0",
         "0",
         "1",
         "0",
         "0",
         "0",
         "0",
         "0",
         "0",
         "0",
         "0",
         "0",
         "0",
         "0",
         "1",
         "0",
         "0",
         "0",
         "0",
         "0",
         "0",
         "0",
         "0",
         "1",
         "0",
         "0",
         "0",
         "0",
         "0",
         "0",
         "0",
         "0",
         "0",
         "0",
         "0",
         "0",
         "0",
         "0",
         "0",
         "0",
         "0",
         "0",
         "0",
         "0",
         "0",
         "0",
         "1",
         "0",
         "0",
         "0",
         "0",
         "0",
         "0",
         "0",
         "0",
         "0",
         "0",
         "0",
         "0",
         "0",
         "0",
         "0",
         "0",
         "0",
         "0",
         "0",
         "0",
         "0",
         "0",
         "0",
         "0",
         "0",
         "0",
         "0",
         "0",
         "0",
         "0",
         "0",
         "0",
         "0",
         "0",
         "0",
         "0",
         "0",
         "0",
         "0",
         "0",
         "0",
         "0",
         "0",
         "0",
         "0",
         "0",
         "0",
         "0",
         "0",
         "0",
         "0",
         "0",
         "0",
         "0",
         "0",
         "0",
         "0",
         "0",
         "0",
         "0",
         "0",
         "0",
         "0",
         "0",
         "0",
         "1",
         "0",
         "0",
         "0",
         "0",
         "0",
         "0",
         "0",
         "0",
         "0",
         "0",
         "0",
         "0",
         "0",
         "0",
         "0",
         "0",
         "0",
         "0",
         "0",
         "0",
         "0",
         "0",
         "0",
         "0",
         "0",
         "0",
         "0",
         "0",
         "0",
         "0",
         "0",
         "0",
         "0",
         "0",
         "0",
         "0",
         "0",
         "0",
         "0",
         "0",
         "0",
         "0",
         "0",
         "0",
         "0",
         "0",
         "0",
         "0",
         "0",
         "0",
         "0",
         "0",
         "0",
         "0",
         "0",
         "0",
         "0",
         "0",
         "0",
         "0",
         "0",
         "0",
         "0",
         "0",
         "0",
         "0",
         "0",
         "0",
         "0",
         "0",
         "0",
         "0",
         "0",
         "0",
         "0",
         "0",
         "0",
         "0",
         "0",
         "0",
         "0",
         "0",
         "0",
         "0",
         "0",
         "0",
         "0",
         "0",
         "0",
         "0",
         "0",
         "0",
         "0",
         "0",
         "0",
         "0",
         "1",
         "0",
         "0",
         "0",
         "0",
         "0",
         "0",
         "0",
         "0",
         "0",
         "0",
         "0",
         "0",
         "0",
         "0",
         "0",
         "0",
         "0",
         "0",
         "0",
         "0",
         "0",
         "0",
         "0",
         "0",
         "0",
         "0",
         "0",
         "0",
         "0",
         "0",
         "0",
         "0",
         "0",
         "0",
         "0",
         "0",
         "0",
         "0",
         "0",
         "0",
         "0",
         "0",
         "0",
         "0",
         "0",
         "0",
         "0",
         "0",
         "0",
         "0",
         "0",
         "0",
         "0",
         "0",
         "0",
         "0",
         "0",
         "0",
         "0",
         "0",
         "0",
         "0",
         "0",
         "0",
         "0",
         "0",
         "0",
         "0",
         "0",
         "0",
         "0",
         "0",
         "0",
         "0",
         "0",
         "0",
         "0",
         "0",
         "0",
         "0",
         "0",
         "0",
         "0",
         "0",
         "0",
         "0",
         "0",
         "0",
         "0",
         "0",
         "0",
         "0",
         "0",
         "0",
         "0",
         "0",
         "0",
         "0",
         "0",
         "0",
         "0",
         "0",
         "0",
         "0",
         "0",
         "1",
         "0"
        ]
       ],
       "shape": {
        "columns": 385,
        "rows": 5
       }
      },
      "text/html": [
       "<div>\n",
       "<style scoped>\n",
       "    .dataframe tbody tr th:only-of-type {\n",
       "        vertical-align: middle;\n",
       "    }\n",
       "\n",
       "    .dataframe tbody tr th {\n",
       "        vertical-align: top;\n",
       "    }\n",
       "\n",
       "    .dataframe thead th {\n",
       "        text-align: right;\n",
       "    }\n",
       "</style>\n",
       "<table border=\"1\" class=\"dataframe\">\n",
       "  <thead>\n",
       "    <tr style=\"text-align: right;\">\n",
       "      <th></th>\n",
       "      <th>Unnamed: 0</th>\n",
       "      <th>cuisine</th>\n",
       "      <th>almond</th>\n",
       "      <th>angelica</th>\n",
       "      <th>anise</th>\n",
       "      <th>anise_seed</th>\n",
       "      <th>apple</th>\n",
       "      <th>apple_brandy</th>\n",
       "      <th>apricot</th>\n",
       "      <th>armagnac</th>\n",
       "      <th>...</th>\n",
       "      <th>whiskey</th>\n",
       "      <th>white_bread</th>\n",
       "      <th>white_wine</th>\n",
       "      <th>whole_grain_wheat_flour</th>\n",
       "      <th>wine</th>\n",
       "      <th>wood</th>\n",
       "      <th>yam</th>\n",
       "      <th>yeast</th>\n",
       "      <th>yogurt</th>\n",
       "      <th>zucchini</th>\n",
       "    </tr>\n",
       "  </thead>\n",
       "  <tbody>\n",
       "    <tr>\n",
       "      <th>0</th>\n",
       "      <td>65</td>\n",
       "      <td>indian</td>\n",
       "      <td>0</td>\n",
       "      <td>0</td>\n",
       "      <td>0</td>\n",
       "      <td>0</td>\n",
       "      <td>0</td>\n",
       "      <td>0</td>\n",
       "      <td>0</td>\n",
       "      <td>0</td>\n",
       "      <td>...</td>\n",
       "      <td>0</td>\n",
       "      <td>0</td>\n",
       "      <td>0</td>\n",
       "      <td>0</td>\n",
       "      <td>0</td>\n",
       "      <td>0</td>\n",
       "      <td>0</td>\n",
       "      <td>0</td>\n",
       "      <td>0</td>\n",
       "      <td>0</td>\n",
       "    </tr>\n",
       "    <tr>\n",
       "      <th>1</th>\n",
       "      <td>66</td>\n",
       "      <td>indian</td>\n",
       "      <td>1</td>\n",
       "      <td>0</td>\n",
       "      <td>0</td>\n",
       "      <td>0</td>\n",
       "      <td>0</td>\n",
       "      <td>0</td>\n",
       "      <td>0</td>\n",
       "      <td>0</td>\n",
       "      <td>...</td>\n",
       "      <td>0</td>\n",
       "      <td>0</td>\n",
       "      <td>0</td>\n",
       "      <td>0</td>\n",
       "      <td>0</td>\n",
       "      <td>0</td>\n",
       "      <td>0</td>\n",
       "      <td>0</td>\n",
       "      <td>0</td>\n",
       "      <td>0</td>\n",
       "    </tr>\n",
       "    <tr>\n",
       "      <th>2</th>\n",
       "      <td>67</td>\n",
       "      <td>indian</td>\n",
       "      <td>0</td>\n",
       "      <td>0</td>\n",
       "      <td>0</td>\n",
       "      <td>0</td>\n",
       "      <td>0</td>\n",
       "      <td>0</td>\n",
       "      <td>0</td>\n",
       "      <td>0</td>\n",
       "      <td>...</td>\n",
       "      <td>0</td>\n",
       "      <td>0</td>\n",
       "      <td>0</td>\n",
       "      <td>0</td>\n",
       "      <td>0</td>\n",
       "      <td>0</td>\n",
       "      <td>0</td>\n",
       "      <td>0</td>\n",
       "      <td>0</td>\n",
       "      <td>0</td>\n",
       "    </tr>\n",
       "    <tr>\n",
       "      <th>3</th>\n",
       "      <td>68</td>\n",
       "      <td>indian</td>\n",
       "      <td>0</td>\n",
       "      <td>0</td>\n",
       "      <td>0</td>\n",
       "      <td>0</td>\n",
       "      <td>0</td>\n",
       "      <td>0</td>\n",
       "      <td>0</td>\n",
       "      <td>0</td>\n",
       "      <td>...</td>\n",
       "      <td>0</td>\n",
       "      <td>0</td>\n",
       "      <td>0</td>\n",
       "      <td>0</td>\n",
       "      <td>0</td>\n",
       "      <td>0</td>\n",
       "      <td>0</td>\n",
       "      <td>0</td>\n",
       "      <td>0</td>\n",
       "      <td>0</td>\n",
       "    </tr>\n",
       "    <tr>\n",
       "      <th>4</th>\n",
       "      <td>69</td>\n",
       "      <td>indian</td>\n",
       "      <td>0</td>\n",
       "      <td>0</td>\n",
       "      <td>0</td>\n",
       "      <td>0</td>\n",
       "      <td>0</td>\n",
       "      <td>0</td>\n",
       "      <td>0</td>\n",
       "      <td>0</td>\n",
       "      <td>...</td>\n",
       "      <td>0</td>\n",
       "      <td>0</td>\n",
       "      <td>0</td>\n",
       "      <td>0</td>\n",
       "      <td>0</td>\n",
       "      <td>0</td>\n",
       "      <td>0</td>\n",
       "      <td>0</td>\n",
       "      <td>1</td>\n",
       "      <td>0</td>\n",
       "    </tr>\n",
       "  </tbody>\n",
       "</table>\n",
       "<p>5 rows × 385 columns</p>\n",
       "</div>"
      ],
      "text/plain": [
       "   Unnamed: 0 cuisine  almond  angelica  anise  anise_seed  apple  \\\n",
       "0          65  indian       0         0      0           0      0   \n",
       "1          66  indian       1         0      0           0      0   \n",
       "2          67  indian       0         0      0           0      0   \n",
       "3          68  indian       0         0      0           0      0   \n",
       "4          69  indian       0         0      0           0      0   \n",
       "\n",
       "   apple_brandy  apricot  armagnac  ...  whiskey  white_bread  white_wine  \\\n",
       "0             0        0         0  ...        0            0           0   \n",
       "1             0        0         0  ...        0            0           0   \n",
       "2             0        0         0  ...        0            0           0   \n",
       "3             0        0         0  ...        0            0           0   \n",
       "4             0        0         0  ...        0            0           0   \n",
       "\n",
       "   whole_grain_wheat_flour  wine  wood  yam  yeast  yogurt  zucchini  \n",
       "0                        0     0     0    0      0       0         0  \n",
       "1                        0     0     0    0      0       0         0  \n",
       "2                        0     0     0    0      0       0         0  \n",
       "3                        0     0     0    0      0       0         0  \n",
       "4                        0     0     0    0      0       1         0  \n",
       "\n",
       "[5 rows x 385 columns]"
      ]
     },
     "execution_count": 2,
     "metadata": {},
     "output_type": "execute_result"
    }
   ],
   "source": [
    "cuisine = pd.read_csv('cuisines.csv')\n",
    "cuisine.head()"
   ]
  },
  {
   "cell_type": "code",
   "execution_count": 17,
   "id": "e3974be7",
   "metadata": {},
   "outputs": [],
   "source": [
    "from sklearn.linear_model import LogisticRegression\n",
    "from sklearn.model_selection import train_test_split\n",
    "from sklearn.svm import SVC\n",
    "from sklearn.metrics import accuracy_score, precision_score, confusion_matrix, precision_recall_curve, f1_score, classification_report"
   ]
  },
  {
   "cell_type": "code",
   "execution_count": 33,
   "id": "3a33add6",
   "metadata": {},
   "outputs": [
    {
     "data": {
      "application/vnd.microsoft.datawrangler.viewer.v0+json": {
       "columns": [
        {
         "name": "index",
         "rawType": "int64",
         "type": "integer"
        },
        {
         "name": "cuisine",
         "rawType": "object",
         "type": "string"
        }
       ],
       "ref": "9cd9c9bb-6f14-454d-99e5-4003886e0351",
       "rows": [
        [
         "0",
         "indian"
        ],
        [
         "1",
         "indian"
        ],
        [
         "2",
         "indian"
        ],
        [
         "3",
         "indian"
        ],
        [
         "4",
         "indian"
        ]
       ],
       "shape": {
        "columns": 1,
        "rows": 5
       }
      },
      "text/plain": [
       "0    indian\n",
       "1    indian\n",
       "2    indian\n",
       "3    indian\n",
       "4    indian\n",
       "Name: cuisine, dtype: object"
      ]
     },
     "execution_count": 33,
     "metadata": {},
     "output_type": "execute_result"
    }
   ],
   "source": [
    "y = cuisine['cuisine']\n",
    "y.head()"
   ]
  },
  {
   "cell_type": "code",
   "execution_count": 32,
   "id": "fa7589ee",
   "metadata": {},
   "outputs": [
    {
     "data": {
      "application/vnd.microsoft.datawrangler.viewer.v0+json": {
       "columns": [
        {
         "name": "index",
         "rawType": "int64",
         "type": "integer"
        },
        {
         "name": "almond",
         "rawType": "int64",
         "type": "integer"
        },
        {
         "name": "angelica",
         "rawType": "int64",
         "type": "integer"
        },
        {
         "name": "anise",
         "rawType": "int64",
         "type": "integer"
        },
        {
         "name": "anise_seed",
         "rawType": "int64",
         "type": "integer"
        },
        {
         "name": "apple",
         "rawType": "int64",
         "type": "integer"
        },
        {
         "name": "apple_brandy",
         "rawType": "int64",
         "type": "integer"
        },
        {
         "name": "apricot",
         "rawType": "int64",
         "type": "integer"
        },
        {
         "name": "armagnac",
         "rawType": "int64",
         "type": "integer"
        },
        {
         "name": "artemisia",
         "rawType": "int64",
         "type": "integer"
        },
        {
         "name": "artichoke",
         "rawType": "int64",
         "type": "integer"
        },
        {
         "name": "asparagus",
         "rawType": "int64",
         "type": "integer"
        },
        {
         "name": "avocado",
         "rawType": "int64",
         "type": "integer"
        },
        {
         "name": "bacon",
         "rawType": "int64",
         "type": "integer"
        },
        {
         "name": "baked_potato",
         "rawType": "int64",
         "type": "integer"
        },
        {
         "name": "balm",
         "rawType": "int64",
         "type": "integer"
        },
        {
         "name": "banana",
         "rawType": "int64",
         "type": "integer"
        },
        {
         "name": "barley",
         "rawType": "int64",
         "type": "integer"
        },
        {
         "name": "bartlett_pear",
         "rawType": "int64",
         "type": "integer"
        },
        {
         "name": "basil",
         "rawType": "int64",
         "type": "integer"
        },
        {
         "name": "bay",
         "rawType": "int64",
         "type": "integer"
        },
        {
         "name": "bean",
         "rawType": "int64",
         "type": "integer"
        },
        {
         "name": "beech",
         "rawType": "int64",
         "type": "integer"
        },
        {
         "name": "beef",
         "rawType": "int64",
         "type": "integer"
        },
        {
         "name": "beef_broth",
         "rawType": "int64",
         "type": "integer"
        },
        {
         "name": "beef_liver",
         "rawType": "int64",
         "type": "integer"
        },
        {
         "name": "beer",
         "rawType": "int64",
         "type": "integer"
        },
        {
         "name": "beet",
         "rawType": "int64",
         "type": "integer"
        },
        {
         "name": "bell_pepper",
         "rawType": "int64",
         "type": "integer"
        },
        {
         "name": "bergamot",
         "rawType": "int64",
         "type": "integer"
        },
        {
         "name": "berry",
         "rawType": "int64",
         "type": "integer"
        },
        {
         "name": "bitter_orange",
         "rawType": "int64",
         "type": "integer"
        },
        {
         "name": "black_bean",
         "rawType": "int64",
         "type": "integer"
        },
        {
         "name": "black_currant",
         "rawType": "int64",
         "type": "integer"
        },
        {
         "name": "black_mustard_seed_oil",
         "rawType": "int64",
         "type": "integer"
        },
        {
         "name": "black_pepper",
         "rawType": "int64",
         "type": "integer"
        },
        {
         "name": "black_raspberry",
         "rawType": "int64",
         "type": "integer"
        },
        {
         "name": "black_sesame_seed",
         "rawType": "int64",
         "type": "integer"
        },
        {
         "name": "black_tea",
         "rawType": "int64",
         "type": "integer"
        },
        {
         "name": "blackberry",
         "rawType": "int64",
         "type": "integer"
        },
        {
         "name": "blackberry_brandy",
         "rawType": "int64",
         "type": "integer"
        },
        {
         "name": "blue_cheese",
         "rawType": "int64",
         "type": "integer"
        },
        {
         "name": "blueberry",
         "rawType": "int64",
         "type": "integer"
        },
        {
         "name": "bone_oil",
         "rawType": "int64",
         "type": "integer"
        },
        {
         "name": "bourbon_whiskey",
         "rawType": "int64",
         "type": "integer"
        },
        {
         "name": "brandy",
         "rawType": "int64",
         "type": "integer"
        },
        {
         "name": "brassica",
         "rawType": "int64",
         "type": "integer"
        },
        {
         "name": "bread",
         "rawType": "int64",
         "type": "integer"
        },
        {
         "name": "broccoli",
         "rawType": "int64",
         "type": "integer"
        },
        {
         "name": "brown_rice",
         "rawType": "int64",
         "type": "integer"
        },
        {
         "name": "brussels_sprout",
         "rawType": "int64",
         "type": "integer"
        },
        {
         "name": "buckwheat",
         "rawType": "int64",
         "type": "integer"
        },
        {
         "name": "butter",
         "rawType": "int64",
         "type": "integer"
        },
        {
         "name": "buttermilk",
         "rawType": "int64",
         "type": "integer"
        },
        {
         "name": "cabbage",
         "rawType": "int64",
         "type": "integer"
        },
        {
         "name": "cabernet_sauvignon_wine",
         "rawType": "int64",
         "type": "integer"
        },
        {
         "name": "cacao",
         "rawType": "int64",
         "type": "integer"
        },
        {
         "name": "camembert_cheese",
         "rawType": "int64",
         "type": "integer"
        },
        {
         "name": "cane_molasses",
         "rawType": "int64",
         "type": "integer"
        },
        {
         "name": "caraway",
         "rawType": "int64",
         "type": "integer"
        },
        {
         "name": "cardamom",
         "rawType": "int64",
         "type": "integer"
        },
        {
         "name": "carnation",
         "rawType": "int64",
         "type": "integer"
        },
        {
         "name": "carob",
         "rawType": "int64",
         "type": "integer"
        },
        {
         "name": "carrot",
         "rawType": "int64",
         "type": "integer"
        },
        {
         "name": "cashew",
         "rawType": "int64",
         "type": "integer"
        },
        {
         "name": "cassava",
         "rawType": "int64",
         "type": "integer"
        },
        {
         "name": "catfish",
         "rawType": "int64",
         "type": "integer"
        },
        {
         "name": "cauliflower",
         "rawType": "int64",
         "type": "integer"
        },
        {
         "name": "caviar",
         "rawType": "int64",
         "type": "integer"
        },
        {
         "name": "cayenne",
         "rawType": "int64",
         "type": "integer"
        },
        {
         "name": "celery",
         "rawType": "int64",
         "type": "integer"
        },
        {
         "name": "celery_oil",
         "rawType": "int64",
         "type": "integer"
        },
        {
         "name": "cereal",
         "rawType": "int64",
         "type": "integer"
        },
        {
         "name": "chamomile",
         "rawType": "int64",
         "type": "integer"
        },
        {
         "name": "champagne_wine",
         "rawType": "int64",
         "type": "integer"
        },
        {
         "name": "chayote",
         "rawType": "int64",
         "type": "integer"
        },
        {
         "name": "cheddar_cheese",
         "rawType": "int64",
         "type": "integer"
        },
        {
         "name": "cheese",
         "rawType": "int64",
         "type": "integer"
        },
        {
         "name": "cherry",
         "rawType": "int64",
         "type": "integer"
        },
        {
         "name": "cherry_brandy",
         "rawType": "int64",
         "type": "integer"
        },
        {
         "name": "chervil",
         "rawType": "int64",
         "type": "integer"
        },
        {
         "name": "chicken",
         "rawType": "int64",
         "type": "integer"
        },
        {
         "name": "chicken_broth",
         "rawType": "int64",
         "type": "integer"
        },
        {
         "name": "chicken_liver",
         "rawType": "int64",
         "type": "integer"
        },
        {
         "name": "chickpea",
         "rawType": "int64",
         "type": "integer"
        },
        {
         "name": "chicory",
         "rawType": "int64",
         "type": "integer"
        },
        {
         "name": "chinese_cabbage",
         "rawType": "int64",
         "type": "integer"
        },
        {
         "name": "chive",
         "rawType": "int64",
         "type": "integer"
        },
        {
         "name": "cider",
         "rawType": "int64",
         "type": "integer"
        },
        {
         "name": "cilantro",
         "rawType": "int64",
         "type": "integer"
        },
        {
         "name": "cinnamon",
         "rawType": "int64",
         "type": "integer"
        },
        {
         "name": "citrus",
         "rawType": "int64",
         "type": "integer"
        },
        {
         "name": "citrus_peel",
         "rawType": "int64",
         "type": "integer"
        },
        {
         "name": "clam",
         "rawType": "int64",
         "type": "integer"
        },
        {
         "name": "clove",
         "rawType": "int64",
         "type": "integer"
        },
        {
         "name": "cocoa",
         "rawType": "int64",
         "type": "integer"
        },
        {
         "name": "coconut",
         "rawType": "int64",
         "type": "integer"
        },
        {
         "name": "coconut_oil",
         "rawType": "int64",
         "type": "integer"
        },
        {
         "name": "cod",
         "rawType": "int64",
         "type": "integer"
        },
        {
         "name": "coffee",
         "rawType": "int64",
         "type": "integer"
        },
        {
         "name": "cognac",
         "rawType": "int64",
         "type": "integer"
        },
        {
         "name": "concord_grape",
         "rawType": "int64",
         "type": "integer"
        },
        {
         "name": "condiment",
         "rawType": "int64",
         "type": "integer"
        },
        {
         "name": "coriander",
         "rawType": "int64",
         "type": "integer"
        },
        {
         "name": "corn",
         "rawType": "int64",
         "type": "integer"
        },
        {
         "name": "corn_flake",
         "rawType": "int64",
         "type": "integer"
        },
        {
         "name": "corn_grit",
         "rawType": "int64",
         "type": "integer"
        },
        {
         "name": "cottage_cheese",
         "rawType": "int64",
         "type": "integer"
        },
        {
         "name": "crab",
         "rawType": "int64",
         "type": "integer"
        },
        {
         "name": "cranberry",
         "rawType": "int64",
         "type": "integer"
        },
        {
         "name": "cream",
         "rawType": "int64",
         "type": "integer"
        },
        {
         "name": "cream_cheese",
         "rawType": "int64",
         "type": "integer"
        },
        {
         "name": "cucumber",
         "rawType": "int64",
         "type": "integer"
        },
        {
         "name": "cumin",
         "rawType": "int64",
         "type": "integer"
        },
        {
         "name": "cured_pork",
         "rawType": "int64",
         "type": "integer"
        },
        {
         "name": "currant",
         "rawType": "int64",
         "type": "integer"
        },
        {
         "name": "date",
         "rawType": "int64",
         "type": "integer"
        },
        {
         "name": "dill",
         "rawType": "int64",
         "type": "integer"
        },
        {
         "name": "durian",
         "rawType": "int64",
         "type": "integer"
        },
        {
         "name": "eel",
         "rawType": "int64",
         "type": "integer"
        },
        {
         "name": "egg",
         "rawType": "int64",
         "type": "integer"
        },
        {
         "name": "egg_noodle",
         "rawType": "int64",
         "type": "integer"
        },
        {
         "name": "elderberry",
         "rawType": "int64",
         "type": "integer"
        },
        {
         "name": "emmental_cheese",
         "rawType": "int64",
         "type": "integer"
        },
        {
         "name": "endive",
         "rawType": "int64",
         "type": "integer"
        },
        {
         "name": "enokidake",
         "rawType": "int64",
         "type": "integer"
        },
        {
         "name": "fennel",
         "rawType": "int64",
         "type": "integer"
        },
        {
         "name": "fenugreek",
         "rawType": "int64",
         "type": "integer"
        },
        {
         "name": "feta_cheese",
         "rawType": "int64",
         "type": "integer"
        },
        {
         "name": "fig",
         "rawType": "int64",
         "type": "integer"
        },
        {
         "name": "fish",
         "rawType": "int64",
         "type": "integer"
        },
        {
         "name": "flower",
         "rawType": "int64",
         "type": "integer"
        },
        {
         "name": "frankfurter",
         "rawType": "int64",
         "type": "integer"
        },
        {
         "name": "fruit",
         "rawType": "int64",
         "type": "integer"
        },
        {
         "name": "galanga",
         "rawType": "int64",
         "type": "integer"
        },
        {
         "name": "gardenia",
         "rawType": "int64",
         "type": "integer"
        },
        {
         "name": "garlic",
         "rawType": "int64",
         "type": "integer"
        },
        {
         "name": "gelatin",
         "rawType": "int64",
         "type": "integer"
        },
        {
         "name": "geranium",
         "rawType": "int64",
         "type": "integer"
        },
        {
         "name": "gin",
         "rawType": "int64",
         "type": "integer"
        },
        {
         "name": "ginger",
         "rawType": "int64",
         "type": "integer"
        },
        {
         "name": "goat_cheese",
         "rawType": "int64",
         "type": "integer"
        },
        {
         "name": "grape",
         "rawType": "int64",
         "type": "integer"
        },
        {
         "name": "grape_brandy",
         "rawType": "int64",
         "type": "integer"
        },
        {
         "name": "grape_juice",
         "rawType": "int64",
         "type": "integer"
        },
        {
         "name": "grapefruit",
         "rawType": "int64",
         "type": "integer"
        },
        {
         "name": "green_bell_pepper",
         "rawType": "int64",
         "type": "integer"
        },
        {
         "name": "green_tea",
         "rawType": "int64",
         "type": "integer"
        },
        {
         "name": "gruyere_cheese",
         "rawType": "int64",
         "type": "integer"
        },
        {
         "name": "guava",
         "rawType": "int64",
         "type": "integer"
        },
        {
         "name": "haddock",
         "rawType": "int64",
         "type": "integer"
        },
        {
         "name": "ham",
         "rawType": "int64",
         "type": "integer"
        },
        {
         "name": "hazelnut",
         "rawType": "int64",
         "type": "integer"
        },
        {
         "name": "herring",
         "rawType": "int64",
         "type": "integer"
        },
        {
         "name": "holy_basil",
         "rawType": "int64",
         "type": "integer"
        },
        {
         "name": "honey",
         "rawType": "int64",
         "type": "integer"
        },
        {
         "name": "hop",
         "rawType": "int64",
         "type": "integer"
        },
        {
         "name": "horseradish",
         "rawType": "int64",
         "type": "integer"
        },
        {
         "name": "huckleberry",
         "rawType": "int64",
         "type": "integer"
        },
        {
         "name": "jamaican_rum",
         "rawType": "int64",
         "type": "integer"
        },
        {
         "name": "japanese_plum",
         "rawType": "int64",
         "type": "integer"
        },
        {
         "name": "jasmine",
         "rawType": "int64",
         "type": "integer"
        },
        {
         "name": "jasmine_tea",
         "rawType": "int64",
         "type": "integer"
        },
        {
         "name": "juniper_berry",
         "rawType": "int64",
         "type": "integer"
        },
        {
         "name": "kaffir_lime",
         "rawType": "int64",
         "type": "integer"
        },
        {
         "name": "kale",
         "rawType": "int64",
         "type": "integer"
        },
        {
         "name": "katsuobushi",
         "rawType": "int64",
         "type": "integer"
        },
        {
         "name": "kelp",
         "rawType": "int64",
         "type": "integer"
        },
        {
         "name": "kidney_bean",
         "rawType": "int64",
         "type": "integer"
        },
        {
         "name": "kiwi",
         "rawType": "int64",
         "type": "integer"
        },
        {
         "name": "kohlrabi",
         "rawType": "int64",
         "type": "integer"
        },
        {
         "name": "kumquat",
         "rawType": "int64",
         "type": "integer"
        },
        {
         "name": "lamb",
         "rawType": "int64",
         "type": "integer"
        },
        {
         "name": "lard",
         "rawType": "int64",
         "type": "integer"
        },
        {
         "name": "laurel",
         "rawType": "int64",
         "type": "integer"
        },
        {
         "name": "lavender",
         "rawType": "int64",
         "type": "integer"
        },
        {
         "name": "leaf",
         "rawType": "int64",
         "type": "integer"
        },
        {
         "name": "leek",
         "rawType": "int64",
         "type": "integer"
        },
        {
         "name": "lemon",
         "rawType": "int64",
         "type": "integer"
        },
        {
         "name": "lemon_juice",
         "rawType": "int64",
         "type": "integer"
        },
        {
         "name": "lemon_peel",
         "rawType": "int64",
         "type": "integer"
        },
        {
         "name": "lemongrass",
         "rawType": "int64",
         "type": "integer"
        },
        {
         "name": "lentil",
         "rawType": "int64",
         "type": "integer"
        },
        {
         "name": "lettuce",
         "rawType": "int64",
         "type": "integer"
        },
        {
         "name": "licorice",
         "rawType": "int64",
         "type": "integer"
        },
        {
         "name": "lilac_flower_oil",
         "rawType": "int64",
         "type": "integer"
        },
        {
         "name": "lima_bean",
         "rawType": "int64",
         "type": "integer"
        },
        {
         "name": "lime",
         "rawType": "int64",
         "type": "integer"
        },
        {
         "name": "lime_juice",
         "rawType": "int64",
         "type": "integer"
        },
        {
         "name": "lime_peel_oil",
         "rawType": "int64",
         "type": "integer"
        },
        {
         "name": "lingonberry",
         "rawType": "int64",
         "type": "integer"
        },
        {
         "name": "litchi",
         "rawType": "int64",
         "type": "integer"
        },
        {
         "name": "liver",
         "rawType": "int64",
         "type": "integer"
        },
        {
         "name": "lobster",
         "rawType": "int64",
         "type": "integer"
        },
        {
         "name": "long_pepper",
         "rawType": "int64",
         "type": "integer"
        },
        {
         "name": "lovage",
         "rawType": "int64",
         "type": "integer"
        },
        {
         "name": "macadamia_nut",
         "rawType": "int64",
         "type": "integer"
        },
        {
         "name": "macaroni",
         "rawType": "int64",
         "type": "integer"
        },
        {
         "name": "mace",
         "rawType": "int64",
         "type": "integer"
        },
        {
         "name": "mackerel",
         "rawType": "int64",
         "type": "integer"
        },
        {
         "name": "malt",
         "rawType": "int64",
         "type": "integer"
        },
        {
         "name": "mandarin",
         "rawType": "int64",
         "type": "integer"
        },
        {
         "name": "mandarin_peel",
         "rawType": "int64",
         "type": "integer"
        },
        {
         "name": "mango",
         "rawType": "int64",
         "type": "integer"
        },
        {
         "name": "maple_syrup",
         "rawType": "int64",
         "type": "integer"
        },
        {
         "name": "marjoram",
         "rawType": "int64",
         "type": "integer"
        },
        {
         "name": "mate",
         "rawType": "int64",
         "type": "integer"
        },
        {
         "name": "matsutake",
         "rawType": "int64",
         "type": "integer"
        },
        {
         "name": "meat",
         "rawType": "int64",
         "type": "integer"
        },
        {
         "name": "melon",
         "rawType": "int64",
         "type": "integer"
        },
        {
         "name": "milk",
         "rawType": "int64",
         "type": "integer"
        },
        {
         "name": "milk_fat",
         "rawType": "int64",
         "type": "integer"
        },
        {
         "name": "mint",
         "rawType": "int64",
         "type": "integer"
        },
        {
         "name": "mozzarella_cheese",
         "rawType": "int64",
         "type": "integer"
        },
        {
         "name": "mung_bean",
         "rawType": "int64",
         "type": "integer"
        },
        {
         "name": "munster_cheese",
         "rawType": "int64",
         "type": "integer"
        },
        {
         "name": "muscat_grape",
         "rawType": "int64",
         "type": "integer"
        },
        {
         "name": "mushroom",
         "rawType": "int64",
         "type": "integer"
        },
        {
         "name": "mussel",
         "rawType": "int64",
         "type": "integer"
        },
        {
         "name": "mustard",
         "rawType": "int64",
         "type": "integer"
        },
        {
         "name": "mutton",
         "rawType": "int64",
         "type": "integer"
        },
        {
         "name": "nectarine",
         "rawType": "int64",
         "type": "integer"
        },
        {
         "name": "nira",
         "rawType": "int64",
         "type": "integer"
        },
        {
         "name": "nut",
         "rawType": "int64",
         "type": "integer"
        },
        {
         "name": "nutmeg",
         "rawType": "int64",
         "type": "integer"
        },
        {
         "name": "oat",
         "rawType": "int64",
         "type": "integer"
        },
        {
         "name": "oatmeal",
         "rawType": "int64",
         "type": "integer"
        },
        {
         "name": "octopus",
         "rawType": "int64",
         "type": "integer"
        },
        {
         "name": "okra",
         "rawType": "int64",
         "type": "integer"
        },
        {
         "name": "olive",
         "rawType": "int64",
         "type": "integer"
        },
        {
         "name": "olive_oil",
         "rawType": "int64",
         "type": "integer"
        },
        {
         "name": "onion",
         "rawType": "int64",
         "type": "integer"
        },
        {
         "name": "orange",
         "rawType": "int64",
         "type": "integer"
        },
        {
         "name": "orange_flower",
         "rawType": "int64",
         "type": "integer"
        },
        {
         "name": "orange_juice",
         "rawType": "int64",
         "type": "integer"
        },
        {
         "name": "orange_peel",
         "rawType": "int64",
         "type": "integer"
        },
        {
         "name": "oregano",
         "rawType": "int64",
         "type": "integer"
        },
        {
         "name": "ouzo",
         "rawType": "int64",
         "type": "integer"
        },
        {
         "name": "oyster",
         "rawType": "int64",
         "type": "integer"
        },
        {
         "name": "palm",
         "rawType": "int64",
         "type": "integer"
        },
        {
         "name": "papaya",
         "rawType": "int64",
         "type": "integer"
        },
        {
         "name": "parmesan_cheese",
         "rawType": "int64",
         "type": "integer"
        },
        {
         "name": "parsley",
         "rawType": "int64",
         "type": "integer"
        },
        {
         "name": "parsnip",
         "rawType": "int64",
         "type": "integer"
        },
        {
         "name": "passion_fruit",
         "rawType": "int64",
         "type": "integer"
        },
        {
         "name": "pea",
         "rawType": "int64",
         "type": "integer"
        },
        {
         "name": "peach",
         "rawType": "int64",
         "type": "integer"
        },
        {
         "name": "peanut",
         "rawType": "int64",
         "type": "integer"
        },
        {
         "name": "peanut_butter",
         "rawType": "int64",
         "type": "integer"
        },
        {
         "name": "peanut_oil",
         "rawType": "int64",
         "type": "integer"
        },
        {
         "name": "pear",
         "rawType": "int64",
         "type": "integer"
        },
        {
         "name": "pear_brandy",
         "rawType": "int64",
         "type": "integer"
        },
        {
         "name": "pecan",
         "rawType": "int64",
         "type": "integer"
        },
        {
         "name": "pelargonium",
         "rawType": "int64",
         "type": "integer"
        },
        {
         "name": "pepper",
         "rawType": "int64",
         "type": "integer"
        },
        {
         "name": "peppermint",
         "rawType": "int64",
         "type": "integer"
        },
        {
         "name": "peppermint_oil",
         "rawType": "int64",
         "type": "integer"
        },
        {
         "name": "pimenta",
         "rawType": "int64",
         "type": "integer"
        },
        {
         "name": "pimento",
         "rawType": "int64",
         "type": "integer"
        },
        {
         "name": "pineapple",
         "rawType": "int64",
         "type": "integer"
        },
        {
         "name": "pistachio",
         "rawType": "int64",
         "type": "integer"
        },
        {
         "name": "plum",
         "rawType": "int64",
         "type": "integer"
        },
        {
         "name": "popcorn",
         "rawType": "int64",
         "type": "integer"
        },
        {
         "name": "porcini",
         "rawType": "int64",
         "type": "integer"
        },
        {
         "name": "pork",
         "rawType": "int64",
         "type": "integer"
        },
        {
         "name": "pork_liver",
         "rawType": "int64",
         "type": "integer"
        },
        {
         "name": "pork_sausage",
         "rawType": "int64",
         "type": "integer"
        },
        {
         "name": "port_wine",
         "rawType": "int64",
         "type": "integer"
        },
        {
         "name": "potato",
         "rawType": "int64",
         "type": "integer"
        },
        {
         "name": "potato_chip",
         "rawType": "int64",
         "type": "integer"
        },
        {
         "name": "prawn",
         "rawType": "int64",
         "type": "integer"
        },
        {
         "name": "prickly_pear",
         "rawType": "int64",
         "type": "integer"
        },
        {
         "name": "provolone_cheese",
         "rawType": "int64",
         "type": "integer"
        },
        {
         "name": "pumpkin",
         "rawType": "int64",
         "type": "integer"
        },
        {
         "name": "quince",
         "rawType": "int64",
         "type": "integer"
        },
        {
         "name": "radish",
         "rawType": "int64",
         "type": "integer"
        },
        {
         "name": "raisin",
         "rawType": "int64",
         "type": "integer"
        },
        {
         "name": "rapeseed",
         "rawType": "int64",
         "type": "integer"
        },
        {
         "name": "raspberry",
         "rawType": "int64",
         "type": "integer"
        },
        {
         "name": "raw_beef",
         "rawType": "int64",
         "type": "integer"
        },
        {
         "name": "red_algae",
         "rawType": "int64",
         "type": "integer"
        },
        {
         "name": "red_bean",
         "rawType": "int64",
         "type": "integer"
        },
        {
         "name": "red_kidney_bean",
         "rawType": "int64",
         "type": "integer"
        },
        {
         "name": "red_wine",
         "rawType": "int64",
         "type": "integer"
        },
        {
         "name": "rhubarb",
         "rawType": "int64",
         "type": "integer"
        },
        {
         "name": "rice",
         "rawType": "int64",
         "type": "integer"
        },
        {
         "name": "roasted_almond",
         "rawType": "int64",
         "type": "integer"
        },
        {
         "name": "roasted_beef",
         "rawType": "int64",
         "type": "integer"
        },
        {
         "name": "roasted_hazelnut",
         "rawType": "int64",
         "type": "integer"
        },
        {
         "name": "roasted_meat",
         "rawType": "int64",
         "type": "integer"
        },
        {
         "name": "roasted_nut",
         "rawType": "int64",
         "type": "integer"
        },
        {
         "name": "roasted_peanut",
         "rawType": "int64",
         "type": "integer"
        },
        {
         "name": "roasted_pecan",
         "rawType": "int64",
         "type": "integer"
        },
        {
         "name": "roasted_pork",
         "rawType": "int64",
         "type": "integer"
        },
        {
         "name": "roasted_sesame_seed",
         "rawType": "int64",
         "type": "integer"
        },
        {
         "name": "romano_cheese",
         "rawType": "int64",
         "type": "integer"
        },
        {
         "name": "root",
         "rawType": "int64",
         "type": "integer"
        },
        {
         "name": "roquefort_cheese",
         "rawType": "int64",
         "type": "integer"
        },
        {
         "name": "rose",
         "rawType": "int64",
         "type": "integer"
        },
        {
         "name": "rosemary",
         "rawType": "int64",
         "type": "integer"
        },
        {
         "name": "rum",
         "rawType": "int64",
         "type": "integer"
        },
        {
         "name": "rutabaga",
         "rawType": "int64",
         "type": "integer"
        },
        {
         "name": "rye_bread",
         "rawType": "int64",
         "type": "integer"
        },
        {
         "name": "rye_flour",
         "rawType": "int64",
         "type": "integer"
        },
        {
         "name": "saffron",
         "rawType": "int64",
         "type": "integer"
        },
        {
         "name": "sage",
         "rawType": "int64",
         "type": "integer"
        },
        {
         "name": "sake",
         "rawType": "int64",
         "type": "integer"
        },
        {
         "name": "salmon",
         "rawType": "int64",
         "type": "integer"
        },
        {
         "name": "salmon_roe",
         "rawType": "int64",
         "type": "integer"
        },
        {
         "name": "sassafras",
         "rawType": "int64",
         "type": "integer"
        },
        {
         "name": "sauerkraut",
         "rawType": "int64",
         "type": "integer"
        },
        {
         "name": "savory",
         "rawType": "int64",
         "type": "integer"
        },
        {
         "name": "scallion",
         "rawType": "int64",
         "type": "integer"
        },
        {
         "name": "scallop",
         "rawType": "int64",
         "type": "integer"
        },
        {
         "name": "sea_algae",
         "rawType": "int64",
         "type": "integer"
        },
        {
         "name": "seaweed",
         "rawType": "int64",
         "type": "integer"
        },
        {
         "name": "seed",
         "rawType": "int64",
         "type": "integer"
        },
        {
         "name": "sesame_oil",
         "rawType": "int64",
         "type": "integer"
        },
        {
         "name": "sesame_seed",
         "rawType": "int64",
         "type": "integer"
        },
        {
         "name": "shallot",
         "rawType": "int64",
         "type": "integer"
        },
        {
         "name": "sheep_cheese",
         "rawType": "int64",
         "type": "integer"
        },
        {
         "name": "shellfish",
         "rawType": "int64",
         "type": "integer"
        },
        {
         "name": "sherry",
         "rawType": "int64",
         "type": "integer"
        },
        {
         "name": "shiitake",
         "rawType": "int64",
         "type": "integer"
        },
        {
         "name": "shrimp",
         "rawType": "int64",
         "type": "integer"
        },
        {
         "name": "smoke",
         "rawType": "int64",
         "type": "integer"
        },
        {
         "name": "smoked_fish",
         "rawType": "int64",
         "type": "integer"
        },
        {
         "name": "smoked_salmon",
         "rawType": "int64",
         "type": "integer"
        },
        {
         "name": "smoked_sausage",
         "rawType": "int64",
         "type": "integer"
        },
        {
         "name": "sour_cherry",
         "rawType": "int64",
         "type": "integer"
        },
        {
         "name": "sour_milk",
         "rawType": "int64",
         "type": "integer"
        },
        {
         "name": "soy_sauce",
         "rawType": "int64",
         "type": "integer"
        },
        {
         "name": "soybean",
         "rawType": "int64",
         "type": "integer"
        },
        {
         "name": "soybean_oil",
         "rawType": "int64",
         "type": "integer"
        },
        {
         "name": "spearmint",
         "rawType": "int64",
         "type": "integer"
        },
        {
         "name": "squash",
         "rawType": "int64",
         "type": "integer"
        },
        {
         "name": "squid",
         "rawType": "int64",
         "type": "integer"
        },
        {
         "name": "star_anise",
         "rawType": "int64",
         "type": "integer"
        },
        {
         "name": "starch",
         "rawType": "int64",
         "type": "integer"
        },
        {
         "name": "strawberry",
         "rawType": "int64",
         "type": "integer"
        },
        {
         "name": "strawberry_jam",
         "rawType": "int64",
         "type": "integer"
        },
        {
         "name": "strawberry_juice",
         "rawType": "int64",
         "type": "integer"
        },
        {
         "name": "sturgeon_caviar",
         "rawType": "int64",
         "type": "integer"
        },
        {
         "name": "sumac",
         "rawType": "int64",
         "type": "integer"
        },
        {
         "name": "sunflower_oil",
         "rawType": "int64",
         "type": "integer"
        },
        {
         "name": "sweet_potato",
         "rawType": "int64",
         "type": "integer"
        },
        {
         "name": "swiss_cheese",
         "rawType": "int64",
         "type": "integer"
        },
        {
         "name": "tabasco_pepper",
         "rawType": "int64",
         "type": "integer"
        },
        {
         "name": "tamarind",
         "rawType": "int64",
         "type": "integer"
        },
        {
         "name": "tangerine",
         "rawType": "int64",
         "type": "integer"
        },
        {
         "name": "tarragon",
         "rawType": "int64",
         "type": "integer"
        },
        {
         "name": "tea",
         "rawType": "int64",
         "type": "integer"
        },
        {
         "name": "tequila",
         "rawType": "int64",
         "type": "integer"
        },
        {
         "name": "thai_pepper",
         "rawType": "int64",
         "type": "integer"
        },
        {
         "name": "thyme",
         "rawType": "int64",
         "type": "integer"
        },
        {
         "name": "tomato",
         "rawType": "int64",
         "type": "integer"
        },
        {
         "name": "tomato_juice",
         "rawType": "int64",
         "type": "integer"
        },
        {
         "name": "truffle",
         "rawType": "int64",
         "type": "integer"
        },
        {
         "name": "tuna",
         "rawType": "int64",
         "type": "integer"
        },
        {
         "name": "turkey",
         "rawType": "int64",
         "type": "integer"
        },
        {
         "name": "turmeric",
         "rawType": "int64",
         "type": "integer"
        },
        {
         "name": "turnip",
         "rawType": "int64",
         "type": "integer"
        },
        {
         "name": "vanilla",
         "rawType": "int64",
         "type": "integer"
        },
        {
         "name": "veal",
         "rawType": "int64",
         "type": "integer"
        },
        {
         "name": "vegetable",
         "rawType": "int64",
         "type": "integer"
        },
        {
         "name": "vegetable_oil",
         "rawType": "int64",
         "type": "integer"
        },
        {
         "name": "vinegar",
         "rawType": "int64",
         "type": "integer"
        },
        {
         "name": "violet",
         "rawType": "int64",
         "type": "integer"
        },
        {
         "name": "walnut",
         "rawType": "int64",
         "type": "integer"
        },
        {
         "name": "wasabi",
         "rawType": "int64",
         "type": "integer"
        },
        {
         "name": "watercress",
         "rawType": "int64",
         "type": "integer"
        },
        {
         "name": "watermelon",
         "rawType": "int64",
         "type": "integer"
        },
        {
         "name": "wheat",
         "rawType": "int64",
         "type": "integer"
        },
        {
         "name": "wheat_bread",
         "rawType": "int64",
         "type": "integer"
        },
        {
         "name": "whiskey",
         "rawType": "int64",
         "type": "integer"
        },
        {
         "name": "white_bread",
         "rawType": "int64",
         "type": "integer"
        },
        {
         "name": "white_wine",
         "rawType": "int64",
         "type": "integer"
        },
        {
         "name": "whole_grain_wheat_flour",
         "rawType": "int64",
         "type": "integer"
        },
        {
         "name": "wine",
         "rawType": "int64",
         "type": "integer"
        },
        {
         "name": "wood",
         "rawType": "int64",
         "type": "integer"
        },
        {
         "name": "yam",
         "rawType": "int64",
         "type": "integer"
        },
        {
         "name": "yeast",
         "rawType": "int64",
         "type": "integer"
        },
        {
         "name": "yogurt",
         "rawType": "int64",
         "type": "integer"
        },
        {
         "name": "zucchini",
         "rawType": "int64",
         "type": "integer"
        }
       ],
       "ref": "c90a247f-b213-41ad-9167-272fdcb69eab",
       "rows": [
        [
         "0",
         "0",
         "0",
         "0",
         "0",
         "0",
         "0",
         "0",
         "0",
         "0",
         "0",
         "0",
         "0",
         "0",
         "0",
         "0",
         "0",
         "0",
         "0",
         "0",
         "0",
         "0",
         "0",
         "0",
         "0",
         "0",
         "0",
         "0",
         "0",
         "0",
         "0",
         "0",
         "0",
         "0",
         "1",
         "0",
         "0",
         "0",
         "0",
         "0",
         "0",
         "0",
         "0",
         "0",
         "0",
         "0",
         "0",
         "0",
         "0",
         "0",
         "0",
         "0",
         "0",
         "0",
         "0",
         "0",
         "0",
         "0",
         "0",
         "0",
         "0",
         "0",
         "0",
         "0",
         "0",
         "0",
         "0",
         "0",
         "0",
         "1",
         "0",
         "0",
         "0",
         "0",
         "0",
         "0",
         "0",
         "0",
         "0",
         "0",
         "0",
         "0",
         "0",
         "0",
         "0",
         "0",
         "0",
         "0",
         "0",
         "0",
         "0",
         "0",
         "0",
         "0",
         "0",
         "0",
         "1",
         "1",
         "0",
         "0",
         "0",
         "0",
         "0",
         "1",
         "0",
         "0",
         "0",
         "0",
         "0",
         "0",
         "0",
         "0",
         "0",
         "1",
         "0",
         "0",
         "0",
         "0",
         "0",
         "0",
         "0",
         "0",
         "0",
         "0",
         "0",
         "0",
         "0",
         "1",
         "0",
         "0",
         "1",
         "0",
         "0",
         "0",
         "0",
         "0",
         "1",
         "0",
         "0",
         "0",
         "1",
         "0",
         "0",
         "0",
         "0",
         "0",
         "0",
         "0",
         "0",
         "0",
         "0",
         "0",
         "0",
         "0",
         "0",
         "0",
         "0",
         "0",
         "0",
         "0",
         "0",
         "0",
         "0",
         "0",
         "0",
         "0",
         "0",
         "0",
         "0",
         "0",
         "0",
         "0",
         "0",
         "0",
         "0",
         "0",
         "0",
         "0",
         "0",
         "0",
         "0",
         "0",
         "0",
         "0",
         "0",
         "0",
         "0",
         "0",
         "0",
         "0",
         "0",
         "0",
         "0",
         "0",
         "0",
         "0",
         "0",
         "0",
         "0",
         "0",
         "0",
         "0",
         "0",
         "1",
         "0",
         "0",
         "0",
         "0",
         "0",
         "0",
         "0",
         "0",
         "0",
         "0",
         "0",
         "0",
         "0",
         "0",
         "0",
         "0",
         "0",
         "0",
         "0",
         "0",
         "0",
         "0",
         "0",
         "0",
         "0",
         "0",
         "0",
         "0",
         "0",
         "0",
         "0",
         "0",
         "0",
         "0",
         "0",
         "0",
         "0",
         "0",
         "0",
         "0",
         "0",
         "0",
         "0",
         "0",
         "0",
         "0",
         "0",
         "0",
         "0",
         "0",
         "1",
         "0",
         "0",
         "0",
         "0",
         "0",
         "0",
         "0",
         "0",
         "0",
         "0",
         "0",
         "0",
         "0",
         "0",
         "0",
         "0",
         "0",
         "0",
         "0",
         "0",
         "0",
         "0",
         "0",
         "0",
         "0",
         "0",
         "0",
         "0",
         "0",
         "0",
         "1",
         "0",
         "0",
         "0",
         "0",
         "0",
         "0",
         "0",
         "0",
         "0",
         "0",
         "0",
         "0",
         "0",
         "0",
         "0",
         "0",
         "0",
         "0",
         "0",
         "0",
         "0",
         "0",
         "0",
         "0",
         "0",
         "0",
         "0",
         "0",
         "0",
         "0",
         "1",
         "0",
         "0",
         "0",
         "0",
         "0",
         "0",
         "0",
         "0",
         "0",
         "0",
         "0",
         "0",
         "0",
         "0",
         "0",
         "0",
         "0",
         "0",
         "0",
         "0",
         "0",
         "0",
         "0",
         "0",
         "0",
         "0",
         "0",
         "0",
         "0",
         "0",
         "0",
         "0",
         "0",
         "0",
         "0",
         "0",
         "0",
         "0",
         "1",
         "0",
         "0",
         "0",
         "0",
         "1",
         "0",
         "0",
         "0",
         "0",
         "0",
         "0",
         "0",
         "0",
         "0",
         "0",
         "0",
         "0",
         "0",
         "0",
         "0",
         "0",
         "0",
         "0",
         "0",
         "0",
         "0",
         "0",
         "0"
        ],
        [
         "1",
         "1",
         "0",
         "0",
         "0",
         "0",
         "0",
         "0",
         "0",
         "0",
         "0",
         "0",
         "0",
         "0",
         "0",
         "0",
         "0",
         "0",
         "0",
         "0",
         "0",
         "0",
         "0",
         "0",
         "0",
         "0",
         "0",
         "0",
         "0",
         "0",
         "0",
         "0",
         "0",
         "0",
         "0",
         "0",
         "0",
         "0",
         "0",
         "0",
         "0",
         "0",
         "0",
         "0",
         "0",
         "0",
         "0",
         "0",
         "0",
         "0",
         "0",
         "0",
         "1",
         "0",
         "0",
         "0",
         "0",
         "0",
         "0",
         "0",
         "1",
         "0",
         "0",
         "0",
         "1",
         "0",
         "0",
         "0",
         "0",
         "0",
         "0",
         "0",
         "0",
         "0",
         "0",
         "0",
         "0",
         "0",
         "0",
         "0",
         "0",
         "0",
         "0",
         "0",
         "0",
         "0",
         "0",
         "0",
         "0",
         "0",
         "0",
         "0",
         "0",
         "0",
         "0",
         "0",
         "0",
         "0",
         "0",
         "0",
         "0",
         "0",
         "0",
         "0",
         "0",
         "0",
         "0",
         "0",
         "0",
         "0",
         "0",
         "0",
         "0",
         "0",
         "0",
         "0",
         "0",
         "0",
         "0",
         "0",
         "0",
         "0",
         "0",
         "0",
         "0",
         "0",
         "0",
         "0",
         "0",
         "0",
         "0",
         "0",
         "0",
         "0",
         "0",
         "0",
         "0",
         "0",
         "0",
         "0",
         "0",
         "0",
         "0",
         "0",
         "0",
         "0",
         "0",
         "0",
         "0",
         "0",
         "0",
         "0",
         "0",
         "0",
         "0",
         "0",
         "0",
         "0",
         "0",
         "0",
         "0",
         "0",
         "0",
         "0",
         "0",
         "0",
         "0",
         "0",
         "0",
         "0",
         "0",
         "0",
         "0",
         "0",
         "0",
         "0",
         "0",
         "0",
         "0",
         "0",
         "0",
         "0",
         "0",
         "0",
         "0",
         "0",
         "0",
         "0",
         "0",
         "0",
         "0",
         "0",
         "0",
         "0",
         "0",
         "0",
         "0",
         "0",
         "0",
         "0",
         "0",
         "0",
         "0",
         "0",
         "0",
         "0",
         "0",
         "0",
         "0",
         "0",
         "1",
         "0",
         "0",
         "0",
         "0",
         "0",
         "0",
         "0",
         "0",
         "0",
         "0",
         "0",
         "0",
         "0",
         "0",
         "0",
         "0",
         "0",
         "0",
         "0",
         "0",
         "0",
         "0",
         "0",
         "0",
         "0",
         "0",
         "0",
         "0",
         "0",
         "0",
         "0",
         "0",
         "0",
         "0",
         "0",
         "0",
         "0",
         "0",
         "0",
         "0",
         "0",
         "0",
         "0",
         "0",
         "0",
         "0",
         "0",
         "0",
         "0",
         "0",
         "0",
         "0",
         "0",
         "0",
         "0",
         "0",
         "0",
         "0",
         "0",
         "0",
         "0",
         "0",
         "0",
         "0",
         "0",
         "1",
         "0",
         "0",
         "0",
         "0",
         "0",
         "0",
         "0",
         "0",
         "1",
         "0",
         "0",
         "0",
         "0",
         "0",
         "0",
         "0",
         "0",
         "0",
         "0",
         "0",
         "0",
         "0",
         "0",
         "0",
         "0",
         "0",
         "0",
         "1",
         "0",
         "0",
         "0",
         "0",
         "0",
         "0",
         "0",
         "0",
         "0",
         "0",
         "0",
         "0",
         "0",
         "0",
         "0",
         "0",
         "0",
         "0",
         "0",
         "0",
         "0",
         "0",
         "0",
         "0",
         "0",
         "0",
         "0",
         "0",
         "0",
         "0",
         "0",
         "0",
         "0",
         "0",
         "0",
         "0",
         "0",
         "0",
         "0",
         "0",
         "0",
         "0",
         "0",
         "0",
         "0",
         "0",
         "0",
         "0",
         "0",
         "0",
         "0",
         "0",
         "0",
         "0",
         "0",
         "0",
         "0",
         "0",
         "0",
         "0",
         "0",
         "0",
         "0",
         "0",
         "0",
         "0",
         "0",
         "0",
         "0",
         "0",
         "0",
         "0",
         "0",
         "0",
         "0",
         "0",
         "0",
         "0",
         "0"
        ],
        [
         "2",
         "0",
         "0",
         "0",
         "0",
         "0",
         "0",
         "0",
         "0",
         "0",
         "0",
         "0",
         "0",
         "0",
         "0",
         "0",
         "0",
         "0",
         "0",
         "0",
         "0",
         "0",
         "0",
         "0",
         "0",
         "0",
         "0",
         "0",
         "0",
         "0",
         "0",
         "0",
         "0",
         "0",
         "0",
         "0",
         "0",
         "0",
         "0",
         "0",
         "0",
         "0",
         "0",
         "0",
         "0",
         "0",
         "0",
         "0",
         "0",
         "0",
         "0",
         "0",
         "0",
         "0",
         "0",
         "0",
         "0",
         "0",
         "0",
         "0",
         "1",
         "0",
         "0",
         "0",
         "0",
         "0",
         "0",
         "0",
         "0",
         "0",
         "0",
         "0",
         "0",
         "0",
         "0",
         "0",
         "0",
         "0",
         "0",
         "0",
         "0",
         "0",
         "0",
         "0",
         "0",
         "0",
         "0",
         "0",
         "0",
         "0",
         "1",
         "0",
         "0",
         "0",
         "0",
         "0",
         "0",
         "0",
         "0",
         "0",
         "0",
         "0",
         "0",
         "0",
         "0",
         "0",
         "0",
         "0",
         "0",
         "0",
         "0",
         "0",
         "0",
         "0",
         "0",
         "0",
         "0",
         "0",
         "0",
         "0",
         "0",
         "0",
         "0",
         "0",
         "0",
         "0",
         "0",
         "0",
         "0",
         "0",
         "0",
         "0",
         "0",
         "0",
         "0",
         "0",
         "0",
         "0",
         "0",
         "0",
         "0",
         "0",
         "0",
         "0",
         "0",
         "0",
         "0",
         "0",
         "0",
         "0",
         "0",
         "0",
         "0",
         "0",
         "0",
         "0",
         "0",
         "0",
         "0",
         "0",
         "0",
         "0",
         "0",
         "0",
         "0",
         "0",
         "0",
         "0",
         "0",
         "0",
         "0",
         "0",
         "0",
         "0",
         "0",
         "0",
         "0",
         "0",
         "1",
         "0",
         "0",
         "0",
         "0",
         "0",
         "0",
         "0",
         "0",
         "0",
         "0",
         "0",
         "0",
         "0",
         "0",
         "0",
         "0",
         "0",
         "0",
         "0",
         "0",
         "0",
         "0",
         "0",
         "0",
         "0",
         "0",
         "0",
         "0",
         "0",
         "0",
         "0",
         "0",
         "0",
         "0",
         "0",
         "0",
         "0",
         "0",
         "0",
         "0",
         "0",
         "0",
         "0",
         "0",
         "0",
         "0",
         "0",
         "0",
         "0",
         "0",
         "0",
         "0",
         "0",
         "0",
         "0",
         "0",
         "0",
         "0",
         "0",
         "0",
         "0",
         "0",
         "0",
         "0",
         "0",
         "0",
         "0",
         "0",
         "0",
         "0",
         "0",
         "0",
         "0",
         "0",
         "0",
         "0",
         "0",
         "0",
         "0",
         "0",
         "0",
         "0",
         "0",
         "0",
         "0",
         "0",
         "0",
         "0",
         "0",
         "0",
         "0",
         "0",
         "0",
         "0",
         "0",
         "0",
         "0",
         "0",
         "0",
         "0",
         "0",
         "0",
         "0",
         "0",
         "0",
         "0",
         "1",
         "0",
         "0",
         "0",
         "0",
         "0",
         "0",
         "0",
         "0",
         "0",
         "0",
         "0",
         "0",
         "0",
         "0",
         "0",
         "0",
         "0",
         "0",
         "0",
         "0",
         "0",
         "0",
         "0",
         "0",
         "0",
         "0",
         "0",
         "0",
         "0",
         "0",
         "0",
         "0",
         "0",
         "0",
         "0",
         "0",
         "0",
         "0",
         "0",
         "0",
         "0",
         "0",
         "0",
         "0",
         "0",
         "0",
         "0",
         "0",
         "0",
         "0",
         "0",
         "0",
         "0",
         "0",
         "0",
         "0",
         "0",
         "0",
         "0",
         "0",
         "0",
         "0",
         "0",
         "0",
         "0",
         "0",
         "0",
         "0",
         "0",
         "0",
         "0",
         "0",
         "0",
         "0",
         "0",
         "0",
         "0",
         "0",
         "0",
         "0",
         "0",
         "0",
         "0",
         "0",
         "0",
         "0",
         "0",
         "0",
         "0",
         "0",
         "0",
         "0",
         "0",
         "0",
         "0",
         "0",
         "0",
         "0"
        ],
        [
         "3",
         "0",
         "0",
         "0",
         "0",
         "0",
         "0",
         "0",
         "0",
         "0",
         "0",
         "0",
         "0",
         "0",
         "0",
         "0",
         "0",
         "0",
         "0",
         "0",
         "0",
         "0",
         "0",
         "0",
         "0",
         "0",
         "0",
         "0",
         "0",
         "0",
         "0",
         "0",
         "0",
         "0",
         "1",
         "0",
         "0",
         "0",
         "0",
         "0",
         "0",
         "0",
         "0",
         "0",
         "0",
         "0",
         "0",
         "0",
         "0",
         "0",
         "0",
         "0",
         "1",
         "0",
         "0",
         "0",
         "0",
         "0",
         "0",
         "0",
         "0",
         "0",
         "0",
         "1",
         "0",
         "0",
         "0",
         "0",
         "0",
         "1",
         "0",
         "0",
         "0",
         "0",
         "0",
         "0",
         "0",
         "0",
         "0",
         "0",
         "0",
         "0",
         "0",
         "0",
         "0",
         "0",
         "0",
         "0",
         "0",
         "0",
         "0",
         "0",
         "0",
         "0",
         "0",
         "0",
         "1",
         "0",
         "0",
         "0",
         "0",
         "0",
         "0",
         "0",
         "0",
         "0",
         "0",
         "0",
         "0",
         "0",
         "0",
         "0",
         "0",
         "0",
         "0",
         "0",
         "0",
         "0",
         "0",
         "0",
         "0",
         "0",
         "0",
         "0",
         "0",
         "0",
         "0",
         "1",
         "0",
         "0",
         "0",
         "0",
         "0",
         "0",
         "0",
         "0",
         "1",
         "0",
         "0",
         "0",
         "1",
         "0",
         "0",
         "0",
         "0",
         "0",
         "0",
         "0",
         "0",
         "0",
         "0",
         "0",
         "0",
         "0",
         "0",
         "0",
         "0",
         "0",
         "0",
         "0",
         "0",
         "0",
         "0",
         "0",
         "0",
         "0",
         "0",
         "0",
         "0",
         "0",
         "0",
         "0",
         "0",
         "0",
         "0",
         "0",
         "0",
         "0",
         "0",
         "0",
         "0",
         "0",
         "0",
         "0",
         "0",
         "0",
         "0",
         "0",
         "1",
         "0",
         "0",
         "0",
         "0",
         "0",
         "0",
         "0",
         "0",
         "0",
         "0",
         "0",
         "0",
         "0",
         "0",
         "0",
         "0",
         "0",
         "0",
         "0",
         "0",
         "0",
         "0",
         "0",
         "0",
         "0",
         "0",
         "0",
         "0",
         "0",
         "0",
         "0",
         "0",
         "0",
         "0",
         "0",
         "0",
         "0",
         "0",
         "0",
         "1",
         "0",
         "0",
         "1",
         "0",
         "0",
         "0",
         "0",
         "0",
         "0",
         "0",
         "0",
         "0",
         "0",
         "0",
         "0",
         "0",
         "0",
         "0",
         "0",
         "0",
         "0",
         "0",
         "0",
         "0",
         "0",
         "0",
         "0",
         "0",
         "0",
         "0",
         "0",
         "0",
         "0",
         "0",
         "0",
         "0",
         "0",
         "0",
         "0",
         "0",
         "0",
         "0",
         "0",
         "0",
         "0",
         "0",
         "0",
         "0",
         "0",
         "0",
         "0",
         "0",
         "0",
         "0",
         "0",
         "0",
         "1",
         "0",
         "0",
         "0",
         "0",
         "0",
         "0",
         "0",
         "0",
         "0",
         "0",
         "0",
         "0",
         "0",
         "0",
         "0",
         "0",
         "0",
         "0",
         "0",
         "0",
         "0",
         "0",
         "0",
         "0",
         "0",
         "1",
         "0",
         "0",
         "0",
         "0",
         "1",
         "0",
         "0",
         "0",
         "0",
         "0",
         "0",
         "0",
         "0",
         "0",
         "0",
         "0",
         "0",
         "0",
         "0",
         "0",
         "0",
         "0",
         "0",
         "0",
         "0",
         "0",
         "0",
         "0",
         "0",
         "0",
         "0",
         "0",
         "0",
         "0",
         "0",
         "0",
         "0",
         "0",
         "0",
         "0",
         "0",
         "0",
         "0",
         "1",
         "0",
         "0",
         "0",
         "0",
         "1",
         "0",
         "0",
         "0",
         "0",
         "0",
         "0",
         "0",
         "0",
         "0",
         "0",
         "0",
         "1",
         "0",
         "0",
         "0",
         "0",
         "0",
         "0",
         "0",
         "0",
         "0",
         "0",
         "0"
        ],
        [
         "4",
         "0",
         "0",
         "0",
         "0",
         "0",
         "0",
         "0",
         "0",
         "0",
         "0",
         "0",
         "0",
         "0",
         "0",
         "0",
         "0",
         "0",
         "0",
         "0",
         "0",
         "0",
         "0",
         "0",
         "0",
         "0",
         "0",
         "0",
         "0",
         "0",
         "0",
         "0",
         "0",
         "0",
         "0",
         "1",
         "0",
         "0",
         "0",
         "0",
         "0",
         "0",
         "0",
         "0",
         "0",
         "0",
         "0",
         "0",
         "0",
         "0",
         "0",
         "0",
         "1",
         "0",
         "0",
         "0",
         "0",
         "0",
         "0",
         "0",
         "1",
         "0",
         "0",
         "0",
         "1",
         "0",
         "0",
         "0",
         "0",
         "1",
         "0",
         "0",
         "0",
         "0",
         "0",
         "0",
         "0",
         "0",
         "0",
         "0",
         "0",
         "1",
         "0",
         "0",
         "0",
         "0",
         "0",
         "0",
         "0",
         "0",
         "1",
         "0",
         "0",
         "0",
         "0",
         "0",
         "0",
         "0",
         "0",
         "0",
         "0",
         "0",
         "0",
         "0",
         "0",
         "0",
         "0",
         "0",
         "0",
         "0",
         "0",
         "0",
         "0",
         "1",
         "0",
         "0",
         "0",
         "0",
         "0",
         "0",
         "0",
         "0",
         "0",
         "0",
         "0",
         "0",
         "0",
         "0",
         "0",
         "0",
         "0",
         "0",
         "0",
         "0",
         "0",
         "0",
         "0",
         "0",
         "0",
         "0",
         "0",
         "0",
         "0",
         "0",
         "0",
         "0",
         "0",
         "0",
         "0",
         "0",
         "0",
         "0",
         "0",
         "0",
         "0",
         "0",
         "0",
         "0",
         "0",
         "0",
         "0",
         "0",
         "0",
         "0",
         "0",
         "0",
         "0",
         "0",
         "0",
         "0",
         "0",
         "0",
         "0",
         "0",
         "0",
         "0",
         "0",
         "0",
         "0",
         "1",
         "0",
         "0",
         "0",
         "0",
         "0",
         "0",
         "0",
         "0",
         "0",
         "0",
         "0",
         "0",
         "0",
         "0",
         "0",
         "0",
         "0",
         "0",
         "0",
         "0",
         "0",
         "0",
         "0",
         "0",
         "0",
         "0",
         "0",
         "0",
         "0",
         "0",
         "0",
         "0",
         "0",
         "0",
         "0",
         "0",
         "0",
         "0",
         "0",
         "0",
         "0",
         "0",
         "0",
         "0",
         "0",
         "0",
         "0",
         "0",
         "0",
         "0",
         "0",
         "0",
         "0",
         "0",
         "0",
         "0",
         "0",
         "0",
         "0",
         "0",
         "0",
         "0",
         "0",
         "0",
         "0",
         "0",
         "0",
         "0",
         "0",
         "0",
         "0",
         "0",
         "0",
         "0",
         "0",
         "0",
         "0",
         "0",
         "0",
         "0",
         "0",
         "0",
         "0",
         "0",
         "0",
         "0",
         "0",
         "0",
         "0",
         "0",
         "0",
         "0",
         "0",
         "0",
         "0",
         "0",
         "1",
         "0",
         "0",
         "0",
         "0",
         "0",
         "0",
         "0",
         "0",
         "0",
         "0",
         "0",
         "0",
         "0",
         "0",
         "0",
         "0",
         "0",
         "0",
         "0",
         "0",
         "0",
         "0",
         "0",
         "0",
         "0",
         "0",
         "0",
         "0",
         "0",
         "0",
         "0",
         "0",
         "0",
         "0",
         "0",
         "0",
         "0",
         "0",
         "0",
         "0",
         "0",
         "0",
         "0",
         "0",
         "0",
         "0",
         "0",
         "0",
         "0",
         "0",
         "0",
         "0",
         "0",
         "0",
         "0",
         "0",
         "0",
         "0",
         "0",
         "0",
         "0",
         "0",
         "0",
         "0",
         "0",
         "0",
         "0",
         "0",
         "0",
         "0",
         "0",
         "0",
         "0",
         "0",
         "0",
         "0",
         "0",
         "0",
         "0",
         "0",
         "0",
         "0",
         "0",
         "0",
         "0",
         "0",
         "0",
         "0",
         "0",
         "0",
         "0",
         "0",
         "0",
         "0",
         "0",
         "0",
         "0",
         "0",
         "0",
         "0",
         "0",
         "0",
         "0",
         "0",
         "0",
         "1",
         "0"
        ]
       ],
       "shape": {
        "columns": 383,
        "rows": 5
       }
      },
      "text/html": [
       "<div>\n",
       "<style scoped>\n",
       "    .dataframe tbody tr th:only-of-type {\n",
       "        vertical-align: middle;\n",
       "    }\n",
       "\n",
       "    .dataframe tbody tr th {\n",
       "        vertical-align: top;\n",
       "    }\n",
       "\n",
       "    .dataframe thead th {\n",
       "        text-align: right;\n",
       "    }\n",
       "</style>\n",
       "<table border=\"1\" class=\"dataframe\">\n",
       "  <thead>\n",
       "    <tr style=\"text-align: right;\">\n",
       "      <th></th>\n",
       "      <th>almond</th>\n",
       "      <th>angelica</th>\n",
       "      <th>anise</th>\n",
       "      <th>anise_seed</th>\n",
       "      <th>apple</th>\n",
       "      <th>apple_brandy</th>\n",
       "      <th>apricot</th>\n",
       "      <th>armagnac</th>\n",
       "      <th>artemisia</th>\n",
       "      <th>artichoke</th>\n",
       "      <th>...</th>\n",
       "      <th>whiskey</th>\n",
       "      <th>white_bread</th>\n",
       "      <th>white_wine</th>\n",
       "      <th>whole_grain_wheat_flour</th>\n",
       "      <th>wine</th>\n",
       "      <th>wood</th>\n",
       "      <th>yam</th>\n",
       "      <th>yeast</th>\n",
       "      <th>yogurt</th>\n",
       "      <th>zucchini</th>\n",
       "    </tr>\n",
       "  </thead>\n",
       "  <tbody>\n",
       "    <tr>\n",
       "      <th>0</th>\n",
       "      <td>0</td>\n",
       "      <td>0</td>\n",
       "      <td>0</td>\n",
       "      <td>0</td>\n",
       "      <td>0</td>\n",
       "      <td>0</td>\n",
       "      <td>0</td>\n",
       "      <td>0</td>\n",
       "      <td>0</td>\n",
       "      <td>0</td>\n",
       "      <td>...</td>\n",
       "      <td>0</td>\n",
       "      <td>0</td>\n",
       "      <td>0</td>\n",
       "      <td>0</td>\n",
       "      <td>0</td>\n",
       "      <td>0</td>\n",
       "      <td>0</td>\n",
       "      <td>0</td>\n",
       "      <td>0</td>\n",
       "      <td>0</td>\n",
       "    </tr>\n",
       "    <tr>\n",
       "      <th>1</th>\n",
       "      <td>1</td>\n",
       "      <td>0</td>\n",
       "      <td>0</td>\n",
       "      <td>0</td>\n",
       "      <td>0</td>\n",
       "      <td>0</td>\n",
       "      <td>0</td>\n",
       "      <td>0</td>\n",
       "      <td>0</td>\n",
       "      <td>0</td>\n",
       "      <td>...</td>\n",
       "      <td>0</td>\n",
       "      <td>0</td>\n",
       "      <td>0</td>\n",
       "      <td>0</td>\n",
       "      <td>0</td>\n",
       "      <td>0</td>\n",
       "      <td>0</td>\n",
       "      <td>0</td>\n",
       "      <td>0</td>\n",
       "      <td>0</td>\n",
       "    </tr>\n",
       "    <tr>\n",
       "      <th>2</th>\n",
       "      <td>0</td>\n",
       "      <td>0</td>\n",
       "      <td>0</td>\n",
       "      <td>0</td>\n",
       "      <td>0</td>\n",
       "      <td>0</td>\n",
       "      <td>0</td>\n",
       "      <td>0</td>\n",
       "      <td>0</td>\n",
       "      <td>0</td>\n",
       "      <td>...</td>\n",
       "      <td>0</td>\n",
       "      <td>0</td>\n",
       "      <td>0</td>\n",
       "      <td>0</td>\n",
       "      <td>0</td>\n",
       "      <td>0</td>\n",
       "      <td>0</td>\n",
       "      <td>0</td>\n",
       "      <td>0</td>\n",
       "      <td>0</td>\n",
       "    </tr>\n",
       "    <tr>\n",
       "      <th>3</th>\n",
       "      <td>0</td>\n",
       "      <td>0</td>\n",
       "      <td>0</td>\n",
       "      <td>0</td>\n",
       "      <td>0</td>\n",
       "      <td>0</td>\n",
       "      <td>0</td>\n",
       "      <td>0</td>\n",
       "      <td>0</td>\n",
       "      <td>0</td>\n",
       "      <td>...</td>\n",
       "      <td>0</td>\n",
       "      <td>0</td>\n",
       "      <td>0</td>\n",
       "      <td>0</td>\n",
       "      <td>0</td>\n",
       "      <td>0</td>\n",
       "      <td>0</td>\n",
       "      <td>0</td>\n",
       "      <td>0</td>\n",
       "      <td>0</td>\n",
       "    </tr>\n",
       "    <tr>\n",
       "      <th>4</th>\n",
       "      <td>0</td>\n",
       "      <td>0</td>\n",
       "      <td>0</td>\n",
       "      <td>0</td>\n",
       "      <td>0</td>\n",
       "      <td>0</td>\n",
       "      <td>0</td>\n",
       "      <td>0</td>\n",
       "      <td>0</td>\n",
       "      <td>0</td>\n",
       "      <td>...</td>\n",
       "      <td>0</td>\n",
       "      <td>0</td>\n",
       "      <td>0</td>\n",
       "      <td>0</td>\n",
       "      <td>0</td>\n",
       "      <td>0</td>\n",
       "      <td>0</td>\n",
       "      <td>0</td>\n",
       "      <td>1</td>\n",
       "      <td>0</td>\n",
       "    </tr>\n",
       "  </tbody>\n",
       "</table>\n",
       "<p>5 rows × 383 columns</p>\n",
       "</div>"
      ],
      "text/plain": [
       "   almond  angelica  anise  anise_seed  apple  apple_brandy  apricot  \\\n",
       "0       0         0      0           0      0             0        0   \n",
       "1       1         0      0           0      0             0        0   \n",
       "2       0         0      0           0      0             0        0   \n",
       "3       0         0      0           0      0             0        0   \n",
       "4       0         0      0           0      0             0        0   \n",
       "\n",
       "   armagnac  artemisia  artichoke  ...  whiskey  white_bread  white_wine  \\\n",
       "0         0          0          0  ...        0            0           0   \n",
       "1         0          0          0  ...        0            0           0   \n",
       "2         0          0          0  ...        0            0           0   \n",
       "3         0          0          0  ...        0            0           0   \n",
       "4         0          0          0  ...        0            0           0   \n",
       "\n",
       "   whole_grain_wheat_flour  wine  wood  yam  yeast  yogurt  zucchini  \n",
       "0                        0     0     0    0      0       0         0  \n",
       "1                        0     0     0    0      0       0         0  \n",
       "2                        0     0     0    0      0       0         0  \n",
       "3                        0     0     0    0      0       0         0  \n",
       "4                        0     0     0    0      0       1         0  \n",
       "\n",
       "[5 rows x 383 columns]"
      ]
     },
     "execution_count": 32,
     "metadata": {},
     "output_type": "execute_result"
    }
   ],
   "source": [
    "X = cuisine.drop(['cuisine', 'Unnamed: 0'], axis=1)\n",
    "X.head()"
   ]
  },
  {
   "cell_type": "code",
   "execution_count": 37,
   "id": "0a56d280",
   "metadata": {},
   "outputs": [
    {
     "name": "stdout",
     "output_type": "stream",
     "text": [
      "Accuracy: 0.7918367346938775\n"
     ]
    },
    {
     "name": "stderr",
     "output_type": "stream",
     "text": [
      "c:\\Users\\Amina\\AppData\\Local\\Programs\\Python\\Python312\\Lib\\site-packages\\sklearn\\linear_model\\_logistic.py:1273: FutureWarning: 'multi_class' was deprecated in version 1.5 and will be removed in 1.7. Use OneVsRestClassifier(LogisticRegression(..)) instead. Leave it to its default value to avoid this warning.\n",
      "  warnings.warn(\n",
      "c:\\Users\\Amina\\AppData\\Local\\Programs\\Python\\Python312\\Lib\\site-packages\\sklearn\\linear_model\\_logistic.py:1288: FutureWarning: Using the 'liblinear' solver for multiclass classification is deprecated. An error will be raised in 1.8. Either use another solver which supports the multinomial loss or wrap the estimator in a OneVsRestClassifier to keep applying a one-versus-rest scheme.\n",
      "  warnings.warn(\n"
     ]
    }
   ],
   "source": [
    "X_train, X_test, y_train, y_test = train_test_split(X, y, test_size = 0.3, random_state=0)\n",
    "\n",
    "log_reg = LogisticRegression(multi_class ='ovr', solver = 'liblinear')\n",
    "log_reg.fit(X_train, np.ravel(y_train))\n",
    "y_pred = log_reg.predict(X_test)\n",
    "accuracy = accuracy_score(y_test, y_pred)\n",
    "print(\"Accuracy:\", accuracy)"
   ]
  },
  {
   "cell_type": "code",
   "execution_count": 49,
   "id": "659c26d5",
   "metadata": {},
   "outputs": [
    {
     "name": "stderr",
     "output_type": "stream",
     "text": [
      "c:\\Users\\Amina\\AppData\\Local\\Programs\\Python\\Python312\\Lib\\site-packages\\sklearn\\linear_model\\_logistic.py:1273: FutureWarning: 'multi_class' was deprecated in version 1.5 and will be removed in 1.7. Use OneVsRestClassifier(LogisticRegression(..)) instead. Leave it to its default value to avoid this warning.\n",
      "  warnings.warn(\n"
     ]
    },
    {
     "name": "stdout",
     "output_type": "stream",
     "text": [
      "Accuracy2: 0.7904761904761904\n"
     ]
    }
   ],
   "source": [
    "reg = LogisticRegression(multi_class ='ovr', solver= 'lbfgs')\n",
    "reg_model= reg.fit(X_train, np.ravel(y_train))\n",
    "y_pred = reg.predict(X_test)\n",
    "accuracy_2 = accuracy_score(y_test, y_pred)\n",
    "print(\"Accuracy2:\", accuracy_2)"
   ]
  },
  {
   "cell_type": "code",
   "execution_count": 44,
   "id": "0bc3a034",
   "metadata": {},
   "outputs": [
    {
     "name": "stdout",
     "output_type": "stream",
     "text": [
      "ingredients: Index(['cayenne', 'coriander', 'cumin', 'fenugreek', 'ginger', 'pepper',\n",
      "       'potato', 'tomato', 'turmeric', 'vegetable_oil'],\n",
      "      dtype='object')\n",
      "predicted_cuisinr: indian\n"
     ]
    }
   ],
   "source": [
    "print(f'ingredients: {X_test.iloc[50][X_test.iloc[50]!=0].keys()}')\n",
    "print(f'predicted_cuisinr: {y_test.iloc[50]}')"
   ]
  },
  {
   "cell_type": "code",
   "execution_count": 60,
   "id": "21f40a77",
   "metadata": {},
   "outputs": [
    {
     "name": "stderr",
     "output_type": "stream",
     "text": [
      "c:\\Users\\Amina\\AppData\\Local\\Programs\\Python\\Python312\\Lib\\site-packages\\sklearn\\utils\\validation.py:2749: UserWarning: X does not have valid feature names, but LogisticRegression was fitted with feature names\n",
      "  warnings.warn(\n"
     ]
    },
    {
     "data": {
      "application/vnd.microsoft.datawrangler.viewer.v0+json": {
       "columns": [
        {
         "name": "index",
         "rawType": "object",
         "type": "string"
        },
        {
         "name": "0",
         "rawType": "float64",
         "type": "float"
        }
       ],
       "ref": "ef0bdbfc-e37d-4013-a1ff-91aa3f12a359",
       "rows": [
        [
         "indian",
         "0.9589310584051837"
        ],
        [
         "korean",
         "0.019762221629108474"
        ],
        [
         "japanese",
         "0.007589522968398144"
        ],
        [
         "thai",
         "0.007404879150971451"
        ],
        [
         "chinese",
         "0.006312317846338248"
        ]
       ],
       "shape": {
        "columns": 1,
        "rows": 5
       }
      },
      "text/html": [
       "<div>\n",
       "<style scoped>\n",
       "    .dataframe tbody tr th:only-of-type {\n",
       "        vertical-align: middle;\n",
       "    }\n",
       "\n",
       "    .dataframe tbody tr th {\n",
       "        vertical-align: top;\n",
       "    }\n",
       "\n",
       "    .dataframe thead th {\n",
       "        text-align: right;\n",
       "    }\n",
       "</style>\n",
       "<table border=\"1\" class=\"dataframe\">\n",
       "  <thead>\n",
       "    <tr style=\"text-align: right;\">\n",
       "      <th></th>\n",
       "      <th>0</th>\n",
       "    </tr>\n",
       "  </thead>\n",
       "  <tbody>\n",
       "    <tr>\n",
       "      <th>indian</th>\n",
       "      <td>0.958931</td>\n",
       "    </tr>\n",
       "    <tr>\n",
       "      <th>korean</th>\n",
       "      <td>0.019762</td>\n",
       "    </tr>\n",
       "    <tr>\n",
       "      <th>japanese</th>\n",
       "      <td>0.007590</td>\n",
       "    </tr>\n",
       "    <tr>\n",
       "      <th>thai</th>\n",
       "      <td>0.007405</td>\n",
       "    </tr>\n",
       "    <tr>\n",
       "      <th>chinese</th>\n",
       "      <td>0.006312</td>\n",
       "    </tr>\n",
       "  </tbody>\n",
       "</table>\n",
       "</div>"
      ],
      "text/plain": [
       "                 0\n",
       "indian    0.958931\n",
       "korean    0.019762\n",
       "japanese  0.007590\n",
       "thai      0.007405\n",
       "chinese   0.006312"
      ]
     },
     "execution_count": 60,
     "metadata": {},
     "output_type": "execute_result"
    }
   ],
   "source": [
    "test = X_test.iloc[50].values.reshape(-1, 1).T\n",
    "y_proba = reg_model.predict_proba(test)\n",
    "classes = reg_model.classes_\n",
    "resultdf = pd.DataFrame(data= y_proba, columns= classes)\n",
    "\n",
    "top_predictions = resultdf.T.sort_values([0], ascending = [False])\n",
    "top_predictions.head()"
   ]
  },
  {
   "cell_type": "code",
   "execution_count": 68,
   "id": "8fcc31c0",
   "metadata": {},
   "outputs": [
    {
     "name": "stdout",
     "output_type": "stream",
     "text": [
      "              precision    recall  f1-score   support\n",
      "\n",
      "     chinese       0.69      0.73      0.71       135\n",
      "      indian       0.90      0.91      0.90       181\n",
      "    japanese       0.69      0.66      0.67       100\n",
      "      korean       0.79      0.83      0.81       228\n",
      "        thai       0.86      0.69      0.77        91\n",
      "\n",
      "    accuracy                           0.79       735\n",
      "   macro avg       0.78      0.76      0.77       735\n",
      "weighted avg       0.79      0.79      0.79       735\n",
      "\n"
     ]
    }
   ],
   "source": [
    "pred = reg_model.predict(X_test)\n",
    "print(classification_report(y_test, pred))"
   ]
  },
  {
   "cell_type": "markdown",
   "id": "022d8137",
   "metadata": {},
   "source": [
    "# More on Classifiers\n"
   ]
  },
  {
   "cell_type": "code",
   "execution_count": 73,
   "id": "99eb380f",
   "metadata": {},
   "outputs": [],
   "source": [
    "from sklearn.ensemble import AdaBoostClassifier, RandomForestClassifier\n",
    "from sklearn.neighbors import KNeighborsClassifier\n"
   ]
  },
  {
   "cell_type": "code",
   "execution_count": 99,
   "id": "948e333e",
   "metadata": {},
   "outputs": [],
   "source": [
    "#start with linear svc\n",
    "#knn\n",
    "\n",
    "c = 10\n",
    "\n",
    "classifiers = {\n",
    "    'Linear SVC': SVC(kernel ='linear', probability= True, C=c, random_state = 0 ),\n",
    "    'KNN Classifier': KNeighborsClassifier(c),\n",
    "    'SVC': SVC(),\n",
    "    'RFC': RandomForestClassifier(n_estimators = 100),\n",
    "    'ADA': AdaBoostClassifier(n_estimators=100)\n",
    "    }"
   ]
  },
  {
   "cell_type": "code",
   "execution_count": 100,
   "id": "32d47bbc",
   "metadata": {},
   "outputs": [
    {
     "name": "stdout",
     "output_type": "stream",
     "text": [
      "Accuracy of Linear SVC: 0.7346938775510204\n",
      "              precision    recall  f1-score   support\n",
      "\n",
      "     chinese       0.57      0.73      0.64       135\n",
      "      indian       0.87      0.82      0.85       181\n",
      "    japanese       0.67      0.66      0.66       100\n",
      "      korean       0.80      0.74      0.77       228\n",
      "        thai       0.69      0.65      0.67        91\n",
      "\n",
      "    accuracy                           0.73       735\n",
      "   macro avg       0.72      0.72      0.72       735\n",
      "weighted avg       0.75      0.73      0.74       735\n",
      "\n",
      "Accuracy of KNN Classifier: 0.7183673469387755\n",
      "              precision    recall  f1-score   support\n",
      "\n",
      "     chinese       0.66      0.59      0.62       135\n",
      "      indian       0.78      0.92      0.84       181\n",
      "    japanese       0.65      0.58      0.61       100\n",
      "      korean       0.70      0.85      0.76       228\n",
      "        thai       0.91      0.35      0.51        91\n",
      "\n",
      "    accuracy                           0.72       735\n",
      "   macro avg       0.74      0.66      0.67       735\n",
      "weighted avg       0.73      0.72      0.70       735\n",
      "\n",
      "Accuracy of SVC: 0.7986394557823129\n",
      "              precision    recall  f1-score   support\n",
      "\n",
      "     chinese       0.70      0.75      0.72       135\n",
      "      indian       0.88      0.92      0.90       181\n",
      "    japanese       0.70      0.65      0.67       100\n",
      "      korean       0.80      0.87      0.84       228\n",
      "        thai       0.90      0.63      0.74        91\n",
      "\n",
      "    accuracy                           0.80       735\n",
      "   macro avg       0.80      0.76      0.77       735\n",
      "weighted avg       0.80      0.80      0.80       735\n",
      "\n",
      "Accuracy of RFC: 0.8054421768707483\n",
      "              precision    recall  f1-score   support\n",
      "\n",
      "     chinese       0.72      0.74      0.73       135\n",
      "      indian       0.83      0.94      0.88       181\n",
      "    japanese       0.79      0.60      0.68       100\n",
      "      korean       0.82      0.90      0.86       228\n",
      "        thai       0.85      0.62      0.71        91\n",
      "\n",
      "    accuracy                           0.81       735\n",
      "   macro avg       0.80      0.76      0.77       735\n",
      "weighted avg       0.81      0.81      0.80       735\n",
      "\n",
      "Accuracy of ADA: 0.672108843537415\n",
      "              precision    recall  f1-score   support\n",
      "\n",
      "     chinese       0.53      0.68      0.60       135\n",
      "      indian       0.87      0.83      0.85       181\n",
      "    japanese       0.65      0.39      0.49       100\n",
      "      korean       0.62      0.76      0.68       228\n",
      "        thai       0.78      0.43      0.55        91\n",
      "\n",
      "    accuracy                           0.67       735\n",
      "   macro avg       0.69      0.62      0.63       735\n",
      "weighted avg       0.69      0.67      0.67       735\n",
      "\n"
     ]
    }
   ],
   "source": [
    "#train model\n",
    "n_classifiers = len(classifiers)\n",
    "\n",
    "for index, (name, classifier) in enumerate(classifiers.items()):\n",
    "    classifier.fit(X_train, np.ravel(y_train))\n",
    "    y_pred = classifier.predict(X_test)\n",
    "    accuracy = accuracy_score(y_test, y_pred)\n",
    "    print(f'Accuracy of {name}: {accuracy}')\n",
    "    print(classification_report(y_test, y_pred))"
   ]
  },
  {
   "cell_type": "code",
   "execution_count": null,
   "id": "9ffc8af9",
   "metadata": {},
   "outputs": [],
   "source": []
  }
 ],
 "metadata": {
  "kernelspec": {
   "display_name": "Python 3",
   "language": "python",
   "name": "python3"
  },
  "language_info": {
   "codemirror_mode": {
    "name": "ipython",
    "version": 3
   },
   "file_extension": ".py",
   "mimetype": "text/x-python",
   "name": "python",
   "nbconvert_exporter": "python",
   "pygments_lexer": "ipython3",
   "version": "3.12.4"
  }
 },
 "nbformat": 4,
 "nbformat_minor": 5
}

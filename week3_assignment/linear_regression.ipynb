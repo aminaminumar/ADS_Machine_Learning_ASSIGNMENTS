{
 "cells": [
  {
   "cell_type": "markdown",
   "id": "cd23c3c8",
   "metadata": {},
   "source": [
    "### Linear and Polynomial Regression for Pumpkin Pricing - Lesson 3\n",
    "#### Load up required libraries and dataset. Convert the data to a dataframe containing a subset of the data:\n",
    "\n",
    "- Only get pumpkins priced by the bushel\n",
    "- Convert the date to a month\n",
    "- Calculate the price to be an average of high and low prices\n",
    "- Convert the price to reflect the pricing by bushel quantity"
   ]
  },
  {
   "cell_type": "code",
   "execution_count": 12,
   "id": "d82ba311",
   "metadata": {},
   "outputs": [],
   "source": [
    "import pandas as pd\n",
    "from pandas import DatetimeIndex\n",
    "import datetime\n",
    "import numpy as np\n",
    "import matplotlib.pyplot as plt\n"
   ]
  },
  {
   "cell_type": "code",
   "execution_count": 16,
   "id": "a71f279b",
   "metadata": {},
   "outputs": [
    {
     "data": {
      "application/vnd.microsoft.datawrangler.viewer.v0+json": {
       "columns": [
        {
         "name": "index",
         "rawType": "int64",
         "type": "integer"
        },
        {
         "name": "City Name",
         "rawType": "object",
         "type": "string"
        },
        {
         "name": "Type",
         "rawType": "object",
         "type": "unknown"
        },
        {
         "name": "Package",
         "rawType": "object",
         "type": "string"
        },
        {
         "name": "Variety",
         "rawType": "object",
         "type": "unknown"
        },
        {
         "name": "Sub Variety",
         "rawType": "object",
         "type": "unknown"
        },
        {
         "name": "Grade",
         "rawType": "float64",
         "type": "float"
        },
        {
         "name": "Date",
         "rawType": "object",
         "type": "string"
        },
        {
         "name": "Low Price",
         "rawType": "float64",
         "type": "float"
        },
        {
         "name": "High Price",
         "rawType": "float64",
         "type": "float"
        },
        {
         "name": "Mostly Low",
         "rawType": "float64",
         "type": "float"
        },
        {
         "name": "Mostly High",
         "rawType": "float64",
         "type": "float"
        },
        {
         "name": "Origin",
         "rawType": "object",
         "type": "string"
        },
        {
         "name": "Origin District",
         "rawType": "object",
         "type": "unknown"
        },
        {
         "name": "Item Size",
         "rawType": "object",
         "type": "string"
        },
        {
         "name": "Color",
         "rawType": "object",
         "type": "unknown"
        },
        {
         "name": "Environment",
         "rawType": "float64",
         "type": "float"
        },
        {
         "name": "Unit of Sale",
         "rawType": "object",
         "type": "unknown"
        },
        {
         "name": "Quality",
         "rawType": "float64",
         "type": "float"
        },
        {
         "name": "Condition",
         "rawType": "float64",
         "type": "float"
        },
        {
         "name": "Appearance",
         "rawType": "float64",
         "type": "float"
        },
        {
         "name": "Storage",
         "rawType": "float64",
         "type": "float"
        },
        {
         "name": "Crop",
         "rawType": "float64",
         "type": "float"
        },
        {
         "name": "Repack",
         "rawType": "object",
         "type": "string"
        },
        {
         "name": "Trans Mode",
         "rawType": "float64",
         "type": "float"
        },
        {
         "name": "Unnamed: 24",
         "rawType": "float64",
         "type": "float"
        },
        {
         "name": "Unnamed: 25",
         "rawType": "object",
         "type": "unknown"
        }
       ],
       "ref": "284d468e-4bb9-4a53-8a45-f361661ac7fa",
       "rows": [
        [
         "0",
         "BALTIMORE",
         null,
         "24 inch bins",
         null,
         null,
         null,
         "4/29/17",
         "270.0",
         "280.0",
         "270.0",
         "280.0",
         "MARYLAND",
         null,
         "lge",
         null,
         null,
         null,
         null,
         null,
         null,
         null,
         null,
         "E",
         null,
         null,
         null
        ],
        [
         "1",
         "BALTIMORE",
         null,
         "24 inch bins",
         null,
         null,
         null,
         "5/6/17",
         "270.0",
         "280.0",
         "270.0",
         "280.0",
         "MARYLAND",
         null,
         "lge",
         null,
         null,
         null,
         null,
         null,
         null,
         null,
         null,
         "E",
         null,
         null,
         null
        ],
        [
         "2",
         "BALTIMORE",
         null,
         "24 inch bins",
         "HOWDEN TYPE",
         null,
         null,
         "9/24/16",
         "160.0",
         "160.0",
         "160.0",
         "160.0",
         "DELAWARE",
         null,
         "med",
         "ORANGE",
         null,
         null,
         null,
         null,
         null,
         null,
         null,
         "N",
         null,
         null,
         null
        ],
        [
         "3",
         "BALTIMORE",
         null,
         "24 inch bins",
         "HOWDEN TYPE",
         null,
         null,
         "9/24/16",
         "160.0",
         "160.0",
         "160.0",
         "160.0",
         "VIRGINIA",
         null,
         "med",
         "ORANGE",
         null,
         null,
         null,
         null,
         null,
         null,
         null,
         "N",
         null,
         null,
         null
        ],
        [
         "4",
         "BALTIMORE",
         null,
         "24 inch bins",
         "HOWDEN TYPE",
         null,
         null,
         "11/5/16",
         "90.0",
         "100.0",
         "90.0",
         "100.0",
         "MARYLAND",
         null,
         "lge",
         "ORANGE",
         null,
         null,
         null,
         null,
         null,
         null,
         null,
         "N",
         null,
         null,
         null
        ]
       ],
       "shape": {
        "columns": 26,
        "rows": 5
       }
      },
      "text/html": [
       "<div>\n",
       "<style scoped>\n",
       "    .dataframe tbody tr th:only-of-type {\n",
       "        vertical-align: middle;\n",
       "    }\n",
       "\n",
       "    .dataframe tbody tr th {\n",
       "        vertical-align: top;\n",
       "    }\n",
       "\n",
       "    .dataframe thead th {\n",
       "        text-align: right;\n",
       "    }\n",
       "</style>\n",
       "<table border=\"1\" class=\"dataframe\">\n",
       "  <thead>\n",
       "    <tr style=\"text-align: right;\">\n",
       "      <th></th>\n",
       "      <th>City Name</th>\n",
       "      <th>Type</th>\n",
       "      <th>Package</th>\n",
       "      <th>Variety</th>\n",
       "      <th>Sub Variety</th>\n",
       "      <th>Grade</th>\n",
       "      <th>Date</th>\n",
       "      <th>Low Price</th>\n",
       "      <th>High Price</th>\n",
       "      <th>Mostly Low</th>\n",
       "      <th>...</th>\n",
       "      <th>Unit of Sale</th>\n",
       "      <th>Quality</th>\n",
       "      <th>Condition</th>\n",
       "      <th>Appearance</th>\n",
       "      <th>Storage</th>\n",
       "      <th>Crop</th>\n",
       "      <th>Repack</th>\n",
       "      <th>Trans Mode</th>\n",
       "      <th>Unnamed: 24</th>\n",
       "      <th>Unnamed: 25</th>\n",
       "    </tr>\n",
       "  </thead>\n",
       "  <tbody>\n",
       "    <tr>\n",
       "      <th>0</th>\n",
       "      <td>BALTIMORE</td>\n",
       "      <td>NaN</td>\n",
       "      <td>24 inch bins</td>\n",
       "      <td>NaN</td>\n",
       "      <td>NaN</td>\n",
       "      <td>NaN</td>\n",
       "      <td>4/29/17</td>\n",
       "      <td>270.0</td>\n",
       "      <td>280.0</td>\n",
       "      <td>270.0</td>\n",
       "      <td>...</td>\n",
       "      <td>NaN</td>\n",
       "      <td>NaN</td>\n",
       "      <td>NaN</td>\n",
       "      <td>NaN</td>\n",
       "      <td>NaN</td>\n",
       "      <td>NaN</td>\n",
       "      <td>E</td>\n",
       "      <td>NaN</td>\n",
       "      <td>NaN</td>\n",
       "      <td>NaN</td>\n",
       "    </tr>\n",
       "    <tr>\n",
       "      <th>1</th>\n",
       "      <td>BALTIMORE</td>\n",
       "      <td>NaN</td>\n",
       "      <td>24 inch bins</td>\n",
       "      <td>NaN</td>\n",
       "      <td>NaN</td>\n",
       "      <td>NaN</td>\n",
       "      <td>5/6/17</td>\n",
       "      <td>270.0</td>\n",
       "      <td>280.0</td>\n",
       "      <td>270.0</td>\n",
       "      <td>...</td>\n",
       "      <td>NaN</td>\n",
       "      <td>NaN</td>\n",
       "      <td>NaN</td>\n",
       "      <td>NaN</td>\n",
       "      <td>NaN</td>\n",
       "      <td>NaN</td>\n",
       "      <td>E</td>\n",
       "      <td>NaN</td>\n",
       "      <td>NaN</td>\n",
       "      <td>NaN</td>\n",
       "    </tr>\n",
       "    <tr>\n",
       "      <th>2</th>\n",
       "      <td>BALTIMORE</td>\n",
       "      <td>NaN</td>\n",
       "      <td>24 inch bins</td>\n",
       "      <td>HOWDEN TYPE</td>\n",
       "      <td>NaN</td>\n",
       "      <td>NaN</td>\n",
       "      <td>9/24/16</td>\n",
       "      <td>160.0</td>\n",
       "      <td>160.0</td>\n",
       "      <td>160.0</td>\n",
       "      <td>...</td>\n",
       "      <td>NaN</td>\n",
       "      <td>NaN</td>\n",
       "      <td>NaN</td>\n",
       "      <td>NaN</td>\n",
       "      <td>NaN</td>\n",
       "      <td>NaN</td>\n",
       "      <td>N</td>\n",
       "      <td>NaN</td>\n",
       "      <td>NaN</td>\n",
       "      <td>NaN</td>\n",
       "    </tr>\n",
       "    <tr>\n",
       "      <th>3</th>\n",
       "      <td>BALTIMORE</td>\n",
       "      <td>NaN</td>\n",
       "      <td>24 inch bins</td>\n",
       "      <td>HOWDEN TYPE</td>\n",
       "      <td>NaN</td>\n",
       "      <td>NaN</td>\n",
       "      <td>9/24/16</td>\n",
       "      <td>160.0</td>\n",
       "      <td>160.0</td>\n",
       "      <td>160.0</td>\n",
       "      <td>...</td>\n",
       "      <td>NaN</td>\n",
       "      <td>NaN</td>\n",
       "      <td>NaN</td>\n",
       "      <td>NaN</td>\n",
       "      <td>NaN</td>\n",
       "      <td>NaN</td>\n",
       "      <td>N</td>\n",
       "      <td>NaN</td>\n",
       "      <td>NaN</td>\n",
       "      <td>NaN</td>\n",
       "    </tr>\n",
       "    <tr>\n",
       "      <th>4</th>\n",
       "      <td>BALTIMORE</td>\n",
       "      <td>NaN</td>\n",
       "      <td>24 inch bins</td>\n",
       "      <td>HOWDEN TYPE</td>\n",
       "      <td>NaN</td>\n",
       "      <td>NaN</td>\n",
       "      <td>11/5/16</td>\n",
       "      <td>90.0</td>\n",
       "      <td>100.0</td>\n",
       "      <td>90.0</td>\n",
       "      <td>...</td>\n",
       "      <td>NaN</td>\n",
       "      <td>NaN</td>\n",
       "      <td>NaN</td>\n",
       "      <td>NaN</td>\n",
       "      <td>NaN</td>\n",
       "      <td>NaN</td>\n",
       "      <td>N</td>\n",
       "      <td>NaN</td>\n",
       "      <td>NaN</td>\n",
       "      <td>NaN</td>\n",
       "    </tr>\n",
       "  </tbody>\n",
       "</table>\n",
       "<p>5 rows × 26 columns</p>\n",
       "</div>"
      ],
      "text/plain": [
       "   City Name Type       Package      Variety Sub Variety  Grade     Date  \\\n",
       "0  BALTIMORE  NaN  24 inch bins          NaN         NaN    NaN  4/29/17   \n",
       "1  BALTIMORE  NaN  24 inch bins          NaN         NaN    NaN   5/6/17   \n",
       "2  BALTIMORE  NaN  24 inch bins  HOWDEN TYPE         NaN    NaN  9/24/16   \n",
       "3  BALTIMORE  NaN  24 inch bins  HOWDEN TYPE         NaN    NaN  9/24/16   \n",
       "4  BALTIMORE  NaN  24 inch bins  HOWDEN TYPE         NaN    NaN  11/5/16   \n",
       "\n",
       "   Low Price  High Price  Mostly Low  ...  Unit of Sale Quality Condition  \\\n",
       "0      270.0       280.0       270.0  ...           NaN     NaN       NaN   \n",
       "1      270.0       280.0       270.0  ...           NaN     NaN       NaN   \n",
       "2      160.0       160.0       160.0  ...           NaN     NaN       NaN   \n",
       "3      160.0       160.0       160.0  ...           NaN     NaN       NaN   \n",
       "4       90.0       100.0        90.0  ...           NaN     NaN       NaN   \n",
       "\n",
       "  Appearance Storage  Crop Repack  Trans Mode  Unnamed: 24  Unnamed: 25  \n",
       "0        NaN     NaN   NaN      E         NaN          NaN          NaN  \n",
       "1        NaN     NaN   NaN      E         NaN          NaN          NaN  \n",
       "2        NaN     NaN   NaN      N         NaN          NaN          NaN  \n",
       "3        NaN     NaN   NaN      N         NaN          NaN          NaN  \n",
       "4        NaN     NaN   NaN      N         NaN          NaN          NaN  \n",
       "\n",
       "[5 rows x 26 columns]"
      ]
     },
     "execution_count": 16,
     "metadata": {},
     "output_type": "execute_result"
    }
   ],
   "source": [
    "Pump = pd.read_csv('US-pumpkins.csv')\n",
    "\n",
    "Pump.head()"
   ]
  },
  {
   "cell_type": "code",
   "execution_count": 21,
   "id": "5c090f19",
   "metadata": {},
   "outputs": [],
   "source": [
    "Month = DatetimeIndex(Pump['Date']).month\n",
    "Price = (Pump['High Price'] + Pump['Low Price']) / 2\n",
    " #add a col day of the year \n",
    "Pump['Day of Year'] = DatetimeIndex(Pump['Date']).dayofyear\n",
    "\n"
   ]
  },
  {
   "cell_type": "code",
   "execution_count": 26,
   "id": "12e4c4ae",
   "metadata": {},
   "outputs": [],
   "source": [
    "pumkins = pd.DataFrame({\n",
    "                        'City': Pump['City Name'],\n",
    "                        'Month': Month, \n",
    "                        'Date': Pump['Date'],\n",
    "                        'Variety': Pump['Variety'], \n",
    "                        'Day of Year': Pump['Day of Year'],\n",
    "                        'Package': Pump['Package'],\n",
    "                        'Price': Price, \n",
    "                        'Low Price': Pump['Low Price'], \n",
    "                        'High Price': Pump['High Price']\n",
    "                         })\n",
    "\n",
    "\n"
   ]
  },
  {
   "cell_type": "code",
   "execution_count": 27,
   "id": "6bfc3ec8",
   "metadata": {},
   "outputs": [],
   "source": [
    "pumkins = pumkins[pumkins['Package'].str.contains('bushel', case=True, regex= True)].reset_index(drop=True)"
   ]
  },
  {
   "cell_type": "code",
   "execution_count": 28,
   "id": "e8eb9932",
   "metadata": {},
   "outputs": [],
   "source": [
    "pumkins.loc[pumkins['Package'].str.contains('1 1/9 bushel' ), 'Price'] = pumkins['Price'] / (1+1/9)\n",
    "pumkins.loc[pumkins['Package'].str.contains('1/2 bushel' ), 'Price'] = pumkins['Price'] / (1/2)"
   ]
  },
  {
   "cell_type": "code",
   "execution_count": 29,
   "id": "96df4147",
   "metadata": {},
   "outputs": [
    {
     "data": {
      "application/vnd.microsoft.datawrangler.viewer.v0+json": {
       "columns": [
        {
         "name": "index",
         "rawType": "int64",
         "type": "integer"
        },
        {
         "name": "City",
         "rawType": "object",
         "type": "string"
        },
        {
         "name": "Month",
         "rawType": "int32",
         "type": "integer"
        },
        {
         "name": "Date",
         "rawType": "object",
         "type": "string"
        },
        {
         "name": "Variety",
         "rawType": "object",
         "type": "string"
        },
        {
         "name": "Day of Year",
         "rawType": "int32",
         "type": "integer"
        },
        {
         "name": "Package",
         "rawType": "object",
         "type": "string"
        },
        {
         "name": "Price",
         "rawType": "float64",
         "type": "float"
        },
        {
         "name": "Low Price",
         "rawType": "float64",
         "type": "float"
        },
        {
         "name": "High Price",
         "rawType": "float64",
         "type": "float"
        }
       ],
       "ref": "020f2d9b-7a3c-40ad-aa49-3b3fd0c9d821",
       "rows": [
        [
         "0",
         "BALTIMORE",
         "9",
         "9/24/16",
         "PIE TYPE",
         "268",
         "1 1/9 bushel cartons",
         "13.5",
         "15.0",
         "15.0"
        ],
        [
         "1",
         "BALTIMORE",
         "9",
         "9/24/16",
         "PIE TYPE",
         "268",
         "1 1/9 bushel cartons",
         "16.2",
         "18.0",
         "18.0"
        ],
        [
         "2",
         "BALTIMORE",
         "10",
         "10/1/16",
         "PIE TYPE",
         "275",
         "1 1/9 bushel cartons",
         "16.2",
         "18.0",
         "18.0"
        ],
        [
         "3",
         "BALTIMORE",
         "10",
         "10/1/16",
         "PIE TYPE",
         "275",
         "1 1/9 bushel cartons",
         "15.299999999999999",
         "17.0",
         "17.0"
        ],
        [
         "4",
         "BALTIMORE",
         "10",
         "10/8/16",
         "PIE TYPE",
         "282",
         "1 1/9 bushel cartons",
         "13.5",
         "15.0",
         "15.0"
        ],
        [
         "5",
         "BALTIMORE",
         "10",
         "10/8/16",
         "PIE TYPE",
         "282",
         "1 1/9 bushel cartons",
         "16.2",
         "18.0",
         "18.0"
        ],
        [
         "6",
         "BALTIMORE",
         "10",
         "10/8/16",
         "PIE TYPE",
         "282",
         "1 1/9 bushel cartons",
         "15.299999999999999",
         "17.0",
         "17.0"
        ],
        [
         "7",
         "BALTIMORE",
         "10",
         "10/8/16",
         "PIE TYPE",
         "282",
         "1 1/9 bushel cartons",
         "15.975",
         "17.0",
         "18.5"
        ],
        [
         "8",
         "BALTIMORE",
         "10",
         "10/15/16",
         "PIE TYPE",
         "289",
         "1 1/9 bushel cartons",
         "13.5",
         "15.0",
         "15.0"
        ],
        [
         "9",
         "BALTIMORE",
         "10",
         "10/15/16",
         "PIE TYPE",
         "289",
         "1 1/9 bushel cartons",
         "15.299999999999999",
         "17.0",
         "17.0"
        ],
        [
         "10",
         "BALTIMORE",
         "10",
         "10/15/16",
         "PIE TYPE",
         "289",
         "1 1/9 bushel cartons",
         "15.975",
         "17.0",
         "18.5"
        ],
        [
         "11",
         "BALTIMORE",
         "10",
         "10/22/16",
         "PIE TYPE",
         "296",
         "1 1/9 bushel cartons",
         "13.5",
         "15.0",
         "15.0"
        ],
        [
         "12",
         "BALTIMORE",
         "10",
         "10/22/16",
         "PIE TYPE",
         "296",
         "1 1/9 bushel cartons",
         "15.299999999999999",
         "17.0",
         "17.0"
        ],
        [
         "13",
         "BALTIMORE",
         "10",
         "10/22/16",
         "PIE TYPE",
         "296",
         "1 1/9 bushel cartons",
         "15.975",
         "17.0",
         "18.5"
        ],
        [
         "14",
         "BALTIMORE",
         "10",
         "10/29/16",
         "PIE TYPE",
         "303",
         "1 1/9 bushel cartons",
         "13.5",
         "15.0",
         "15.0"
        ],
        [
         "15",
         "BALTIMORE",
         "10",
         "10/29/16",
         "PIE TYPE",
         "303",
         "1 1/9 bushel cartons",
         "14.85",
         "16.0",
         "17.0"
        ],
        [
         "16",
         "BALTIMORE",
         "10",
         "10/29/16",
         "PIE TYPE",
         "303",
         "1 1/9 bushel cartons",
         "15.299999999999999",
         "16.0",
         "18.0"
        ],
        [
         "17",
         "BALTIMORE",
         "9",
         "9/16/17",
         "PIE TYPE",
         "259",
         "1 1/9 bushel cartons",
         "16.2",
         "18.0",
         "18.0"
        ],
        [
         "18",
         "BALTIMORE",
         "9",
         "9/23/17",
         "PIE TYPE",
         "266",
         "1 1/9 bushel cartons",
         "14.399999999999999",
         "16.0",
         "16.0"
        ],
        [
         "19",
         "BALTIMORE",
         "9",
         "9/23/17",
         "PIE TYPE",
         "266",
         "1 1/9 bushel cartons",
         "16.2",
         "18.0",
         "18.0"
        ],
        [
         "20",
         "BALTIMORE",
         "9",
         "9/23/17",
         "PIE TYPE",
         "266",
         "1 1/9 bushel cartons",
         "14.399999999999999",
         "16.0",
         "16.0"
        ],
        [
         "21",
         "BALTIMORE",
         "9",
         "9/30/17",
         "PIE TYPE",
         "273",
         "1 1/9 bushel cartons",
         "14.399999999999999",
         "16.0",
         "16.0"
        ],
        [
         "22",
         "BALTIMORE",
         "9",
         "9/30/17",
         "PIE TYPE",
         "273",
         "1 1/9 bushel cartons",
         "14.399999999999999",
         "16.0",
         "16.0"
        ],
        [
         "23",
         "BALTIMORE",
         "9",
         "9/24/16",
         "MINIATURE",
         "268",
         "1/2 bushel cartons",
         "36.0",
         "18.0",
         "18.0"
        ],
        [
         "24",
         "BALTIMORE",
         "9",
         "9/24/16",
         "MINIATURE",
         "268",
         "1/2 bushel cartons",
         "30.0",
         "15.0",
         "15.0"
        ],
        [
         "25",
         "BALTIMORE",
         "10",
         "10/1/16",
         "MINIATURE",
         "275",
         "1/2 bushel cartons",
         "36.0",
         "18.0",
         "18.0"
        ],
        [
         "26",
         "BALTIMORE",
         "10",
         "10/1/16",
         "MINIATURE",
         "275",
         "1/2 bushel cartons",
         "30.0",
         "15.0",
         "15.0"
        ],
        [
         "27",
         "BALTIMORE",
         "10",
         "10/1/16",
         "MINIATURE",
         "275",
         "1/2 bushel cartons",
         "34.0",
         "17.0",
         "17.0"
        ],
        [
         "28",
         "BALTIMORE",
         "10",
         "10/8/16",
         "MINIATURE",
         "282",
         "1/2 bushel cartons",
         "30.0",
         "15.0",
         "15.0"
        ],
        [
         "29",
         "BALTIMORE",
         "10",
         "10/8/16",
         "MINIATURE",
         "282",
         "1/2 bushel cartons",
         "33.0",
         "15.0",
         "18.0"
        ],
        [
         "30",
         "BALTIMORE",
         "10",
         "10/8/16",
         "MINIATURE",
         "282",
         "1/2 bushel cartons",
         "33.0",
         "16.0",
         "17.0"
        ],
        [
         "31",
         "BALTIMORE",
         "10",
         "10/8/16",
         "MINIATURE",
         "282",
         "1/2 bushel cartons",
         "34.0",
         "16.0",
         "18.0"
        ],
        [
         "32",
         "BALTIMORE",
         "10",
         "10/15/16",
         "MINIATURE",
         "289",
         "1/2 bushel cartons",
         "30.0",
         "15.0",
         "15.0"
        ],
        [
         "33",
         "BALTIMORE",
         "10",
         "10/15/16",
         "MINIATURE",
         "289",
         "1/2 bushel cartons",
         "30.0",
         "15.0",
         "15.0"
        ],
        [
         "34",
         "BALTIMORE",
         "10",
         "10/15/16",
         "MINIATURE",
         "289",
         "1/2 bushel cartons",
         "33.0",
         "16.0",
         "17.0"
        ],
        [
         "35",
         "BALTIMORE",
         "10",
         "10/15/16",
         "MINIATURE",
         "289",
         "1/2 bushel cartons",
         "34.0",
         "16.0",
         "18.0"
        ],
        [
         "36",
         "BALTIMORE",
         "10",
         "10/22/16",
         "MINIATURE",
         "296",
         "1/2 bushel cartons",
         "30.0",
         "15.0",
         "15.0"
        ],
        [
         "37",
         "BALTIMORE",
         "10",
         "10/22/16",
         "MINIATURE",
         "296",
         "1/2 bushel cartons",
         "30.0",
         "15.0",
         "15.0"
        ],
        [
         "38",
         "BALTIMORE",
         "10",
         "10/22/16",
         "MINIATURE",
         "296",
         "1/2 bushel cartons",
         "33.0",
         "16.0",
         "17.0"
        ],
        [
         "39",
         "BALTIMORE",
         "10",
         "10/22/16",
         "MINIATURE",
         "296",
         "1/2 bushel cartons",
         "34.0",
         "16.0",
         "18.0"
        ],
        [
         "40",
         "BALTIMORE",
         "10",
         "10/29/16",
         "MINIATURE",
         "303",
         "1/2 bushel cartons",
         "32.0",
         "15.0",
         "17.0"
        ],
        [
         "41",
         "BALTIMORE",
         "10",
         "10/29/16",
         "MINIATURE",
         "303",
         "1/2 bushel cartons",
         "30.0",
         "15.0",
         "15.0"
        ],
        [
         "42",
         "BALTIMORE",
         "10",
         "10/29/16",
         "MINIATURE",
         "303",
         "1/2 bushel cartons",
         "33.0",
         "16.0",
         "17.0"
        ],
        [
         "43",
         "BALTIMORE",
         "10",
         "10/29/16",
         "MINIATURE",
         "303",
         "1/2 bushel cartons",
         "34.0",
         "16.0",
         "18.0"
        ],
        [
         "44",
         "BALTIMORE",
         "11",
         "11/5/16",
         "MINIATURE",
         "310",
         "1/2 bushel cartons",
         "33.0",
         "16.0",
         "17.0"
        ],
        [
         "45",
         "BALTIMORE",
         "9",
         "9/16/17",
         "MINIATURE",
         "259",
         "1/2 bushel cartons",
         "36.0",
         "18.0",
         "18.0"
        ],
        [
         "46",
         "BALTIMORE",
         "9",
         "9/23/17",
         "MINIATURE",
         "266",
         "1/2 bushel cartons",
         "36.0",
         "18.0",
         "18.0"
        ],
        [
         "47",
         "BALTIMORE",
         "9",
         "9/23/17",
         "MINIATURE",
         "266",
         "1/2 bushel cartons",
         "36.0",
         "18.0",
         "18.0"
        ],
        [
         "48",
         "BALTIMORE",
         "9",
         "9/30/17",
         "MINIATURE",
         "273",
         "1/2 bushel cartons",
         "36.0",
         "18.0",
         "18.0"
        ],
        [
         "49",
         "BALTIMORE",
         "9",
         "9/30/17",
         "MINIATURE",
         "273",
         "1/2 bushel cartons",
         "36.0",
         "18.0",
         "18.0"
        ]
       ],
       "shape": {
        "columns": 9,
        "rows": 415
       }
      },
      "text/html": [
       "<div>\n",
       "<style scoped>\n",
       "    .dataframe tbody tr th:only-of-type {\n",
       "        vertical-align: middle;\n",
       "    }\n",
       "\n",
       "    .dataframe tbody tr th {\n",
       "        vertical-align: top;\n",
       "    }\n",
       "\n",
       "    .dataframe thead th {\n",
       "        text-align: right;\n",
       "    }\n",
       "</style>\n",
       "<table border=\"1\" class=\"dataframe\">\n",
       "  <thead>\n",
       "    <tr style=\"text-align: right;\">\n",
       "      <th></th>\n",
       "      <th>City</th>\n",
       "      <th>Month</th>\n",
       "      <th>Date</th>\n",
       "      <th>Variety</th>\n",
       "      <th>Day of Year</th>\n",
       "      <th>Package</th>\n",
       "      <th>Price</th>\n",
       "      <th>Low Price</th>\n",
       "      <th>High Price</th>\n",
       "    </tr>\n",
       "  </thead>\n",
       "  <tbody>\n",
       "    <tr>\n",
       "      <th>0</th>\n",
       "      <td>BALTIMORE</td>\n",
       "      <td>9</td>\n",
       "      <td>9/24/16</td>\n",
       "      <td>PIE TYPE</td>\n",
       "      <td>268</td>\n",
       "      <td>1 1/9 bushel cartons</td>\n",
       "      <td>13.50</td>\n",
       "      <td>15.00</td>\n",
       "      <td>15.0</td>\n",
       "    </tr>\n",
       "    <tr>\n",
       "      <th>1</th>\n",
       "      <td>BALTIMORE</td>\n",
       "      <td>9</td>\n",
       "      <td>9/24/16</td>\n",
       "      <td>PIE TYPE</td>\n",
       "      <td>268</td>\n",
       "      <td>1 1/9 bushel cartons</td>\n",
       "      <td>16.20</td>\n",
       "      <td>18.00</td>\n",
       "      <td>18.0</td>\n",
       "    </tr>\n",
       "    <tr>\n",
       "      <th>2</th>\n",
       "      <td>BALTIMORE</td>\n",
       "      <td>10</td>\n",
       "      <td>10/1/16</td>\n",
       "      <td>PIE TYPE</td>\n",
       "      <td>275</td>\n",
       "      <td>1 1/9 bushel cartons</td>\n",
       "      <td>16.20</td>\n",
       "      <td>18.00</td>\n",
       "      <td>18.0</td>\n",
       "    </tr>\n",
       "    <tr>\n",
       "      <th>3</th>\n",
       "      <td>BALTIMORE</td>\n",
       "      <td>10</td>\n",
       "      <td>10/1/16</td>\n",
       "      <td>PIE TYPE</td>\n",
       "      <td>275</td>\n",
       "      <td>1 1/9 bushel cartons</td>\n",
       "      <td>15.30</td>\n",
       "      <td>17.00</td>\n",
       "      <td>17.0</td>\n",
       "    </tr>\n",
       "    <tr>\n",
       "      <th>4</th>\n",
       "      <td>BALTIMORE</td>\n",
       "      <td>10</td>\n",
       "      <td>10/8/16</td>\n",
       "      <td>PIE TYPE</td>\n",
       "      <td>282</td>\n",
       "      <td>1 1/9 bushel cartons</td>\n",
       "      <td>13.50</td>\n",
       "      <td>15.00</td>\n",
       "      <td>15.0</td>\n",
       "    </tr>\n",
       "    <tr>\n",
       "      <th>...</th>\n",
       "      <td>...</td>\n",
       "      <td>...</td>\n",
       "      <td>...</td>\n",
       "      <td>...</td>\n",
       "      <td>...</td>\n",
       "      <td>...</td>\n",
       "      <td>...</td>\n",
       "      <td>...</td>\n",
       "      <td>...</td>\n",
       "    </tr>\n",
       "    <tr>\n",
       "      <th>410</th>\n",
       "      <td>ST. LOUIS</td>\n",
       "      <td>9</td>\n",
       "      <td>9/30/16</td>\n",
       "      <td>MINIATURE</td>\n",
       "      <td>274</td>\n",
       "      <td>1/2 bushel cartons</td>\n",
       "      <td>30.00</td>\n",
       "      <td>15.00</td>\n",
       "      <td>15.0</td>\n",
       "    </tr>\n",
       "    <tr>\n",
       "      <th>411</th>\n",
       "      <td>ST. LOUIS</td>\n",
       "      <td>9</td>\n",
       "      <td>9/30/16</td>\n",
       "      <td>MINIATURE</td>\n",
       "      <td>274</td>\n",
       "      <td>1/2 bushel cartons</td>\n",
       "      <td>28.75</td>\n",
       "      <td>13.75</td>\n",
       "      <td>15.0</td>\n",
       "    </tr>\n",
       "    <tr>\n",
       "      <th>412</th>\n",
       "      <td>ST. LOUIS</td>\n",
       "      <td>9</td>\n",
       "      <td>9/30/16</td>\n",
       "      <td>MINIATURE</td>\n",
       "      <td>274</td>\n",
       "      <td>1/2 bushel cartons</td>\n",
       "      <td>25.75</td>\n",
       "      <td>10.75</td>\n",
       "      <td>15.0</td>\n",
       "    </tr>\n",
       "    <tr>\n",
       "      <th>413</th>\n",
       "      <td>ST. LOUIS</td>\n",
       "      <td>9</td>\n",
       "      <td>9/30/16</td>\n",
       "      <td>MINIATURE</td>\n",
       "      <td>274</td>\n",
       "      <td>1/2 bushel cartons</td>\n",
       "      <td>24.00</td>\n",
       "      <td>12.00</td>\n",
       "      <td>12.0</td>\n",
       "    </tr>\n",
       "    <tr>\n",
       "      <th>414</th>\n",
       "      <td>ST. LOUIS</td>\n",
       "      <td>9</td>\n",
       "      <td>9/30/16</td>\n",
       "      <td>MINIATURE</td>\n",
       "      <td>274</td>\n",
       "      <td>1/2 bushel cartons</td>\n",
       "      <td>24.00</td>\n",
       "      <td>12.00</td>\n",
       "      <td>12.0</td>\n",
       "    </tr>\n",
       "  </tbody>\n",
       "</table>\n",
       "<p>415 rows × 9 columns</p>\n",
       "</div>"
      ],
      "text/plain": [
       "          City  Month     Date    Variety  Day of Year               Package  \\\n",
       "0    BALTIMORE      9  9/24/16   PIE TYPE          268  1 1/9 bushel cartons   \n",
       "1    BALTIMORE      9  9/24/16   PIE TYPE          268  1 1/9 bushel cartons   \n",
       "2    BALTIMORE     10  10/1/16   PIE TYPE          275  1 1/9 bushel cartons   \n",
       "3    BALTIMORE     10  10/1/16   PIE TYPE          275  1 1/9 bushel cartons   \n",
       "4    BALTIMORE     10  10/8/16   PIE TYPE          282  1 1/9 bushel cartons   \n",
       "..         ...    ...      ...        ...          ...                   ...   \n",
       "410  ST. LOUIS      9  9/30/16  MINIATURE          274    1/2 bushel cartons   \n",
       "411  ST. LOUIS      9  9/30/16  MINIATURE          274    1/2 bushel cartons   \n",
       "412  ST. LOUIS      9  9/30/16  MINIATURE          274    1/2 bushel cartons   \n",
       "413  ST. LOUIS      9  9/30/16  MINIATURE          274    1/2 bushel cartons   \n",
       "414  ST. LOUIS      9  9/30/16  MINIATURE          274    1/2 bushel cartons   \n",
       "\n",
       "     Price  Low Price  High Price  \n",
       "0    13.50      15.00        15.0  \n",
       "1    16.20      18.00        18.0  \n",
       "2    16.20      18.00        18.0  \n",
       "3    15.30      17.00        17.0  \n",
       "4    13.50      15.00        15.0  \n",
       "..     ...        ...         ...  \n",
       "410  30.00      15.00        15.0  \n",
       "411  28.75      13.75        15.0  \n",
       "412  25.75      10.75        15.0  \n",
       "413  24.00      12.00        12.0  \n",
       "414  24.00      12.00        12.0  \n",
       "\n",
       "[415 rows x 9 columns]"
      ]
     },
     "execution_count": 29,
     "metadata": {},
     "output_type": "execute_result"
    }
   ],
   "source": [
    "pumkins"
   ]
  },
  {
   "cell_type": "code",
   "execution_count": 35,
   "id": "bf6e3e46",
   "metadata": {},
   "outputs": [
    {
     "data": {
      "image/png": "[encoded data removed]",
      "text/plain": [
       "<Figure size 640x480 with 1 Axes>"
      ]
     },
     "metadata": {},
     "output_type": "display_data"
    }
   ],
   "source": [
    "#filter for only pie pumkin\n",
    "PIE_pumkins = pumkins[pumkins['Variety'] == 'PIE TYPE']\n",
    "PIE_pumkins.plot.scatter(x='Day of Year', y='Price')\n",
    "plt.show()"
   ]
  },
  {
   "cell_type": "code",
   "execution_count": 48,
   "id": "29f273ed",
   "metadata": {},
   "outputs": [],
   "source": [
    "from sklearn.linear_model import LinearRegression\n",
    "from sklearn.metrics import mean_squared_error, r2_score\n",
    "from sklearn.model_selection import train_test_split"
   ]
  },
  {
   "cell_type": "code",
   "execution_count": 66,
   "id": "a5026d0f",
   "metadata": {},
   "outputs": [
    {
     "name": "stdout",
     "output_type": "stream",
     "text": [
      "Mean Squared Error: 108.25839657480128\n",
      "R^2 Score: -0.0026328620898472543\n"
     ]
    }
   ],
   "source": [
    "X= pumkins['Day of Year'].to_numpy().reshape(-1,1)\n",
    "y = pumkins['Price']\n",
    "\n",
    "X_train, X_test, y_train, y_test =  train_test_split(X,y, test_size = 0.2, random_state = 42)\n",
    "Lin_reg = LinearRegression()\n",
    "Lin_reg.fit(X_train, y_train)\n",
    "y_pred = Lin_reg.predict(X_test)\n",
    "print('Mean Squared Error:', mean_squared_error(y_test, y_pred))\n",
    "print('R^2 Score:', r2_score(y_test, y_pred))\n"
   ]
  },
  {
   "cell_type": "code",
   "execution_count": 67,
   "id": "30501af4",
   "metadata": {},
   "outputs": [
    {
     "name": "stdout",
     "output_type": "stream",
     "text": [
      "RMSE: 10.199782438559847\n",
      "R^2 Score: 0.03647683338331753\n"
     ]
    }
   ],
   "source": [
    "#polynomial regression\n",
    "from sklearn.preprocessing import PolynomialFeatures\n",
    "from sklearn.pipeline import Pipeline\n",
    "pipeline = Pipeline([('poly_features', PolynomialFeatures(degree=2)),\n",
    "                     ('lin_reg', LinearRegression())])\n",
    "\n",
    "pipeline.fit(X_train, y_train)\n",
    "y_pred_poly = pipeline.predict(X_test)\n",
    "print('RMSE:', np.sqrt(mean_squared_error(y_test, y_pred_poly)))\n",
    "print('R^2 Score:', r2_score(y_test, y_pred_poly))"
   ]
  },
  {
   "cell_type": "markdown",
   "id": "4b89b470",
   "metadata": {},
   "source": [
    "### Assignment\n",
    "#### Create a Regression Model\n",
    "##### Instructions\n",
    "In this lesson you were shown how to build a model using both Linear and Polynomial Regression. Using this knowledge, find a dataset or use one of Scikit-learn's built-in sets to build a fresh model. Explain in your notebook why you chose the technique you did, and demonstrate your model's accuracy. If it is not accurate, explain why."
   ]
  },
  {
   "cell_type": "code",
   "execution_count": 41,
   "id": "c69843e4",
   "metadata": {},
   "outputs": [
    {
     "data": {
      "application/vnd.microsoft.datawrangler.viewer.v0+json": {
       "columns": [
        {
         "name": "index",
         "rawType": "int64",
         "type": "integer"
        },
        {
         "name": "Unnamed: 0",
         "rawType": "int64",
         "type": "integer"
        },
        {
         "name": "YearsExperience",
         "rawType": "float64",
         "type": "float"
        },
        {
         "name": "Salary",
         "rawType": "float64",
         "type": "float"
        }
       ],
       "ref": "2419522c-94d0-4c86-8527-d79a5a2d9b99",
       "rows": [
        [
         "0",
         "0",
         "1.2000000000000002",
         "39344.0"
        ],
        [
         "1",
         "1",
         "1.4",
         "46206.0"
        ],
        [
         "2",
         "2",
         "1.6",
         "37732.0"
        ],
        [
         "3",
         "3",
         "2.1",
         "43526.0"
        ],
        [
         "4",
         "4",
         "2.3000000000000003",
         "39892.0"
        ],
        [
         "5",
         "5",
         "3.0",
         "56643.0"
        ],
        [
         "6",
         "6",
         "3.1",
         "60151.0"
        ],
        [
         "7",
         "7",
         "3.3000000000000003",
         "54446.0"
        ],
        [
         "8",
         "8",
         "3.3000000000000003",
         "64446.0"
        ],
        [
         "9",
         "9",
         "3.8",
         "57190.0"
        ],
        [
         "10",
         "10",
         "4.0",
         "63219.0"
        ],
        [
         "11",
         "11",
         "4.1",
         "55795.0"
        ],
        [
         "12",
         "12",
         "4.1",
         "56958.0"
        ],
        [
         "13",
         "13",
         "4.199999999999999",
         "57082.0"
        ],
        [
         "14",
         "14",
         "4.6",
         "61112.0"
        ],
        [
         "15",
         "15",
         "5.0",
         "67939.0"
        ],
        [
         "16",
         "16",
         "5.199999999999999",
         "66030.0"
        ],
        [
         "17",
         "17",
         "5.4",
         "83089.0"
        ],
        [
         "18",
         "18",
         "6.0",
         "81364.0"
        ],
        [
         "19",
         "19",
         "6.1",
         "93941.0"
        ],
        [
         "20",
         "20",
         "6.9",
         "91739.0"
        ],
        [
         "21",
         "21",
         "7.199999999999999",
         "98274.0"
        ],
        [
         "22",
         "22",
         "8.0",
         "101303.0"
        ],
        [
         "23",
         "23",
         "8.299999999999999",
         "113813.0"
        ],
        [
         "24",
         "24",
         "8.799999999999999",
         "109432.0"
        ],
        [
         "25",
         "25",
         "9.1",
         "105583.0"
        ],
        [
         "26",
         "26",
         "9.6",
         "116970.0"
        ],
        [
         "27",
         "27",
         "9.7",
         "112636.0"
        ],
        [
         "28",
         "28",
         "10.4",
         "122392.0"
        ],
        [
         "29",
         "29",
         "10.6",
         "121873.0"
        ]
       ],
       "shape": {
        "columns": 3,
        "rows": 30
       }
      },
      "text/html": [
       "<div>\n",
       "<style scoped>\n",
       "    .dataframe tbody tr th:only-of-type {\n",
       "        vertical-align: middle;\n",
       "    }\n",
       "\n",
       "    .dataframe tbody tr th {\n",
       "        vertical-align: top;\n",
       "    }\n",
       "\n",
       "    .dataframe thead th {\n",
       "        text-align: right;\n",
       "    }\n",
       "</style>\n",
       "<table border=\"1\" class=\"dataframe\">\n",
       "  <thead>\n",
       "    <tr style=\"text-align: right;\">\n",
       "      <th></th>\n",
       "      <th>Unnamed: 0</th>\n",
       "      <th>YearsExperience</th>\n",
       "      <th>Salary</th>\n",
       "    </tr>\n",
       "  </thead>\n",
       "  <tbody>\n",
       "    <tr>\n",
       "      <th>0</th>\n",
       "      <td>0</td>\n",
       "      <td>1.2</td>\n",
       "      <td>39344.0</td>\n",
       "    </tr>\n",
       "    <tr>\n",
       "      <th>1</th>\n",
       "      <td>1</td>\n",
       "      <td>1.4</td>\n",
       "      <td>46206.0</td>\n",
       "    </tr>\n",
       "    <tr>\n",
       "      <th>2</th>\n",
       "      <td>2</td>\n",
       "      <td>1.6</td>\n",
       "      <td>37732.0</td>\n",
       "    </tr>\n",
       "    <tr>\n",
       "      <th>3</th>\n",
       "      <td>3</td>\n",
       "      <td>2.1</td>\n",
       "      <td>43526.0</td>\n",
       "    </tr>\n",
       "    <tr>\n",
       "      <th>4</th>\n",
       "      <td>4</td>\n",
       "      <td>2.3</td>\n",
       "      <td>39892.0</td>\n",
       "    </tr>\n",
       "    <tr>\n",
       "      <th>5</th>\n",
       "      <td>5</td>\n",
       "      <td>3.0</td>\n",
       "      <td>56643.0</td>\n",
       "    </tr>\n",
       "    <tr>\n",
       "      <th>6</th>\n",
       "      <td>6</td>\n",
       "      <td>3.1</td>\n",
       "      <td>60151.0</td>\n",
       "    </tr>\n",
       "    <tr>\n",
       "      <th>7</th>\n",
       "      <td>7</td>\n",
       "      <td>3.3</td>\n",
       "      <td>54446.0</td>\n",
       "    </tr>\n",
       "    <tr>\n",
       "      <th>8</th>\n",
       "      <td>8</td>\n",
       "      <td>3.3</td>\n",
       "      <td>64446.0</td>\n",
       "    </tr>\n",
       "    <tr>\n",
       "      <th>9</th>\n",
       "      <td>9</td>\n",
       "      <td>3.8</td>\n",
       "      <td>57190.0</td>\n",
       "    </tr>\n",
       "    <tr>\n",
       "      <th>10</th>\n",
       "      <td>10</td>\n",
       "      <td>4.0</td>\n",
       "      <td>63219.0</td>\n",
       "    </tr>\n",
       "    <tr>\n",
       "      <th>11</th>\n",
       "      <td>11</td>\n",
       "      <td>4.1</td>\n",
       "      <td>55795.0</td>\n",
       "    </tr>\n",
       "    <tr>\n",
       "      <th>12</th>\n",
       "      <td>12</td>\n",
       "      <td>4.1</td>\n",
       "      <td>56958.0</td>\n",
       "    </tr>\n",
       "    <tr>\n",
       "      <th>13</th>\n",
       "      <td>13</td>\n",
       "      <td>4.2</td>\n",
       "      <td>57082.0</td>\n",
       "    </tr>\n",
       "    <tr>\n",
       "      <th>14</th>\n",
       "      <td>14</td>\n",
       "      <td>4.6</td>\n",
       "      <td>61112.0</td>\n",
       "    </tr>\n",
       "    <tr>\n",
       "      <th>15</th>\n",
       "      <td>15</td>\n",
       "      <td>5.0</td>\n",
       "      <td>67939.0</td>\n",
       "    </tr>\n",
       "    <tr>\n",
       "      <th>16</th>\n",
       "      <td>16</td>\n",
       "      <td>5.2</td>\n",
       "      <td>66030.0</td>\n",
       "    </tr>\n",
       "    <tr>\n",
       "      <th>17</th>\n",
       "      <td>17</td>\n",
       "      <td>5.4</td>\n",
       "      <td>83089.0</td>\n",
       "    </tr>\n",
       "    <tr>\n",
       "      <th>18</th>\n",
       "      <td>18</td>\n",
       "      <td>6.0</td>\n",
       "      <td>81364.0</td>\n",
       "    </tr>\n",
       "    <tr>\n",
       "      <th>19</th>\n",
       "      <td>19</td>\n",
       "      <td>6.1</td>\n",
       "      <td>93941.0</td>\n",
       "    </tr>\n",
       "    <tr>\n",
       "      <th>20</th>\n",
       "      <td>20</td>\n",
       "      <td>6.9</td>\n",
       "      <td>91739.0</td>\n",
       "    </tr>\n",
       "    <tr>\n",
       "      <th>21</th>\n",
       "      <td>21</td>\n",
       "      <td>7.2</td>\n",
       "      <td>98274.0</td>\n",
       "    </tr>\n",
       "    <tr>\n",
       "      <th>22</th>\n",
       "      <td>22</td>\n",
       "      <td>8.0</td>\n",
       "      <td>101303.0</td>\n",
       "    </tr>\n",
       "    <tr>\n",
       "      <th>23</th>\n",
       "      <td>23</td>\n",
       "      <td>8.3</td>\n",
       "      <td>113813.0</td>\n",
       "    </tr>\n",
       "    <tr>\n",
       "      <th>24</th>\n",
       "      <td>24</td>\n",
       "      <td>8.8</td>\n",
       "      <td>109432.0</td>\n",
       "    </tr>\n",
       "    <tr>\n",
       "      <th>25</th>\n",
       "      <td>25</td>\n",
       "      <td>9.1</td>\n",
       "      <td>105583.0</td>\n",
       "    </tr>\n",
       "    <tr>\n",
       "      <th>26</th>\n",
       "      <td>26</td>\n",
       "      <td>9.6</td>\n",
       "      <td>116970.0</td>\n",
       "    </tr>\n",
       "    <tr>\n",
       "      <th>27</th>\n",
       "      <td>27</td>\n",
       "      <td>9.7</td>\n",
       "      <td>112636.0</td>\n",
       "    </tr>\n",
       "    <tr>\n",
       "      <th>28</th>\n",
       "      <td>28</td>\n",
       "      <td>10.4</td>\n",
       "      <td>122392.0</td>\n",
       "    </tr>\n",
       "    <tr>\n",
       "      <th>29</th>\n",
       "      <td>29</td>\n",
       "      <td>10.6</td>\n",
       "      <td>121873.0</td>\n",
       "    </tr>\n",
       "  </tbody>\n",
       "</table>\n",
       "</div>"
      ],
      "text/plain": [
       "    Unnamed: 0  YearsExperience    Salary\n",
       "0            0              1.2   39344.0\n",
       "1            1              1.4   46206.0\n",
       "2            2              1.6   37732.0\n",
       "3            3              2.1   43526.0\n",
       "4            4              2.3   39892.0\n",
       "5            5              3.0   56643.0\n",
       "6            6              3.1   60151.0\n",
       "7            7              3.3   54446.0\n",
       "8            8              3.3   64446.0\n",
       "9            9              3.8   57190.0\n",
       "10          10              4.0   63219.0\n",
       "11          11              4.1   55795.0\n",
       "12          12              4.1   56958.0\n",
       "13          13              4.2   57082.0\n",
       "14          14              4.6   61112.0\n",
       "15          15              5.0   67939.0\n",
       "16          16              5.2   66030.0\n",
       "17          17              5.4   83089.0\n",
       "18          18              6.0   81364.0\n",
       "19          19              6.1   93941.0\n",
       "20          20              6.9   91739.0\n",
       "21          21              7.2   98274.0\n",
       "22          22              8.0  101303.0\n",
       "23          23              8.3  113813.0\n",
       "24          24              8.8  109432.0\n",
       "25          25              9.1  105583.0\n",
       "26          26              9.6  116970.0\n",
       "27          27              9.7  112636.0\n",
       "28          28             10.4  122392.0\n",
       "29          29             10.6  121873.0"
      ]
     },
     "execution_count": 41,
     "metadata": {},
     "output_type": "execute_result"
    }
   ],
   "source": [
    "#Using a Salary dataset to create a regression model\n",
    "salary_data = pd.read_csv('Salary_dataset.csv')\n",
    "salary_data"
   ]
  },
  {
   "cell_type": "code",
   "execution_count": 42,
   "id": "b3c8e176",
   "metadata": {},
   "outputs": [
    {
     "data": {
      "image/png": "[encoded data removed]",
      "text/plain": [
       "<Figure size 640x480 with 1 Axes>"
      ]
     },
     "metadata": {},
     "output_type": "display_data"
    }
   ],
   "source": [
    "#lets visualize the data using scatter plot to check for linearilty\n",
    "plt.scatter(salary_data['YearsExperience'], salary_data['Salary'])\n",
    "plt.xlabel('Years of Experience')\n",
    "plt.ylabel('Salary')\n",
    "plt.title('Salary vs Years of Experience')\n",
    "plt.show()"
   ]
  },
  {
   "cell_type": "code",
   "execution_count": 60,
   "id": "8d9a9ff6",
   "metadata": {},
   "outputs": [
    {
     "name": "stdout",
     "output_type": "stream",
     "text": [
      "RMSE:7059.043621901506, \n",
      "R2_score:0.9024461774180498\n"
     ]
    }
   ],
   "source": [
    "# we have found out the data is linear so we will use linear regression to build our model\n",
    "X = salary_data[['YearsExperience']]  # used a double bracket to convert to a Dataframe \n",
    "y = salary_data['Salary']\n",
    "\n",
    "X_train, X_test, y_train, y_test = train_test_split(X, y, test_size=0.2, random_state=42)\n",
    "\n",
    "model = LinearRegression()\n",
    "model.fit(X_train, y_train)\n",
    "y_pred = model.predict(X_test)\n",
    "\n",
    "#lets check the accuracy and rmse by finding the sqrt of mse\n",
    "\n",
    "RMSE = np.sqrt(mean_squared_error(y_test, y_pred))\n",
    "R2_score = r2_score(y_test, y_pred) \n",
    "print(f'RMSE:{RMSE}, \\nR2_score:{R2_score}' )"
   ]
  },
  {
   "cell_type": "markdown",
   "id": "7052e37f",
   "metadata": {},
   "source": [
    "#### Conclusion \n",
    "- It means in average the model prediction is off by 7059\n",
    "- The R2 score is almost one which is a good one \n",
    "- Lets convert the RMSE to percentage\n",
    "- the RMSE is not up to 10% "
   ]
  },
  {
   "cell_type": "code",
   "execution_count": 63,
   "id": "b6aadc23",
   "metadata": {},
   "outputs": [
    {
     "name": "stdout",
     "output_type": "stream",
     "text": [
      "RMSE_%: 9.28772646426702\n"
     ]
    }
   ],
   "source": [
    "mean_salary = salary_data['Salary'].mean()\n",
    "rmse_percentage = (RMSE/mean_salary) * 100\n",
    "print(f'RMSE_%: {rmse_percentage}')"
   ]
  },
  {
   "cell_type": "markdown",
   "id": "3a74a53a",
   "metadata": {},
   "source": [
    "#### Polynomial Regression\n",
    "When the data doesnt have a linear relationship but a curved relationship, polynomial regression is used"
   ]
  },
  {
   "cell_type": "code",
   "execution_count": null,
   "id": "fbf55403",
   "metadata": {},
   "outputs": [],
   "source": []
  },
  {
   "cell_type": "code",
   "execution_count": null,
   "id": "f77593c5",
   "metadata": {},
   "outputs": [],
   "source": []
  }
 ],
 "metadata": {
  "kernelspec": {
   "display_name": "Python 3",
   "language": "python",
   "name": "python3"
  },
  "language_info": {
   "codemirror_mode": {
    "name": "ipython",
    "version": 3
   },
   "file_extension": ".py",
   "mimetype": "text/x-python",
   "name": "python",
   "nbconvert_exporter": "python",
   "pygments_lexer": "ipython3",
   "version": "3.12.4"
  }
 },
 "nbformat": 4,
 "nbformat_minor": 5
}

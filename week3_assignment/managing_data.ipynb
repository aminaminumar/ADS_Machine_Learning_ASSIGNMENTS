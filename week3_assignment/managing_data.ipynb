{
 "cells": [
  {
   "cell_type": "code",
   "execution_count": 2,
   "id": "d389b5f8",
   "metadata": {},
   "outputs": [],
   "source": [
    "import pandas as pd\n",
    "import matplotlib.pyplot as plt\n",
    "from pandas import DatetimeIndex\n"
   ]
  },
  {
   "cell_type": "code",
   "execution_count": 3,
   "id": "4bc791bb",
   "metadata": {},
   "outputs": [
    {
     "data": {
      "application/vnd.microsoft.datawrangler.viewer.v0+json": {
       "columns": [
        {
         "name": "index",
         "rawType": "int64",
         "type": "integer"
        },
        {
         "name": "City Name",
         "rawType": "object",
         "type": "string"
        },
        {
         "name": "Type",
         "rawType": "object",
         "type": "unknown"
        },
        {
         "name": "Package",
         "rawType": "object",
         "type": "string"
        },
        {
         "name": "Variety",
         "rawType": "object",
         "type": "unknown"
        },
        {
         "name": "Sub Variety",
         "rawType": "object",
         "type": "unknown"
        },
        {
         "name": "Grade",
         "rawType": "float64",
         "type": "float"
        },
        {
         "name": "Date",
         "rawType": "object",
         "type": "string"
        },
        {
         "name": "Low Price",
         "rawType": "float64",
         "type": "float"
        },
        {
         "name": "High Price",
         "rawType": "float64",
         "type": "float"
        },
        {
         "name": "Mostly Low",
         "rawType": "float64",
         "type": "float"
        },
        {
         "name": "Mostly High",
         "rawType": "float64",
         "type": "float"
        },
        {
         "name": "Origin",
         "rawType": "object",
         "type": "string"
        },
        {
         "name": "Origin District",
         "rawType": "object",
         "type": "unknown"
        },
        {
         "name": "Item Size",
         "rawType": "object",
         "type": "string"
        },
        {
         "name": "Color",
         "rawType": "object",
         "type": "unknown"
        },
        {
         "name": "Environment",
         "rawType": "float64",
         "type": "float"
        },
        {
         "name": "Unit of Sale",
         "rawType": "object",
         "type": "unknown"
        },
        {
         "name": "Quality",
         "rawType": "float64",
         "type": "float"
        },
        {
         "name": "Condition",
         "rawType": "float64",
         "type": "float"
        },
        {
         "name": "Appearance",
         "rawType": "float64",
         "type": "float"
        },
        {
         "name": "Storage",
         "rawType": "float64",
         "type": "float"
        },
        {
         "name": "Crop",
         "rawType": "float64",
         "type": "float"
        },
        {
         "name": "Repack",
         "rawType": "object",
         "type": "string"
        },
        {
         "name": "Trans Mode",
         "rawType": "float64",
         "type": "float"
        },
        {
         "name": "Unnamed: 24",
         "rawType": "float64",
         "type": "float"
        },
        {
         "name": "Unnamed: 25",
         "rawType": "object",
         "type": "unknown"
        }
       ],
       "ref": "8a66bfc7-3171-411f-b3dc-daa377c54a27",
       "rows": [
        [
         "0",
         "BALTIMORE",
         null,
         "24 inch bins",
         null,
         null,
         null,
         "4/29/17",
         "270.0",
         "280.0",
         "270.0",
         "280.0",
         "MARYLAND",
         null,
         "lge",
         null,
         null,
         null,
         null,
         null,
         null,
         null,
         null,
         "E",
         null,
         null,
         null
        ],
        [
         "1",
         "BALTIMORE",
         null,
         "24 inch bins",
         null,
         null,
         null,
         "5/6/17",
         "270.0",
         "280.0",
         "270.0",
         "280.0",
         "MARYLAND",
         null,
         "lge",
         null,
         null,
         null,
         null,
         null,
         null,
         null,
         null,
         "E",
         null,
         null,
         null
        ],
        [
         "2",
         "BALTIMORE",
         null,
         "24 inch bins",
         "HOWDEN TYPE",
         null,
         null,
         "9/24/16",
         "160.0",
         "160.0",
         "160.0",
         "160.0",
         "DELAWARE",
         null,
         "med",
         "ORANGE",
         null,
         null,
         null,
         null,
         null,
         null,
         null,
         "N",
         null,
         null,
         null
        ],
        [
         "3",
         "BALTIMORE",
         null,
         "24 inch bins",
         "HOWDEN TYPE",
         null,
         null,
         "9/24/16",
         "160.0",
         "160.0",
         "160.0",
         "160.0",
         "VIRGINIA",
         null,
         "med",
         "ORANGE",
         null,
         null,
         null,
         null,
         null,
         null,
         null,
         "N",
         null,
         null,
         null
        ],
        [
         "4",
         "BALTIMORE",
         null,
         "24 inch bins",
         "HOWDEN TYPE",
         null,
         null,
         "11/5/16",
         "90.0",
         "100.0",
         "90.0",
         "100.0",
         "MARYLAND",
         null,
         "lge",
         "ORANGE",
         null,
         null,
         null,
         null,
         null,
         null,
         null,
         "N",
         null,
         null,
         null
        ]
       ],
       "shape": {
        "columns": 26,
        "rows": 5
       }
      },
      "text/html": [
       "<div>\n",
       "<style scoped>\n",
       "    .dataframe tbody tr th:only-of-type {\n",
       "        vertical-align: middle;\n",
       "    }\n",
       "\n",
       "    .dataframe tbody tr th {\n",
       "        vertical-align: top;\n",
       "    }\n",
       "\n",
       "    .dataframe thead th {\n",
       "        text-align: right;\n",
       "    }\n",
       "</style>\n",
       "<table border=\"1\" class=\"dataframe\">\n",
       "  <thead>\n",
       "    <tr style=\"text-align: right;\">\n",
       "      <th></th>\n",
       "      <th>City Name</th>\n",
       "      <th>Type</th>\n",
       "      <th>Package</th>\n",
       "      <th>Variety</th>\n",
       "      <th>Sub Variety</th>\n",
       "      <th>Grade</th>\n",
       "      <th>Date</th>\n",
       "      <th>Low Price</th>\n",
       "      <th>High Price</th>\n",
       "      <th>Mostly Low</th>\n",
       "      <th>...</th>\n",
       "      <th>Unit of Sale</th>\n",
       "      <th>Quality</th>\n",
       "      <th>Condition</th>\n",
       "      <th>Appearance</th>\n",
       "      <th>Storage</th>\n",
       "      <th>Crop</th>\n",
       "      <th>Repack</th>\n",
       "      <th>Trans Mode</th>\n",
       "      <th>Unnamed: 24</th>\n",
       "      <th>Unnamed: 25</th>\n",
       "    </tr>\n",
       "  </thead>\n",
       "  <tbody>\n",
       "    <tr>\n",
       "      <th>0</th>\n",
       "      <td>BALTIMORE</td>\n",
       "      <td>NaN</td>\n",
       "      <td>24 inch bins</td>\n",
       "      <td>NaN</td>\n",
       "      <td>NaN</td>\n",
       "      <td>NaN</td>\n",
       "      <td>4/29/17</td>\n",
       "      <td>270.0</td>\n",
       "      <td>280.0</td>\n",
       "      <td>270.0</td>\n",
       "      <td>...</td>\n",
       "      <td>NaN</td>\n",
       "      <td>NaN</td>\n",
       "      <td>NaN</td>\n",
       "      <td>NaN</td>\n",
       "      <td>NaN</td>\n",
       "      <td>NaN</td>\n",
       "      <td>E</td>\n",
       "      <td>NaN</td>\n",
       "      <td>NaN</td>\n",
       "      <td>NaN</td>\n",
       "    </tr>\n",
       "    <tr>\n",
       "      <th>1</th>\n",
       "      <td>BALTIMORE</td>\n",
       "      <td>NaN</td>\n",
       "      <td>24 inch bins</td>\n",
       "      <td>NaN</td>\n",
       "      <td>NaN</td>\n",
       "      <td>NaN</td>\n",
       "      <td>5/6/17</td>\n",
       "      <td>270.0</td>\n",
       "      <td>280.0</td>\n",
       "      <td>270.0</td>\n",
       "      <td>...</td>\n",
       "      <td>NaN</td>\n",
       "      <td>NaN</td>\n",
       "      <td>NaN</td>\n",
       "      <td>NaN</td>\n",
       "      <td>NaN</td>\n",
       "      <td>NaN</td>\n",
       "      <td>E</td>\n",
       "      <td>NaN</td>\n",
       "      <td>NaN</td>\n",
       "      <td>NaN</td>\n",
       "    </tr>\n",
       "    <tr>\n",
       "      <th>2</th>\n",
       "      <td>BALTIMORE</td>\n",
       "      <td>NaN</td>\n",
       "      <td>24 inch bins</td>\n",
       "      <td>HOWDEN TYPE</td>\n",
       "      <td>NaN</td>\n",
       "      <td>NaN</td>\n",
       "      <td>9/24/16</td>\n",
       "      <td>160.0</td>\n",
       "      <td>160.0</td>\n",
       "      <td>160.0</td>\n",
       "      <td>...</td>\n",
       "      <td>NaN</td>\n",
       "      <td>NaN</td>\n",
       "      <td>NaN</td>\n",
       "      <td>NaN</td>\n",
       "      <td>NaN</td>\n",
       "      <td>NaN</td>\n",
       "      <td>N</td>\n",
       "      <td>NaN</td>\n",
       "      <td>NaN</td>\n",
       "      <td>NaN</td>\n",
       "    </tr>\n",
       "    <tr>\n",
       "      <th>3</th>\n",
       "      <td>BALTIMORE</td>\n",
       "      <td>NaN</td>\n",
       "      <td>24 inch bins</td>\n",
       "      <td>HOWDEN TYPE</td>\n",
       "      <td>NaN</td>\n",
       "      <td>NaN</td>\n",
       "      <td>9/24/16</td>\n",
       "      <td>160.0</td>\n",
       "      <td>160.0</td>\n",
       "      <td>160.0</td>\n",
       "      <td>...</td>\n",
       "      <td>NaN</td>\n",
       "      <td>NaN</td>\n",
       "      <td>NaN</td>\n",
       "      <td>NaN</td>\n",
       "      <td>NaN</td>\n",
       "      <td>NaN</td>\n",
       "      <td>N</td>\n",
       "      <td>NaN</td>\n",
       "      <td>NaN</td>\n",
       "      <td>NaN</td>\n",
       "    </tr>\n",
       "    <tr>\n",
       "      <th>4</th>\n",
       "      <td>BALTIMORE</td>\n",
       "      <td>NaN</td>\n",
       "      <td>24 inch bins</td>\n",
       "      <td>HOWDEN TYPE</td>\n",
       "      <td>NaN</td>\n",
       "      <td>NaN</td>\n",
       "      <td>11/5/16</td>\n",
       "      <td>90.0</td>\n",
       "      <td>100.0</td>\n",
       "      <td>90.0</td>\n",
       "      <td>...</td>\n",
       "      <td>NaN</td>\n",
       "      <td>NaN</td>\n",
       "      <td>NaN</td>\n",
       "      <td>NaN</td>\n",
       "      <td>NaN</td>\n",
       "      <td>NaN</td>\n",
       "      <td>N</td>\n",
       "      <td>NaN</td>\n",
       "      <td>NaN</td>\n",
       "      <td>NaN</td>\n",
       "    </tr>\n",
       "  </tbody>\n",
       "</table>\n",
       "<p>5 rows × 26 columns</p>\n",
       "</div>"
      ],
      "text/plain": [
       "   City Name Type       Package      Variety Sub Variety  Grade     Date  \\\n",
       "0  BALTIMORE  NaN  24 inch bins          NaN         NaN    NaN  4/29/17   \n",
       "1  BALTIMORE  NaN  24 inch bins          NaN         NaN    NaN   5/6/17   \n",
       "2  BALTIMORE  NaN  24 inch bins  HOWDEN TYPE         NaN    NaN  9/24/16   \n",
       "3  BALTIMORE  NaN  24 inch bins  HOWDEN TYPE         NaN    NaN  9/24/16   \n",
       "4  BALTIMORE  NaN  24 inch bins  HOWDEN TYPE         NaN    NaN  11/5/16   \n",
       "\n",
       "   Low Price  High Price  Mostly Low  ...  Unit of Sale Quality Condition  \\\n",
       "0      270.0       280.0       270.0  ...           NaN     NaN       NaN   \n",
       "1      270.0       280.0       270.0  ...           NaN     NaN       NaN   \n",
       "2      160.0       160.0       160.0  ...           NaN     NaN       NaN   \n",
       "3      160.0       160.0       160.0  ...           NaN     NaN       NaN   \n",
       "4       90.0       100.0        90.0  ...           NaN     NaN       NaN   \n",
       "\n",
       "  Appearance Storage  Crop Repack  Trans Mode  Unnamed: 24  Unnamed: 25  \n",
       "0        NaN     NaN   NaN      E         NaN          NaN          NaN  \n",
       "1        NaN     NaN   NaN      E         NaN          NaN          NaN  \n",
       "2        NaN     NaN   NaN      N         NaN          NaN          NaN  \n",
       "3        NaN     NaN   NaN      N         NaN          NaN          NaN  \n",
       "4        NaN     NaN   NaN      N         NaN          NaN          NaN  \n",
       "\n",
       "[5 rows x 26 columns]"
      ]
     },
     "execution_count": 3,
     "metadata": {},
     "output_type": "execute_result"
    }
   ],
   "source": [
    "#import the pumpkin data\n",
    "pumpkins = pd.read_csv('US-pumpkins.csv')\n",
    "pumpkins.head()"
   ]
  },
  {
   "cell_type": "code",
   "execution_count": 4,
   "id": "25b64d95",
   "metadata": {},
   "outputs": [
    {
     "data": {
      "application/vnd.microsoft.datawrangler.viewer.v0+json": {
       "columns": [
        {
         "name": "index",
         "rawType": "object",
         "type": "string"
        },
        {
         "name": "0",
         "rawType": "int64",
         "type": "integer"
        }
       ],
       "ref": "e949e536-d59b-4ed5-bd67-7572ef848204",
       "rows": [
        [
         "City Name",
         "0"
        ],
        [
         "Type",
         "1712"
        ],
        [
         "Package",
         "0"
        ],
        [
         "Variety",
         "5"
        ],
        [
         "Sub Variety",
         "1461"
        ],
        [
         "Grade",
         "1757"
        ],
        [
         "Date",
         "0"
        ],
        [
         "Low Price",
         "0"
        ],
        [
         "High Price",
         "0"
        ],
        [
         "Mostly Low",
         "103"
        ],
        [
         "Mostly High",
         "103"
        ],
        [
         "Origin",
         "3"
        ],
        [
         "Origin District",
         "1626"
        ],
        [
         "Item Size",
         "279"
        ],
        [
         "Color",
         "616"
        ],
        [
         "Environment",
         "1757"
        ],
        [
         "Unit of Sale",
         "1595"
        ],
        [
         "Quality",
         "1757"
        ],
        [
         "Condition",
         "1757"
        ],
        [
         "Appearance",
         "1757"
        ],
        [
         "Storage",
         "1757"
        ],
        [
         "Crop",
         "1757"
        ],
        [
         "Repack",
         "0"
        ],
        [
         "Trans Mode",
         "1757"
        ],
        [
         "Unnamed: 24",
         "1757"
        ],
        [
         "Unnamed: 25",
         "1654"
        ]
       ],
       "shape": {
        "columns": 1,
        "rows": 26
       }
      },
      "text/plain": [
       "City Name             0\n",
       "Type               1712\n",
       "Package               0\n",
       "Variety               5\n",
       "Sub Variety        1461\n",
       "Grade              1757\n",
       "Date                  0\n",
       "Low Price             0\n",
       "High Price            0\n",
       "Mostly Low          103\n",
       "Mostly High         103\n",
       "Origin                3\n",
       "Origin District    1626\n",
       "Item Size           279\n",
       "Color               616\n",
       "Environment        1757\n",
       "Unit of Sale       1595\n",
       "Quality            1757\n",
       "Condition          1757\n",
       "Appearance         1757\n",
       "Storage            1757\n",
       "Crop               1757\n",
       "Repack                0\n",
       "Trans Mode         1757\n",
       "Unnamed: 24        1757\n",
       "Unnamed: 25        1654\n",
       "dtype: int64"
      ]
     },
     "execution_count": 4,
     "metadata": {},
     "output_type": "execute_result"
    }
   ],
   "source": [
    "#check for missing value\n",
    "pumpkins.isnull().sum()\n"
   ]
  },
  {
   "cell_type": "code",
   "execution_count": 5,
   "id": "38ce2953",
   "metadata": {},
   "outputs": [
    {
     "data": {
      "application/vnd.microsoft.datawrangler.viewer.v0+json": {
       "columns": [
        {
         "name": "index",
         "rawType": "int64",
         "type": "integer"
        },
        {
         "name": "Package",
         "rawType": "object",
         "type": "string"
        },
        {
         "name": "Date",
         "rawType": "object",
         "type": "string"
        },
        {
         "name": "Low Price",
         "rawType": "float64",
         "type": "float"
        },
        {
         "name": "High Price",
         "rawType": "float64",
         "type": "float"
        }
       ],
       "ref": "539ab928-ba73-4269-a36b-127f79c94e6e",
       "rows": [
        [
         "0",
         "24 inch bins",
         "4/29/17",
         "270.0",
         "280.0"
        ],
        [
         "1",
         "24 inch bins",
         "5/6/17",
         "270.0",
         "280.0"
        ],
        [
         "2",
         "24 inch bins",
         "9/24/16",
         "160.0",
         "160.0"
        ],
        [
         "3",
         "24 inch bins",
         "9/24/16",
         "160.0",
         "160.0"
        ],
        [
         "4",
         "24 inch bins",
         "11/5/16",
         "90.0",
         "100.0"
        ]
       ],
       "shape": {
        "columns": 4,
        "rows": 5
       }
      },
      "text/html": [
       "<div>\n",
       "<style scoped>\n",
       "    .dataframe tbody tr th:only-of-type {\n",
       "        vertical-align: middle;\n",
       "    }\n",
       "\n",
       "    .dataframe tbody tr th {\n",
       "        vertical-align: top;\n",
       "    }\n",
       "\n",
       "    .dataframe thead th {\n",
       "        text-align: right;\n",
       "    }\n",
       "</style>\n",
       "<table border=\"1\" class=\"dataframe\">\n",
       "  <thead>\n",
       "    <tr style=\"text-align: right;\">\n",
       "      <th></th>\n",
       "      <th>Package</th>\n",
       "      <th>Date</th>\n",
       "      <th>Low Price</th>\n",
       "      <th>High Price</th>\n",
       "    </tr>\n",
       "  </thead>\n",
       "  <tbody>\n",
       "    <tr>\n",
       "      <th>0</th>\n",
       "      <td>24 inch bins</td>\n",
       "      <td>4/29/17</td>\n",
       "      <td>270.0</td>\n",
       "      <td>280.0</td>\n",
       "    </tr>\n",
       "    <tr>\n",
       "      <th>1</th>\n",
       "      <td>24 inch bins</td>\n",
       "      <td>5/6/17</td>\n",
       "      <td>270.0</td>\n",
       "      <td>280.0</td>\n",
       "    </tr>\n",
       "    <tr>\n",
       "      <th>2</th>\n",
       "      <td>24 inch bins</td>\n",
       "      <td>9/24/16</td>\n",
       "      <td>160.0</td>\n",
       "      <td>160.0</td>\n",
       "    </tr>\n",
       "    <tr>\n",
       "      <th>3</th>\n",
       "      <td>24 inch bins</td>\n",
       "      <td>9/24/16</td>\n",
       "      <td>160.0</td>\n",
       "      <td>160.0</td>\n",
       "    </tr>\n",
       "    <tr>\n",
       "      <th>4</th>\n",
       "      <td>24 inch bins</td>\n",
       "      <td>11/5/16</td>\n",
       "      <td>90.0</td>\n",
       "      <td>100.0</td>\n",
       "    </tr>\n",
       "  </tbody>\n",
       "</table>\n",
       "</div>"
      ],
      "text/plain": [
       "        Package     Date  Low Price  High Price\n",
       "0  24 inch bins  4/29/17      270.0       280.0\n",
       "1  24 inch bins   5/6/17      270.0       280.0\n",
       "2  24 inch bins  9/24/16      160.0       160.0\n",
       "3  24 inch bins  9/24/16      160.0       160.0\n",
       "4  24 inch bins  11/5/16       90.0       100.0"
      ]
     },
     "execution_count": 5,
     "metadata": {},
     "output_type": "execute_result"
    }
   ],
   "source": [
    "#lets choose the columns to be used\n",
    "new_pumpkins = pumpkins.loc[:, ['Package', \"Date\", 'Low Price', 'High Price']]\n",
    "new_pumpkins.head()"
   ]
  },
  {
   "cell_type": "markdown",
   "id": "b0d53dac",
   "metadata": {},
   "source": []
  },
  {
   "cell_type": "code",
   "execution_count": 6,
   "id": "47ef304d",
   "metadata": {},
   "outputs": [],
   "source": [
    "#convert the Date column to datetime\n",
    "\n",
    "Date = DatetimeIndex(new_pumpkins['Date'])\n",
    "Month = DatetimeIndex(new_pumpkins['Date']).month\n",
    "# new_pumpkins['Date'] = pd.to_datetime(new_pumpkins['Date'])\n"
   ]
  },
  {
   "cell_type": "code",
   "execution_count": 7,
   "id": "82d4ccbc",
   "metadata": {},
   "outputs": [],
   "source": [
    "#find average price\n",
    "price = (new_pumpkins['High Price'] + new_pumpkins['Low Price'])/2"
   ]
  },
  {
   "cell_type": "code",
   "execution_count": 8,
   "id": "cc90f264",
   "metadata": {},
   "outputs": [],
   "source": [
    "#create a new dataframe with data and average price\n",
    "Pumpkin_df = {'Package': new_pumpkins['Package'],\n",
    "              'Date':Date,\n",
    "              'Month': Month,\n",
    "              'Low Price': new_pumpkins['Low Price'],\n",
    "              'High Price': new_pumpkins['High Price'],\n",
    "              'Price': price}\n",
    "Pumkins = pd.DataFrame(Pumpkin_df)"
   ]
  },
  {
   "cell_type": "code",
   "execution_count": 9,
   "id": "0799a9ec",
   "metadata": {},
   "outputs": [],
   "source": [
    "#filter and keep only pumkin in bushel and reset index\n",
    "Pumkins = Pumkins[Pumkins['Package'].str.contains('bushel', case=True, regex= True)].reset_index(drop=True)"
   ]
  },
  {
   "cell_type": "code",
   "execution_count": 10,
   "metadata": {},
   "outputs": [
    {
     "data": {
      "application/vnd.microsoft.datawrangler.viewer.v0+json": {
       "columns": [
        {
         "name": "index",
         "rawType": "int64",
         "type": "integer"
        },
        {
         "name": "Package",
         "rawType": "object",
         "type": "string"
        },
        {
         "name": "Date",
         "rawType": "datetime64[ns]",
         "type": "datetime"
        },
        {
         "name": "Month",
         "rawType": "int32",
         "type": "integer"
        },
        {
         "name": "Low Price",
         "rawType": "float64",
         "type": "float"
        },
        {
         "name": "High Price",
         "rawType": "float64",
         "type": "float"
        },
        {
         "name": "Price",
         "rawType": "float64",
         "type": "float"
        }
       ],
       "ref": "103ba884-a110-4d5d-bfcf-b0a4f54284a8",
       "rows": [
        [
         "0",
         "1 1/9 bushel cartons",
         "2016-09-24 00:00:00",
         "9",
         "15.0",
         "15.0",
         "15.0"
        ],
        [
         "1",
         "1 1/9 bushel cartons",
         "2016-09-24 00:00:00",
         "9",
         "18.0",
         "18.0",
         "18.0"
        ],
        [
         "2",
         "1 1/9 bushel cartons",
         "2016-10-01 00:00:00",
         "10",
         "18.0",
         "18.0",
         "18.0"
        ],
        [
         "3",
         "1 1/9 bushel cartons",
         "2016-10-01 00:00:00",
         "10",
         "17.0",
         "17.0",
         "17.0"
        ],
        [
         "4",
         "1 1/9 bushel cartons",
         "2016-10-08 00:00:00",
         "10",
         "15.0",
         "15.0",
         "15.0"
        ],
        [
         "5",
         "1 1/9 bushel cartons",
         "2016-10-08 00:00:00",
         "10",
         "18.0",
         "18.0",
         "18.0"
        ],
        [
         "6",
         "1 1/9 bushel cartons",
         "2016-10-08 00:00:00",
         "10",
         "17.0",
         "17.0",
         "17.0"
        ],
        [
         "7",
         "1 1/9 bushel cartons",
         "2016-10-08 00:00:00",
         "10",
         "17.0",
         "18.5",
         "17.75"
        ],
        [
         "8",
         "1 1/9 bushel cartons",
         "2016-10-15 00:00:00",
         "10",
         "15.0",
         "15.0",
         "15.0"
        ],
        [
         "9",
         "1 1/9 bushel cartons",
         "2016-10-15 00:00:00",
         "10",
         "17.0",
         "17.0",
         "17.0"
        ],
        [
         "10",
         "1 1/9 bushel cartons",
         "2016-10-15 00:00:00",
         "10",
         "17.0",
         "18.5",
         "17.75"
        ],
        [
         "11",
         "1 1/9 bushel cartons",
         "2016-10-22 00:00:00",
         "10",
         "15.0",
         "15.0",
         "15.0"
        ],
        [
         "12",
         "1 1/9 bushel cartons",
         "2016-10-22 00:00:00",
         "10",
         "17.0",
         "17.0",
         "17.0"
        ],
        [
         "13",
         "1 1/9 bushel cartons",
         "2016-10-22 00:00:00",
         "10",
         "17.0",
         "18.5",
         "17.75"
        ],
        [
         "14",
         "1 1/9 bushel cartons",
         "2016-10-29 00:00:00",
         "10",
         "15.0",
         "15.0",
         "15.0"
        ],
        [
         "15",
         "1 1/9 bushel cartons",
         "2016-10-29 00:00:00",
         "10",
         "16.0",
         "17.0",
         "16.5"
        ],
        [
         "16",
         "1 1/9 bushel cartons",
         "2016-10-29 00:00:00",
         "10",
         "16.0",
         "18.0",
         "17.0"
        ],
        [
         "17",
         "1 1/9 bushel cartons",
         "2017-09-16 00:00:00",
         "9",
         "18.0",
         "18.0",
         "18.0"
        ],
        [
         "18",
         "1 1/9 bushel cartons",
         "2017-09-23 00:00:00",
         "9",
         "16.0",
         "16.0",
         "16.0"
        ],
        [
         "19",
         "1 1/9 bushel cartons",
         "2017-09-23 00:00:00",
         "9",
         "18.0",
         "18.0",
         "18.0"
        ],
        [
         "20",
         "1 1/9 bushel cartons",
         "2017-09-23 00:00:00",
         "9",
         "16.0",
         "16.0",
         "16.0"
        ],
        [
         "21",
         "1 1/9 bushel cartons",
         "2017-09-30 00:00:00",
         "9",
         "16.0",
         "16.0",
         "16.0"
        ],
        [
         "22",
         "1 1/9 bushel cartons",
         "2017-09-30 00:00:00",
         "9",
         "16.0",
         "16.0",
         "16.0"
        ],
        [
         "23",
         "1/2 bushel cartons",
         "2016-09-24 00:00:00",
         "9",
         "18.0",
         "18.0",
         "18.0"
        ],
        [
         "24",
         "1/2 bushel cartons",
         "2016-09-24 00:00:00",
         "9",
         "15.0",
         "15.0",
         "15.0"
        ],
        [
         "25",
         "1/2 bushel cartons",
         "2016-10-01 00:00:00",
         "10",
         "18.0",
         "18.0",
         "18.0"
        ],
        [
         "26",
         "1/2 bushel cartons",
         "2016-10-01 00:00:00",
         "10",
         "15.0",
         "15.0",
         "15.0"
        ],
        [
         "27",
         "1/2 bushel cartons",
         "2016-10-01 00:00:00",
         "10",
         "17.0",
         "17.0",
         "17.0"
        ],
        [
         "28",
         "1/2 bushel cartons",
         "2016-10-08 00:00:00",
         "10",
         "15.0",
         "15.0",
         "15.0"
        ],
        [
         "29",
         "1/2 bushel cartons",
         "2016-10-08 00:00:00",
         "10",
         "15.0",
         "18.0",
         "16.5"
        ],
        [
         "30",
         "1/2 bushel cartons",
         "2016-10-08 00:00:00",
         "10",
         "16.0",
         "17.0",
         "16.5"
        ],
        [
         "31",
         "1/2 bushel cartons",
         "2016-10-08 00:00:00",
         "10",
         "16.0",
         "18.0",
         "17.0"
        ],
        [
         "32",
         "1/2 bushel cartons",
         "2016-10-15 00:00:00",
         "10",
         "15.0",
         "15.0",
         "15.0"
        ],
        [
         "33",
         "1/2 bushel cartons",
         "2016-10-15 00:00:00",
         "10",
         "15.0",
         "15.0",
         "15.0"
        ],
        [
         "34",
         "1/2 bushel cartons",
         "2016-10-15 00:00:00",
         "10",
         "16.0",
         "17.0",
         "16.5"
        ],
        [
         "35",
         "1/2 bushel cartons",
         "2016-10-15 00:00:00",
         "10",
         "16.0",
         "18.0",
         "17.0"
        ],
        [
         "36",
         "1/2 bushel cartons",
         "2016-10-22 00:00:00",
         "10",
         "15.0",
         "15.0",
         "15.0"
        ],
        [
         "37",
         "1/2 bushel cartons",
         "2016-10-22 00:00:00",
         "10",
         "15.0",
         "15.0",
         "15.0"
        ],
        [
         "38",
         "1/2 bushel cartons",
         "2016-10-22 00:00:00",
         "10",
         "16.0",
         "17.0",
         "16.5"
        ],
        [
         "39",
         "1/2 bushel cartons",
         "2016-10-22 00:00:00",
         "10",
         "16.0",
         "18.0",
         "17.0"
        ],
        [
         "40",
         "1/2 bushel cartons",
         "2016-10-29 00:00:00",
         "10",
         "15.0",
         "17.0",
         "16.0"
        ],
        [
         "41",
         "1/2 bushel cartons",
         "2016-10-29 00:00:00",
         "10",
         "15.0",
         "15.0",
         "15.0"
        ],
        [
         "42",
         "1/2 bushel cartons",
         "2016-10-29 00:00:00",
         "10",
         "16.0",
         "17.0",
         "16.5"
        ],
        [
         "43",
         "1/2 bushel cartons",
         "2016-10-29 00:00:00",
         "10",
         "16.0",
         "18.0",
         "17.0"
        ],
        [
         "44",
         "1/2 bushel cartons",
         "2016-11-05 00:00:00",
         "11",
         "16.0",
         "17.0",
         "16.5"
        ],
        [
         "45",
         "1/2 bushel cartons",
         "2017-09-16 00:00:00",
         "9",
         "18.0",
         "18.0",
         "18.0"
        ],
        [
         "46",
         "1/2 bushel cartons",
         "2017-09-23 00:00:00",
         "9",
         "18.0",
         "18.0",
         "18.0"
        ],
        [
         "47",
         "1/2 bushel cartons",
         "2017-09-23 00:00:00",
         "9",
         "18.0",
         "18.0",
         "18.0"
        ],
        [
         "48",
         "1/2 bushel cartons",
         "2017-09-30 00:00:00",
         "9",
         "18.0",
         "18.0",
         "18.0"
        ],
        [
         "49",
         "1/2 bushel cartons",
         "2017-09-30 00:00:00",
         "9",
         "18.0",
         "18.0",
         "18.0"
        ]
       ],
       "shape": {
        "columns": 6,
        "rows": 415
       }
      },
      "text/html": [
       "<div>\n",
       "<style scoped>\n",
       "    .dataframe tbody tr th:only-of-type {\n",
       "        vertical-align: middle;\n",
       "    }\n",
       "\n",
       "    .dataframe tbody tr th {\n",
       "        vertical-align: top;\n",
       "    }\n",
       "\n",
       "    .dataframe thead th {\n",
       "        text-align: right;\n",
       "    }\n",
       "</style>\n",
       "<table border=\"1\" class=\"dataframe\">\n",
       "  <thead>\n",
       "    <tr style=\"text-align: right;\">\n",
       "      <th></th>\n",
       "      <th>Package</th>\n",
       "      <th>Date</th>\n",
       "      <th>Month</th>\n",
       "      <th>Low Price</th>\n",
       "      <th>High Price</th>\n",
       "      <th>Price</th>\n",
       "    </tr>\n",
       "  </thead>\n",
       "  <tbody>\n",
       "    <tr>\n",
       "      <th>0</th>\n",
       "      <td>1 1/9 bushel cartons</td>\n",
       "      <td>2016-09-24</td>\n",
       "      <td>9</td>\n",
       "      <td>15.00</td>\n",
       "      <td>15.0</td>\n",
       "      <td>15.000</td>\n",
       "    </tr>\n",
       "    <tr>\n",
       "      <th>1</th>\n",
       "      <td>1 1/9 bushel cartons</td>\n",
       "      <td>2016-09-24</td>\n",
       "      <td>9</td>\n",
       "      <td>18.00</td>\n",
       "      <td>18.0</td>\n",
       "      <td>18.000</td>\n",
       "    </tr>\n",
       "    <tr>\n",
       "      <th>2</th>\n",
       "      <td>1 1/9 bushel cartons</td>\n",
       "      <td>2016-10-01</td>\n",
       "      <td>10</td>\n",
       "      <td>18.00</td>\n",
       "      <td>18.0</td>\n",
       "      <td>18.000</td>\n",
       "    </tr>\n",
       "    <tr>\n",
       "      <th>3</th>\n",
       "      <td>1 1/9 bushel cartons</td>\n",
       "      <td>2016-10-01</td>\n",
       "      <td>10</td>\n",
       "      <td>17.00</td>\n",
       "      <td>17.0</td>\n",
       "      <td>17.000</td>\n",
       "    </tr>\n",
       "    <tr>\n",
       "      <th>4</th>\n",
       "      <td>1 1/9 bushel cartons</td>\n",
       "      <td>2016-10-08</td>\n",
       "      <td>10</td>\n",
       "      <td>15.00</td>\n",
       "      <td>15.0</td>\n",
       "      <td>15.000</td>\n",
       "    </tr>\n",
       "    <tr>\n",
       "      <th>...</th>\n",
       "      <td>...</td>\n",
       "      <td>...</td>\n",
       "      <td>...</td>\n",
       "      <td>...</td>\n",
       "      <td>...</td>\n",
       "      <td>...</td>\n",
       "    </tr>\n",
       "    <tr>\n",
       "      <th>410</th>\n",
       "      <td>1/2 bushel cartons</td>\n",
       "      <td>2016-09-30</td>\n",
       "      <td>9</td>\n",
       "      <td>15.00</td>\n",
       "      <td>15.0</td>\n",
       "      <td>15.000</td>\n",
       "    </tr>\n",
       "    <tr>\n",
       "      <th>411</th>\n",
       "      <td>1/2 bushel cartons</td>\n",
       "      <td>2016-09-30</td>\n",
       "      <td>9</td>\n",
       "      <td>13.75</td>\n",
       "      <td>15.0</td>\n",
       "      <td>14.375</td>\n",
       "    </tr>\n",
       "    <tr>\n",
       "      <th>412</th>\n",
       "      <td>1/2 bushel cartons</td>\n",
       "      <td>2016-09-30</td>\n",
       "      <td>9</td>\n",
       "      <td>10.75</td>\n",
       "      <td>15.0</td>\n",
       "      <td>12.875</td>\n",
       "    </tr>\n",
       "    <tr>\n",
       "      <th>413</th>\n",
       "      <td>1/2 bushel cartons</td>\n",
       "      <td>2016-09-30</td>\n",
       "      <td>9</td>\n",
       "      <td>12.00</td>\n",
       "      <td>12.0</td>\n",
       "      <td>12.000</td>\n",
       "    </tr>\n",
       "    <tr>\n",
       "      <th>414</th>\n",
       "      <td>1/2 bushel cartons</td>\n",
       "      <td>2016-09-30</td>\n",
       "      <td>9</td>\n",
       "      <td>12.00</td>\n",
       "      <td>12.0</td>\n",
       "      <td>12.000</td>\n",
       "    </tr>\n",
       "  </tbody>\n",
       "</table>\n",
       "<p>415 rows × 6 columns</p>\n",
       "</div>"
      ],
      "text/plain": [
       "                  Package       Date  Month  Low Price  High Price   Price\n",
       "0    1 1/9 bushel cartons 2016-09-24      9      15.00        15.0  15.000\n",
       "1    1 1/9 bushel cartons 2016-09-24      9      18.00        18.0  18.000\n",
       "2    1 1/9 bushel cartons 2016-10-01     10      18.00        18.0  18.000\n",
       "3    1 1/9 bushel cartons 2016-10-01     10      17.00        17.0  17.000\n",
       "4    1 1/9 bushel cartons 2016-10-08     10      15.00        15.0  15.000\n",
       "..                    ...        ...    ...        ...         ...     ...\n",
       "410    1/2 bushel cartons 2016-09-30      9      15.00        15.0  15.000\n",
       "411    1/2 bushel cartons 2016-09-30      9      13.75        15.0  14.375\n",
       "412    1/2 bushel cartons 2016-09-30      9      10.75        15.0  12.875\n",
       "413    1/2 bushel cartons 2016-09-30      9      12.00        12.0  12.000\n",
       "414    1/2 bushel cartons 2016-09-30      9      12.00        12.0  12.000\n",
       "\n",
       "[415 rows x 6 columns]"
      ]
     },
     "execution_count": 10,
     "metadata": {},
     "output_type": "execute_result"
    }
   ],
   "source": [
    "Pumkins"
   ]
  },
  {
   "cell_type": "code",
   "execution_count": 11,
   "id": "64090825",
   "metadata": {},
   "outputs": [],
   "source": [
    "#normalize the pricing so that you show the pricing per bushel, so do some math to standardize it.\n",
    "Pumkins.loc[Pumkins['Package'].str.contains('1/2'), 'Price'] = Pumkins['Price']/(1/2)\n",
    "Pumkins.loc[Pumkins['Package'].str.contains('1 1/9'), 'Price'] = Pumkins['Price']/(1 + 1/9)"
   ]
  },
  {
   "cell_type": "code",
   "execution_count": 12,
   "id": "689e9a0c",
   "metadata": {},
   "outputs": [
    {
     "data": {
      "application/vnd.microsoft.datawrangler.viewer.v0+json": {
       "columns": [
        {
         "name": "index",
         "rawType": "int64",
         "type": "integer"
        },
        {
         "name": "Package",
         "rawType": "object",
         "type": "string"
        },
        {
         "name": "Date",
         "rawType": "datetime64[ns]",
         "type": "datetime"
        },
        {
         "name": "Month",
         "rawType": "int32",
         "type": "integer"
        },
        {
         "name": "Low Price",
         "rawType": "float64",
         "type": "float"
        },
        {
         "name": "High Price",
         "rawType": "float64",
         "type": "float"
        },
        {
         "name": "Price",
         "rawType": "float64",
         "type": "float"
        }
       ],
       "ref": "c8efda15-2cb8-41d3-b62e-3b6b639d826e",
       "rows": [
        [
         "0",
         "1 1/9 bushel cartons",
         "2016-09-24 00:00:00",
         "9",
         "15.0",
         "15.0",
         "13.5"
        ],
        [
         "1",
         "1 1/9 bushel cartons",
         "2016-09-24 00:00:00",
         "9",
         "18.0",
         "18.0",
         "16.2"
        ],
        [
         "2",
         "1 1/9 bushel cartons",
         "2016-10-01 00:00:00",
         "10",
         "18.0",
         "18.0",
         "16.2"
        ],
        [
         "3",
         "1 1/9 bushel cartons",
         "2016-10-01 00:00:00",
         "10",
         "17.0",
         "17.0",
         "15.299999999999999"
        ],
        [
         "4",
         "1 1/9 bushel cartons",
         "2016-10-08 00:00:00",
         "10",
         "15.0",
         "15.0",
         "13.5"
        ],
        [
         "5",
         "1 1/9 bushel cartons",
         "2016-10-08 00:00:00",
         "10",
         "18.0",
         "18.0",
         "16.2"
        ],
        [
         "6",
         "1 1/9 bushel cartons",
         "2016-10-08 00:00:00",
         "10",
         "17.0",
         "17.0",
         "15.299999999999999"
        ],
        [
         "7",
         "1 1/9 bushel cartons",
         "2016-10-08 00:00:00",
         "10",
         "17.0",
         "18.5",
         "15.975"
        ],
        [
         "8",
         "1 1/9 bushel cartons",
         "2016-10-15 00:00:00",
         "10",
         "15.0",
         "15.0",
         "13.5"
        ],
        [
         "9",
         "1 1/9 bushel cartons",
         "2016-10-15 00:00:00",
         "10",
         "17.0",
         "17.0",
         "15.299999999999999"
        ],
        [
         "10",
         "1 1/9 bushel cartons",
         "2016-10-15 00:00:00",
         "10",
         "17.0",
         "18.5",
         "15.975"
        ],
        [
         "11",
         "1 1/9 bushel cartons",
         "2016-10-22 00:00:00",
         "10",
         "15.0",
         "15.0",
         "13.5"
        ],
        [
         "12",
         "1 1/9 bushel cartons",
         "2016-10-22 00:00:00",
         "10",
         "17.0",
         "17.0",
         "15.299999999999999"
        ],
        [
         "13",
         "1 1/9 bushel cartons",
         "2016-10-22 00:00:00",
         "10",
         "17.0",
         "18.5",
         "15.975"
        ],
        [
         "14",
         "1 1/9 bushel cartons",
         "2016-10-29 00:00:00",
         "10",
         "15.0",
         "15.0",
         "13.5"
        ],
        [
         "15",
         "1 1/9 bushel cartons",
         "2016-10-29 00:00:00",
         "10",
         "16.0",
         "17.0",
         "14.85"
        ],
        [
         "16",
         "1 1/9 bushel cartons",
         "2016-10-29 00:00:00",
         "10",
         "16.0",
         "18.0",
         "15.299999999999999"
        ],
        [
         "17",
         "1 1/9 bushel cartons",
         "2017-09-16 00:00:00",
         "9",
         "18.0",
         "18.0",
         "16.2"
        ],
        [
         "18",
         "1 1/9 bushel cartons",
         "2017-09-23 00:00:00",
         "9",
         "16.0",
         "16.0",
         "14.399999999999999"
        ],
        [
         "19",
         "1 1/9 bushel cartons",
         "2017-09-23 00:00:00",
         "9",
         "18.0",
         "18.0",
         "16.2"
        ],
        [
         "20",
         "1 1/9 bushel cartons",
         "2017-09-23 00:00:00",
         "9",
         "16.0",
         "16.0",
         "14.399999999999999"
        ],
        [
         "21",
         "1 1/9 bushel cartons",
         "2017-09-30 00:00:00",
         "9",
         "16.0",
         "16.0",
         "14.399999999999999"
        ],
        [
         "22",
         "1 1/9 bushel cartons",
         "2017-09-30 00:00:00",
         "9",
         "16.0",
         "16.0",
         "14.399999999999999"
        ],
        [
         "23",
         "1/2 bushel cartons",
         "2016-09-24 00:00:00",
         "9",
         "18.0",
         "18.0",
         "36.0"
        ],
        [
         "24",
         "1/2 bushel cartons",
         "2016-09-24 00:00:00",
         "9",
         "15.0",
         "15.0",
         "30.0"
        ],
        [
         "25",
         "1/2 bushel cartons",
         "2016-10-01 00:00:00",
         "10",
         "18.0",
         "18.0",
         "36.0"
        ],
        [
         "26",
         "1/2 bushel cartons",
         "2016-10-01 00:00:00",
         "10",
         "15.0",
         "15.0",
         "30.0"
        ],
        [
         "27",
         "1/2 bushel cartons",
         "2016-10-01 00:00:00",
         "10",
         "17.0",
         "17.0",
         "34.0"
        ],
        [
         "28",
         "1/2 bushel cartons",
         "2016-10-08 00:00:00",
         "10",
         "15.0",
         "15.0",
         "30.0"
        ],
        [
         "29",
         "1/2 bushel cartons",
         "2016-10-08 00:00:00",
         "10",
         "15.0",
         "18.0",
         "33.0"
        ],
        [
         "30",
         "1/2 bushel cartons",
         "2016-10-08 00:00:00",
         "10",
         "16.0",
         "17.0",
         "33.0"
        ],
        [
         "31",
         "1/2 bushel cartons",
         "2016-10-08 00:00:00",
         "10",
         "16.0",
         "18.0",
         "34.0"
        ],
        [
         "32",
         "1/2 bushel cartons",
         "2016-10-15 00:00:00",
         "10",
         "15.0",
         "15.0",
         "30.0"
        ],
        [
         "33",
         "1/2 bushel cartons",
         "2016-10-15 00:00:00",
         "10",
         "15.0",
         "15.0",
         "30.0"
        ],
        [
         "34",
         "1/2 bushel cartons",
         "2016-10-15 00:00:00",
         "10",
         "16.0",
         "17.0",
         "33.0"
        ],
        [
         "35",
         "1/2 bushel cartons",
         "2016-10-15 00:00:00",
         "10",
         "16.0",
         "18.0",
         "34.0"
        ],
        [
         "36",
         "1/2 bushel cartons",
         "2016-10-22 00:00:00",
         "10",
         "15.0",
         "15.0",
         "30.0"
        ],
        [
         "37",
         "1/2 bushel cartons",
         "2016-10-22 00:00:00",
         "10",
         "15.0",
         "15.0",
         "30.0"
        ],
        [
         "38",
         "1/2 bushel cartons",
         "2016-10-22 00:00:00",
         "10",
         "16.0",
         "17.0",
         "33.0"
        ],
        [
         "39",
         "1/2 bushel cartons",
         "2016-10-22 00:00:00",
         "10",
         "16.0",
         "18.0",
         "34.0"
        ],
        [
         "40",
         "1/2 bushel cartons",
         "2016-10-29 00:00:00",
         "10",
         "15.0",
         "17.0",
         "32.0"
        ],
        [
         "41",
         "1/2 bushel cartons",
         "2016-10-29 00:00:00",
         "10",
         "15.0",
         "15.0",
         "30.0"
        ],
        [
         "42",
         "1/2 bushel cartons",
         "2016-10-29 00:00:00",
         "10",
         "16.0",
         "17.0",
         "33.0"
        ],
        [
         "43",
         "1/2 bushel cartons",
         "2016-10-29 00:00:00",
         "10",
         "16.0",
         "18.0",
         "34.0"
        ],
        [
         "44",
         "1/2 bushel cartons",
         "2016-11-05 00:00:00",
         "11",
         "16.0",
         "17.0",
         "33.0"
        ],
        [
         "45",
         "1/2 bushel cartons",
         "2017-09-16 00:00:00",
         "9",
         "18.0",
         "18.0",
         "36.0"
        ],
        [
         "46",
         "1/2 bushel cartons",
         "2017-09-23 00:00:00",
         "9",
         "18.0",
         "18.0",
         "36.0"
        ],
        [
         "47",
         "1/2 bushel cartons",
         "2017-09-23 00:00:00",
         "9",
         "18.0",
         "18.0",
         "36.0"
        ],
        [
         "48",
         "1/2 bushel cartons",
         "2017-09-30 00:00:00",
         "9",
         "18.0",
         "18.0",
         "36.0"
        ],
        [
         "49",
         "1/2 bushel cartons",
         "2017-09-30 00:00:00",
         "9",
         "18.0",
         "18.0",
         "36.0"
        ]
       ],
       "shape": {
        "columns": 6,
        "rows": 415
       }
      },
      "text/html": [
       "<div>\n",
       "<style scoped>\n",
       "    .dataframe tbody tr th:only-of-type {\n",
       "        vertical-align: middle;\n",
       "    }\n",
       "\n",
       "    .dataframe tbody tr th {\n",
       "        vertical-align: top;\n",
       "    }\n",
       "\n",
       "    .dataframe thead th {\n",
       "        text-align: right;\n",
       "    }\n",
       "</style>\n",
       "<table border=\"1\" class=\"dataframe\">\n",
       "  <thead>\n",
       "    <tr style=\"text-align: right;\">\n",
       "      <th></th>\n",
       "      <th>Package</th>\n",
       "      <th>Date</th>\n",
       "      <th>Month</th>\n",
       "      <th>Low Price</th>\n",
       "      <th>High Price</th>\n",
       "      <th>Price</th>\n",
       "    </tr>\n",
       "  </thead>\n",
       "  <tbody>\n",
       "    <tr>\n",
       "      <th>0</th>\n",
       "      <td>1 1/9 bushel cartons</td>\n",
       "      <td>2016-09-24</td>\n",
       "      <td>9</td>\n",
       "      <td>15.00</td>\n",
       "      <td>15.0</td>\n",
       "      <td>13.50</td>\n",
       "    </tr>\n",
       "    <tr>\n",
       "      <th>1</th>\n",
       "      <td>1 1/9 bushel cartons</td>\n",
       "      <td>2016-09-24</td>\n",
       "      <td>9</td>\n",
       "      <td>18.00</td>\n",
       "      <td>18.0</td>\n",
       "      <td>16.20</td>\n",
       "    </tr>\n",
       "    <tr>\n",
       "      <th>2</th>\n",
       "      <td>1 1/9 bushel cartons</td>\n",
       "      <td>2016-10-01</td>\n",
       "      <td>10</td>\n",
       "      <td>18.00</td>\n",
       "      <td>18.0</td>\n",
       "      <td>16.20</td>\n",
       "    </tr>\n",
       "    <tr>\n",
       "      <th>3</th>\n",
       "      <td>1 1/9 bushel cartons</td>\n",
       "      <td>2016-10-01</td>\n",
       "      <td>10</td>\n",
       "      <td>17.00</td>\n",
       "      <td>17.0</td>\n",
       "      <td>15.30</td>\n",
       "    </tr>\n",
       "    <tr>\n",
       "      <th>4</th>\n",
       "      <td>1 1/9 bushel cartons</td>\n",
       "      <td>2016-10-08</td>\n",
       "      <td>10</td>\n",
       "      <td>15.00</td>\n",
       "      <td>15.0</td>\n",
       "      <td>13.50</td>\n",
       "    </tr>\n",
       "    <tr>\n",
       "      <th>...</th>\n",
       "      <td>...</td>\n",
       "      <td>...</td>\n",
       "      <td>...</td>\n",
       "      <td>...</td>\n",
       "      <td>...</td>\n",
       "      <td>...</td>\n",
       "    </tr>\n",
       "    <tr>\n",
       "      <th>410</th>\n",
       "      <td>1/2 bushel cartons</td>\n",
       "      <td>2016-09-30</td>\n",
       "      <td>9</td>\n",
       "      <td>15.00</td>\n",
       "      <td>15.0</td>\n",
       "      <td>30.00</td>\n",
       "    </tr>\n",
       "    <tr>\n",
       "      <th>411</th>\n",
       "      <td>1/2 bushel cartons</td>\n",
       "      <td>2016-09-30</td>\n",
       "      <td>9</td>\n",
       "      <td>13.75</td>\n",
       "      <td>15.0</td>\n",
       "      <td>28.75</td>\n",
       "    </tr>\n",
       "    <tr>\n",
       "      <th>412</th>\n",
       "      <td>1/2 bushel cartons</td>\n",
       "      <td>2016-09-30</td>\n",
       "      <td>9</td>\n",
       "      <td>10.75</td>\n",
       "      <td>15.0</td>\n",
       "      <td>25.75</td>\n",
       "    </tr>\n",
       "    <tr>\n",
       "      <th>413</th>\n",
       "      <td>1/2 bushel cartons</td>\n",
       "      <td>2016-09-30</td>\n",
       "      <td>9</td>\n",
       "      <td>12.00</td>\n",
       "      <td>12.0</td>\n",
       "      <td>24.00</td>\n",
       "    </tr>\n",
       "    <tr>\n",
       "      <th>414</th>\n",
       "      <td>1/2 bushel cartons</td>\n",
       "      <td>2016-09-30</td>\n",
       "      <td>9</td>\n",
       "      <td>12.00</td>\n",
       "      <td>12.0</td>\n",
       "      <td>24.00</td>\n",
       "    </tr>\n",
       "  </tbody>\n",
       "</table>\n",
       "<p>415 rows × 6 columns</p>\n",
       "</div>"
      ],
      "text/plain": [
       "                  Package       Date  Month  Low Price  High Price  Price\n",
       "0    1 1/9 bushel cartons 2016-09-24      9      15.00        15.0  13.50\n",
       "1    1 1/9 bushel cartons 2016-09-24      9      18.00        18.0  16.20\n",
       "2    1 1/9 bushel cartons 2016-10-01     10      18.00        18.0  16.20\n",
       "3    1 1/9 bushel cartons 2016-10-01     10      17.00        17.0  15.30\n",
       "4    1 1/9 bushel cartons 2016-10-08     10      15.00        15.0  13.50\n",
       "..                    ...        ...    ...        ...         ...    ...\n",
       "410    1/2 bushel cartons 2016-09-30      9      15.00        15.0  30.00\n",
       "411    1/2 bushel cartons 2016-09-30      9      13.75        15.0  28.75\n",
       "412    1/2 bushel cartons 2016-09-30      9      10.75        15.0  25.75\n",
       "413    1/2 bushel cartons 2016-09-30      9      12.00        12.0  24.00\n",
       "414    1/2 bushel cartons 2016-09-30      9      12.00        12.0  24.00\n",
       "\n",
       "[415 rows x 6 columns]"
      ]
     },
     "execution_count": 12,
     "metadata": {},
     "output_type": "execute_result"
    }
   ],
   "source": [
    "Pumkins"
   ]
  },
  {
   "cell_type": "code",
   "execution_count": 13,
   "id": "f4d9cf7d",
   "metadata": {},
   "outputs": [
    {
     "data": {
      "text/plain": [
       "Text(0.5, 1.0, 'Price of Pumkin per month')"
      ]
     },
     "execution_count": 13,
     "metadata": {},
     "output_type": "execute_result"
    },
    {
     "data": {
      "image/png": "[encoded data removed]",
      "text/plain": [
       "<Figure size 640x480 with 1 Axes>"
      ]
     },
     "metadata": {},
     "output_type": "display_data"
    }
   ],
   "source": [
    "#Visualizing the data\n",
    "Pumkins.groupby(['Month'])['Price'].mean().plot(kind='bar')\n",
    "plt.title('Price of Pumkin per month')"
   ]
  },
  {
   "cell_type": "code",
   "execution_count": null,
   "id": "f94d84a1",
   "metadata": {},
   "outputs": [
    {
     "data": {
      "image/png": "[encoded data removed]",
      "text/plain": [
       "<Figure size 640x480 with 1 Axes>"
      ]
     },
     "metadata": {},
     "output_type": "display_data"
    }
   ],
   "source": [
    "#lets visualize the data using scatter plot to find possibly a linearity \n",
    "import seaborn as sns\n",
    "sns.scatterplot(x=Pumkins['Month'], y=Pumkins['Price'], hue=Pumkins['Package'])\n",
    "plt.show()\n",
    "\n",
    "## no correlation between month and price"
   ]
  },
  {
   "cell_type": "code",
   "execution_count": null,
   "id": "60b5a369",
   "metadata": {},
   "outputs": [],
   "source": []
  }
 ],
 "metadata": {
  "kernelspec": {
   "display_name": "Python 3",
   "language": "python",
   "name": "python3"
  },
  "language_info": {
   "codemirror_mode": {
    "name": "ipython",
    "version": 3
   },
   "file_extension": ".py",
   "mimetype": "text/x-python",
   "name": "python",
   "nbconvert_exporter": "python",
   "pygments_lexer": "ipython3",
   "version": "3.12.4"
  }
 },
 "nbformat": 4,
 "nbformat_minor": 5
}

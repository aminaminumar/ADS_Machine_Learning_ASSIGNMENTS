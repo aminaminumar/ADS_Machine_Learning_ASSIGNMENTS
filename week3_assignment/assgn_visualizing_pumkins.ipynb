{
 "cells": [
  {
   "cell_type": "markdown",
   "id": "f48c1aea",
   "metadata": {},
   "source": [
    "# Exploring Visualization\n",
    "There are several different libraries that are available for data visualization. Create some visualizations using the Pumpkin data in this lesson with matplotlib and seaborn in a sample notebook. Which libraries are easier to work with?"
   ]
  },
  {
   "cell_type": "markdown",
   "id": "b1240c42",
   "metadata": {},
   "source": [
    "In The previous assignment, we explored visualization, when and how to visualize on different data for different Purpose.\n",
    "1. Visualizing Distribution\n",
    "2. Visualizing Quantiles\n",
    "3. Visualizing Proportions"
   ]
  },
  {
   "cell_type": "markdown",
   "id": "43a685e8",
   "metadata": {},
   "source": [
    "### Types of plots\n",
    "1. Line Plot: \n",
    "2. Bar chat:\n",
    "3. Histogram\n",
    "4. Boxplots\n",
    "5. Piechats\n",
    "6. waffle chat\n",
    "7. scatter plot\n",
    "8. count plot\n",
    "   "
   ]
  },
  {
   "cell_type": "markdown",
   "id": "52b66f1c",
   "metadata": {},
   "source": [
    "Using The Pumkin dataset, we will explore some of the types "
   ]
  },
  {
   "cell_type": "code",
   "execution_count": 16,
   "id": "6d9f1d53",
   "metadata": {},
   "outputs": [],
   "source": [
    "import matplotlib.pyplot as plt\n",
    "import pandas as pd\n",
    "import seaborn as sns\n",
    "from pandas import DatetimeIndex"
   ]
  },
  {
   "cell_type": "code",
   "execution_count": 17,
   "id": "97b1a633",
   "metadata": {},
   "outputs": [
    {
     "data": {
      "application/vnd.microsoft.datawrangler.viewer.v0+json": {
       "columns": [
        {
         "name": "index",
         "rawType": "int64",
         "type": "integer"
        },
        {
         "name": "City Name",
         "rawType": "object",
         "type": "string"
        },
        {
         "name": "Type",
         "rawType": "object",
         "type": "unknown"
        },
        {
         "name": "Package",
         "rawType": "object",
         "type": "string"
        },
        {
         "name": "Variety",
         "rawType": "object",
         "type": "unknown"
        },
        {
         "name": "Sub Variety",
         "rawType": "object",
         "type": "unknown"
        },
        {
         "name": "Grade",
         "rawType": "float64",
         "type": "float"
        },
        {
         "name": "Date",
         "rawType": "object",
         "type": "string"
        },
        {
         "name": "Low Price",
         "rawType": "float64",
         "type": "float"
        },
        {
         "name": "High Price",
         "rawType": "float64",
         "type": "float"
        },
        {
         "name": "Mostly Low",
         "rawType": "float64",
         "type": "float"
        },
        {
         "name": "Mostly High",
         "rawType": "float64",
         "type": "float"
        },
        {
         "name": "Origin",
         "rawType": "object",
         "type": "string"
        },
        {
         "name": "Origin District",
         "rawType": "object",
         "type": "unknown"
        },
        {
         "name": "Item Size",
         "rawType": "object",
         "type": "string"
        },
        {
         "name": "Color",
         "rawType": "object",
         "type": "unknown"
        },
        {
         "name": "Environment",
         "rawType": "float64",
         "type": "float"
        },
        {
         "name": "Unit of Sale",
         "rawType": "object",
         "type": "unknown"
        },
        {
         "name": "Quality",
         "rawType": "float64",
         "type": "float"
        },
        {
         "name": "Condition",
         "rawType": "float64",
         "type": "float"
        },
        {
         "name": "Appearance",
         "rawType": "float64",
         "type": "float"
        },
        {
         "name": "Storage",
         "rawType": "float64",
         "type": "float"
        },
        {
         "name": "Crop",
         "rawType": "float64",
         "type": "float"
        },
        {
         "name": "Repack",
         "rawType": "object",
         "type": "string"
        },
        {
         "name": "Trans Mode",
         "rawType": "float64",
         "type": "float"
        },
        {
         "name": "Unnamed: 24",
         "rawType": "float64",
         "type": "float"
        },
        {
         "name": "Unnamed: 25",
         "rawType": "object",
         "type": "unknown"
        }
       ],
       "ref": "f6e145b0-e078-4ebc-b593-ec9591e87b4b",
       "rows": [
        [
         "0",
         "BALTIMORE",
         null,
         "24 inch bins",
         null,
         null,
         null,
         "4/29/17",
         "270.0",
         "280.0",
         "270.0",
         "280.0",
         "MARYLAND",
         null,
         "lge",
         null,
         null,
         null,
         null,
         null,
         null,
         null,
         null,
         "E",
         null,
         null,
         null
        ],
        [
         "1",
         "BALTIMORE",
         null,
         "24 inch bins",
         null,
         null,
         null,
         "5/6/17",
         "270.0",
         "280.0",
         "270.0",
         "280.0",
         "MARYLAND",
         null,
         "lge",
         null,
         null,
         null,
         null,
         null,
         null,
         null,
         null,
         "E",
         null,
         null,
         null
        ],
        [
         "2",
         "BALTIMORE",
         null,
         "24 inch bins",
         "HOWDEN TYPE",
         null,
         null,
         "9/24/16",
         "160.0",
         "160.0",
         "160.0",
         "160.0",
         "DELAWARE",
         null,
         "med",
         "ORANGE",
         null,
         null,
         null,
         null,
         null,
         null,
         null,
         "N",
         null,
         null,
         null
        ],
        [
         "3",
         "BALTIMORE",
         null,
         "24 inch bins",
         "HOWDEN TYPE",
         null,
         null,
         "9/24/16",
         "160.0",
         "160.0",
         "160.0",
         "160.0",
         "VIRGINIA",
         null,
         "med",
         "ORANGE",
         null,
         null,
         null,
         null,
         null,
         null,
         null,
         "N",
         null,
         null,
         null
        ],
        [
         "4",
         "BALTIMORE",
         null,
         "24 inch bins",
         "HOWDEN TYPE",
         null,
         null,
         "11/5/16",
         "90.0",
         "100.0",
         "90.0",
         "100.0",
         "MARYLAND",
         null,
         "lge",
         "ORANGE",
         null,
         null,
         null,
         null,
         null,
         null,
         null,
         "N",
         null,
         null,
         null
        ]
       ],
       "shape": {
        "columns": 26,
        "rows": 5
       }
      },
      "text/html": [
       "<div>\n",
       "<style scoped>\n",
       "    .dataframe tbody tr th:only-of-type {\n",
       "        vertical-align: middle;\n",
       "    }\n",
       "\n",
       "    .dataframe tbody tr th {\n",
       "        vertical-align: top;\n",
       "    }\n",
       "\n",
       "    .dataframe thead th {\n",
       "        text-align: right;\n",
       "    }\n",
       "</style>\n",
       "<table border=\"1\" class=\"dataframe\">\n",
       "  <thead>\n",
       "    <tr style=\"text-align: right;\">\n",
       "      <th></th>\n",
       "      <th>City Name</th>\n",
       "      <th>Type</th>\n",
       "      <th>Package</th>\n",
       "      <th>Variety</th>\n",
       "      <th>Sub Variety</th>\n",
       "      <th>Grade</th>\n",
       "      <th>Date</th>\n",
       "      <th>Low Price</th>\n",
       "      <th>High Price</th>\n",
       "      <th>Mostly Low</th>\n",
       "      <th>...</th>\n",
       "      <th>Unit of Sale</th>\n",
       "      <th>Quality</th>\n",
       "      <th>Condition</th>\n",
       "      <th>Appearance</th>\n",
       "      <th>Storage</th>\n",
       "      <th>Crop</th>\n",
       "      <th>Repack</th>\n",
       "      <th>Trans Mode</th>\n",
       "      <th>Unnamed: 24</th>\n",
       "      <th>Unnamed: 25</th>\n",
       "    </tr>\n",
       "  </thead>\n",
       "  <tbody>\n",
       "    <tr>\n",
       "      <th>0</th>\n",
       "      <td>BALTIMORE</td>\n",
       "      <td>NaN</td>\n",
       "      <td>24 inch bins</td>\n",
       "      <td>NaN</td>\n",
       "      <td>NaN</td>\n",
       "      <td>NaN</td>\n",
       "      <td>4/29/17</td>\n",
       "      <td>270.0</td>\n",
       "      <td>280.0</td>\n",
       "      <td>270.0</td>\n",
       "      <td>...</td>\n",
       "      <td>NaN</td>\n",
       "      <td>NaN</td>\n",
       "      <td>NaN</td>\n",
       "      <td>NaN</td>\n",
       "      <td>NaN</td>\n",
       "      <td>NaN</td>\n",
       "      <td>E</td>\n",
       "      <td>NaN</td>\n",
       "      <td>NaN</td>\n",
       "      <td>NaN</td>\n",
       "    </tr>\n",
       "    <tr>\n",
       "      <th>1</th>\n",
       "      <td>BALTIMORE</td>\n",
       "      <td>NaN</td>\n",
       "      <td>24 inch bins</td>\n",
       "      <td>NaN</td>\n",
       "      <td>NaN</td>\n",
       "      <td>NaN</td>\n",
       "      <td>5/6/17</td>\n",
       "      <td>270.0</td>\n",
       "      <td>280.0</td>\n",
       "      <td>270.0</td>\n",
       "      <td>...</td>\n",
       "      <td>NaN</td>\n",
       "      <td>NaN</td>\n",
       "      <td>NaN</td>\n",
       "      <td>NaN</td>\n",
       "      <td>NaN</td>\n",
       "      <td>NaN</td>\n",
       "      <td>E</td>\n",
       "      <td>NaN</td>\n",
       "      <td>NaN</td>\n",
       "      <td>NaN</td>\n",
       "    </tr>\n",
       "    <tr>\n",
       "      <th>2</th>\n",
       "      <td>BALTIMORE</td>\n",
       "      <td>NaN</td>\n",
       "      <td>24 inch bins</td>\n",
       "      <td>HOWDEN TYPE</td>\n",
       "      <td>NaN</td>\n",
       "      <td>NaN</td>\n",
       "      <td>9/24/16</td>\n",
       "      <td>160.0</td>\n",
       "      <td>160.0</td>\n",
       "      <td>160.0</td>\n",
       "      <td>...</td>\n",
       "      <td>NaN</td>\n",
       "      <td>NaN</td>\n",
       "      <td>NaN</td>\n",
       "      <td>NaN</td>\n",
       "      <td>NaN</td>\n",
       "      <td>NaN</td>\n",
       "      <td>N</td>\n",
       "      <td>NaN</td>\n",
       "      <td>NaN</td>\n",
       "      <td>NaN</td>\n",
       "    </tr>\n",
       "    <tr>\n",
       "      <th>3</th>\n",
       "      <td>BALTIMORE</td>\n",
       "      <td>NaN</td>\n",
       "      <td>24 inch bins</td>\n",
       "      <td>HOWDEN TYPE</td>\n",
       "      <td>NaN</td>\n",
       "      <td>NaN</td>\n",
       "      <td>9/24/16</td>\n",
       "      <td>160.0</td>\n",
       "      <td>160.0</td>\n",
       "      <td>160.0</td>\n",
       "      <td>...</td>\n",
       "      <td>NaN</td>\n",
       "      <td>NaN</td>\n",
       "      <td>NaN</td>\n",
       "      <td>NaN</td>\n",
       "      <td>NaN</td>\n",
       "      <td>NaN</td>\n",
       "      <td>N</td>\n",
       "      <td>NaN</td>\n",
       "      <td>NaN</td>\n",
       "      <td>NaN</td>\n",
       "    </tr>\n",
       "    <tr>\n",
       "      <th>4</th>\n",
       "      <td>BALTIMORE</td>\n",
       "      <td>NaN</td>\n",
       "      <td>24 inch bins</td>\n",
       "      <td>HOWDEN TYPE</td>\n",
       "      <td>NaN</td>\n",
       "      <td>NaN</td>\n",
       "      <td>11/5/16</td>\n",
       "      <td>90.0</td>\n",
       "      <td>100.0</td>\n",
       "      <td>90.0</td>\n",
       "      <td>...</td>\n",
       "      <td>NaN</td>\n",
       "      <td>NaN</td>\n",
       "      <td>NaN</td>\n",
       "      <td>NaN</td>\n",
       "      <td>NaN</td>\n",
       "      <td>NaN</td>\n",
       "      <td>N</td>\n",
       "      <td>NaN</td>\n",
       "      <td>NaN</td>\n",
       "      <td>NaN</td>\n",
       "    </tr>\n",
       "  </tbody>\n",
       "</table>\n",
       "<p>5 rows × 26 columns</p>\n",
       "</div>"
      ],
      "text/plain": [
       "   City Name Type       Package      Variety Sub Variety  Grade     Date  \\\n",
       "0  BALTIMORE  NaN  24 inch bins          NaN         NaN    NaN  4/29/17   \n",
       "1  BALTIMORE  NaN  24 inch bins          NaN         NaN    NaN   5/6/17   \n",
       "2  BALTIMORE  NaN  24 inch bins  HOWDEN TYPE         NaN    NaN  9/24/16   \n",
       "3  BALTIMORE  NaN  24 inch bins  HOWDEN TYPE         NaN    NaN  9/24/16   \n",
       "4  BALTIMORE  NaN  24 inch bins  HOWDEN TYPE         NaN    NaN  11/5/16   \n",
       "\n",
       "   Low Price  High Price  Mostly Low  ...  Unit of Sale Quality Condition  \\\n",
       "0      270.0       280.0       270.0  ...           NaN     NaN       NaN   \n",
       "1      270.0       280.0       270.0  ...           NaN     NaN       NaN   \n",
       "2      160.0       160.0       160.0  ...           NaN     NaN       NaN   \n",
       "3      160.0       160.0       160.0  ...           NaN     NaN       NaN   \n",
       "4       90.0       100.0        90.0  ...           NaN     NaN       NaN   \n",
       "\n",
       "  Appearance Storage  Crop Repack  Trans Mode  Unnamed: 24  Unnamed: 25  \n",
       "0        NaN     NaN   NaN      E         NaN          NaN          NaN  \n",
       "1        NaN     NaN   NaN      E         NaN          NaN          NaN  \n",
       "2        NaN     NaN   NaN      N         NaN          NaN          NaN  \n",
       "3        NaN     NaN   NaN      N         NaN          NaN          NaN  \n",
       "4        NaN     NaN   NaN      N         NaN          NaN          NaN  \n",
       "\n",
       "[5 rows x 26 columns]"
      ]
     },
     "execution_count": 17,
     "metadata": {},
     "output_type": "execute_result"
    }
   ],
   "source": [
    "pumkins = pd.read_csv('US-pumpkins.csv')\n",
    "pumkins.head()"
   ]
  },
  {
   "cell_type": "code",
   "execution_count": 18,
   "id": "e7c01a84",
   "metadata": {},
   "outputs": [
    {
     "name": "stdout",
     "output_type": "stream",
     "text": [
      "City Name             0\n",
      "Type               1712\n",
      "Package               0\n",
      "Variety               5\n",
      "Sub Variety        1461\n",
      "Grade              1757\n",
      "Date                  0\n",
      "Low Price             0\n",
      "High Price            0\n",
      "Mostly Low          103\n",
      "Mostly High         103\n",
      "Origin                3\n",
      "Origin District    1626\n",
      "Item Size           279\n",
      "Color               616\n",
      "Environment        1757\n",
      "Unit of Sale       1595\n",
      "Quality            1757\n",
      "Condition          1757\n",
      "Appearance         1757\n",
      "Storage            1757\n",
      "Crop               1757\n",
      "Repack                0\n",
      "Trans Mode         1757\n",
      "Unnamed: 24        1757\n",
      "Unnamed: 25        1654\n",
      "dtype: int64\n"
     ]
    }
   ],
   "source": [
    "print(pumkins.isnull().sum())"
   ]
  },
  {
   "cell_type": "code",
   "execution_count": 19,
   "id": "8bfd2821",
   "metadata": {},
   "outputs": [],
   "source": [
    "Month = DatetimeIndex(pumkins['Date']).month\n",
    "Price =(pumkins['Low Price'] + pumkins['High Price'])/ 2\n"
   ]
  },
  {
   "cell_type": "code",
   "execution_count": 20,
   "id": "0c151ed0",
   "metadata": {},
   "outputs": [],
   "source": [
    "pumpkin_dict = {'City Name': pumkins['City Name'], \n",
    "                'Package': pumkins['Package'],\n",
    "                'Variety': pumkins['Variety'],\n",
    "                'Month': Month,\n",
    "                'High Price': pumkins['High Price'],\n",
    "                'Low Price': pumkins['Low Price'],  \n",
    "                'Average Price': Price,\n",
    "                'Origin': pumkins['Origin']}"
   ]
  },
  {
   "cell_type": "code",
   "execution_count": 21,
   "id": "9458d27c",
   "metadata": {},
   "outputs": [
    {
     "data": {
      "application/vnd.microsoft.datawrangler.viewer.v0+json": {
       "columns": [
        {
         "name": "index",
         "rawType": "int64",
         "type": "integer"
        },
        {
         "name": "City Name",
         "rawType": "object",
         "type": "string"
        },
        {
         "name": "Package",
         "rawType": "object",
         "type": "string"
        },
        {
         "name": "Variety",
         "rawType": "object",
         "type": "unknown"
        },
        {
         "name": "Month",
         "rawType": "int32",
         "type": "integer"
        },
        {
         "name": "High Price",
         "rawType": "float64",
         "type": "float"
        },
        {
         "name": "Low Price",
         "rawType": "float64",
         "type": "float"
        },
        {
         "name": "Average Price",
         "rawType": "float64",
         "type": "float"
        },
        {
         "name": "Origin",
         "rawType": "object",
         "type": "unknown"
        }
       ],
       "ref": "7145fd4c-00c7-432a-ba46-2f53bf81c18f",
       "rows": [
        [
         "0",
         "BALTIMORE",
         "24 inch bins",
         null,
         "4",
         "280.0",
         "270.0",
         "275.0",
         "MARYLAND"
        ],
        [
         "1",
         "BALTIMORE",
         "24 inch bins",
         null,
         "5",
         "280.0",
         "270.0",
         "275.0",
         "MARYLAND"
        ],
        [
         "2",
         "BALTIMORE",
         "24 inch bins",
         "HOWDEN TYPE",
         "9",
         "160.0",
         "160.0",
         "160.0",
         "DELAWARE"
        ],
        [
         "3",
         "BALTIMORE",
         "24 inch bins",
         "HOWDEN TYPE",
         "9",
         "160.0",
         "160.0",
         "160.0",
         "VIRGINIA"
        ],
        [
         "4",
         "BALTIMORE",
         "24 inch bins",
         "HOWDEN TYPE",
         "11",
         "100.0",
         "90.0",
         "95.0",
         "MARYLAND"
        ],
        [
         "5",
         "BALTIMORE",
         "24 inch bins",
         "HOWDEN TYPE",
         "11",
         "100.0",
         "90.0",
         "95.0",
         "MARYLAND"
        ],
        [
         "6",
         "BALTIMORE",
         "36 inch bins",
         "HOWDEN TYPE",
         "9",
         "170.0",
         "160.0",
         "165.0",
         "MARYLAND"
        ],
        [
         "7",
         "BALTIMORE",
         "36 inch bins",
         "HOWDEN TYPE",
         "9",
         "160.0",
         "160.0",
         "160.0",
         "PENNSYLVANIA"
        ],
        [
         "8",
         "BALTIMORE",
         "36 inch bins",
         "HOWDEN TYPE",
         "10",
         "170.0",
         "160.0",
         "165.0",
         "MARYLAND"
        ],
        [
         "9",
         "BALTIMORE",
         "36 inch bins",
         "HOWDEN TYPE",
         "10",
         "160.0",
         "160.0",
         "160.0",
         "PENNSYLVANIA"
        ],
        [
         "10",
         "BALTIMORE",
         "36 inch bins",
         "HOWDEN TYPE",
         "10",
         "170.0",
         "160.0",
         "165.0",
         "MARYLAND"
        ],
        [
         "11",
         "BALTIMORE",
         "36 inch bins",
         "HOWDEN TYPE",
         "10",
         "160.0",
         "160.0",
         "160.0",
         "PENNSYLVANIA"
        ],
        [
         "12",
         "BALTIMORE",
         "36 inch bins",
         "HOWDEN TYPE",
         "10",
         "160.0",
         "150.0",
         "155.0",
         "MARYLAND"
        ],
        [
         "13",
         "BALTIMORE",
         "36 inch bins",
         "HOWDEN TYPE",
         "10",
         "170.0",
         "150.0",
         "160.0",
         "MARYLAND"
        ],
        [
         "14",
         "BALTIMORE",
         "36 inch bins",
         "HOWDEN TYPE",
         "10",
         "160.0",
         "150.0",
         "155.0",
         "MARYLAND"
        ],
        [
         "15",
         "BALTIMORE",
         "36 inch bins",
         "HOWDEN TYPE",
         "10",
         "160.0",
         "140.0",
         "150.0",
         "MARYLAND"
        ],
        [
         "16",
         "BALTIMORE",
         "36 inch bins",
         "HOWDEN TYPE",
         "10",
         "160.0",
         "100.0",
         "130.0",
         "MARYLAND"
        ],
        [
         "17",
         "BALTIMORE",
         "36 inch bins",
         "HOWDEN TYPE",
         "10",
         "160.0",
         "130.0",
         "145.0",
         "MARYLAND"
        ],
        [
         "18",
         "BALTIMORE",
         "36 inch bins",
         "HOWDEN TYPE",
         "10",
         "130.0",
         "130.0",
         "130.0",
         "MARYLAND"
        ],
        [
         "19",
         "BALTIMORE",
         "36 inch bins",
         "HOWDEN TYPE",
         "11",
         "130.0",
         "120.0",
         "125.0",
         "MARYLAND"
        ],
        [
         "20",
         "BALTIMORE",
         "36 inch bins",
         "HOWDEN TYPE",
         "11",
         "130.0",
         "100.0",
         "115.0",
         "MARYLAND"
        ],
        [
         "21",
         "BALTIMORE",
         "36 inch bins",
         "HOWDEN TYPE",
         "11",
         "100.0",
         "90.0",
         "95.0",
         "MARYLAND"
        ],
        [
         "22",
         "BALTIMORE",
         "36 inch bins",
         "HOWDEN TYPE",
         "11",
         "120.0",
         "100.0",
         "110.0",
         "MARYLAND"
        ],
        [
         "23",
         "BALTIMORE",
         "36 inch bins",
         "HOWDEN TYPE",
         "9",
         "160.0",
         "160.0",
         "160.0",
         "MARYLAND"
        ],
        [
         "24",
         "BALTIMORE",
         "36 inch bins",
         "HOWDEN TYPE",
         "9",
         "160.0",
         "160.0",
         "160.0",
         "MARYLAND"
        ],
        [
         "25",
         "BALTIMORE",
         "36 inch bins",
         "HOWDEN TYPE",
         "9",
         "160.0",
         "150.0",
         "155.0",
         "MARYLAND"
        ],
        [
         "26",
         "BALTIMORE",
         "36 inch bins",
         "HOWDEN TYPE",
         "9",
         "160.0",
         "150.0",
         "155.0",
         "MARYLAND"
        ],
        [
         "27",
         "BALTIMORE",
         "24 inch bins",
         "HOWDEN WHITE TYPE",
         "9",
         "180.0",
         "160.0",
         "170.0",
         "MARYLAND"
        ],
        [
         "28",
         "BALTIMORE",
         "24 inch bins",
         "HOWDEN WHITE TYPE",
         "9",
         "180.0",
         "180.0",
         "180.0",
         "MARYLAND"
        ],
        [
         "29",
         "BALTIMORE",
         "24 inch bins",
         "CINDERELLA",
         "6",
         "380.0",
         "380.0",
         "380.0",
         null
        ],
        [
         "30",
         "BALTIMORE",
         "24 inch bins",
         "CINDERELLA",
         "6",
         "380.0",
         "380.0",
         "380.0",
         null
        ],
        [
         "31",
         "BALTIMORE",
         "24 inch bins",
         "CINDERELLA",
         "6",
         "380.0",
         "380.0",
         "380.0",
         null
        ],
        [
         "32",
         "BALTIMORE",
         "24 inch bins",
         "CINDERELLA",
         "8",
         "200.0",
         "200.0",
         "200.0",
         "MEXICO"
        ],
        [
         "33",
         "BALTIMORE",
         "24 inch bins",
         "CINDERELLA",
         "8",
         "350.0",
         "200.0",
         "275.0",
         "MEXICO"
        ],
        [
         "34",
         "BALTIMORE",
         "24 inch bins",
         "CINDERELLA",
         "9",
         "350.0",
         "350.0",
         "350.0",
         "MEXICO"
        ],
        [
         "35",
         "BALTIMORE",
         "24 inch bins",
         "CINDERELLA",
         "9",
         "180.0",
         "180.0",
         "180.0",
         "MARYLAND"
        ],
        [
         "36",
         "BALTIMORE",
         "24 inch bins",
         "CINDERELLA",
         "9",
         "200.0",
         "200.0",
         "200.0",
         "VIRGINIA"
        ],
        [
         "37",
         "BALTIMORE",
         "24 inch bins",
         "CINDERELLA",
         "9",
         "200.0",
         "180.0",
         "190.0",
         "MARYLAND"
        ],
        [
         "38",
         "BALTIMORE",
         "24 inch bins",
         "CINDERELLA",
         "9",
         "200.0",
         "180.0",
         "190.0",
         "VIRGINIA"
        ],
        [
         "39",
         "BALTIMORE",
         "24 inch bins",
         "CINDERELLA",
         "9",
         "340.0",
         "340.0",
         "340.0",
         "MARYLAND"
        ],
        [
         "40",
         "BALTIMORE",
         "24 inch bins",
         "CINDERELLA",
         "9",
         "250.0",
         "240.0",
         "245.0",
         "MARYLAND"
        ],
        [
         "41",
         "BALTIMORE",
         "24 inch bins",
         "CINDERELLA",
         "9",
         "200.0",
         "200.0",
         "200.0",
         "VIRGINIA"
        ],
        [
         "42",
         "BALTIMORE",
         "24 inch bins",
         "CINDERELLA",
         "9",
         "340.0",
         "340.0",
         "340.0",
         "MARYLAND"
        ],
        [
         "43",
         "BALTIMORE",
         "24 inch bins",
         "CINDERELLA",
         "9",
         "250.0",
         "240.0",
         "245.0",
         "MARYLAND"
        ],
        [
         "44",
         "BALTIMORE",
         "24 inch bins",
         "CINDERELLA",
         "9",
         "200.0",
         "180.0",
         "190.0",
         "VIRGINIA"
        ],
        [
         "45",
         "BALTIMORE",
         "50 lb sacks",
         "CINDERELLA",
         "8",
         "29.0",
         "29.0",
         "29.0",
         "COSTA RICA"
        ],
        [
         "46",
         "BALTIMORE",
         "50 lb sacks",
         "CINDERELLA",
         "8",
         "29.0",
         "29.0",
         "29.0",
         "MEXICO"
        ],
        [
         "47",
         "BALTIMORE",
         "50 lb sacks",
         "CINDERELLA",
         "8",
         "29.0",
         "28.0",
         "28.5",
         "COSTA RICA"
        ],
        [
         "48",
         "BALTIMORE",
         "50 lb sacks",
         "CINDERELLA",
         "8",
         "29.0",
         "28.0",
         "28.5",
         "COSTA RICA"
        ],
        [
         "49",
         "BALTIMORE",
         "50 lb sacks",
         "CINDERELLA",
         "8",
         "29.0",
         "29.0",
         "29.0",
         "FLORIDA"
        ]
       ],
       "shape": {
        "columns": 8,
        "rows": 1757
       }
      },
      "text/html": [
       "<div>\n",
       "<style scoped>\n",
       "    .dataframe tbody tr th:only-of-type {\n",
       "        vertical-align: middle;\n",
       "    }\n",
       "\n",
       "    .dataframe tbody tr th {\n",
       "        vertical-align: top;\n",
       "    }\n",
       "\n",
       "    .dataframe thead th {\n",
       "        text-align: right;\n",
       "    }\n",
       "</style>\n",
       "<table border=\"1\" class=\"dataframe\">\n",
       "  <thead>\n",
       "    <tr style=\"text-align: right;\">\n",
       "      <th></th>\n",
       "      <th>City Name</th>\n",
       "      <th>Package</th>\n",
       "      <th>Variety</th>\n",
       "      <th>Month</th>\n",
       "      <th>High Price</th>\n",
       "      <th>Low Price</th>\n",
       "      <th>Average Price</th>\n",
       "      <th>Origin</th>\n",
       "    </tr>\n",
       "  </thead>\n",
       "  <tbody>\n",
       "    <tr>\n",
       "      <th>0</th>\n",
       "      <td>BALTIMORE</td>\n",
       "      <td>24 inch bins</td>\n",
       "      <td>NaN</td>\n",
       "      <td>4</td>\n",
       "      <td>280.00</td>\n",
       "      <td>270.00</td>\n",
       "      <td>275.00</td>\n",
       "      <td>MARYLAND</td>\n",
       "    </tr>\n",
       "    <tr>\n",
       "      <th>1</th>\n",
       "      <td>BALTIMORE</td>\n",
       "      <td>24 inch bins</td>\n",
       "      <td>NaN</td>\n",
       "      <td>5</td>\n",
       "      <td>280.00</td>\n",
       "      <td>270.00</td>\n",
       "      <td>275.00</td>\n",
       "      <td>MARYLAND</td>\n",
       "    </tr>\n",
       "    <tr>\n",
       "      <th>2</th>\n",
       "      <td>BALTIMORE</td>\n",
       "      <td>24 inch bins</td>\n",
       "      <td>HOWDEN TYPE</td>\n",
       "      <td>9</td>\n",
       "      <td>160.00</td>\n",
       "      <td>160.00</td>\n",
       "      <td>160.00</td>\n",
       "      <td>DELAWARE</td>\n",
       "    </tr>\n",
       "    <tr>\n",
       "      <th>3</th>\n",
       "      <td>BALTIMORE</td>\n",
       "      <td>24 inch bins</td>\n",
       "      <td>HOWDEN TYPE</td>\n",
       "      <td>9</td>\n",
       "      <td>160.00</td>\n",
       "      <td>160.00</td>\n",
       "      <td>160.00</td>\n",
       "      <td>VIRGINIA</td>\n",
       "    </tr>\n",
       "    <tr>\n",
       "      <th>4</th>\n",
       "      <td>BALTIMORE</td>\n",
       "      <td>24 inch bins</td>\n",
       "      <td>HOWDEN TYPE</td>\n",
       "      <td>11</td>\n",
       "      <td>100.00</td>\n",
       "      <td>90.00</td>\n",
       "      <td>95.00</td>\n",
       "      <td>MARYLAND</td>\n",
       "    </tr>\n",
       "    <tr>\n",
       "      <th>...</th>\n",
       "      <td>...</td>\n",
       "      <td>...</td>\n",
       "      <td>...</td>\n",
       "      <td>...</td>\n",
       "      <td>...</td>\n",
       "      <td>...</td>\n",
       "      <td>...</td>\n",
       "      <td>...</td>\n",
       "    </tr>\n",
       "    <tr>\n",
       "      <th>1752</th>\n",
       "      <td>ST. LOUIS</td>\n",
       "      <td>22 lb cartons</td>\n",
       "      <td>MINIATURE</td>\n",
       "      <td>9</td>\n",
       "      <td>14.75</td>\n",
       "      <td>14.75</td>\n",
       "      <td>14.75</td>\n",
       "      <td>ILLINOIS</td>\n",
       "    </tr>\n",
       "    <tr>\n",
       "      <th>1753</th>\n",
       "      <td>ST. LOUIS</td>\n",
       "      <td>36 inch bins</td>\n",
       "      <td>MINIATURE</td>\n",
       "      <td>9</td>\n",
       "      <td>275.00</td>\n",
       "      <td>275.00</td>\n",
       "      <td>275.00</td>\n",
       "      <td>MICHIGAN</td>\n",
       "    </tr>\n",
       "    <tr>\n",
       "      <th>1754</th>\n",
       "      <td>ST. LOUIS</td>\n",
       "      <td>36 inch bins</td>\n",
       "      <td>MINIATURE</td>\n",
       "      <td>9</td>\n",
       "      <td>275.00</td>\n",
       "      <td>275.00</td>\n",
       "      <td>275.00</td>\n",
       "      <td>MICHIGAN</td>\n",
       "    </tr>\n",
       "    <tr>\n",
       "      <th>1755</th>\n",
       "      <td>ST. LOUIS</td>\n",
       "      <td>36 inch bins</td>\n",
       "      <td>MINIATURE</td>\n",
       "      <td>9</td>\n",
       "      <td>275.00</td>\n",
       "      <td>275.00</td>\n",
       "      <td>275.00</td>\n",
       "      <td>MICHIGAN</td>\n",
       "    </tr>\n",
       "    <tr>\n",
       "      <th>1756</th>\n",
       "      <td>ST. LOUIS</td>\n",
       "      <td>36 inch bins</td>\n",
       "      <td>MINIATURE</td>\n",
       "      <td>9</td>\n",
       "      <td>275.00</td>\n",
       "      <td>275.00</td>\n",
       "      <td>275.00</td>\n",
       "      <td>MICHIGAN</td>\n",
       "    </tr>\n",
       "  </tbody>\n",
       "</table>\n",
       "<p>1757 rows × 8 columns</p>\n",
       "</div>"
      ],
      "text/plain": [
       "      City Name        Package      Variety  Month  High Price  Low Price  \\\n",
       "0     BALTIMORE   24 inch bins          NaN      4      280.00     270.00   \n",
       "1     BALTIMORE   24 inch bins          NaN      5      280.00     270.00   \n",
       "2     BALTIMORE   24 inch bins  HOWDEN TYPE      9      160.00     160.00   \n",
       "3     BALTIMORE   24 inch bins  HOWDEN TYPE      9      160.00     160.00   \n",
       "4     BALTIMORE   24 inch bins  HOWDEN TYPE     11      100.00      90.00   \n",
       "...         ...            ...          ...    ...         ...        ...   \n",
       "1752  ST. LOUIS  22 lb cartons    MINIATURE      9       14.75      14.75   \n",
       "1753  ST. LOUIS   36 inch bins    MINIATURE      9      275.00     275.00   \n",
       "1754  ST. LOUIS   36 inch bins    MINIATURE      9      275.00     275.00   \n",
       "1755  ST. LOUIS   36 inch bins    MINIATURE      9      275.00     275.00   \n",
       "1756  ST. LOUIS   36 inch bins    MINIATURE      9      275.00     275.00   \n",
       "\n",
       "      Average Price    Origin  \n",
       "0            275.00  MARYLAND  \n",
       "1            275.00  MARYLAND  \n",
       "2            160.00  DELAWARE  \n",
       "3            160.00  VIRGINIA  \n",
       "4             95.00  MARYLAND  \n",
       "...             ...       ...  \n",
       "1752          14.75  ILLINOIS  \n",
       "1753         275.00  MICHIGAN  \n",
       "1754         275.00  MICHIGAN  \n",
       "1755         275.00  MICHIGAN  \n",
       "1756         275.00  MICHIGAN  \n",
       "\n",
       "[1757 rows x 8 columns]"
      ]
     },
     "execution_count": 21,
     "metadata": {},
     "output_type": "execute_result"
    }
   ],
   "source": [
    "new_pumkins = pd.DataFrame(pumpkin_dict)\n",
    "new_pumkins"
   ]
  },
  {
   "cell_type": "code",
   "execution_count": null,
   "id": "2a16f585",
   "metadata": {},
   "outputs": [],
   "source": [
    "# Calculate price per inch for 24 inch bins\n",
    "mask_24 = new_pumkins['Package'].str.contains('24 inch')\n",
    "new_pumkins.loc[mask_24, 'Price per inch'] = new_pumkins.loc[mask_24, 'Average Price'] / 24\n",
    "\n",
    "# Calculate price per inch for 36 inch bins\n",
    "mask_36 = new_pumkins['Package'].str.contains('36 inch')\n",
    "new_pumkins.loc[mask_36, 'Price per inch'] = new_pumkins.loc[mask_36, 'Average Price'] / 36\n",
    "\n",
    "# Display the updated dataframe for these packages\n",
    "new_pumkins[new_pumkins['Package'].str.contains('24 inch|36 inch')][['Package', 'Average Price', 'Price per inch']]"
   ]
  },
  {
   "cell_type": "code",
   "execution_count": null,
   "id": "a9e26c19",
   "metadata": {},
   "outputs": [
    {
     "data": {
      "application/vnd.microsoft.datawrangler.viewer.v0+json": {
       "columns": [
        {
         "name": "index",
         "rawType": "int64",
         "type": "integer"
        },
        {
         "name": "City Name",
         "rawType": "object",
         "type": "string"
        },
        {
         "name": "Package",
         "rawType": "object",
         "type": "string"
        },
        {
         "name": "Variety",
         "rawType": "object",
         "type": "unknown"
        },
        {
         "name": "Month",
         "rawType": "int32",
         "type": "integer"
        },
        {
         "name": "High Price",
         "rawType": "float64",
         "type": "float"
        },
        {
         "name": "Low Price",
         "rawType": "float64",
         "type": "float"
        },
        {
         "name": "Average Price",
         "rawType": "float64",
         "type": "float"
        },
        {
         "name": "Origin",
         "rawType": "object",
         "type": "string"
        },
        {
         "name": "Price",
         "rawType": "float64",
         "type": "float"
        }
       ],
       "ref": "9b323435-d635-41d5-a669-78ee9b87ad2b",
       "rows": [
        [
         "0",
         "BALTIMORE",
         "24 inch bins",
         null,
         "4",
         "280.0",
         "270.0",
         "275.0",
         "MARYLAND",
         "11.458333333333334"
        ],
        [
         "1",
         "BALTIMORE",
         "24 inch bins",
         null,
         "5",
         "280.0",
         "270.0",
         "275.0",
         "MARYLAND",
         "11.458333333333334"
        ],
        [
         "2",
         "BALTIMORE",
         "24 inch bins",
         "HOWDEN TYPE",
         "9",
         "160.0",
         "160.0",
         "160.0",
         "DELAWARE",
         "6.666666666666667"
        ],
        [
         "3",
         "BALTIMORE",
         "24 inch bins",
         "HOWDEN TYPE",
         "9",
         "160.0",
         "160.0",
         "160.0",
         "VIRGINIA",
         "6.666666666666667"
        ],
        [
         "4",
         "BALTIMORE",
         "24 inch bins",
         "HOWDEN TYPE",
         "11",
         "100.0",
         "90.0",
         "95.0",
         "MARYLAND",
         "3.9583333333333335"
        ]
       ],
       "shape": {
        "columns": 9,
        "rows": 5
       }
      },
      "text/html": [
       "<div>\n",
       "<style scoped>\n",
       "    .dataframe tbody tr th:only-of-type {\n",
       "        vertical-align: middle;\n",
       "    }\n",
       "\n",
       "    .dataframe tbody tr th {\n",
       "        vertical-align: top;\n",
       "    }\n",
       "\n",
       "    .dataframe thead th {\n",
       "        text-align: right;\n",
       "    }\n",
       "</style>\n",
       "<table border=\"1\" class=\"dataframe\">\n",
       "  <thead>\n",
       "    <tr style=\"text-align: right;\">\n",
       "      <th></th>\n",
       "      <th>City Name</th>\n",
       "      <th>Package</th>\n",
       "      <th>Variety</th>\n",
       "      <th>Month</th>\n",
       "      <th>High Price</th>\n",
       "      <th>Low Price</th>\n",
       "      <th>Average Price</th>\n",
       "      <th>Origin</th>\n",
       "      <th>Price</th>\n",
       "    </tr>\n",
       "  </thead>\n",
       "  <tbody>\n",
       "    <tr>\n",
       "      <th>0</th>\n",
       "      <td>BALTIMORE</td>\n",
       "      <td>24 inch bins</td>\n",
       "      <td>NaN</td>\n",
       "      <td>4</td>\n",
       "      <td>280.0</td>\n",
       "      <td>270.0</td>\n",
       "      <td>275.0</td>\n",
       "      <td>MARYLAND</td>\n",
       "      <td>11.458333</td>\n",
       "    </tr>\n",
       "    <tr>\n",
       "      <th>1</th>\n",
       "      <td>BALTIMORE</td>\n",
       "      <td>24 inch bins</td>\n",
       "      <td>NaN</td>\n",
       "      <td>5</td>\n",
       "      <td>280.0</td>\n",
       "      <td>270.0</td>\n",
       "      <td>275.0</td>\n",
       "      <td>MARYLAND</td>\n",
       "      <td>11.458333</td>\n",
       "    </tr>\n",
       "    <tr>\n",
       "      <th>2</th>\n",
       "      <td>BALTIMORE</td>\n",
       "      <td>24 inch bins</td>\n",
       "      <td>HOWDEN TYPE</td>\n",
       "      <td>9</td>\n",
       "      <td>160.0</td>\n",
       "      <td>160.0</td>\n",
       "      <td>160.0</td>\n",
       "      <td>DELAWARE</td>\n",
       "      <td>6.666667</td>\n",
       "    </tr>\n",
       "    <tr>\n",
       "      <th>3</th>\n",
       "      <td>BALTIMORE</td>\n",
       "      <td>24 inch bins</td>\n",
       "      <td>HOWDEN TYPE</td>\n",
       "      <td>9</td>\n",
       "      <td>160.0</td>\n",
       "      <td>160.0</td>\n",
       "      <td>160.0</td>\n",
       "      <td>VIRGINIA</td>\n",
       "      <td>6.666667</td>\n",
       "    </tr>\n",
       "    <tr>\n",
       "      <th>4</th>\n",
       "      <td>BALTIMORE</td>\n",
       "      <td>24 inch bins</td>\n",
       "      <td>HOWDEN TYPE</td>\n",
       "      <td>11</td>\n",
       "      <td>100.0</td>\n",
       "      <td>90.0</td>\n",
       "      <td>95.0</td>\n",
       "      <td>MARYLAND</td>\n",
       "      <td>3.958333</td>\n",
       "    </tr>\n",
       "  </tbody>\n",
       "</table>\n",
       "</div>"
      ],
      "text/plain": [
       "   City Name       Package      Variety  Month  High Price  Low Price  \\\n",
       "0  BALTIMORE  24 inch bins          NaN      4       280.0      270.0   \n",
       "1  BALTIMORE  24 inch bins          NaN      5       280.0      270.0   \n",
       "2  BALTIMORE  24 inch bins  HOWDEN TYPE      9       160.0      160.0   \n",
       "3  BALTIMORE  24 inch bins  HOWDEN TYPE      9       160.0      160.0   \n",
       "4  BALTIMORE  24 inch bins  HOWDEN TYPE     11       100.0       90.0   \n",
       "\n",
       "   Average Price    Origin      Price  \n",
       "0          275.0  MARYLAND  11.458333  \n",
       "1          275.0  MARYLAND  11.458333  \n",
       "2          160.0  DELAWARE   6.666667  \n",
       "3          160.0  VIRGINIA   6.666667  \n",
       "4           95.0  MARYLAND   3.958333  "
      ]
     },
     "execution_count": 24,
     "metadata": {},
     "output_type": "execute_result"
    }
   ],
   "source": [
    "#lets convert the all the packgae in inch to 1 inches and convert the price to 1 inch using the .str.contains function\n",
    "new_pumkins.loc[new_pumkins['Package'].str.contains('24 inch'), 'Price'] = new_pumkins['Average Price' ]/ 24\n",
    "new_pumkins.loc[new_pumkins['Package'].str.contains('36 inch'), 'Price'] = new_pumkins['Average Price'] / 36\n",
    "\n",
    "new_pumkins.head()"
   ]
  },
  {
   "cell_type": "code",
   "execution_count": 26,
   "id": "31cc7034",
   "metadata": {},
   "outputs": [
    {
     "data": {
      "image/png": "[encoded data removed]",
      "text/plain": [
       "<Figure size 1000x600 with 1 Axes>"
      ]
     },
     "metadata": {},
     "output_type": "display_data"
    }
   ],
   "source": [
    "#line chart showing the trend of average price over months\n",
    "plt.figure(figsize=(10,6))\n",
    "plt.title('Trend of Average Price Over Months')\n",
    "sns.lineplot(data=new_pumkins, x='Month', y='Average Price', marker='o')\n",
    "# plt.xticks(range(1, 13))    \n",
    "plt.show()"
   ]
  },
  {
   "cell_type": "code",
   "execution_count": 31,
   "id": "829451c3",
   "metadata": {},
   "outputs": [
    {
     "data": {
      "image/png": "[encoded data removed]",
      "text/plain": [
       "<Figure size 1000x600 with 1 Axes>"
      ]
     },
     "metadata": {},
     "output_type": "display_data"
    }
   ],
   "source": [
    "#bar chart showing the different package types\n",
    "plt.figure(figsize=(10,6))\n",
    "plt.title('Different Package Types of Pumpkins')\n",
    "sns.countplot(data=new_pumkins, x='Package')\n",
    "plt.xticks(rotation=90)\n",
    "plt.show()"
   ]
  },
  {
   "cell_type": "code",
   "execution_count": 36,
   "id": "63ce1329",
   "metadata": {},
   "outputs": [
    {
     "data": {
      "image/png": "[encoded data removed]",
      "text/plain": [
       "<Figure size 640x480 with 1 Axes>"
      ]
     },
     "metadata": {},
     "output_type": "display_data"
    }
   ],
   "source": [
    "#lets check which packgafe has the higest price by grouping the package and average price\n",
    "plt.barh(new_pumkins.groupby('Package')['Average Price'].mean().sort_values(ascending=False).index,\n",
    "         new_pumkins.groupby('Package')['Average Price'].mean().sort_values(ascending=False))\n",
    "plt.xlabel('Average Price') \n",
    "plt.ylabel('Package')\n",
    "plt.title('Average Price by Package Type')\n",
    "plt.show()"
   ]
  },
  {
   "cell_type": "code",
   "execution_count": null,
   "id": "b11a6753",
   "metadata": {},
   "outputs": [
    {
     "data": {
      "image/png": "[encoded data removed]",
      "text/plain": [
       "<Figure size 1000x1200 with 1 Axes>"
      ]
     },
     "metadata": {},
     "output_type": "display_data"
    }
   ],
   "source": [
    "#lets plot pie chart using sns of the different variety of pumpkins\n",
    "variety_counts = new_pumkins['Variety'].value_counts()\n",
    "plt.figure(figsize=(10,12))\n",
    "plt.pie(variety_counts, autopct='%1.1f%%', startangle=140)\n",
    "plt.title('Distribution of Pumpkin Varieties')\n",
    "plt.legend(variety_counts.index, loc='best')\n",
    "plt.show()"
   ]
  },
  {
   "cell_type": "code",
   "execution_count": 46,
   "id": "4d20c632",
   "metadata": {},
   "outputs": [
    {
     "data": {
      "image/png": "[encoded data removed]",
      "text/plain": [
       "<Figure size 1000x600 with 1 Axes>"
      ]
     },
     "metadata": {},
     "output_type": "display_data"
    }
   ],
   "source": [
    "#lets visualize the variety of pupkin that is the cheapest and the most expensive\n",
    "plt.figure(figsize=(10,6))\n",
    "sns.boxplot(data=new_pumkins, x='Variety', y='Average Price')\n",
    "plt.xticks(rotation=90) \n",
    "plt.title('Average Price Distribution by Pumpkin Variety')\n",
    "plt.show()\n"
   ]
  }
 ],
 "metadata": {
  "kernelspec": {
   "display_name": "Python 3",
   "language": "python",
   "name": "python3"
  },
  "language_info": {
   "codemirror_mode": {
    "name": "ipython",
    "version": 3
   },
   "file_extension": ".py",
   "mimetype": "text/x-python",
   "name": "python",
   "nbconvert_exporter": "python",
   "pygments_lexer": "ipython3",
   "version": "3.12.4"
  }
 },
 "nbformat": 4,
 "nbformat_minor": 5
}

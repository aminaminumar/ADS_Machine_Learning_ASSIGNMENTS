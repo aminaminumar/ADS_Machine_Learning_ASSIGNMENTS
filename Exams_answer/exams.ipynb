{
 "cells": [
  {
   "cell_type": "markdown",
   "id": "f18ee5df",
   "metadata": {},
   "source": [
    "# Practical Exam: House sales\n",
    "\n",
    "RealAgents is a real estate company that focuses on selling houses.\n",
    "\n",
    "RealAgents sells a variety of types of house in one metropolitan area.\n",
    "\n",
    "Some houses sell slowly and sometimes require lowering the price in order to find a buyer.\n",
    "\n",
    "In order to stay competitive, RealAgents would like to optimize the listing prices of the houses it is trying to sell.\n",
    "\n",
    "They want to do this by predicting the sale price of a house given its characteristics.\n",
    "\n",
    "If they can predict the sale price in advance, they can decrease the time to sale.\n",
    "\n",
    "\n",
    "## Data\n",
    "\n",
    "The dataset contains records of previous houses sold in the area.\n",
    "\n",
    "| Column Name | Criteria                                                |\n",
    "|-------------|---------------------------------------------------------|\n",
    "| house_id    | Nominal. </br> Unique identifier for houses. </br>Missing values not possible. |\n",
    "| city        | Nominal. </br>The city in which the house is located. One of 'Silvertown', 'Riverford', 'Teasdale' and 'Poppleton'. </br>Replace missing values with \"Unknown\". |\n",
    "| sale_price  | Discrete. </br>The sale price of the house in whole dollars. Values can be any positive number greater than or equal to zero.</br>Remove missing entries. |\n",
    "| sale_date   | Discrete. </br>The date of the last sale of the house. </br>Replace missing values with 2023-01-01. |\n",
    "| months_listed  | Continuous. </br>The number of months the house was listed on the market prior to its last sale, rounded to one decimal place. </br>Replace missing values with mean number of months listed, to one decimal place. |\n",
    "| bedrooms    | Discrete. </br>The number of bedrooms in the house. Any positive values greater than or equal to zero. </br>Replace missing values with the mean number of bedrooms, rounded to the nearest integer. |\n",
    "| house_type   | Ordinal. </br>One of \"Terraced\" (two shared walls), \"Semi-detached\" (one shared wall), or \"Detached\" (no shared walls). </br>Replace missing values with the most common house type. |\n",
    "| area      | Continuous. </br>The area of the house in square meters, rounded to one decimal place. </br>Replace missing values with the mean, to one decimal place. |\n"
   ]
  },
  {
   "cell_type": "markdown",
   "id": "a1655e61",
   "metadata": {},
   "source": [
    "# Task 1\n",
    "\n",
    "The team at RealAgents knows that the city that a property is located in makes a difference to the sale price. \n",
    "\n",
    "Unfortuntately they believe that this isn't always recorded in the data. \n",
    "\n",
    "Calculate the number of missing values of the `city`. \n",
    "\n",
    " - You should use the data in the file \"house_sales.csv\". \n",
    "\n",
    " - Your output should be an object `missing_city`, that contains the number of missing values in this column. "
   ]
  },
  {
   "cell_type": "code",
   "execution_count": 7,
   "id": "ddc09d8f",
   "metadata": {},
   "outputs": [
    {
     "name": "stdout",
     "output_type": "stream",
     "text": [
      "73\n"
     ]
    }
   ],
   "source": [
    "import pandas as pd\n",
    "\n",
    "#in real life scenerio, missing values could be in any form ie (--), unkwon, or none\n",
    "nan_values = ['--', 'unkwown']\n",
    "df = pd.read_csv('house_sales.csv', na_values= nan_values)\n",
    "\n",
    "#calculate no of missing values in city col\n",
    "missing_city = df['city'].isnull().sum()\n",
    "print(missing_city)\n",
    "\n"
   ]
  },
  {
   "cell_type": "markdown",
   "id": "25c9c247",
   "metadata": {},
   "source": [
    "# Task 2 \n",
    "\n",
    "Before you fit any models, you will need to make sure the data is clean. \n",
    "\n",
    "The table below shows what the data should look like. \n",
    "\n",
    "Create a cleaned version of the dataframe. \n",
    "\n",
    " - You should start with the data in the file \"house_sales.csv\". \n",
    "\n",
    " - Your output should be a dataframe named `clean_data`. \n",
    "\n",
    " - All column names and values should match the table below.\n",
    "\n",
    "\n",
    "| Column Name | Criteria                                                |\n",
    "|-------------|---------------------------------------------------------|\n",
    "| house_id    | Nominal. </br> Unique identifier for houses. </br>Missing values not possible. |\n",
    "| city        | Nominal. </br>The city in which the house is located. One of 'Silvertown', 'Riverford', 'Teasdale' and 'Poppleton' </br>Replace missing values with \"Unknown\". |\n",
    "| sale_price  | Discrete. </br>The sale price of the house in whole dollars. Values can be any positive number greater than or equal to zero.</br>Remove missing entries. |\n",
    "| sale_date   | Discrete. </br>The date of the last sale of the house. </br>Replace missing values with 2023-01-01. |\n",
    "| months_listed  | Continuous. </br>The number of months the house was listed on the market prior to its last sale, rounded to one decimal place. </br>Replace missing values with mean number of months listed, to one decimal place. |\n",
    "| bedrooms    | Discrete. </br>The number of bedrooms in the house. Any positive values greater than or equal to zero. </br>Replace missing values with the mean number of bedrooms, rounded to the nearest integer. |\n",
    "| house_type   | Ordinal. </br>One of \"Terraced\", \"Semi-detached\", or \"Detached\". </br>Replace missing values with the most common house type. |\n",
    "| area      | Continuous. </br>The area of the house in square meters, rounded to one decimal place. </br>Replace missing values with the mean, to one decimal place. |"
   ]
  },
  {
   "cell_type": "code",
   "execution_count": 20,
   "id": "d5c0bd73",
   "metadata": {},
   "outputs": [
    {
     "data": {
      "application/vnd.microsoft.datawrangler.viewer.v0+json": {
       "columns": [
        {
         "name": "index",
         "rawType": "int64",
         "type": "integer"
        },
        {
         "name": "house_id",
         "rawType": "int64",
         "type": "integer"
        },
        {
         "name": "city",
         "rawType": "object",
         "type": "unknown"
        },
        {
         "name": "sale_price",
         "rawType": "int64",
         "type": "integer"
        },
        {
         "name": "sale_date",
         "rawType": "object",
         "type": "string"
        },
        {
         "name": "months_listed",
         "rawType": "float64",
         "type": "float"
        },
        {
         "name": "bedrooms",
         "rawType": "int64",
         "type": "integer"
        },
        {
         "name": "house_type",
         "rawType": "object",
         "type": "string"
        },
        {
         "name": "area",
         "rawType": "object",
         "type": "string"
        }
       ],
       "ref": "7f7fb4b6-5de4-4634-b405-c2038647b563",
       "rows": [
        [
         "0",
         "1217792",
         "Silvertown",
         "55943",
         "2021-09-12",
         "5.4",
         "2",
         "Semi-detached",
         "107.8 sq.m."
        ],
        [
         "1",
         "1900913",
         "Silvertown",
         "384677",
         "2021-01-17",
         "6.3",
         "5",
         "Detached",
         "498.8 sq.m."
        ],
        [
         "2",
         "1174927",
         "Riverford",
         "281707",
         "2021-11-10",
         "6.9",
         "6",
         "Detached",
         "542.5 sq.m."
        ],
        [
         "3",
         "1773666",
         "Silvertown",
         "373251",
         "2020-04-13",
         "6.1",
         "6",
         "Det.",
         "528.4 sq.m."
        ],
        [
         "4",
         "1258487",
         "Silvertown",
         "328885",
         "2020-09-24",
         "8.7",
         "5",
         "Detached",
         "477.1 sq.m."
        ],
        [
         "5",
         "1539789",
         "Riverford",
         "47143",
         "2020-09-25",
         "5.1",
         "2",
         "Semi-detached",
         "123.2 sq.m."
        ],
        [
         "6",
         "1353069",
         "Teasdale",
         "429914",
         "2021-05-18",
         null,
         "6",
         "Detached",
         "544.6 sq.m."
        ],
        [
         "7",
         "1155864",
         "Teasdale",
         "284440",
         "2020-10-15",
         "5.8",
         "4",
         "Detached",
         "371.3 sq.m."
        ],
        [
         "8",
         "1608726",
         "Teasdale",
         "87134",
         "2021-01-07",
         "4.4",
         "2",
         "Semi-detached",
         "125.7 sq.m."
        ],
        [
         "9",
         "1358764",
         "Poppleton",
         "211203",
         "2020-05-04",
         "3.0",
         "4",
         "Detached",
         "371.5 sq.m."
        ],
        [
         "10",
         "1277089",
         "Teasdale",
         "382655",
         "2021-10-26",
         "4.6",
         "5",
         "Detached",
         "428.8 sq.m."
        ],
        [
         "11",
         "1117876",
         "Riverford",
         "54934",
         "2020-06-11",
         "3.7",
         "2",
         "Semi-detached",
         "147.7 sq.m."
        ],
        [
         "12",
         "1710056",
         "Silvertown",
         "297101",
         "2022-10-10",
         "5.8",
         "4",
         "Detached",
         "395.6 sq.m."
        ],
        [
         "13",
         "1860591",
         "Poppleton",
         "171502",
         "2021-08-04",
         "6.2",
         "4",
         "Detached",
         "304.4 sq.m."
        ],
        [
         "14",
         "1470021",
         "Riverford",
         "158198",
         "2020-08-18",
         "5.3",
         "4",
         "Detached",
         "316.8 sq.m."
        ],
        [
         "15",
         "1396614",
         "Teasdale",
         "428808",
         "2021-07-18",
         "3.5",
         "6",
         "Detached",
         "554.3 sq.m."
        ],
        [
         "16",
         "1369220",
         "Teasdale",
         "269688",
         "2020-11-23",
         "5.0",
         "4",
         "Detached",
         "374.9 sq.m."
        ],
        [
         "17",
         "1195530",
         "Silvertown",
         "208965",
         "2020-06-05",
         "4.6",
         "3",
         "Detached",
         "294.3 sq.m."
        ],
        [
         "18",
         "1384054",
         "Silvertown",
         "257146",
         "2020-11-19",
         "5.5",
         "4",
         "Detached",
         "397.0 sq.m."
        ],
        [
         "19",
         "1070852",
         "Riverford",
         "160653",
         "2020-02-25",
         "6.9",
         "4",
         "Detached",
         "316.3 sq.m."
        ],
        [
         "20",
         "1239607",
         "Poppleton",
         "173098",
         "2020-04-16",
         null,
         "3",
         "Detached",
         "296.9 sq.m."
        ],
        [
         "21",
         "1234703",
         "Poppleton",
         "44759",
         "2020-01-14",
         "7.8",
         "2",
         "Terraced",
         "155.8 sq.m."
        ],
        [
         "22",
         "1029340",
         "Teasdale",
         "257485",
         "2022-12-28",
         "4.9",
         "4",
         "Detached",
         "340.0 sq.m."
        ],
        [
         "23",
         "1230625",
         "Silvertown",
         "360545",
         "2020-04-07",
         "6.2",
         "6",
         "Detached",
         "512.9 sq.m."
        ],
        [
         "24",
         "1509752",
         "Poppleton",
         "299439",
         "2020-01-09",
         "4.7",
         "6",
         "Detached",
         "533.1 sq.m."
        ],
        [
         "25",
         "1690505",
         "Poppleton",
         "181902",
         "2021-08-29",
         "8.9",
         "4",
         "Detached",
         "310.6 sq.m."
        ],
        [
         "26",
         "1333241",
         "Riverford",
         "247401",
         "2022-05-20",
         "3.7",
         "5",
         "Detached",
         "486.5 sq.m."
        ],
        [
         "27",
         "1460636",
         "Silvertown",
         "297446",
         "2021-12-13",
         "4.7",
         "5",
         "Detached",
         "424.8 sq.m."
        ],
        [
         "28",
         "1925995",
         "Teasdale",
         "429022",
         "2020-10-27",
         "5.9",
         "6",
         "Detached",
         "532.8 sq.m."
        ],
        [
         "29",
         "1751885",
         "Riverford",
         "74877",
         "2022-08-22",
         "3.8",
         "3",
         "Semi-detached",
         "209.8 sq.m."
        ],
        [
         "30",
         "1357314",
         "Teasdale",
         "415389",
         "2022-11-14",
         "4.8",
         "6",
         "Detached",
         "520.9 sq.m."
        ],
        [
         "31",
         "1598280",
         "Teasdale",
         "91672",
         "2020-04-13",
         "7.6",
         "3",
         "Terraced",
         "229.4 sq.m."
        ],
        [
         "32",
         "1042443",
         "Silvertown",
         "76722",
         "2021-04-02",
         "6.4",
         "2",
         "Semi-detached",
         "160.2 sq.m."
        ],
        [
         "33",
         "1418816",
         "Teasdale",
         "202506",
         "2020-01-31",
         "5.8",
         "3",
         "Detached",
         "254.8 sq.m."
        ],
        [
         "34",
         "1865882",
         "Silvertown",
         "77037",
         "2020-09-29",
         "6.4",
         "2",
         "Semi",
         "168.6 sq.m."
        ],
        [
         "35",
         "1247170",
         "Silvertown",
         "396370",
         "2022-09-05",
         "5.4",
         "6",
         "Det.",
         "553.8 sq.m."
        ],
        [
         "36",
         "1883852",
         "Silvertown",
         "91287",
         "2020-07-23",
         "7.9",
         "2",
         "Semi-detached",
         "175.4 sq.m."
        ],
        [
         "37",
         "1862984",
         "Teasdale",
         "197265",
         "2020-10-14",
         "6.1",
         "3",
         "Detached",
         "254.9 sq.m."
        ],
        [
         "38",
         "1183122",
         "Riverford",
         "89504",
         "2020-08-03",
         "6.6",
         "3",
         "Semi-detached",
         "228.8 sq.m."
        ],
        [
         "39",
         "1948789",
         "Riverford",
         "215858",
         "2020-07-05",
         "5.4",
         "5",
         "Detached",
         "428.7 sq.m."
        ],
        [
         "40",
         "1789755",
         "Poppleton",
         "141265",
         "2022-04-03",
         "4.1",
         "3",
         "Detached",
         "246.1 sq.m."
        ],
        [
         "41",
         "1734155",
         "Silvertown",
         "309230",
         "2022-01-14",
         "7.4",
         "5",
         "Detached",
         "461.7 sq.m."
        ],
        [
         "42",
         "1685700",
         "Teasdale",
         "77482",
         "2021-03-19",
         "7.1",
         "2",
         "Semi-detached",
         "125.5 sq.m."
        ],
        [
         "43",
         "1629610",
         "Teasdale",
         "305026",
         "2022-04-29",
         "5.4",
         "4",
         "Detached",
         "392.1 sq.m."
        ],
        [
         "44",
         "1377013",
         "Riverford",
         "224905",
         "2022-10-16",
         "6.9",
         "5",
         "Detached",
         "455.4 sq.m."
        ],
        [
         "45",
         "1223765",
         "Silvertown",
         "299889",
         "2022-08-02",
         "6.7",
         "5",
         "Detached",
         "420.2 sq.m."
        ],
        [
         "46",
         "1257849",
         "Poppleton",
         "183020",
         "2021-09-30",
         "5.5",
         "3",
         "Detached",
         "298.4 sq.m."
        ],
        [
         "47",
         "1650856",
         "Poppleton",
         "266342",
         "2020-09-29",
         "3.9",
         "5",
         "Detached",
         "462.6 sq.m."
        ],
        [
         "48",
         "1737725",
         "Teasdale",
         "320752",
         "2021-09-07",
         "5.1",
         "5",
         "Detached",
         "408.9 sq.m."
        ],
        [
         "49",
         "1626594",
         "Poppleton",
         "286361",
         "2022-07-30",
         "4.3",
         "5",
         "Detached",
         "484.1 sq.m."
        ]
       ],
       "shape": {
        "columns": 8,
        "rows": 1500
       }
      },
      "text/html": [
       "<div>\n",
       "<style scoped>\n",
       "    .dataframe tbody tr th:only-of-type {\n",
       "        vertical-align: middle;\n",
       "    }\n",
       "\n",
       "    .dataframe tbody tr th {\n",
       "        vertical-align: top;\n",
       "    }\n",
       "\n",
       "    .dataframe thead th {\n",
       "        text-align: right;\n",
       "    }\n",
       "</style>\n",
       "<table border=\"1\" class=\"dataframe\">\n",
       "  <thead>\n",
       "    <tr style=\"text-align: right;\">\n",
       "      <th></th>\n",
       "      <th>house_id</th>\n",
       "      <th>city</th>\n",
       "      <th>sale_price</th>\n",
       "      <th>sale_date</th>\n",
       "      <th>months_listed</th>\n",
       "      <th>bedrooms</th>\n",
       "      <th>house_type</th>\n",
       "      <th>area</th>\n",
       "    </tr>\n",
       "  </thead>\n",
       "  <tbody>\n",
       "    <tr>\n",
       "      <th>0</th>\n",
       "      <td>1217792</td>\n",
       "      <td>Silvertown</td>\n",
       "      <td>55943</td>\n",
       "      <td>2021-09-12</td>\n",
       "      <td>5.4</td>\n",
       "      <td>2</td>\n",
       "      <td>Semi-detached</td>\n",
       "      <td>107.8 sq.m.</td>\n",
       "    </tr>\n",
       "    <tr>\n",
       "      <th>1</th>\n",
       "      <td>1900913</td>\n",
       "      <td>Silvertown</td>\n",
       "      <td>384677</td>\n",
       "      <td>2021-01-17</td>\n",
       "      <td>6.3</td>\n",
       "      <td>5</td>\n",
       "      <td>Detached</td>\n",
       "      <td>498.8 sq.m.</td>\n",
       "    </tr>\n",
       "    <tr>\n",
       "      <th>2</th>\n",
       "      <td>1174927</td>\n",
       "      <td>Riverford</td>\n",
       "      <td>281707</td>\n",
       "      <td>2021-11-10</td>\n",
       "      <td>6.9</td>\n",
       "      <td>6</td>\n",
       "      <td>Detached</td>\n",
       "      <td>542.5 sq.m.</td>\n",
       "    </tr>\n",
       "    <tr>\n",
       "      <th>3</th>\n",
       "      <td>1773666</td>\n",
       "      <td>Silvertown</td>\n",
       "      <td>373251</td>\n",
       "      <td>2020-04-13</td>\n",
       "      <td>6.1</td>\n",
       "      <td>6</td>\n",
       "      <td>Det.</td>\n",
       "      <td>528.4 sq.m.</td>\n",
       "    </tr>\n",
       "    <tr>\n",
       "      <th>4</th>\n",
       "      <td>1258487</td>\n",
       "      <td>Silvertown</td>\n",
       "      <td>328885</td>\n",
       "      <td>2020-09-24</td>\n",
       "      <td>8.7</td>\n",
       "      <td>5</td>\n",
       "      <td>Detached</td>\n",
       "      <td>477.1 sq.m.</td>\n",
       "    </tr>\n",
       "    <tr>\n",
       "      <th>...</th>\n",
       "      <td>...</td>\n",
       "      <td>...</td>\n",
       "      <td>...</td>\n",
       "      <td>...</td>\n",
       "      <td>...</td>\n",
       "      <td>...</td>\n",
       "      <td>...</td>\n",
       "      <td>...</td>\n",
       "    </tr>\n",
       "    <tr>\n",
       "      <th>1495</th>\n",
       "      <td>1123892</td>\n",
       "      <td>Riverford</td>\n",
       "      <td>198661</td>\n",
       "      <td>2022-02-17</td>\n",
       "      <td>7.3</td>\n",
       "      <td>5</td>\n",
       "      <td>Detached</td>\n",
       "      <td>432.2 sq.m.</td>\n",
       "    </tr>\n",
       "    <tr>\n",
       "      <th>1496</th>\n",
       "      <td>1327295</td>\n",
       "      <td>Poppleton</td>\n",
       "      <td>358304</td>\n",
       "      <td>2020-10-10</td>\n",
       "      <td>6.2</td>\n",
       "      <td>6</td>\n",
       "      <td>Detached</td>\n",
       "      <td>599.8 sq.m.</td>\n",
       "    </tr>\n",
       "    <tr>\n",
       "      <th>1497</th>\n",
       "      <td>1058161</td>\n",
       "      <td>Riverford</td>\n",
       "      <td>176612</td>\n",
       "      <td>2022-11-01</td>\n",
       "      <td>6.8</td>\n",
       "      <td>4</td>\n",
       "      <td>Detached</td>\n",
       "      <td>359.1 sq.m.</td>\n",
       "    </tr>\n",
       "    <tr>\n",
       "      <th>1498</th>\n",
       "      <td>1822037</td>\n",
       "      <td>Teasdale</td>\n",
       "      <td>197827</td>\n",
       "      <td>2021-04-03</td>\n",
       "      <td>5.4</td>\n",
       "      <td>3</td>\n",
       "      <td>Detached</td>\n",
       "      <td>253.7 sq.m.</td>\n",
       "    </tr>\n",
       "    <tr>\n",
       "      <th>1499</th>\n",
       "      <td>1679272</td>\n",
       "      <td>Poppleton</td>\n",
       "      <td>162099</td>\n",
       "      <td>2021-12-06</td>\n",
       "      <td>5.0</td>\n",
       "      <td>3</td>\n",
       "      <td>Detached</td>\n",
       "      <td>268.7 sq.m.</td>\n",
       "    </tr>\n",
       "  </tbody>\n",
       "</table>\n",
       "<p>1500 rows × 8 columns</p>\n",
       "</div>"
      ],
      "text/plain": [
       "      house_id        city  sale_price   sale_date  months_listed  bedrooms  \\\n",
       "0      1217792  Silvertown       55943  2021-09-12            5.4         2   \n",
       "1      1900913  Silvertown      384677  2021-01-17            6.3         5   \n",
       "2      1174927   Riverford      281707  2021-11-10            6.9         6   \n",
       "3      1773666  Silvertown      373251  2020-04-13            6.1         6   \n",
       "4      1258487  Silvertown      328885  2020-09-24            8.7         5   \n",
       "...        ...         ...         ...         ...            ...       ...   \n",
       "1495   1123892   Riverford      198661  2022-02-17            7.3         5   \n",
       "1496   1327295   Poppleton      358304  2020-10-10            6.2         6   \n",
       "1497   1058161   Riverford      176612  2022-11-01            6.8         4   \n",
       "1498   1822037    Teasdale      197827  2021-04-03            5.4         3   \n",
       "1499   1679272   Poppleton      162099  2021-12-06            5.0         3   \n",
       "\n",
       "         house_type         area  \n",
       "0     Semi-detached  107.8 sq.m.  \n",
       "1          Detached  498.8 sq.m.  \n",
       "2          Detached  542.5 sq.m.  \n",
       "3              Det.  528.4 sq.m.  \n",
       "4          Detached  477.1 sq.m.  \n",
       "...             ...          ...  \n",
       "1495       Detached  432.2 sq.m.  \n",
       "1496       Detached  599.8 sq.m.  \n",
       "1497       Detached  359.1 sq.m.  \n",
       "1498       Detached  253.7 sq.m.  \n",
       "1499       Detached  268.7 sq.m.  \n",
       "\n",
       "[1500 rows x 8 columns]"
      ]
     },
     "execution_count": 20,
     "metadata": {},
     "output_type": "execute_result"
    }
   ],
   "source": [
    "df"
   ]
  },
  {
   "cell_type": "code",
   "execution_count": 11,
   "id": "312793a1",
   "metadata": {},
   "outputs": [
    {
     "name": "stdout",
     "output_type": "stream",
     "text": [
      "<class 'pandas.core.frame.DataFrame'>\n",
      "RangeIndex: 1500 entries, 0 to 1499\n",
      "Data columns (total 8 columns):\n",
      " #   Column         Non-Null Count  Dtype  \n",
      "---  ------         --------------  -----  \n",
      " 0   house_id       1500 non-null   int64  \n",
      " 1   city           1427 non-null   object \n",
      " 2   sale_price     1500 non-null   int64  \n",
      " 3   sale_date      1500 non-null   object \n",
      " 4   months_listed  1469 non-null   float64\n",
      " 5   bedrooms       1500 non-null   int64  \n",
      " 6   house_type     1500 non-null   object \n",
      " 7   area           1500 non-null   object \n",
      "dtypes: float64(1), int64(3), object(4)\n",
      "memory usage: 93.9+ KB\n"
     ]
    }
   ],
   "source": [
    "df.info()"
   ]
  },
  {
   "cell_type": "code",
   "execution_count": 30,
   "id": "d19784d9",
   "metadata": {},
   "outputs": [
    {
     "name": "stdout",
     "output_type": "stream",
     "text": [
      "<class 'pandas.core.frame.DataFrame'>\n",
      "RangeIndex: 1500 entries, 0 to 1499\n",
      "Data columns (total 8 columns):\n",
      " #   Column         Non-Null Count  Dtype         \n",
      "---  ------         --------------  -----         \n",
      " 0   house_id       1500 non-null   category      \n",
      " 1   city           1500 non-null   object        \n",
      " 2   sale_price     1500 non-null   int64         \n",
      " 3   sale_date      1500 non-null   datetime64[ns]\n",
      " 4   months_listed  1500 non-null   float64       \n",
      " 5   bedrooms       1500 non-null   int64         \n",
      " 6   house_type     1500 non-null   object        \n",
      " 7   area           1500 non-null   float64       \n",
      "dtypes: category(1), datetime64[ns](1), float64(2), int64(2), object(2)\n",
      "memory usage: 129.1+ KB\n"
     ]
    }
   ],
   "source": [
    "import numpy as np\n",
    "\n",
    "clean_data = df.copy()\n",
    "\n",
    "#lets clean up the data by converting it to the correct dtypes, removing null values and the rest\n",
    "\n",
    "#starting with house_id (norminal) should be categorical dtype\n",
    "clean_data['house_id'] = clean_data['house_id'].astype('category')\n",
    "\n",
    "#replace null values in city col to 'Unknown'\n",
    "clean_data['city'] = clean_data['city'].fillna('Unknown')\n",
    "\n",
    "#remove missing values in sale_price\n",
    "clean_data = clean_data.dropna(subset = 'sale_price')\n",
    "\n",
    "#replace null values in sale_date with \"2023-01-01\" also change dtype to date\n",
    "clean_data['sale_date'] = clean_data['sale_date'].fillna('2023-01-01')\n",
    "clean_data['sale_date'] = pd.to_datetime(clean_data['sale_date'])\n",
    "\n",
    "#replace null values in month_listed to the mean value round to 1 decimal place\n",
    "mean_month_listed = clean_data['months_listed'].mean()\n",
    "clean_data['months_listed'] = clean_data['months_listed'].fillna(round(mean_month_listed, 1))\n",
    "\n",
    "#replace null bedrooms with mean \n",
    "mean_bedrooms = clean_data['bedrooms'].mean()\n",
    "clean_data['bedrooms'] = clean_data['bedrooms'].fillna(round(mean_bedrooms))\n",
    "\n",
    "#house type has some form of inconsistency, lets taccle it\n",
    "house_dict_format = {'Det.': 'Detached',\n",
    "                     'Det':  'Detached',\n",
    "                     'semi': 'Semi-detached',\n",
    "                     'Semi': 'Semi-detached',\n",
    "                     'Terr.': 'Terraced',\n",
    "                     'terr.': 'Terraced'\n",
    "                     }\n",
    "clean_data['house_type'] = clean_data['house_type'].replace(house_dict_format)\n",
    "\n",
    "#remove string in area and convert to float\n",
    "clean_data['area'] = clean_data['area'].str.replace('sq.m.', '' )\n",
    "clean_data['area'] = clean_data['area'].astype('float64')\n",
    "\n",
    "#A quick check\n",
    "clean_data.info()\n",
    "\n",
    "\n"
   ]
  },
  {
   "cell_type": "markdown",
   "id": "72ddca07",
   "metadata": {},
   "source": [
    "# Task 3 \n",
    "\n",
    "The team at RealAgents have told you that they have always believed that the number of bedrooms is the biggest driver of house price. \n",
    "\n",
    "Producing a table showing the difference in the average sale price by number of bedrooms along with the variance to investigate this question for the team.\n",
    "\n",
    " - You should start with the data in the file 'house_sales.csv'.\n",
    "\n",
    " - Your output should be a data frame named `price_by_rooms`. \n",
    "\n",
    " - It should include the three columns `bedrooms`, `avg_price`, `var_price`. \n",
    "\n",
    " - Your answers should be rounded to 1 decimal place.   "
   ]
  },
  {
   "cell_type": "code",
   "execution_count": 45,
   "id": "f9c7fbab",
   "metadata": {},
   "outputs": [
    {
     "data": {
      "application/vnd.microsoft.datawrangler.viewer.v0+json": {
       "columns": [
        {
         "name": "bedrooms",
         "rawType": "int64",
         "type": "integer"
        },
        {
         "name": "avg_price",
         "rawType": "float64",
         "type": "float"
        },
        {
         "name": "avg_var",
         "rawType": "float64",
         "type": "float"
        }
       ],
       "ref": "d4834542-a5b7-4f26-b67f-8976230f58cf",
       "rows": [
        [
         "2",
         "67076.4",
         "565289569.7"
        ],
        [
         "3",
         "154665.1",
         "2378289076.9"
        ],
        [
         "4",
         "234704.6",
         "1725211191.5"
        ],
        [
         "5",
         "301515.9",
         "2484327529.0"
        ],
        [
         "6",
         "375741.3",
         "3924432279.5"
        ]
       ],
       "shape": {
        "columns": 2,
        "rows": 5
       }
      },
      "text/html": [
       "<div>\n",
       "<style scoped>\n",
       "    .dataframe tbody tr th:only-of-type {\n",
       "        vertical-align: middle;\n",
       "    }\n",
       "\n",
       "    .dataframe tbody tr th {\n",
       "        vertical-align: top;\n",
       "    }\n",
       "\n",
       "    .dataframe thead th {\n",
       "        text-align: right;\n",
       "    }\n",
       "</style>\n",
       "<table border=\"1\" class=\"dataframe\">\n",
       "  <thead>\n",
       "    <tr style=\"text-align: right;\">\n",
       "      <th></th>\n",
       "      <th>avg_price</th>\n",
       "      <th>avg_var</th>\n",
       "    </tr>\n",
       "    <tr>\n",
       "      <th>bedrooms</th>\n",
       "      <th></th>\n",
       "      <th></th>\n",
       "    </tr>\n",
       "  </thead>\n",
       "  <tbody>\n",
       "    <tr>\n",
       "      <th>2</th>\n",
       "      <td>67076.4</td>\n",
       "      <td>5.652896e+08</td>\n",
       "    </tr>\n",
       "    <tr>\n",
       "      <th>3</th>\n",
       "      <td>154665.1</td>\n",
       "      <td>2.378289e+09</td>\n",
       "    </tr>\n",
       "    <tr>\n",
       "      <th>4</th>\n",
       "      <td>234704.6</td>\n",
       "      <td>1.725211e+09</td>\n",
       "    </tr>\n",
       "    <tr>\n",
       "      <th>5</th>\n",
       "      <td>301515.9</td>\n",
       "      <td>2.484328e+09</td>\n",
       "    </tr>\n",
       "    <tr>\n",
       "      <th>6</th>\n",
       "      <td>375741.3</td>\n",
       "      <td>3.924432e+09</td>\n",
       "    </tr>\n",
       "  </tbody>\n",
       "</table>\n",
       "</div>"
      ],
      "text/plain": [
       "          avg_price       avg_var\n",
       "bedrooms                         \n",
       "2           67076.4  5.652896e+08\n",
       "3          154665.1  2.378289e+09\n",
       "4          234704.6  1.725211e+09\n",
       "5          301515.9  2.484328e+09\n",
       "6          375741.3  3.924432e+09"
      ]
     },
     "execution_count": 45,
     "metadata": {},
     "output_type": "execute_result"
    }
   ],
   "source": [
    "price_by_rooms = clean_data.groupby('bedrooms')['sale_price'].agg(avg_price = 'mean', avg_var = 'var').round(1)\n",
    "price_by_rooms"
   ]
  },
  {
   "cell_type": "markdown",
   "id": "6058bfb3",
   "metadata": {},
   "source": [
    "# Task 4\n",
    "\n",
    "Fit a baseline model to predict the sale price of a house.\n",
    "\n",
    " 1. Fit your model using the data contained in “train.csv” </br></br>\n",
    "\n",
    " 2. Use “validation.csv” to predict new values based on your model. You must return a dataframe named `base_result`, that includes `house_id` and `price`. The price column must be your predicted values."
   ]
  },
  {
   "cell_type": "code",
   "execution_count": 58,
   "id": "63bc66d0",
   "metadata": {},
   "outputs": [
    {
     "data": {
      "application/vnd.microsoft.datawrangler.viewer.v0+json": {
       "columns": [
        {
         "name": "index",
         "rawType": "int64",
         "type": "integer"
        },
        {
         "name": "house_id",
         "rawType": "int64",
         "type": "integer"
        },
        {
         "name": "price",
         "rawType": "float64",
         "type": "float"
        }
       ],
       "ref": "3337e226-dec1-40d6-8d1e-ad10955c94f5",
       "rows": [
        [
         "0",
         "1331375",
         "118876.1"
        ],
        [
         "1",
         "1630115",
         "257484.2"
        ],
        [
         "2",
         "1645745",
         "383988.5"
        ],
        [
         "3",
         "1336775",
         "117832.4"
        ],
        [
         "4",
         "1888274",
         "256378.7"
        ],
        [
         "5",
         "1567679",
         "225818.7"
        ],
        [
         "6",
         "1298770",
         "323215.2"
        ],
        [
         "7",
         "1662892",
         "37363.4"
        ],
        [
         "8",
         "1514321",
         "181690.5"
        ],
        [
         "9",
         "1795371",
         "185201.2"
        ],
        [
         "10",
         "1872688",
         "190231.5"
        ],
        [
         "11",
         "1115697",
         "148423.9"
        ],
        [
         "12",
         "1752850",
         "318489.9"
        ],
        [
         "13",
         "1298746",
         "311783.0"
        ],
        [
         "14",
         "1464795",
         "207207.9"
        ],
        [
         "15",
         "1982802",
         "177116.1"
        ],
        [
         "16",
         "1823033",
         "185393.8"
        ],
        [
         "17",
         "1585193",
         "110524.0"
        ],
        [
         "18",
         "1843329",
         "296950.3"
        ],
        [
         "19",
         "1424530",
         "60707.0"
        ],
        [
         "20",
         "1040934",
         "352827.0"
        ],
        [
         "21",
         "1483696",
         "323635.5"
        ],
        [
         "22",
         "1436940",
         "376911.1"
        ],
        [
         "23",
         "1608175",
         "55494.1"
        ],
        [
         "24",
         "1902237",
         "187474.4"
        ],
        [
         "25",
         "1563689",
         "327005.4"
        ],
        [
         "26",
         "1976354",
         "253547.6"
        ],
        [
         "27",
         "1872940",
         "319403.5"
        ],
        [
         "28",
         "1704427",
         "301177.2"
        ],
        [
         "29",
         "1131878",
         "321841.6"
        ],
        [
         "30",
         "1803015",
         "81636.3"
        ],
        [
         "31",
         "1897548",
         "166244.2"
        ],
        [
         "32",
         "1739654",
         "148012.7"
        ],
        [
         "33",
         "1658430",
         "176920.6"
        ],
        [
         "34",
         "1282370",
         "143214.6"
        ],
        [
         "35",
         "1512890",
         "61879.9"
        ],
        [
         "36",
         "1597534",
         "111426.5"
        ],
        [
         "37",
         "1174073",
         "232204.2"
        ],
        [
         "38",
         "1179366",
         "370122.5"
        ],
        [
         "39",
         "1757117",
         "123727.2"
        ],
        [
         "40",
         "1148656",
         "95919.4"
        ],
        [
         "41",
         "1776320",
         "336091.9"
        ],
        [
         "42",
         "1155319",
         "280832.9"
        ],
        [
         "43",
         "1675362",
         "212225.3"
        ],
        [
         "44",
         "1748129",
         "44807.9"
        ],
        [
         "45",
         "1648926",
         "215238.9"
        ],
        [
         "46",
         "1050783",
         "102687.5"
        ],
        [
         "47",
         "1843278",
         "366497.5"
        ],
        [
         "48",
         "1372090",
         "189752.6"
        ],
        [
         "49",
         "1583730",
         "372948.4"
        ]
       ],
       "shape": {
        "columns": 2,
        "rows": 300
       }
      },
      "text/html": [
       "<div>\n",
       "<style scoped>\n",
       "    .dataframe tbody tr th:only-of-type {\n",
       "        vertical-align: middle;\n",
       "    }\n",
       "\n",
       "    .dataframe tbody tr th {\n",
       "        vertical-align: top;\n",
       "    }\n",
       "\n",
       "    .dataframe thead th {\n",
       "        text-align: right;\n",
       "    }\n",
       "</style>\n",
       "<table border=\"1\" class=\"dataframe\">\n",
       "  <thead>\n",
       "    <tr style=\"text-align: right;\">\n",
       "      <th></th>\n",
       "      <th>house_id</th>\n",
       "      <th>price</th>\n",
       "    </tr>\n",
       "  </thead>\n",
       "  <tbody>\n",
       "    <tr>\n",
       "      <th>0</th>\n",
       "      <td>1331375</td>\n",
       "      <td>118876.1</td>\n",
       "    </tr>\n",
       "    <tr>\n",
       "      <th>1</th>\n",
       "      <td>1630115</td>\n",
       "      <td>257484.2</td>\n",
       "    </tr>\n",
       "    <tr>\n",
       "      <th>2</th>\n",
       "      <td>1645745</td>\n",
       "      <td>383988.5</td>\n",
       "    </tr>\n",
       "    <tr>\n",
       "      <th>3</th>\n",
       "      <td>1336775</td>\n",
       "      <td>117832.4</td>\n",
       "    </tr>\n",
       "    <tr>\n",
       "      <th>4</th>\n",
       "      <td>1888274</td>\n",
       "      <td>256378.7</td>\n",
       "    </tr>\n",
       "    <tr>\n",
       "      <th>...</th>\n",
       "      <td>...</td>\n",
       "      <td>...</td>\n",
       "    </tr>\n",
       "    <tr>\n",
       "      <th>295</th>\n",
       "      <td>1986255</td>\n",
       "      <td>346927.9</td>\n",
       "    </tr>\n",
       "    <tr>\n",
       "      <th>296</th>\n",
       "      <td>1896276</td>\n",
       "      <td>365824.1</td>\n",
       "    </tr>\n",
       "    <tr>\n",
       "      <th>297</th>\n",
       "      <td>1758223</td>\n",
       "      <td>239461.9</td>\n",
       "    </tr>\n",
       "    <tr>\n",
       "      <th>298</th>\n",
       "      <td>1752010</td>\n",
       "      <td>181628.6</td>\n",
       "    </tr>\n",
       "    <tr>\n",
       "      <th>299</th>\n",
       "      <td>1651404</td>\n",
       "      <td>353313.4</td>\n",
       "    </tr>\n",
       "  </tbody>\n",
       "</table>\n",
       "<p>300 rows × 2 columns</p>\n",
       "</div>"
      ],
      "text/plain": [
       "     house_id     price\n",
       "0     1331375  118876.1\n",
       "1     1630115  257484.2\n",
       "2     1645745  383988.5\n",
       "3     1336775  117832.4\n",
       "4     1888274  256378.7\n",
       "..        ...       ...\n",
       "295   1986255  346927.9\n",
       "296   1896276  365824.1\n",
       "297   1758223  239461.9\n",
       "298   1752010  181628.6\n",
       "299   1651404  353313.4\n",
       "\n",
       "[300 rows x 2 columns]"
      ]
     },
     "execution_count": 58,
     "metadata": {},
     "output_type": "execute_result"
    }
   ],
   "source": [
    "from sklearn.linear_model import LinearRegression\n",
    "\n",
    "train = pd.read_csv('train.csv')\n",
    "validation = pd.read_csv('validation.csv')\n",
    "\n",
    "#select the features to use\n",
    "features = ['months_listed', 'bedrooms', 'area']\n",
    "\n",
    "#prepare X and y for training\n",
    "X_train = train[features]\n",
    "y_train = train['sale_price']\n",
    "\n",
    "#prepare validation set\n",
    "X_test = validation[features]\n",
    "\n",
    "\n",
    "#use LinearRegression as base model\n",
    "base_model = LinearRegression()\n",
    "base_model.fit(X_train, y_train)\n",
    "#make predictions\n",
    "base_ypred = base_model.predict(X_test)\n",
    "\n",
    "base_result = pd.DataFrame({\n",
    "    'house_id': validation['house_id'],\n",
    "    'price': base_ypred.round(1)\n",
    "})\n",
    "# print(validation.info())\n",
    "# print(train.info())\n",
    "base_result"
   ]
  },
  {
   "cell_type": "markdown",
   "id": "0800516b",
   "metadata": {},
   "source": [
    "# Task 5\n",
    "\n",
    "Fit a comparison model to predict the sale price of a house.\n",
    "\n",
    " 1. Fit your model using the data contained in “train.csv” </br></br>\n",
    "\n",
    " 2. Use “validation.csv” to predict new values based on your model. You must return a dataframe named `compare_result`, that includes `house_id` and `price`. The price column must be your predicted values."
   ]
  },
  {
   "cell_type": "code",
   "execution_count": 63,
   "id": "dbc71ea7",
   "metadata": {},
   "outputs": [
    {
     "data": {
      "application/vnd.microsoft.datawrangler.viewer.v0+json": {
       "columns": [
        {
         "name": "index",
         "rawType": "int64",
         "type": "integer"
        },
        {
         "name": "house_id",
         "rawType": "int64",
         "type": "integer"
        },
        {
         "name": "price",
         "rawType": "float64",
         "type": "float"
        }
       ],
       "ref": "15cde973-a1c0-482d-99d3-cd0e6c205c42",
       "rows": [
        [
         "0",
         "1331375",
         "118524.6"
        ],
        [
         "1",
         "1630115",
         "269890.1"
        ],
        [
         "2",
         "1645745",
         "372720.0"
        ],
        [
         "3",
         "1336775",
         "104380.4"
        ],
        [
         "4",
         "1888274",
         "260662.1"
        ],
        [
         "5",
         "1567679",
         "236083.2"
        ],
        [
         "6",
         "1298770",
         "323861.0"
        ],
        [
         "7",
         "1662892",
         "41551.3"
        ],
        [
         "8",
         "1514321",
         "190250.0"
        ],
        [
         "9",
         "1795371",
         "204084.2"
        ],
        [
         "10",
         "1872688",
         "206950.6"
        ],
        [
         "11",
         "1115697",
         "161572.4"
        ],
        [
         "12",
         "1752850",
         "340630.1"
        ],
        [
         "13",
         "1298746",
         "306715.4"
        ],
        [
         "14",
         "1464795",
         "211144.4"
        ],
        [
         "15",
         "1982802",
         "176412.2"
        ],
        [
         "16",
         "1823033",
         "186036.6"
        ],
        [
         "17",
         "1585193",
         "101552.3"
        ],
        [
         "18",
         "1843329",
         "324719.3"
        ],
        [
         "19",
         "1424530",
         "64512.5"
        ],
        [
         "20",
         "1040934",
         "399329.0"
        ],
        [
         "21",
         "1483696",
         "308091.4"
        ],
        [
         "22",
         "1436940",
         "376270.2"
        ],
        [
         "23",
         "1608175",
         "49101.7"
        ],
        [
         "24",
         "1902237",
         "183161.1"
        ],
        [
         "25",
         "1563689",
         "329691.2"
        ],
        [
         "26",
         "1976354",
         "222390.6"
        ],
        [
         "27",
         "1872940",
         "303707.0"
        ],
        [
         "28",
         "1704427",
         "328213.6"
        ],
        [
         "29",
         "1131878",
         "342031.8"
        ],
        [
         "30",
         "1803015",
         "69647.8"
        ],
        [
         "31",
         "1897548",
         "195483.7"
        ],
        [
         "32",
         "1739654",
         "159821.3"
        ],
        [
         "33",
         "1658430",
         "186968.1"
        ],
        [
         "34",
         "1282370",
         "133261.9"
        ],
        [
         "35",
         "1512890",
         "67600.1"
        ],
        [
         "36",
         "1597534",
         "97083.6"
        ],
        [
         "37",
         "1174073",
         "240447.0"
        ],
        [
         "38",
         "1179366",
         "365328.3"
        ],
        [
         "39",
         "1757117",
         "97450.2"
        ],
        [
         "40",
         "1148656",
         "81500.8"
        ],
        [
         "41",
         "1776320",
         "376520.6"
        ],
        [
         "42",
         "1155319",
         "299803.7"
        ],
        [
         "43",
         "1675362",
         "209295.7"
        ],
        [
         "44",
         "1748129",
         "51398.4"
        ],
        [
         "45",
         "1648926",
         "219591.6"
        ],
        [
         "46",
         "1050783",
         "118270.6"
        ],
        [
         "47",
         "1843278",
         "381258.8"
        ],
        [
         "48",
         "1372090",
         "207809.3"
        ],
        [
         "49",
         "1583730",
         "398085.8"
        ]
       ],
       "shape": {
        "columns": 2,
        "rows": 300
       }
      },
      "text/html": [
       "<div>\n",
       "<style scoped>\n",
       "    .dataframe tbody tr th:only-of-type {\n",
       "        vertical-align: middle;\n",
       "    }\n",
       "\n",
       "    .dataframe tbody tr th {\n",
       "        vertical-align: top;\n",
       "    }\n",
       "\n",
       "    .dataframe thead th {\n",
       "        text-align: right;\n",
       "    }\n",
       "</style>\n",
       "<table border=\"1\" class=\"dataframe\">\n",
       "  <thead>\n",
       "    <tr style=\"text-align: right;\">\n",
       "      <th></th>\n",
       "      <th>house_id</th>\n",
       "      <th>price</th>\n",
       "    </tr>\n",
       "  </thead>\n",
       "  <tbody>\n",
       "    <tr>\n",
       "      <th>0</th>\n",
       "      <td>1331375</td>\n",
       "      <td>118524.6</td>\n",
       "    </tr>\n",
       "    <tr>\n",
       "      <th>1</th>\n",
       "      <td>1630115</td>\n",
       "      <td>269890.1</td>\n",
       "    </tr>\n",
       "    <tr>\n",
       "      <th>2</th>\n",
       "      <td>1645745</td>\n",
       "      <td>372720.0</td>\n",
       "    </tr>\n",
       "    <tr>\n",
       "      <th>3</th>\n",
       "      <td>1336775</td>\n",
       "      <td>104380.4</td>\n",
       "    </tr>\n",
       "    <tr>\n",
       "      <th>4</th>\n",
       "      <td>1888274</td>\n",
       "      <td>260662.1</td>\n",
       "    </tr>\n",
       "    <tr>\n",
       "      <th>...</th>\n",
       "      <td>...</td>\n",
       "      <td>...</td>\n",
       "    </tr>\n",
       "    <tr>\n",
       "      <th>295</th>\n",
       "      <td>1986255</td>\n",
       "      <td>305200.5</td>\n",
       "    </tr>\n",
       "    <tr>\n",
       "      <th>296</th>\n",
       "      <td>1896276</td>\n",
       "      <td>395867.0</td>\n",
       "    </tr>\n",
       "    <tr>\n",
       "      <th>297</th>\n",
       "      <td>1758223</td>\n",
       "      <td>239947.8</td>\n",
       "    </tr>\n",
       "    <tr>\n",
       "      <th>298</th>\n",
       "      <td>1752010</td>\n",
       "      <td>212323.9</td>\n",
       "    </tr>\n",
       "    <tr>\n",
       "      <th>299</th>\n",
       "      <td>1651404</td>\n",
       "      <td>410486.0</td>\n",
       "    </tr>\n",
       "  </tbody>\n",
       "</table>\n",
       "<p>300 rows × 2 columns</p>\n",
       "</div>"
      ],
      "text/plain": [
       "     house_id     price\n",
       "0     1331375  118524.6\n",
       "1     1630115  269890.1\n",
       "2     1645745  372720.0\n",
       "3     1336775  104380.4\n",
       "4     1888274  260662.1\n",
       "..        ...       ...\n",
       "295   1986255  305200.5\n",
       "296   1896276  395867.0\n",
       "297   1758223  239947.8\n",
       "298   1752010  212323.9\n",
       "299   1651404  410486.0\n",
       "\n",
       "[300 rows x 2 columns]"
      ]
     },
     "execution_count": 63,
     "metadata": {},
     "output_type": "execute_result"
    }
   ],
   "source": [
    "from sklearn.ensemble import RandomForestRegressor\n",
    "\n",
    "compare_model = RandomForestRegressor(n_estimators=100)\n",
    "compare_model.fit(X_train, y_train)\n",
    "\n",
    "compare_ypred = compare_model.predict(X_test)\n",
    "\n",
    "compare_result = pd.DataFrame({\n",
    "    'house_id': validation['house_id'],\n",
    "    'price': compare_ypred.round(1)\n",
    "})\n",
    "compare_result"
   ]
  },
  {
   "cell_type": "code",
   "execution_count": 84,
   "id": "461c4acd",
   "metadata": {},
   "outputs": [
    {
     "name": "stdout",
     "output_type": "stream",
     "text": [
      "40787.108075334356\n",
      "17.879554568655017\n"
     ]
    }
   ],
   "source": [
    "#now let split the house_sale dataset and train the same models to find the accuracy and RMSE\n",
    "\n",
    "from sklearn.model_selection import train_test_split\n",
    "from sklearn.metrics import mean_squared_error\n",
    "\n",
    "#lets use our cleaned data \n",
    "features = ['months_listed', 'bedrooms', 'area']\n",
    "\n",
    "X = clean_data[features]\n",
    "y = clean_data['sale_price']\n",
    "\n",
    "X_train, X_test, y_train, y_test = train_test_split(X, y, test_size = 0.3, random_state=42 )\n",
    "\n",
    "lin_reg = LinearRegression()\n",
    "lin_reg.fit(X_train, y_train)\n",
    "lin_y_pred = lin_reg.predict(X_test)\n",
    "\n",
    "average_sale_price = clean_data['sale_price'].mean()\n",
    "mse = mean_squared_error(y_test, lin_y_pred)\n",
    "RMSE = np.sqrt(mse)\n",
    "print(RMSE)\n",
    "RMSE_percentage= (RMSE/average_sale_price)* 100\n",
    "print(RMSE_percentage)"
   ]
  },
  {
   "cell_type": "code",
   "execution_count": null,
   "id": "cbab9778",
   "metadata": {},
   "outputs": [
    {
     "name": "stdout",
     "output_type": "stream",
     "text": [
      "43874.81281701144\n",
      "19.23308974253257\n"
     ]
    }
   ],
   "source": [
    "forest = RandomForestRegressor()\n",
    "forest.fit(X_train, y_train)\n",
    "f_ypred = forest.predict(X_test)\n",
    "\n",
    "mse_forest = mean_squared_error(y_test, f_ypred)\n",
    "RMSE_F = np.sqrt(mse_forest)\n",
    "print(RMSE_F)\n",
    "RMSE_F_percentage= (RMSE_F/average_sale_price)* 100\n",
    "print(RMSE_F_percentage)"
   ]
  },
  {
   "cell_type": "code",
   "execution_count": 79,
   "id": "8853e849",
   "metadata": {},
   "outputs": [
    {
     "name": "stdout",
     "output_type": "stream",
     "text": [
      "RMSE: 40787.11\n",
      "RMSE percentage: 7.407268094212603\n"
     ]
    }
   ],
   "source": [
    "from sklearn.preprocessing import OneHotEncoder\n",
    "from sklearn.compose import ColumnTransformer\n",
    "from sklearn.pipeline import Pipeline\n",
    "\n",
    "features = ['months_listed', 'bedrooms', 'area', 'city', 'house_type']\n",
    "categorical_features  = ['city', 'house_type']\n",
    "preprocessor = ColumnTransformer(\n",
    "    transformers=[\n",
    "        ('cat', OneHotEncoder(handle_unknown='ignore', sparse_output=False), \n",
    "         categorical_features)\n",
    "    ],\n",
    "    remainder='passthrough'\n",
    ")\n",
    "\n",
    "X = clean_data[features]\n",
    "y = clean_data['sale_price']\n",
    "\n",
    "X_train, X_test, y_train, y_test = train_test_split(X, y, test_size=0.3, random_state=42)\n",
    "\n",
    "mpipeline = Pipeline([\n",
    "    ('processor', preprocessor),\n",
    "    ('model', RandomForestRegressor()\n",
    "     )])\n",
    "\n",
    "mpipeline.fit(X_train, y_train)\n",
    "y_pred = mpipeline.predict(X_test)\n",
    "mean_squared = mean_squared_error(y_test, y_pred)\n",
    "Root_MSE = np.sqrt(mean_squared)\n",
    "percent_RMSE = (Root_MSE/average_sale_price)* 100\n",
    "print(f'RMSE: {RMSE}')\n",
    "print(f\"RMSE percentage: {percent_RMSE}\")"
   ]
  }
 ],
 "metadata": {
  "kernelspec": {
   "display_name": "Python 3",
   "language": "python",
   "name": "python3"
  },
  "language_info": {
   "codemirror_mode": {
    "name": "ipython",
    "version": 3
   },
   "file_extension": ".py",
   "mimetype": "text/x-python",
   "name": "python",
   "nbconvert_exporter": "python",
   "pygments_lexer": "ipython3",
   "version": "3.12.4"
  }
 },
 "nbformat": 4,
 "nbformat_minor": 5
}
